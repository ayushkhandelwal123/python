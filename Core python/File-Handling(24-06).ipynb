{
 "cells": [
  {
   "cell_type": "markdown",
   "metadata": {},
   "source": [
    "##### how many type of files are there ?"
   ]
  },
  {
   "cell_type": "markdown",
   "metadata": {},
   "source": [
    "#### there are only two types of files"
   ]
  },
  {
   "cell_type": "markdown",
   "metadata": {},
   "source": [
    "**byte files --> store byte data or binary data**\n",
    "\n",
    "**regular files --> to store text which is human readable**"
   ]
  },
  {
   "cell_type": "code",
   "execution_count": 9,
   "metadata": {},
   "outputs": [
    {
     "data": {
      "text/plain": [
       "b'\\xff\\xfe\\x00\\x00h\\x00\\x00\\x00e\\x00\\x00\\x00l\\x00\\x00\\x00l\\x00\\x00\\x00o\\x00\\x00\\x00 \\x00\\x00\\x00w\\x00\\x00\\x00o\\x00\\x00\\x00r\\x00\\x00\\x00l\\x00\\x00\\x00d\\x00\\x00\\x00'"
      ]
     },
     "execution_count": 9,
     "metadata": {},
     "output_type": "execute_result"
    }
   ],
   "source": [
    "\"hello world\".encode(encoding='utf-32')"
   ]
  },
  {
   "cell_type": "code",
   "execution_count": 1,
   "metadata": {},
   "outputs": [
    {
     "data": {
      "text/plain": [
       "'C:\\\\Users\\\\HP'"
      ]
     },
     "execution_count": 1,
     "metadata": {},
     "output_type": "execute_result"
    }
   ],
   "source": [
    "pwd"
   ]
  },
  {
   "cell_type": "code",
   "execution_count": 2,
   "metadata": {},
   "outputs": [
    {
     "name": "stdout",
     "output_type": "stream",
     "text": [
      "Help on built-in function open in module io:\n",
      "\n",
      "open(file, mode='r', buffering=-1, encoding=None, errors=None, newline=None, closefd=True, opener=None)\n",
      "    Open file and return a stream.  Raise IOError upon failure.\n",
      "    \n",
      "    file is either a text or byte string giving the name (and the path\n",
      "    if the file isn't in the current working directory) of the file to\n",
      "    be opened or an integer file descriptor of the file to be\n",
      "    wrapped. (If a file descriptor is given, it is closed when the\n",
      "    returned I/O object is closed, unless closefd is set to False.)\n",
      "    \n",
      "    mode is an optional string that specifies the mode in which the file\n",
      "    is opened. It defaults to 'r' which means open for reading in text\n",
      "    mode.  Other common values are 'w' for writing (truncating the file if\n",
      "    it already exists), 'x' for creating and writing to a new file, and\n",
      "    'a' for appending (which on some Unix systems, means that all writes\n",
      "    append to the end of the file regardless of the current seek position).\n",
      "    In text mode, if encoding is not specified the encoding used is platform\n",
      "    dependent: locale.getpreferredencoding(False) is called to get the\n",
      "    current locale encoding. (For reading and writing raw bytes use binary\n",
      "    mode and leave encoding unspecified.) The available modes are:\n",
      "    \n",
      "    ========= ===============================================================\n",
      "    Character Meaning\n",
      "    --------- ---------------------------------------------------------------\n",
      "    'r'       open for reading (default)\n",
      "    'w'       open for writing, truncating the file first\n",
      "    'x'       create a new file and open it for writing\n",
      "    'a'       open for writing, appending to the end of the file if it exists\n",
      "    'b'       binary mode\n",
      "    't'       text mode (default)\n",
      "    '+'       open a disk file for updating (reading and writing)\n",
      "    'U'       universal newline mode (deprecated)\n",
      "    ========= ===============================================================\n",
      "    \n",
      "    The default mode is 'rt' (open for reading text). For binary random\n",
      "    access, the mode 'w+b' opens and truncates the file to 0 bytes, while\n",
      "    'r+b' opens the file without truncation. The 'x' mode implies 'w' and\n",
      "    raises an `FileExistsError` if the file already exists.\n",
      "    \n",
      "    Python distinguishes between files opened in binary and text modes,\n",
      "    even when the underlying operating system doesn't. Files opened in\n",
      "    binary mode (appending 'b' to the mode argument) return contents as\n",
      "    bytes objects without any decoding. In text mode (the default, or when\n",
      "    't' is appended to the mode argument), the contents of the file are\n",
      "    returned as strings, the bytes having been first decoded using a\n",
      "    platform-dependent encoding or using the specified encoding if given.\n",
      "    \n",
      "    'U' mode is deprecated and will raise an exception in future versions\n",
      "    of Python.  It has no effect in Python 3.  Use newline to control\n",
      "    universal newlines mode.\n",
      "    \n",
      "    buffering is an optional integer used to set the buffering policy.\n",
      "    Pass 0 to switch buffering off (only allowed in binary mode), 1 to select\n",
      "    line buffering (only usable in text mode), and an integer > 1 to indicate\n",
      "    the size of a fixed-size chunk buffer.  When no buffering argument is\n",
      "    given, the default buffering policy works as follows:\n",
      "    \n",
      "    * Binary files are buffered in fixed-size chunks; the size of the buffer\n",
      "      is chosen using a heuristic trying to determine the underlying device's\n",
      "      \"block size\" and falling back on `io.DEFAULT_BUFFER_SIZE`.\n",
      "      On many systems, the buffer will typically be 4096 or 8192 bytes long.\n",
      "    \n",
      "    * \"Interactive\" text files (files for which isatty() returns True)\n",
      "      use line buffering.  Other text files use the policy described above\n",
      "      for binary files.\n",
      "    \n",
      "    encoding is the name of the encoding used to decode or encode the\n",
      "    file. This should only be used in text mode. The default encoding is\n",
      "    platform dependent, but any encoding supported by Python can be\n",
      "    passed.  See the codecs module for the list of supported encodings.\n",
      "    \n",
      "    errors is an optional string that specifies how encoding errors are to\n",
      "    be handled---this argument should not be used in binary mode. Pass\n",
      "    'strict' to raise a ValueError exception if there is an encoding error\n",
      "    (the default of None has the same effect), or pass 'ignore' to ignore\n",
      "    errors. (Note that ignoring encoding errors can lead to data loss.)\n",
      "    See the documentation for codecs.register or run 'help(codecs.Codec)'\n",
      "    for a list of the permitted encoding error strings.\n",
      "    \n",
      "    newline controls how universal newlines works (it only applies to text\n",
      "    mode). It can be None, '', '\\n', '\\r', and '\\r\\n'.  It works as\n",
      "    follows:\n",
      "    \n",
      "    * On input, if newline is None, universal newlines mode is\n",
      "      enabled. Lines in the input can end in '\\n', '\\r', or '\\r\\n', and\n",
      "      these are translated into '\\n' before being returned to the\n",
      "      caller. If it is '', universal newline mode is enabled, but line\n",
      "      endings are returned to the caller untranslated. If it has any of\n",
      "      the other legal values, input lines are only terminated by the given\n",
      "      string, and the line ending is returned to the caller untranslated.\n",
      "    \n",
      "    * On output, if newline is None, any '\\n' characters written are\n",
      "      translated to the system default line separator, os.linesep. If\n",
      "      newline is '' or '\\n', no translation takes place. If newline is any\n",
      "      of the other legal values, any '\\n' characters written are translated\n",
      "      to the given string.\n",
      "    \n",
      "    If closefd is False, the underlying file descriptor will be kept open\n",
      "    when the file is closed. This does not work when a file name is given\n",
      "    and must be True in that case.\n",
      "    \n",
      "    A custom opener can be used by passing a callable as *opener*. The\n",
      "    underlying file descriptor for the file object is then obtained by\n",
      "    calling *opener* with (*file*, *flags*). *opener* must return an open\n",
      "    file descriptor (passing os.open as *opener* results in functionality\n",
      "    similar to passing None).\n",
      "    \n",
      "    open() returns a file object whose type depends on the mode, and\n",
      "    through which the standard file operations such as reading and writing\n",
      "    are performed. When open() is used to open a file in a text mode ('w',\n",
      "    'r', 'wt', 'rt', etc.), it returns a TextIOWrapper. When used to open\n",
      "    a file in a binary mode, the returned class varies: in read binary\n",
      "    mode, it returns a BufferedReader; in write binary and append binary\n",
      "    modes, it returns a BufferedWriter, and in read/write mode, it returns\n",
      "    a BufferedRandom.\n",
      "    \n",
      "    It is also possible to use a string or bytearray as a file for both\n",
      "    reading and writing. For strings StringIO can be used like a file\n",
      "    opened in a text mode, and for bytes a BytesIO can be used like a file\n",
      "    opened in a binary mode.\n",
      "\n"
     ]
    }
   ],
   "source": [
    "help(open)"
   ]
  },
  {
   "cell_type": "code",
   "execution_count": 3,
   "metadata": {},
   "outputs": [
    {
     "ename": "FileNotFoundError",
     "evalue": "[Errno 2] No such file or directory: 'abracadabra.txt'",
     "output_type": "error",
     "traceback": [
      "\u001b[1;31m---------------------------------------------------------------------------\u001b[0m",
      "\u001b[1;31mFileNotFoundError\u001b[0m                         Traceback (most recent call last)",
      "\u001b[1;32m<ipython-input-3-cd3645b25428>\u001b[0m in \u001b[0;36m<module>\u001b[1;34m()\u001b[0m\n\u001b[1;32m----> 1\u001b[1;33m \u001b[0mfp\u001b[0m \u001b[1;33m=\u001b[0m \u001b[0mopen\u001b[0m\u001b[1;33m(\u001b[0m\u001b[1;34m'abracadabra.txt'\u001b[0m\u001b[1;33m)\u001b[0m\u001b[1;33m\u001b[0m\u001b[0m\n\u001b[0m",
      "\u001b[1;31mFileNotFoundError\u001b[0m: [Errno 2] No such file or directory: 'abracadabra.txt'"
     ]
    }
   ],
   "source": [
    "fp = open('abracadabra.txt')"
   ]
  },
  {
   "cell_type": "code",
   "execution_count": 4,
   "metadata": {},
   "outputs": [],
   "source": [
    "import os"
   ]
  },
  {
   "cell_type": "code",
   "execution_count": 5,
   "metadata": {},
   "outputs": [
    {
     "data": {
      "text/plain": [
       "['.anaconda',\n",
       " '.bash_history',\n",
       " '.conda',\n",
       " '.condarc',\n",
       " '.git',\n",
       " '.gitconfig',\n",
       " '.idlerc',\n",
       " '.ipynb_checkpoints',\n",
       " '.ipython',\n",
       " '.jupyter',\n",
       " '.matplotlib',\n",
       " '.spyder-py3',\n",
       " '.viminfo',\n",
       " '.vscode',\n",
       " '05-06.ipynb',\n",
       " '06-06.ipynb',\n",
       " '07-06.ipynb',\n",
       " '09-04-2019.ipynb',\n",
       " '10-06(2).ipynb',\n",
       " '10-06.ipynb',\n",
       " '11-06.ipynb',\n",
       " '12-06.ipynb',\n",
       " '13-06(if-else).ipynb',\n",
       " '14-06.ipynb',\n",
       " '15-4-19.ipynb',\n",
       " '15.OOPs.ipynb',\n",
       " '17-06.ipynb',\n",
       " '18-06(practice).ipynb',\n",
       " '18-06.ipynb',\n",
       " '19-06.ipynb',\n",
       " '30-05-19.ipynb',\n",
       " '31-05.ipynb',\n",
       " '3D Objects',\n",
       " '4-6.ipynb',\n",
       " 'abc.py',\n",
       " 'Anaconda3',\n",
       " 'AppData',\n",
       " 'Application Data',\n",
       " 'assign-9.ipynb',\n",
       " 'assignment - 8.ipynb',\n",
       " 'assignment - 9.ipynb',\n",
       " 'assignment 1-2-3.ipynb',\n",
       " 'assignment 8.ipynb',\n",
       " 'assignment--7.ipynb',\n",
       " 'assignment-4.ipynb',\n",
       " 'assignment-5.ipynb',\n",
       " 'Assignment-6.ipynb',\n",
       " 'assignment7.ipynb',\n",
       " 'assignment9.ipynb',\n",
       " 'ayush',\n",
       " 'ayush.py',\n",
       " 'Bank application.ipynb',\n",
       " 'bank-app.ipynb',\n",
       " 'Bank.json',\n",
       " 'bankapp.ipynb',\n",
       " 'c.py',\n",
       " 'car1.py',\n",
       " 'classes.ipynb',\n",
       " 'Cont.ipynb',\n",
       " 'Contacts',\n",
       " 'continue.ipynb',\n",
       " 'Cookies',\n",
       " 'Desktop',\n",
       " 'Documents',\n",
       " 'Downloads',\n",
       " 'Favorites',\n",
       " 'File-Handling(24-06).ipynb',\n",
       " 'functions in python.ipynb',\n",
       " 'functions(17-06) practice.ipynb',\n",
       " 'functions.ipynb',\n",
       " 'game.ipynb',\n",
       " 'h.py',\n",
       " 'hackerrank.ipynb',\n",
       " 'hii.json',\n",
       " 'inheritance.ipynb',\n",
       " 'IntelGraphicsProfiles',\n",
       " 'Links',\n",
       " 'list and dict practice and zip(11-06).ipynb',\n",
       " 'list functions.ipynb',\n",
       " 'list functions.py',\n",
       " 'Local Settings',\n",
       " 'Loops(15-06).ipynb',\n",
       " 'MicrosoftEdgeBackups',\n",
       " 'module.ipynb',\n",
       " 'module.py',\n",
       " 'mohit',\n",
       " 'Music',\n",
       " 'My Documents',\n",
       " 'NetHood',\n",
       " 'NTUSER.DAT',\n",
       " 'ntuser.dat.LOG1',\n",
       " 'ntuser.dat.LOG2',\n",
       " 'NTUSER.DAT{a7cf37ac-2c64-11e9-a266-7440bb70dd64}.TM.blf',\n",
       " 'NTUSER.DAT{a7cf37ac-2c64-11e9-a266-7440bb70dd64}.TMContainer00000000000000000001.regtrans-ms',\n",
       " 'NTUSER.DAT{a7cf37ac-2c64-11e9-a266-7440bb70dd64}.TMContainer00000000000000000002.regtrans-ms',\n",
       " 'ntuser.ini',\n",
       " 'one.py',\n",
       " 'OneDrive',\n",
       " 'OOPS(20-06).ipynb',\n",
       " 'OOPs(21-06).ipynb',\n",
       " 'operators practice(12-06).ipynb',\n",
       " 'operators.ipynb',\n",
       " 'pat1.txt',\n",
       " 'Pictures',\n",
       " 'pip',\n",
       " 'practice datatype.ipynb',\n",
       " 'practice1.ipynb',\n",
       " 'PrintHood',\n",
       " 'Python 3.7',\n",
       " 'python-3.7.2.exe',\n",
       " 'Recent',\n",
       " 'Saved Games',\n",
       " 'Searches',\n",
       " 'SendTo',\n",
       " 'special functions.ipynb',\n",
       " 'Start Menu',\n",
       " 'Templates',\n",
       " 'test',\n",
       " 'test.ipynb',\n",
       " 'test1.ipynb',\n",
       " 'test1.pkl',\n",
       " 'test2.ipynb',\n",
       " 'test3.ipynb',\n",
       " 'test4.ipynb',\n",
       " 'test4.py',\n",
       " 'test5.ipynb',\n",
       " 'Untitled.ipynb',\n",
       " 'Untitled1(dec practice).ipynb',\n",
       " 'Untitled13.ipynb',\n",
       " 'Untitled14.ipynb',\n",
       " 'Untitled15.ipynb',\n",
       " 'Untitled2.ipynb',\n",
       " 'Untitled3.ipynb',\n",
       " 'Untitled4.ipynb',\n",
       " 'Untitled5.ipynb',\n",
       " 'Untitled6.ipynb',\n",
       " 'Untitled7.ipynb',\n",
       " 'Untitled8.ipynb',\n",
       " 'Videos',\n",
       " '_viminfo',\n",
       " '__pycache__']"
      ]
     },
     "execution_count": 5,
     "metadata": {},
     "output_type": "execute_result"
    }
   ],
   "source": [
    "os.listdir()"
   ]
  },
  {
   "cell_type": "code",
   "execution_count": 6,
   "metadata": {},
   "outputs": [
    {
     "data": {
      "text/plain": [
       "['.nonadmin',\n",
       " 'api-ms-win-core-console-l1-1-0.dll',\n",
       " 'api-ms-win-core-datetime-l1-1-0.dll',\n",
       " 'api-ms-win-core-debug-l1-1-0.dll',\n",
       " 'api-ms-win-core-errorhandling-l1-1-0.dll',\n",
       " 'api-ms-win-core-file-l1-1-0.dll',\n",
       " 'api-ms-win-core-file-l1-2-0.dll',\n",
       " 'api-ms-win-core-file-l2-1-0.dll',\n",
       " 'api-ms-win-core-handle-l1-1-0.dll',\n",
       " 'api-ms-win-core-heap-l1-1-0.dll',\n",
       " 'api-ms-win-core-interlocked-l1-1-0.dll',\n",
       " 'api-ms-win-core-libraryloader-l1-1-0.dll',\n",
       " 'api-ms-win-core-localization-l1-2-0.dll',\n",
       " 'api-ms-win-core-memory-l1-1-0.dll',\n",
       " 'api-ms-win-core-namedpipe-l1-1-0.dll',\n",
       " 'api-ms-win-core-processenvironment-l1-1-0.dll',\n",
       " 'api-ms-win-core-processthreads-l1-1-0.dll',\n",
       " 'api-ms-win-core-processthreads-l1-1-1.dll',\n",
       " 'api-ms-win-core-profile-l1-1-0.dll',\n",
       " 'api-ms-win-core-rtlsupport-l1-1-0.dll',\n",
       " 'api-ms-win-core-string-l1-1-0.dll',\n",
       " 'api-ms-win-core-synch-l1-1-0.dll',\n",
       " 'api-ms-win-core-synch-l1-2-0.dll',\n",
       " 'api-ms-win-core-sysinfo-l1-1-0.dll',\n",
       " 'api-ms-win-core-timezone-l1-1-0.dll',\n",
       " 'api-ms-win-core-util-l1-1-0.dll',\n",
       " 'api-ms-win-crt-conio-l1-1-0.dll',\n",
       " 'api-ms-win-crt-convert-l1-1-0.dll',\n",
       " 'api-ms-win-crt-environment-l1-1-0.dll',\n",
       " 'api-ms-win-crt-filesystem-l1-1-0.dll',\n",
       " 'api-ms-win-crt-heap-l1-1-0.dll',\n",
       " 'api-ms-win-crt-locale-l1-1-0.dll',\n",
       " 'api-ms-win-crt-math-l1-1-0.dll',\n",
       " 'api-ms-win-crt-multibyte-l1-1-0.dll',\n",
       " 'api-ms-win-crt-private-l1-1-0.dll',\n",
       " 'api-ms-win-crt-process-l1-1-0.dll',\n",
       " 'api-ms-win-crt-runtime-l1-1-0.dll',\n",
       " 'api-ms-win-crt-stdio-l1-1-0.dll',\n",
       " 'api-ms-win-crt-string-l1-1-0.dll',\n",
       " 'api-ms-win-crt-time-l1-1-0.dll',\n",
       " 'api-ms-win-crt-utility-l1-1-0.dll',\n",
       " 'concrt140.dll',\n",
       " 'conda-meta',\n",
       " 'cwp.py',\n",
       " 'DLLs',\n",
       " 'envs',\n",
       " 'etc',\n",
       " 'include',\n",
       " 'Lib',\n",
       " 'Library',\n",
       " 'libs',\n",
       " 'LICENSE_PYTHON.txt',\n",
       " 'man',\n",
       " 'Menu',\n",
       " 'msvcp140.dll',\n",
       " 'openssl.exe',\n",
       " 'pkgs',\n",
       " 'python.exe',\n",
       " 'python.pdb',\n",
       " 'python3.dll',\n",
       " 'python36.dll',\n",
       " 'python36.pdb',\n",
       " 'pythonw.exe',\n",
       " 'pythonw.pdb',\n",
       " 'qt.conf',\n",
       " 'Scripts',\n",
       " 'share',\n",
       " 'sip',\n",
       " 'tcl',\n",
       " 'Tools',\n",
       " 'ucrtbase.dll',\n",
       " 'Uninstall-Anaconda3.exe',\n",
       " 'vccorlib140.dll',\n",
       " 'vcomp140.dll',\n",
       " 'vcruntime140.dll',\n",
       " 'vscode_eula.txt',\n",
       " 'vscode_inst.log',\n",
       " 'vscode_inst.py.log',\n",
       " 'xlwings32-0.11.8.dll',\n",
       " 'xlwings64-0.11.8.dll']"
      ]
     },
     "execution_count": 6,
     "metadata": {},
     "output_type": "execute_result"
    }
   ],
   "source": [
    "os.listdir(\"./Anaconda3\")"
   ]
  },
  {
   "cell_type": "code",
   "execution_count": 7,
   "metadata": {},
   "outputs": [
    {
     "data": {
      "text/plain": [
       "'C:\\\\Users\\\\HP'"
      ]
     },
     "execution_count": 7,
     "metadata": {},
     "output_type": "execute_result"
    }
   ],
   "source": [
    "os.getcwd()"
   ]
  },
  {
   "cell_type": "code",
   "execution_count": 8,
   "metadata": {},
   "outputs": [
    {
     "data": {
      "text/plain": [
       "['All Users', 'Default', 'Default User', 'desktop.ini', 'HP', 'Public']"
      ]
     },
     "execution_count": 8,
     "metadata": {},
     "output_type": "execute_result"
    }
   ],
   "source": [
    "os.listdir(\"..\")"
   ]
  },
  {
   "cell_type": "code",
   "execution_count": 9,
   "metadata": {},
   "outputs": [
    {
     "data": {
      "text/plain": [
       "['$Recycle.Bin',\n",
       " 'Documents and Settings',\n",
       " 'hiberfil.sys',\n",
       " 'hp',\n",
       " 'inetpub',\n",
       " 'Intel',\n",
       " 'IntelOptaneData',\n",
       " 'pagefile.sys',\n",
       " 'PerfLogs',\n",
       " 'Program Files',\n",
       " 'Program Files (x86)',\n",
       " 'ProgramData',\n",
       " 'python class',\n",
       " 'Recovery',\n",
       " 'swapfile.sys',\n",
       " 'SWSetup',\n",
       " 'System Volume Information',\n",
       " 'SYSTEM.SAV',\n",
       " 'Users',\n",
       " 'Windows']"
      ]
     },
     "execution_count": 9,
     "metadata": {},
     "output_type": "execute_result"
    }
   ],
   "source": [
    "os.listdir(\"..\\..\")"
   ]
  },
  {
   "cell_type": "code",
   "execution_count": 10,
   "metadata": {},
   "outputs": [
    {
     "data": {
      "text/plain": [
       "['All Users', 'Default', 'Default User', 'desktop.ini', 'HP', 'Public']"
      ]
     },
     "execution_count": 10,
     "metadata": {},
     "output_type": "execute_result"
    }
   ],
   "source": [
    "os.listdir(\"C:\\\\Users\")"
   ]
  },
  {
   "cell_type": "code",
   "execution_count": 11,
   "metadata": {},
   "outputs": [
    {
     "data": {
      "text/plain": [
       "['12.cer',\n",
       " '1200px-Java_programming_language_logo.svg (1).png',\n",
       " '1BtXZUG8-VvtzWBnU1VuWJKcXtctiU9o2.html',\n",
       " '1_ipwpqQrHz0Lkd_5setXQCQ.png',\n",
       " '2.0',\n",
       " 'about mcafee-08122018.docx',\n",
       " 'AKHSITACOVERLETTER.docx',\n",
       " 'akshita.mdj',\n",
       " 'akshita.pptx',\n",
       " 'akshitaresume.docx',\n",
       " 'ayu.py',\n",
       " 'AYUSH CL.docx',\n",
       " 'Ayush Resume.doc',\n",
       " 'bank-appn.py',\n",
       " 'bank.py',\n",
       " 'bankapp.py',\n",
       " 'Banking.py',\n",
       " 'bankingapp.py',\n",
       " 'capgemini-logo.jpg',\n",
       " 'CentOS-7-x86_64-DVD-1810.iso',\n",
       " 'desktop.ini',\n",
       " 'download.png',\n",
       " 'gvim80-586.exe',\n",
       " 'hello.py',\n",
       " 'hl.py',\n",
       " 'html',\n",
       " 'Idea_submission_template20Dec.pptx',\n",
       " 'Mohit CL.docx',\n",
       " 'Mohit Resume.docx',\n",
       " 'New folder',\n",
       " 'New Microsoft Word Document.docx',\n",
       " 'pdfs',\n",
       " 'PPTANDROID.pptx',\n",
       " 'search.png',\n",
       " 'Team_Cryptonite.rar',\n",
       " 'This PC - Shortcut.lnk',\n",
       " 'tk_app',\n",
       " 'Untitled.mdj',\n",
       " 'UseCaseDiagram1.jpg',\n",
       " 'V3.cer',\n",
       " 'VID_20180609_191520.mp4',\n",
       " 'VMware Workstation v14.0.0 FULL + Serials [Tech-Tools.me]',\n",
       " 'workshop',\n",
       " 'yogesh.py']"
      ]
     },
     "execution_count": 11,
     "metadata": {},
     "output_type": "execute_result"
    }
   ],
   "source": [
    "os.listdir(\"C:\\\\Users\\\\HP\\\\Desktop\")"
   ]
  },
  {
   "cell_type": "code",
   "execution_count": 13,
   "metadata": {},
   "outputs": [],
   "source": [
    "fp = open(\"C:\\\\Users\\\\HP\\\\Desktop\\\\abracadabra.txt\",\"w\")"
   ]
  },
  {
   "cell_type": "code",
   "execution_count": 14,
   "metadata": {},
   "outputs": [
    {
     "name": "stdout",
     "output_type": "stream",
     "text": [
      "['_CHUNK_SIZE', '__class__', '__del__', '__delattr__', '__dict__', '__dir__', '__doc__', '__enter__', '__eq__', '__exit__', '__format__', '__ge__', '__getattribute__', '__getstate__', '__gt__', '__hash__', '__init__', '__init_subclass__', '__iter__', '__le__', '__lt__', '__ne__', '__new__', '__next__', '__reduce__', '__reduce_ex__', '__repr__', '__setattr__', '__sizeof__', '__str__', '__subclasshook__', '_checkClosed', '_checkReadable', '_checkSeekable', '_checkWritable', '_finalizing', 'buffer', 'close', 'closed', 'detach', 'encoding', 'errors', 'fileno', 'flush', 'isatty', 'line_buffering', 'mode', 'name', 'newlines', 'read', 'readable', 'readline', 'readlines', 'seek', 'seekable', 'tell', 'truncate', 'writable', 'write', 'writelines']\n"
     ]
    }
   ],
   "source": [
    "print(dir(fp))"
   ]
  },
  {
   "cell_type": "code",
   "execution_count": 15,
   "metadata": {},
   "outputs": [
    {
     "data": {
      "text/plain": [
       "'C:\\\\Users\\\\HP\\\\Desktop\\\\abracadabra.txt'"
      ]
     },
     "execution_count": 15,
     "metadata": {},
     "output_type": "execute_result"
    }
   ],
   "source": [
    "fp.name"
   ]
  },
  {
   "cell_type": "code",
   "execution_count": 16,
   "metadata": {},
   "outputs": [
    {
     "data": {
      "text/plain": [
       "'w'"
      ]
     },
     "execution_count": 16,
     "metadata": {},
     "output_type": "execute_result"
    }
   ],
   "source": [
    "fp.mode"
   ]
  },
  {
   "cell_type": "code",
   "execution_count": 18,
   "metadata": {},
   "outputs": [
    {
     "data": {
      "text/plain": [
       "False"
      ]
     },
     "execution_count": 18,
     "metadata": {},
     "output_type": "execute_result"
    }
   ],
   "source": [
    "fp.readable()"
   ]
  },
  {
   "cell_type": "code",
   "execution_count": 19,
   "metadata": {},
   "outputs": [
    {
     "data": {
      "text/plain": [
       "True"
      ]
     },
     "execution_count": 19,
     "metadata": {},
     "output_type": "execute_result"
    }
   ],
   "source": [
    "fp.writable()"
   ]
  },
  {
   "cell_type": "code",
   "execution_count": 20,
   "metadata": {},
   "outputs": [
    {
     "data": {
      "text/plain": [
       "0"
      ]
     },
     "execution_count": 20,
     "metadata": {},
     "output_type": "execute_result"
    }
   ],
   "source": [
    "fp.tell()  # tells at which position we are"
   ]
  },
  {
   "cell_type": "code",
   "execution_count": 21,
   "metadata": {},
   "outputs": [
    {
     "data": {
      "text/plain": [
       "11"
      ]
     },
     "execution_count": 21,
     "metadata": {},
     "output_type": "execute_result"
    }
   ],
   "source": [
    "fp.write(\"Hello World\")  # kitne bytes write kare hai"
   ]
  },
  {
   "cell_type": "code",
   "execution_count": 22,
   "metadata": {},
   "outputs": [
    {
     "data": {
      "text/plain": [
       "11"
      ]
     },
     "execution_count": 22,
     "metadata": {},
     "output_type": "execute_result"
    }
   ],
   "source": [
    "fp.tell()"
   ]
  },
  {
   "cell_type": "code",
   "execution_count": 23,
   "metadata": {},
   "outputs": [],
   "source": [
    "fp.close()"
   ]
  },
  {
   "cell_type": "code",
   "execution_count": 24,
   "metadata": {},
   "outputs": [],
   "source": [
    "fp = open(\"C:\\\\Users\\\\HP\\\\Desktop\\\\abracadabra.txt\")"
   ]
  },
  {
   "cell_type": "code",
   "execution_count": 26,
   "metadata": {},
   "outputs": [
    {
     "data": {
      "text/plain": [
       "'r'"
      ]
     },
     "execution_count": 26,
     "metadata": {},
     "output_type": "execute_result"
    }
   ],
   "source": [
    "fp.mode"
   ]
  },
  {
   "cell_type": "code",
   "execution_count": 27,
   "metadata": {},
   "outputs": [
    {
     "data": {
      "text/plain": [
       "0"
      ]
     },
     "execution_count": 27,
     "metadata": {},
     "output_type": "execute_result"
    }
   ],
   "source": [
    "fp.tell()"
   ]
  },
  {
   "cell_type": "code",
   "execution_count": 28,
   "metadata": {},
   "outputs": [],
   "source": [
    "data = fp.read()"
   ]
  },
  {
   "cell_type": "code",
   "execution_count": 29,
   "metadata": {},
   "outputs": [
    {
     "data": {
      "text/plain": [
       "'Hello World'"
      ]
     },
     "execution_count": 29,
     "metadata": {},
     "output_type": "execute_result"
    }
   ],
   "source": [
    "data"
   ]
  },
  {
   "cell_type": "code",
   "execution_count": 30,
   "metadata": {},
   "outputs": [
    {
     "name": "stdout",
     "output_type": "stream",
     "text": [
      "11\n",
      "\n"
     ]
    }
   ],
   "source": [
    "print(fp.tell())\n",
    "data = fp.read()\n",
    "print(data)"
   ]
  },
  {
   "cell_type": "code",
   "execution_count": 31,
   "metadata": {},
   "outputs": [
    {
     "data": {
      "text/plain": [
       "6"
      ]
     },
     "execution_count": 31,
     "metadata": {},
     "output_type": "execute_result"
    }
   ],
   "source": [
    "fp.seek(6)"
   ]
  },
  {
   "cell_type": "code",
   "execution_count": 32,
   "metadata": {},
   "outputs": [],
   "source": [
    "Data = fp.read()"
   ]
  },
  {
   "cell_type": "code",
   "execution_count": 33,
   "metadata": {},
   "outputs": [
    {
     "data": {
      "text/plain": [
       "'World'"
      ]
     },
     "execution_count": 33,
     "metadata": {},
     "output_type": "execute_result"
    }
   ],
   "source": [
    "Data"
   ]
  },
  {
   "cell_type": "code",
   "execution_count": 34,
   "metadata": {},
   "outputs": [
    {
     "data": {
      "text/plain": [
       "11"
      ]
     },
     "execution_count": 34,
     "metadata": {},
     "output_type": "execute_result"
    }
   ],
   "source": [
    "fp.tell()"
   ]
  },
  {
   "cell_type": "code",
   "execution_count": 35,
   "metadata": {},
   "outputs": [],
   "source": [
    "fp.close()"
   ]
  },
  {
   "cell_type": "code",
   "execution_count": 1,
   "metadata": {},
   "outputs": [],
   "source": [
    "fp = open(\"C:\\\\Users\\\\HP\\\\Desktop\\\\abracadabra.txt\",\"w\")"
   ]
  },
  {
   "cell_type": "code",
   "execution_count": 2,
   "metadata": {},
   "outputs": [
    {
     "data": {
      "text/plain": [
       "32"
      ]
     },
     "execution_count": 2,
     "metadata": {},
     "output_type": "execute_result"
    }
   ],
   "source": [
    "fp.write(\"Student\\tMaths\\tScience\\tChemistry\\n\")"
   ]
  },
  {
   "cell_type": "code",
   "execution_count": 3,
   "metadata": {},
   "outputs": [
    {
     "data": {
      "text/plain": [
       "15"
      ]
     },
     "execution_count": 3,
     "metadata": {},
     "output_type": "execute_result"
    }
   ],
   "source": [
    "fp.write(\"Ayush\\t89\\t85\\t84\\n\")"
   ]
  },
  {
   "cell_type": "code",
   "execution_count": 4,
   "metadata": {},
   "outputs": [
    {
     "data": {
      "text/plain": [
       "15"
      ]
     },
     "execution_count": 4,
     "metadata": {},
     "output_type": "execute_result"
    }
   ],
   "source": [
    "fp.write(\"Gaurav\\t78\\t76\\t87\")"
   ]
  },
  {
   "cell_type": "code",
   "execution_count": 5,
   "metadata": {},
   "outputs": [],
   "source": [
    "fp.close()"
   ]
  },
  {
   "cell_type": "code",
   "execution_count": 12,
   "metadata": {},
   "outputs": [],
   "source": [
    "fp = open(\"C:\\\\Users\\\\HP\\\\Desktop\\\\abracadabra.txt\")"
   ]
  },
  {
   "cell_type": "code",
   "execution_count": 13,
   "metadata": {},
   "outputs": [],
   "source": [
    "data = fp.read()\n",
    "fp.close()"
   ]
  },
  {
   "cell_type": "code",
   "execution_count": 14,
   "metadata": {},
   "outputs": [
    {
     "name": "stdout",
     "output_type": "stream",
     "text": [
      "<class 'str'>\n",
      "'Student\\tMaths\\tScience\\tChemistry\\nAyush\\t89\\t85\\t84\\nGaurav\\t78\\t76\\t87'\n"
     ]
    }
   ],
   "source": [
    "print(type(data))\n",
    "print(repr(data))"
   ]
  },
  {
   "cell_type": "code",
   "execution_count": 15,
   "metadata": {},
   "outputs": [
    {
     "data": {
      "text/plain": [
       "['Student\\tMaths\\tScience\\tChemistry',\n",
       " 'Ayush\\t89\\t85\\t84',\n",
       " 'Gaurav\\t78\\t76\\t87']"
      ]
     },
     "execution_count": 15,
     "metadata": {},
     "output_type": "execute_result"
    }
   ],
   "source": [
    "data = data.split(\"\\n\")\n",
    "data"
   ]
  },
  {
   "cell_type": "code",
   "execution_count": 16,
   "metadata": {},
   "outputs": [
    {
     "name": "stdout",
     "output_type": "stream",
     "text": [
      "Student\tMaths\tScience\tChemistry\tResult\n"
     ]
    }
   ],
   "source": [
    "result = \"\"\n",
    "result = result + data[0] + \"\\t\"+\"Result\"\n",
    "print(result)"
   ]
  },
  {
   "cell_type": "code",
   "execution_count": 17,
   "metadata": {},
   "outputs": [],
   "source": [
    "for line in data[1:] : \n",
    "    process = line.split('\\t')\n",
    "    r  = sum(map(int,process[1:]))/3\n",
    "    result = result+\"\\n\"+line+\"\\t\"+(f\"{r:.2f}\")"
   ]
  },
  {
   "cell_type": "code",
   "execution_count": 18,
   "metadata": {},
   "outputs": [
    {
     "name": "stdout",
     "output_type": "stream",
     "text": [
      "Student\tMaths\tScience\tChemistry\tResult\n",
      "Ayush\t89\t85\t84\t86.00\n",
      "Gaurav\t78\t76\t87\t80.33\n"
     ]
    }
   ],
   "source": [
    "print(result)\n",
    "\n",
    "fp = open(\"C:/Users/HP/Desktop/result1.txt\",'w')\n",
    "fp.write(result)\n",
    "fp.close()"
   ]
  },
  {
   "cell_type": "code",
   "execution_count": 19,
   "metadata": {},
   "outputs": [
    {
     "data": {
      "text/plain": [
       "15"
      ]
     },
     "execution_count": 19,
     "metadata": {},
     "output_type": "execute_result"
    }
   ],
   "source": [
    "sum(map(int,'12345'))"
   ]
  },
  {
   "cell_type": "code",
   "execution_count": 20,
   "metadata": {},
   "outputs": [],
   "source": [
    "fp = open(\"C:\\\\Users\\\\HP\\\\Desktop\\\\abracadabra.txt\")"
   ]
  },
  {
   "cell_type": "code",
   "execution_count": 21,
   "metadata": {},
   "outputs": [
    {
     "data": {
      "text/plain": [
       "'Student\\tMaths\\tScience\\tChemistry\\n'"
      ]
     },
     "execution_count": 21,
     "metadata": {},
     "output_type": "execute_result"
    }
   ],
   "source": [
    "fp.readline()\n"
   ]
  },
  {
   "cell_type": "code",
   "execution_count": 22,
   "metadata": {},
   "outputs": [],
   "source": [
    "fp.close()"
   ]
  },
  {
   "cell_type": "code",
   "execution_count": 23,
   "metadata": {},
   "outputs": [
    {
     "name": "stdout",
     "output_type": "stream",
     "text": [
      "Student\tMaths\tScience\tChemistry\n",
      "\n",
      "Ayush\t89\t85\t84\n",
      "\n",
      "Gaurav\t78\t76\t87\n"
     ]
    }
   ],
   "source": [
    "fp = open(\"C:/Users/hp/Desktop/abracadabra.txt\")\n",
    "\n",
    "for line in fp : \n",
    "    print(line)"
   ]
  },
  {
   "cell_type": "code",
   "execution_count": 25,
   "metadata": {},
   "outputs": [],
   "source": [
    "# Context Manager\n",
    "def result(path):\n",
    "    with open(path) as fp:\n",
    "        header = fp.readline().strip() +\"\\t\" +\"result\\n\"\n",
    "        body = ''\n",
    "        for line in fp:\n",
    "            line = line.strip()\n",
    "            r = sum(map(float,line.split(\"\\t\")[1:]))/3\n",
    "            body+=line + \"\\t\" + f\"{r:.2f}\\n\"\n",
    "        return header+body"
   ]
  },
  {
   "cell_type": "code",
   "execution_count": 27,
   "metadata": {},
   "outputs": [
    {
     "name": "stdout",
     "output_type": "stream",
     "text": [
      "Successfully written your result\n"
     ]
    }
   ],
   "source": [
    "r = result(\"C:/Users/hp/Desktop/abracadabra.txt\")\n",
    "with open(\"C:/Users/hp/Desktop/result.txt\",\"w\") as fp:\n",
    "    \n",
    "    fp.write(r)\n",
    "    fp.close()\n",
    "    \n",
    "print(\"Successfully written your result\")"
   ]
  },
  {
   "cell_type": "code",
   "execution_count": null,
   "metadata": {},
   "outputs": [],
   "source": []
  }
 ],
 "metadata": {
  "kernelspec": {
   "display_name": "Python 3",
   "language": "python",
   "name": "python3"
  },
  "language_info": {
   "codemirror_mode": {
    "name": "ipython",
    "version": 3
   },
   "file_extension": ".py",
   "mimetype": "text/x-python",
   "name": "python",
   "nbconvert_exporter": "python",
   "pygments_lexer": "ipython3",
   "version": "3.6.5"
  }
 },
 "nbformat": 4,
 "nbformat_minor": 2
}
