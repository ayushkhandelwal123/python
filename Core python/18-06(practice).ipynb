{
 "cells": [
  {
   "cell_type": "markdown",
   "metadata": {},
   "source": [
    "### Write a function prime(num) --> True if num prime else False\n",
    "1. Using For Loop\n",
    "2. Using While Loop\n",
    "3. Using Recursion"
   ]
  },
  {
   "cell_type": "code",
   "execution_count": 7,
   "metadata": {},
   "outputs": [],
   "source": [
    "# prime --> khud se or 1 se divide hota\n",
    "from math import sqrt,ceil"
   ]
  },
  {
   "cell_type": "code",
   "execution_count": 8,
   "metadata": {},
   "outputs": [
    {
     "name": "stdout",
     "output_type": "stream",
     "text": [
      "Enter number : 25\n",
      "   25 / 2     -->\t Quiotent,Remainder    12      1\n",
      "   25 / 3     -->\t Quiotent,Remainder     8      1\n",
      "   25 / 4     -->\t Quiotent,Remainder     6      1\n",
      "   25 / 5     -->\t Quiotent,Remainder     5      0\n",
      "   25 / 6     -->\t Quiotent,Remainder     4      1\n",
      "   25 / 7     -->\t Quiotent,Remainder     3      4\n",
      "   25 / 8     -->\t Quiotent,Remainder     3      1\n",
      "   25 / 9     -->\t Quiotent,Remainder     2      7\n",
      "   25 / 10    -->\t Quiotent,Remainder     2      5\n",
      "   25 / 11    -->\t Quiotent,Remainder     2      3\n",
      "   25 / 12    -->\t Quiotent,Remainder     2      1\n",
      "   25 / 13    -->\t Quiotent,Remainder     1     12\n",
      "   25 / 14    -->\t Quiotent,Remainder     1     11\n",
      "   25 / 15    -->\t Quiotent,Remainder     1     10\n",
      "   25 / 16    -->\t Quiotent,Remainder     1      9\n",
      "   25 / 17    -->\t Quiotent,Remainder     1      8\n",
      "   25 / 18    -->\t Quiotent,Remainder     1      7\n",
      "   25 / 19    -->\t Quiotent,Remainder     1      6\n",
      "   25 / 20    -->\t Quiotent,Remainder     1      5\n",
      "   25 / 21    -->\t Quiotent,Remainder     1      4\n",
      "   25 / 22    -->\t Quiotent,Remainder     1      3\n",
      "   25 / 23    -->\t Quiotent,Remainder     1      2\n",
      "   25 / 24    -->\t Quiotent,Remainder     1      1\n"
     ]
    }
   ],
   "source": [
    "num = int(input(\"Enter number : \"))\n",
    "c = 2 \n",
    "while c <= num-1 : \n",
    "    print(f\"{num:>5} / {c:<5} -->\\t Quiotent,Remainder {num//c:>5} {num%c:>6}\")\n",
    "    c += 1"
   ]
  },
  {
   "cell_type": "code",
   "execution_count": 20,
   "metadata": {},
   "outputs": [
    {
     "name": "stdout",
     "output_type": "stream",
     "text": [
      "Enter a number :127\n",
      "number 127 is prime\n"
     ]
    }
   ],
   "source": [
    "num = int(input(\"Enter a number :\"))\n",
    "count = 2\n",
    "while count<=num//2:\n",
    "    if num%count==0:\n",
    "        print(f'number {num} is not prime')\n",
    "        break\n",
    "    count+=1\n",
    "else:\n",
    "    print(f'number {num} is prime')"
   ]
  },
  {
   "cell_type": "code",
   "execution_count": 23,
   "metadata": {},
   "outputs": [
    {
     "name": "stdout",
     "output_type": "stream",
     "text": [
      "Enter a number123\n",
      "Number 123 is not prime\n"
     ]
    }
   ],
   "source": [
    "from math import ceil,sqrt\n",
    "num = int(input(\"Enter a number\"))\n",
    "c = 2\n",
    "while c<=ceil(sqrt(num)):\n",
    "    if num % c==0:\n",
    "        print(f\"Number {num} is not prime\")\n",
    "        break\n",
    "    c += 1\n",
    "else:\n",
    "    print(f\"Number {num} is prime\")"
   ]
  },
  {
   "cell_type": "code",
   "execution_count": 25,
   "metadata": {},
   "outputs": [
    {
     "name": "stdout",
     "output_type": "stream",
     "text": [
      "Enter a number : 2\n",
      "False\n"
     ]
    }
   ],
   "source": [
    "def prime(num):\n",
    "    for check in range(2,ceil(sqrt(num))+1) : \n",
    "        if num % check == 0 : \n",
    "            return False\n",
    "    return True\n",
    "print(prime(int(input(\"Enter a number : \"))))"
   ]
  },
  {
   "cell_type": "code",
   "execution_count": 4,
   "metadata": {},
   "outputs": [
    {
     "name": "stdout",
     "output_type": "stream",
     "text": [
      "Start : 10\n",
      "End :50\n",
      "11, 13, 17, 19, 23, 29, 31, 37, 41, 43, 47, \n",
      "Total count :  11\n"
     ]
    }
   ],
   "source": [
    "from math import ceil,sqrt\n",
    "def prime(num):\n",
    "    c = 2\n",
    "    for var in range(2,ceil(sqrt(num))+1):\n",
    "        if num == 2:\n",
    "            return True\n",
    "        elif num%var == 0:\n",
    "            return False\n",
    "    return True\n",
    "c = 0\n",
    "for num in range(int(input('Start : ')),int(input(\"End :\"))+1):\n",
    "    if prime(num):\n",
    "        c += 1\n",
    "        print(num,end=\", \")\n",
    "else:\n",
    "    print(\"\\nTotal count : \",c)"
   ]
  },
  {
   "cell_type": "code",
   "execution_count": 5,
   "metadata": {},
   "outputs": [],
   "source": [
    "from math import ceil,sqrt\n",
    "def prime(num):\n",
    "    c = 2\n",
    "    for var in range(2,ceil(sqrt(num))+1):\n",
    "        if num == 2:\n",
    "            return True\n",
    "        elif num%var == 0:\n",
    "            return False\n",
    "    return True\n",
    "def count_prime(s,e):\n",
    "    count = 0\n",
    "    for num in range(s,e) : \n",
    "        if prime(num): \n",
    "            count += 1\n",
    "            print(num,end=\", \")\n",
    "    else : \n",
    "        print(\"\\nTotal Count : \",count)\n",
    "    \n",
    "    "
   ]
  },
  {
   "cell_type": "code",
   "execution_count": 6,
   "metadata": {},
   "outputs": [
    {
     "name": "stdout",
     "output_type": "stream",
     "text": [
      "11, 13, 17, 19, 23, 29, 31, 37, 41, 43, 47, 53, 59, 61, 67, 71, 73, 79, 83, 89, 97, \n",
      "Total Count :  21\n"
     ]
    }
   ],
   "source": [
    "count_prime(10,100)"
   ]
  },
  {
   "cell_type": "code",
   "execution_count": 1,
   "metadata": {},
   "outputs": [
    {
     "name": "stdout",
     "output_type": "stream",
     "text": [
      "4\n",
      "1 2 3 4\n",
      "4 3 2 1\n"
     ]
    }
   ],
   "source": [
    "n = int(input())\n",
    "\n",
    "arr = list(map(int, input().rstrip().split()))\n",
    "arr.reverse()\n",
    "print(*arr)"
   ]
  },
  {
   "cell_type": "code",
   "execution_count": null,
   "metadata": {},
   "outputs": [],
   "source": []
  }
 ],
 "metadata": {
  "kernelspec": {
   "display_name": "Python 3",
   "language": "python",
   "name": "python3"
  },
  "language_info": {
   "codemirror_mode": {
    "name": "ipython",
    "version": 3
   },
   "file_extension": ".py",
   "mimetype": "text/x-python",
   "name": "python",
   "nbconvert_exporter": "python",
   "pygments_lexer": "ipython3",
   "version": "3.7.1"
  }
 },
 "nbformat": 4,
 "nbformat_minor": 2
}
