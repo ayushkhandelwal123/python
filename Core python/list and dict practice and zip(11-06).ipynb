{
 "cells": [
  {
   "cell_type": "code",
   "execution_count": 1,
   "metadata": {},
   "outputs": [],
   "source": [
    "mylist=[\"c\",'c++','java','python']"
   ]
  },
  {
   "cell_type": "code",
   "execution_count": 2,
   "metadata": {},
   "outputs": [
    {
     "data": {
      "text/plain": [
       "['c', 'c++', 'java', 'python']"
      ]
     },
     "execution_count": 2,
     "metadata": {},
     "output_type": "execute_result"
    }
   ],
   "source": [
    "mylist"
   ]
  },
  {
   "cell_type": "code",
   "execution_count": 3,
   "metadata": {},
   "outputs": [
    {
     "data": {
      "text/plain": [
       "2698176804616"
      ]
     },
     "execution_count": 3,
     "metadata": {},
     "output_type": "execute_result"
    }
   ],
   "source": [
    "id(mylist)"
   ]
  },
  {
   "cell_type": "code",
   "execution_count": 4,
   "metadata": {},
   "outputs": [],
   "source": [
    "l=mylist"
   ]
  },
  {
   "cell_type": "code",
   "execution_count": 5,
   "metadata": {},
   "outputs": [
    {
     "data": {
      "text/plain": [
       "['c', 'c++', 'java', 'python']"
      ]
     },
     "execution_count": 5,
     "metadata": {},
     "output_type": "execute_result"
    }
   ],
   "source": [
    "l"
   ]
  },
  {
   "cell_type": "code",
   "execution_count": 6,
   "metadata": {},
   "outputs": [
    {
     "data": {
      "text/plain": [
       "['c', 'c++', 'java', 'python']"
      ]
     },
     "execution_count": 6,
     "metadata": {},
     "output_type": "execute_result"
    }
   ],
   "source": [
    "mylist"
   ]
  },
  {
   "cell_type": "code",
   "execution_count": 7,
   "metadata": {},
   "outputs": [
    {
     "data": {
      "text/plain": [
       "2698176804616"
      ]
     },
     "execution_count": 7,
     "metadata": {},
     "output_type": "execute_result"
    }
   ],
   "source": [
    "id(l)"
   ]
  },
  {
   "cell_type": "code",
   "execution_count": 8,
   "metadata": {},
   "outputs": [],
   "source": [
    "mylist.append(\"ruby\")"
   ]
  },
  {
   "cell_type": "code",
   "execution_count": 9,
   "metadata": {},
   "outputs": [
    {
     "data": {
      "text/plain": [
       "['c', 'c++', 'java', 'python', 'ruby']"
      ]
     },
     "execution_count": 9,
     "metadata": {},
     "output_type": "execute_result"
    }
   ],
   "source": [
    "l"
   ]
  },
  {
   "cell_type": "code",
   "execution_count": 10,
   "metadata": {},
   "outputs": [
    {
     "data": {
      "text/plain": [
       "['c', 'c++', 'java', 'python', 'ruby']"
      ]
     },
     "execution_count": 10,
     "metadata": {},
     "output_type": "execute_result"
    }
   ],
   "source": [
    "mylist"
   ]
  },
  {
   "cell_type": "code",
   "execution_count": 11,
   "metadata": {},
   "outputs": [
    {
     "data": {
      "text/plain": [
       "2698176804616"
      ]
     },
     "execution_count": 11,
     "metadata": {},
     "output_type": "execute_result"
    }
   ],
   "source": [
    "id(mylist)"
   ]
  },
  {
   "cell_type": "code",
   "execution_count": 12,
   "metadata": {},
   "outputs": [
    {
     "data": {
      "text/plain": [
       "2698176804616"
      ]
     },
     "execution_count": 12,
     "metadata": {},
     "output_type": "execute_result"
    }
   ],
   "source": [
    "id(l)"
   ]
  },
  {
   "cell_type": "code",
   "execution_count": 13,
   "metadata": {},
   "outputs": [],
   "source": [
    "import copy"
   ]
  },
  {
   "cell_type": "code",
   "execution_count": 14,
   "metadata": {},
   "outputs": [],
   "source": [
    "c=mylist.copy()"
   ]
  },
  {
   "cell_type": "code",
   "execution_count": 15,
   "metadata": {},
   "outputs": [
    {
     "data": {
      "text/plain": [
       "['c', 'c++', 'java', 'python', 'ruby']"
      ]
     },
     "execution_count": 15,
     "metadata": {},
     "output_type": "execute_result"
    }
   ],
   "source": [
    "c"
   ]
  },
  {
   "cell_type": "code",
   "execution_count": 16,
   "metadata": {},
   "outputs": [
    {
     "data": {
      "text/plain": [
       "2698181062536"
      ]
     },
     "execution_count": 16,
     "metadata": {},
     "output_type": "execute_result"
    }
   ],
   "source": [
    "id(c)"
   ]
  },
  {
   "cell_type": "code",
   "execution_count": 17,
   "metadata": {},
   "outputs": [
    {
     "data": {
      "text/plain": [
       "2698176804616"
      ]
     },
     "execution_count": 17,
     "metadata": {},
     "output_type": "execute_result"
    }
   ],
   "source": [
    "id(mylist)"
   ]
  },
  {
   "cell_type": "code",
   "execution_count": 1,
   "metadata": {},
   "outputs": [],
   "source": [
    "import copy"
   ]
  },
  {
   "cell_type": "code",
   "execution_count": 2,
   "metadata": {},
   "outputs": [
    {
     "name": "stdout",
     "output_type": "stream",
     "text": [
      "Old list: [[1, 2, 3], [4, 5, 6], [7, 8, 9]]\n",
      "New list: [[1, 2, 3], [4, 5, 6], [7, 8, 9]]\n"
     ]
    }
   ],
   "source": [
    "old_list = [[1, 2, 3], [4, 5, 6], [7, 8, 9]]\n",
    "new_list = copy.copy(old_list)\n",
    "\n",
    "print(\"Old list:\", old_list)\n",
    "print(\"New list:\", new_list)"
   ]
  },
  {
   "cell_type": "code",
   "execution_count": 3,
   "metadata": {},
   "outputs": [
    {
     "name": "stdout",
     "output_type": "stream",
     "text": [
      "Old list: [[1, 1, 1], [2, 2, 2], [3, 3, 3], [4, 4, 4]]\n",
      "New list: [[1, 1, 1], [2, 2, 2], [3, 3, 3]]\n"
     ]
    }
   ],
   "source": [
    "old_list = [[1, 1, 1], [2, 2, 2], [3, 3, 3]]\n",
    "new_list = copy.copy(old_list)\n",
    "\n",
    "old_list.append([4, 4, 4])\n",
    "\n",
    "print(\"Old list:\", old_list)\n",
    "print(\"New list:\", new_list)"
   ]
  },
  {
   "cell_type": "code",
   "execution_count": 4,
   "metadata": {},
   "outputs": [
    {
     "name": "stdout",
     "output_type": "stream",
     "text": [
      "Old list: [[1, 1, 1], [2, 'AA', 2], [3, 3, 3]]\n",
      "New list: [[1, 1, 1], [2, 'AA', 2], [3, 3, 3]]\n"
     ]
    }
   ],
   "source": [
    "old_list = [[1, 1, 1], [2, 2, 2], [3, 3, 3]]\n",
    "new_list = copy.copy(old_list)\n",
    "\n",
    "old_list[1][1] = 'AA'\n",
    "\n",
    "print(\"Old list:\", old_list)\n",
    "print(\"New list:\", new_list)"
   ]
  },
  {
   "cell_type": "code",
   "execution_count": 5,
   "metadata": {},
   "outputs": [
    {
     "name": "stdout",
     "output_type": "stream",
     "text": [
      "Old list: [[1, 1, 1], [2, 2, 2], [3, 3, 3]]\n",
      "New list: [[1, 1, 1], [2, 2, 2], [3, 3, 3]]\n"
     ]
    }
   ],
   "source": [
    "old_list = [[1, 1, 1], [2, 2, 2], [3, 3, 3]]\n",
    "new_list = copy.deepcopy(old_list)\n",
    "\n",
    "print(\"Old list:\", old_list)\n",
    "print(\"New list:\", new_list)"
   ]
  },
  {
   "cell_type": "code",
   "execution_count": 6,
   "metadata": {},
   "outputs": [
    {
     "name": "stdout",
     "output_type": "stream",
     "text": [
      "Old list: [[1, 1, 1], ['BB', 2, 2], [3, 3, 3]]\n",
      "New list: [[1, 1, 1], [2, 2, 2], [3, 3, 3]]\n"
     ]
    }
   ],
   "source": [
    "old_list = [[1, 1, 1], [2, 2, 2], [3, 3, 3]]\n",
    "new_list = copy.deepcopy(old_list)\n",
    "\n",
    "old_list[1][0] = 'BB'\n",
    "\n",
    "print(\"Old list:\", old_list)\n",
    "print(\"New list:\", new_list)"
   ]
  },
  {
   "cell_type": "code",
   "execution_count": 1,
   "metadata": {},
   "outputs": [
    {
     "name": "stderr",
     "output_type": "stream",
     "text": [
      "'ls' is not recognized as an internal or external command,\n",
      "operable program or batch file.\n"
     ]
    }
   ],
   "source": [
    "!ls"
   ]
  },
  {
   "cell_type": "code",
   "execution_count": 2,
   "metadata": {},
   "outputs": [
    {
     "name": "stdout",
     "output_type": "stream",
     "text": [
      " Volume in drive C is Windows\n",
      " Volume Serial Number is 68F7-7C84\n",
      "\n",
      " Directory of C:\\Users\\HP\n",
      "\n",
      "12-06-2019  11:01    <DIR>          .\n",
      "12-06-2019  11:01    <DIR>          ..\n",
      "18-02-2019  19:07    <DIR>          .anaconda\n",
      "26-01-2019  19:02             1,442 .bash_history\n",
      "09-03-2019  16:16    <DIR>          .conda\n",
      "09-03-2019  15:02                43 .condarc\n",
      "26-01-2019  18:53                45 .gitconfig\n",
      "21-02-2019  18:17    <DIR>          .idlerc\n",
      "11-06-2019  17:47    <DIR>          .ipynb_checkpoints\n",
      "29-01-2019  18:37    <DIR>          .ipython\n",
      "11-06-2019  14:01    <DIR>          .jupyter\n",
      "10-04-2019  19:12    <DIR>          .matplotlib\n",
      "10-04-2019  19:52    <DIR>          .spyder-py3\n",
      "26-01-2019  19:02               764 .viminfo\n",
      "18-02-2019  17:33    <DIR>          __pycache__\n",
      "07-06-2019  13:19            20,595 05-06.ipynb\n",
      "07-06-2019  09:43            14,340 06-06.ipynb\n",
      "10-06-2019  16:58            38,042 07-06.ipynb\n",
      "10-04-2019  14:30            20,687 09-04-2019.ipynb\n",
      "11-06-2019  10:47            33,244 10-06(2).ipynb\n",
      "10-06-2019  17:58            26,708 10-06.ipynb\n",
      "12-06-2019  11:01            45,475 11-06.ipynb\n",
      "15-04-2019  17:27             2,944 15-4-19.ipynb\n",
      "30-05-2019  09:59             5,923 30-05-19.ipynb\n",
      "31-05-2019  09:56             9,174 31-05.ipynb\n",
      "09-02-2019  18:15    <DIR>          3D Objects\n",
      "04-06-2019  09:50             3,656 4-6.ipynb\n",
      "07-06-2019  10:16               197 abc.py\n",
      "29-01-2019  18:31    <DIR>          Anaconda3\n",
      "04-06-2019  19:34             8,612 assign-9.ipynb\n",
      "11-04-2019  13:53             7,886 assignment 1-2-3.ipynb\n",
      "11-04-2019  14:39            12,318 assignment 8.ipynb\n",
      "11-04-2019  14:08             3,619 assignment-4.ipynb\n",
      "13-04-2019  13:55             3,504 Assignment-6.ipynb\n",
      "11-04-2019  14:37             8,984 assignment7.ipynb\n",
      "11-04-2019  14:40            19,440 assignment9.ipynb\n",
      "26-01-2019  18:41    <DIR>          ayush\n",
      "07-06-2019  11:02               147 ayush.py\n",
      "10-04-2019  21:35            23,123 Bank application.ipynb\n",
      "12-04-2019  13:59               344 Bank.json\n",
      "12-04-2019  14:10            45,994 bankapp.ipynb\n",
      "07-06-2019  10:52               202 c.py\n",
      "07-06-2019  11:08               957 car1.py\n",
      "15-04-2019  14:51            27,108 classes.ipynb\n",
      "18-03-2019  17:00             3,211 Cont.ipynb\n",
      "09-02-2019  18:15    <DIR>          Contacts\n",
      "25-03-2019  16:43             1,206 continue.ipynb\n",
      "09-06-2019  11:22    <DIR>          Desktop\n",
      "06-06-2019  16:16    <DIR>          Documents\n",
      "11-06-2019  18:46    <DIR>          Downloads\n",
      "09-02-2019  18:15    <DIR>          Favorites\n",
      "29-03-2019  16:08             6,735 functions in python.ipynb\n",
      "31-03-2019  10:28            59,919 functions.ipynb\n",
      "14-03-2019  17:50               555 game.ipynb\n",
      "04-04-2019  16:33                20 h.py\n",
      "12-04-2019  14:07               344 hii.json\n",
      "16-04-2019  17:36             2,439 inheritance.ipynb\n",
      "09-02-2019  18:15    <DIR>          Links\n",
      "12-06-2019  10:55            23,133 list and dict practice and zip(11-06).ipynb\n",
      "29-03-2019  16:31               555 list functions.ipynb\n",
      "29-03-2019  16:27               555 list functions.py\n",
      "17-02-2019  17:50               555 module.ipynb\n",
      "17-02-2019  18:18               555 module.py\n",
      "26-01-2019  19:26    <DIR>          mohit\n",
      "09-02-2019  18:15    <DIR>          Music\n",
      "11-06-2019  10:10               492 one.py\n",
      "09-02-2019  18:19    <DIR>          OneDrive\n",
      "18-03-2019  15:30            10,615 operators.ipynb\n",
      "06-06-2019  14:10                75 pat1.txt\n",
      "20-04-2019  20:58    <DIR>          Pictures\n",
      "21-02-2019  18:15                 0 pip\n",
      "10-06-2019  21:35            24,682 practice datatype.ipynb\n",
      "07-06-2019  09:49            34,018 practice1.ipynb\n",
      "17-02-2019  17:47    <DIR>          Python 3.7\n",
      "17-02-2019  18:00        25,365,744 python-3.7.2.exe\n",
      "09-02-2019  18:15    <DIR>          Saved Games\n",
      "09-02-2019  18:15    <DIR>          Searches\n",
      "02-04-2019  18:53            15,631 special functions.ipynb\n",
      "24-12-2018  15:29    <DIR>          test\n",
      "15-02-2019  13:21             1,383 test.ipynb\n",
      "08-02-2019  18:00            19,925 test1.ipynb\n",
      "12-04-2019  13:12                32 test1.pkl\n",
      "06-04-2019  10:35            31,413 test2.ipynb\n",
      "16-02-2019  17:00             1,650 test3.ipynb\n",
      "04-06-2019  19:23             8,557 test4.ipynb\n",
      "17-02-2019  17:54             9,855 test4.py\n",
      "31-03-2019  10:30            65,413 test5.ipynb\n",
      "29-01-2019  18:39               800 Untitled.ipynb\n",
      "15-04-2019  16:18                72 Untitled1.ipynb\n",
      "27-03-2019  14:08            53,227 Untitled13.ipynb\n",
      "01-04-2019  22:18             7,199 Untitled14.ipynb\n",
      "02-04-2019  18:53             6,120 Untitled15.ipynb\n",
      "30-05-2019  08:27               555 Untitled16.ipynb\n",
      "31-05-2019  08:12                72 Untitled17.ipynb\n",
      "04-06-2019  08:44             2,170 Untitled18.ipynb\n",
      "03-02-2019  02:00             2,462 Untitled2.ipynb\n",
      "08-02-2019  18:09             2,519 Untitled3.ipynb\n",
      "14-02-2019  18:09                72 Untitled4.ipynb\n",
      "14-02-2019  18:18                72 Untitled5.ipynb\n",
      "17-02-2019  17:50                72 Untitled6.ipynb\n",
      "17-02-2019  18:07                72 Untitled7.ipynb\n",
      "14-03-2019  20:38                72 Untitled8.ipynb\n",
      "26-03-2019  16:02               555 Untitled9.ipynb\n",
      "09-02-2019  18:15    <DIR>          Videos\n",
      "              75 File(s)     26,150,895 bytes\n",
      "              29 Dir(s)  43,835,879,424 bytes free\n"
     ]
    }
   ],
   "source": [
    "ls"
   ]
  },
  {
   "cell_type": "code",
   "execution_count": 3,
   "metadata": {},
   "outputs": [],
   "source": [
    "import os"
   ]
  },
  {
   "cell_type": "code",
   "execution_count": 4,
   "metadata": {},
   "outputs": [
    {
     "data": {
      "text/plain": [
       "0"
      ]
     },
     "execution_count": 4,
     "metadata": {},
     "output_type": "execute_result"
    }
   ],
   "source": [
    "os.system(\"notepad\")"
   ]
  },
  {
   "cell_type": "code",
   "execution_count": 5,
   "metadata": {},
   "outputs": [],
   "source": [
    "!notepad"
   ]
  },
  {
   "cell_type": "code",
   "execution_count": 18,
   "metadata": {},
   "outputs": [
    {
     "name": "stdout",
     "output_type": "stream",
     "text": [
      "['c', 'c++', 'java', 'python']\n",
      "2698176804616\n",
      "['c', 'c++', 'java', 'python', 'ruby']\n",
      "2698181062536\n"
     ]
    }
   ],
   "source": [
    "mylist.remove(\"ruby\")\n",
    "print(mylist)\n",
    "print(id(mylist))\n",
    "print(c)\n",
    "print(id(c))"
   ]
  },
  {
   "cell_type": "code",
   "execution_count": 19,
   "metadata": {},
   "outputs": [
    {
     "name": "stdout",
     "output_type": "stream",
     "text": [
      "['c', 'c++', 'java', 'python', 'ruby', 'perl']\n"
     ]
    }
   ],
   "source": [
    "mylist.extend([\"ruby\",\"perl\"])\n",
    "print(mylist)"
   ]
  },
  {
   "cell_type": "code",
   "execution_count": 66,
   "metadata": {},
   "outputs": [
    {
     "name": "stdout",
     "output_type": "stream",
     "text": [
      "['c', 'c++', 'java', 'python', 'ruby', 'perl']\n",
      "['c', 'c++', 'java', 'python', 'ruby']\n"
     ]
    }
   ],
   "source": [
    "print(mylist)\n",
    "print(c)"
   ]
  },
  {
   "cell_type": "code",
   "execution_count": 68,
   "metadata": {},
   "outputs": [],
   "source": [
    "a=zip(mylist,c)"
   ]
  },
  {
   "cell_type": "code",
   "execution_count": 69,
   "metadata": {},
   "outputs": [
    {
     "name": "stdout",
     "output_type": "stream",
     "text": [
      "<class 'zip'>\n"
     ]
    }
   ],
   "source": [
    "print(type(a))"
   ]
  },
  {
   "cell_type": "code",
   "execution_count": 70,
   "metadata": {},
   "outputs": [
    {
     "name": "stdout",
     "output_type": "stream",
     "text": [
      "<zip object at 0x00000274382B6648>\n"
     ]
    }
   ],
   "source": [
    "print(a)"
   ]
  },
  {
   "cell_type": "code",
   "execution_count": 71,
   "metadata": {},
   "outputs": [
    {
     "data": {
      "text/plain": [
       "('c', 'c')"
      ]
     },
     "execution_count": 71,
     "metadata": {},
     "output_type": "execute_result"
    }
   ],
   "source": [
    "next(a)"
   ]
  },
  {
   "cell_type": "code",
   "execution_count": 72,
   "metadata": {},
   "outputs": [
    {
     "data": {
      "text/plain": [
       "('c++', 'c++')"
      ]
     },
     "execution_count": 72,
     "metadata": {},
     "output_type": "execute_result"
    }
   ],
   "source": [
    "next(a)"
   ]
  },
  {
   "cell_type": "code",
   "execution_count": 73,
   "metadata": {},
   "outputs": [
    {
     "data": {
      "text/plain": [
       "('java', 'java')"
      ]
     },
     "execution_count": 73,
     "metadata": {},
     "output_type": "execute_result"
    }
   ],
   "source": [
    "next(a)"
   ]
  },
  {
   "cell_type": "code",
   "execution_count": 74,
   "metadata": {},
   "outputs": [
    {
     "data": {
      "text/plain": [
       "('python', 'python')"
      ]
     },
     "execution_count": 74,
     "metadata": {},
     "output_type": "execute_result"
    }
   ],
   "source": [
    "next(a)"
   ]
  },
  {
   "cell_type": "code",
   "execution_count": 75,
   "metadata": {},
   "outputs": [
    {
     "data": {
      "text/plain": [
       "('ruby', 'ruby')"
      ]
     },
     "execution_count": 75,
     "metadata": {},
     "output_type": "execute_result"
    }
   ],
   "source": [
    "next(a)"
   ]
  },
  {
   "cell_type": "code",
   "execution_count": 76,
   "metadata": {},
   "outputs": [
    {
     "ename": "StopIteration",
     "evalue": "",
     "output_type": "error",
     "traceback": [
      "\u001b[1;31m---------------------------------------------------------------------------\u001b[0m",
      "\u001b[1;31mStopIteration\u001b[0m                             Traceback (most recent call last)",
      "\u001b[1;32m<ipython-input-76-15841f3f11d4>\u001b[0m in \u001b[0;36m<module>\u001b[1;34m\u001b[0m\n\u001b[1;32m----> 1\u001b[1;33m \u001b[0mnext\u001b[0m\u001b[1;33m(\u001b[0m\u001b[0ma\u001b[0m\u001b[1;33m)\u001b[0m\u001b[1;33m\u001b[0m\u001b[1;33m\u001b[0m\u001b[0m\n\u001b[0m",
      "\u001b[1;31mStopIteration\u001b[0m: "
     ]
    }
   ],
   "source": [
    "next(a)"
   ]
  },
  {
   "cell_type": "code",
   "execution_count": 77,
   "metadata": {},
   "outputs": [],
   "source": [
    "# zip iterable\n",
    "\n",
    "l1 = [ 'python','java','c','c++']\n",
    "l2 = [ 'awesome','mar','excellent','average']\n"
   ]
  },
  {
   "cell_type": "code",
   "execution_count": 78,
   "metadata": {},
   "outputs": [
    {
     "name": "stdout",
     "output_type": "stream",
     "text": [
      "('awesome', 'python')\n",
      "('mar', 'java')\n",
      "('excellent', 'c')\n",
      "('average', 'c++')\n"
     ]
    }
   ],
   "source": [
    "print(*zip(l2,l1),sep='\\n')"
   ]
  },
  {
   "cell_type": "code",
   "execution_count": 24,
   "metadata": {},
   "outputs": [],
   "source": [
    "d={\n",
    "    'name':'Ayush',\n",
    "    'age':19,\n",
    "    'course':'python',\n",
    "    'city':'jaipur'\n",
    "}"
   ]
  },
  {
   "cell_type": "code",
   "execution_count": 32,
   "metadata": {},
   "outputs": [
    {
     "name": "stdout",
     "output_type": "stream",
     "text": [
      "{'name': 'Ayush', 'age': 19, 'course': 'python', 'city': 'jaipur'}\n"
     ]
    }
   ],
   "source": [
    "print(d)"
   ]
  },
  {
   "cell_type": "code",
   "execution_count": 25,
   "metadata": {},
   "outputs": [],
   "source": [
    "from pprint import pprint"
   ]
  },
  {
   "cell_type": "code",
   "execution_count": 31,
   "metadata": {},
   "outputs": [
    {
     "name": "stdout",
     "output_type": "stream",
     "text": [
      "{'age': 19, 'city': 'jaipur', 'course': 'python', 'name': 'Ayush'}\n"
     ]
    }
   ],
   "source": [
    "pprint(d)"
   ]
  },
  {
   "cell_type": "code",
   "execution_count": 34,
   "metadata": {},
   "outputs": [
    {
     "data": {
      "text/plain": [
       "'Ayush'"
      ]
     },
     "execution_count": 34,
     "metadata": {},
     "output_type": "execute_result"
    }
   ],
   "source": [
    "d['name']"
   ]
  },
  {
   "cell_type": "code",
   "execution_count": 35,
   "metadata": {},
   "outputs": [
    {
     "data": {
      "text/plain": [
       "19"
      ]
     },
     "execution_count": 35,
     "metadata": {},
     "output_type": "execute_result"
    }
   ],
   "source": [
    "d['age']"
   ]
  },
  {
   "cell_type": "code",
   "execution_count": 37,
   "metadata": {},
   "outputs": [
    {
     "ename": "KeyError",
     "evalue": "'hobbies'",
     "output_type": "error",
     "traceback": [
      "\u001b[1;31m---------------------------------------------------------------------------\u001b[0m",
      "\u001b[1;31mKeyError\u001b[0m                                  Traceback (most recent call last)",
      "\u001b[1;32m<ipython-input-37-d775b2382d8b>\u001b[0m in \u001b[0;36m<module>\u001b[1;34m\u001b[0m\n\u001b[1;32m----> 1\u001b[1;33m \u001b[0md\u001b[0m\u001b[1;33m[\u001b[0m\u001b[1;34m'hobbies'\u001b[0m\u001b[1;33m]\u001b[0m\u001b[1;33m\u001b[0m\u001b[1;33m\u001b[0m\u001b[0m\n\u001b[0m",
      "\u001b[1;31mKeyError\u001b[0m: 'hobbies'"
     ]
    }
   ],
   "source": [
    "d['hobbies']"
   ]
  },
  {
   "cell_type": "code",
   "execution_count": 36,
   "metadata": {},
   "outputs": [
    {
     "data": {
      "text/plain": [
       "'python'"
      ]
     },
     "execution_count": 36,
     "metadata": {},
     "output_type": "execute_result"
    }
   ],
   "source": [
    "d.get('course')"
   ]
  },
  {
   "cell_type": "code",
   "execution_count": 39,
   "metadata": {},
   "outputs": [
    {
     "data": {
      "text/plain": [
       "'not found'"
      ]
     },
     "execution_count": 39,
     "metadata": {},
     "output_type": "execute_result"
    }
   ],
   "source": [
    "d.get('hobbies','not found')"
   ]
  },
  {
   "cell_type": "code",
   "execution_count": 43,
   "metadata": {},
   "outputs": [
    {
     "name": "stdout",
     "output_type": "stream",
     "text": [
      "Enter the key : ayush\n"
     ]
    },
    {
     "data": {
      "text/plain": [
       "'No such data available'"
      ]
     },
     "execution_count": 43,
     "metadata": {},
     "output_type": "execute_result"
    }
   ],
   "source": [
    "key=input(\"Enter the key : \").strip().lower()\n",
    "d.get(key,\"No such data available\")"
   ]
  },
  {
   "cell_type": "code",
   "execution_count": 44,
   "metadata": {},
   "outputs": [
    {
     "data": {
      "text/plain": [
       "{'name': 'Ayush', 'age': 19, 'course': 'python', 'city': 'jaipur'}"
      ]
     },
     "execution_count": 44,
     "metadata": {},
     "output_type": "execute_result"
    }
   ],
   "source": [
    "d"
   ]
  },
  {
   "cell_type": "code",
   "execution_count": 45,
   "metadata": {},
   "outputs": [
    {
     "name": "stdout",
     "output_type": "stream",
     "text": [
      "name age course city\n"
     ]
    }
   ],
   "source": [
    "print(*d)"
   ]
  },
  {
   "cell_type": "code",
   "execution_count": 48,
   "metadata": {},
   "outputs": [
    {
     "name": "stdout",
     "output_type": "stream",
     "text": [
      "data found :  ['Cricket', 'Football', 'Coding']\n"
     ]
    }
   ],
   "source": [
    "if 'Hobbies' in d:\n",
    "    print(\"data found : \",d['Hobbies'])\n",
    "else:\n",
    "    d['Hobbies']=['Cricket','Football','Coding']\n",
    "    print(d)"
   ]
  },
  {
   "cell_type": "code",
   "execution_count": 49,
   "metadata": {},
   "outputs": [],
   "source": [
    "x={'name':'ayush'}"
   ]
  },
  {
   "cell_type": "code",
   "execution_count": 51,
   "metadata": {},
   "outputs": [
    {
     "name": "stdout",
     "output_type": "stream",
     "text": [
      "value is  blue\n"
     ]
    },
    {
     "data": {
      "text/plain": [
       "{'name': 'ayush', 'color': 'blue'}"
      ]
     },
     "execution_count": 51,
     "metadata": {},
     "output_type": "execute_result"
    }
   ],
   "source": [
    "value = x.setdefault(\"color\",\"blue\")\n",
    "print(\"value is \",value)\n",
    "x"
   ]
  },
  {
   "cell_type": "code",
   "execution_count": 52,
   "metadata": {},
   "outputs": [
    {
     "name": "stdout",
     "output_type": "stream",
     "text": [
      "['__class__', '__contains__', '__delattr__', '__delitem__', '__dir__', '__doc__', '__eq__', '__format__', '__ge__', '__getattribute__', '__getitem__', '__gt__', '__hash__', '__init__', '__init_subclass__', '__iter__', '__le__', '__len__', '__lt__', '__ne__', '__new__', '__reduce__', '__reduce_ex__', '__repr__', '__setattr__', '__setitem__', '__sizeof__', '__str__', '__subclasshook__', 'clear', 'copy', 'fromkeys', 'get', 'items', 'keys', 'pop', 'popitem', 'setdefault', 'update', 'values']\n"
     ]
    }
   ],
   "source": [
    "print(dir(x))"
   ]
  },
  {
   "cell_type": "code",
   "execution_count": 53,
   "metadata": {},
   "outputs": [
    {
     "data": {
      "text/plain": [
       "dict_values(['ayush', 'blue'])"
      ]
     },
     "execution_count": 53,
     "metadata": {},
     "output_type": "execute_result"
    }
   ],
   "source": [
    "x.values()"
   ]
  },
  {
   "cell_type": "code",
   "execution_count": 54,
   "metadata": {},
   "outputs": [
    {
     "data": {
      "text/plain": [
       "dict_keys(['name', 'color'])"
      ]
     },
     "execution_count": 54,
     "metadata": {},
     "output_type": "execute_result"
    }
   ],
   "source": [
    "x.keys()"
   ]
  },
  {
   "cell_type": "code",
   "execution_count": 55,
   "metadata": {},
   "outputs": [
    {
     "data": {
      "text/plain": [
       "dict_items([('name', 'ayush'), ('color', 'blue')])"
      ]
     },
     "execution_count": 55,
     "metadata": {},
     "output_type": "execute_result"
    }
   ],
   "source": [
    "x.items()"
   ]
  },
  {
   "cell_type": "code",
   "execution_count": 60,
   "metadata": {},
   "outputs": [],
   "source": [
    "x.update(age=19,city='jaipur')"
   ]
  },
  {
   "cell_type": "code",
   "execution_count": 61,
   "metadata": {},
   "outputs": [
    {
     "data": {
      "text/plain": [
       "{'name': 'ayush', 'color': 'blue', 'age': 19, 'city': 'jaipur'}"
      ]
     },
     "execution_count": 61,
     "metadata": {},
     "output_type": "execute_result"
    }
   ],
   "source": [
    "x"
   ]
  },
  {
   "cell_type": "code",
   "execution_count": 63,
   "metadata": {},
   "outputs": [
    {
     "data": {
      "text/plain": [
       "{'name': 'ayush', 'color': 'blue', 'age': 19}"
      ]
     },
     "execution_count": 63,
     "metadata": {},
     "output_type": "execute_result"
    }
   ],
   "source": [
    "x.pop('city')\n",
    "x"
   ]
  },
  {
   "cell_type": "code",
   "execution_count": 64,
   "metadata": {},
   "outputs": [],
   "source": [
    "x.clear()"
   ]
  },
  {
   "cell_type": "code",
   "execution_count": 65,
   "metadata": {},
   "outputs": [
    {
     "data": {
      "text/plain": [
       "{}"
      ]
     },
     "execution_count": 65,
     "metadata": {},
     "output_type": "execute_result"
    }
   ],
   "source": [
    "x"
   ]
  },
  {
   "cell_type": "code",
   "execution_count": null,
   "metadata": {},
   "outputs": [],
   "source": []
  },
  {
   "cell_type": "code",
   "execution_count": 27,
   "metadata": {},
   "outputs": [],
   "source": [
    "data = { 'name':'python',\n",
    "        'version':3.7,\n",
    "        'father':'Guido Van Rossum',\n",
    "        'release' : 1994,\n",
    "        'versions' : [ ('python1',1994),\n",
    "                    ('python2',2000),\n",
    "                    ('python3',2008)\n",
    "                    ],\n",
    "        'website' : 'python.org'\n",
    "       }"
   ]
  },
  {
   "cell_type": "code",
   "execution_count": 28,
   "metadata": {},
   "outputs": [
    {
     "name": "stdout",
     "output_type": "stream",
     "text": [
      "{'name': 'python', 'version': 3.7, 'father': 'Guido Van Rossum', 'release': 1994, 'versions': [('python1', 1994), ('python2', 2000), ('python3', 2008)], 'website': 'python.org'}\n"
     ]
    }
   ],
   "source": [
    "print(data)"
   ]
  },
  {
   "cell_type": "code",
   "execution_count": 29,
   "metadata": {},
   "outputs": [],
   "source": [
    "from pprint import pprint"
   ]
  },
  {
   "cell_type": "code",
   "execution_count": 30,
   "metadata": {},
   "outputs": [
    {
     "name": "stdout",
     "output_type": "stream",
     "text": [
      "{    'father': 'Guido Van Rossum',\n",
      "     'name': 'python',\n",
      "     'release': 1994,\n",
      "     'version': 3.7,\n",
      "     'versions': [('python1', 1994), ('python2', 2000), ('python3', 2008)],\n",
      "     'website': 'python.org'}\n"
     ]
    }
   ],
   "source": [
    "pprint(data,indent=5)"
   ]
  },
  {
   "cell_type": "code",
   "execution_count": null,
   "metadata": {},
   "outputs": [],
   "source": []
  }
 ],
 "metadata": {
  "kernelspec": {
   "display_name": "Python 3",
   "language": "python",
   "name": "python3"
  },
  "language_info": {
   "codemirror_mode": {
    "name": "ipython",
    "version": 3
   },
   "file_extension": ".py",
   "mimetype": "text/x-python",
   "name": "python",
   "nbconvert_exporter": "python",
   "pygments_lexer": "ipython3",
   "version": "3.7.1"
  }
 },
 "nbformat": 4,
 "nbformat_minor": 2
}
