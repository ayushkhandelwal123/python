{
 "cells": [
  {
   "cell_type": "code",
   "execution_count": null,
   "metadata": {},
   "outputs": [],
   "source": [
    "# function is a set of statements used to perform a specific task"
   ]
  },
  {
   "cell_type": "code",
   "execution_count": 1,
   "metadata": {},
   "outputs": [
    {
     "name": "stdout",
     "output_type": "stream",
     "text": [
      "hello\n",
      "None\n"
     ]
    }
   ],
   "source": [
    "s = eval('print(\"hello\") if True else print(\"bye\")')\n",
    "print(s)"
   ]
  },
  {
   "cell_type": "code",
   "execution_count": 1,
   "metadata": {},
   "outputs": [
    {
     "data": {
      "text/plain": [
       "'ayush'"
      ]
     },
     "execution_count": 1,
     "metadata": {},
     "output_type": "execute_result"
    }
   ],
   "source": [
    "name = 'ayush'\n",
    "eval(\"name\")"
   ]
  },
  {
   "cell_type": "code",
   "execution_count": 3,
   "metadata": {},
   "outputs": [
    {
     "name": "stdout",
     "output_type": "stream",
     "text": [
      "Enter Value[1]'ayush'\n",
      "Enter key[1]name\n",
      "Enter Value[2]19\n",
      "Enter key[2]age\n",
      "Enter Value[3]['c','c++','python',]\n",
      "Enter key[3]languages\n"
     ]
    }
   ],
   "source": [
    "data = { }\n",
    "for var in range(3): \n",
    "    data[input(f\"Enter key[{var+1}]\")] = eval(input(f\"Enter Value[{var+1}]\"))"
   ]
  },
  {
   "cell_type": "code",
   "execution_count": 4,
   "metadata": {},
   "outputs": [
    {
     "data": {
      "text/plain": [
       "{'name': 'ayush', 'age': 19, 'languages': ['c', 'c++', 'python']}"
      ]
     },
     "execution_count": 4,
     "metadata": {},
     "output_type": "execute_result"
    }
   ],
   "source": [
    "data"
   ]
  },
  {
   "cell_type": "code",
   "execution_count": 2,
   "metadata": {},
   "outputs": [
    {
     "ename": "NameError",
     "evalue": "name 'age' is not defined",
     "output_type": "error",
     "traceback": [
      "\u001b[1;31m---------------------------------------------------------------------------\u001b[0m",
      "\u001b[1;31mNameError\u001b[0m                                 Traceback (most recent call last)",
      "\u001b[1;32m<ipython-input-2-064375ba312d>\u001b[0m in \u001b[0;36m<module>\u001b[1;34m\u001b[0m\n\u001b[1;32m----> 1\u001b[1;33m \u001b[0meval\u001b[0m\u001b[1;33m(\u001b[0m\u001b[1;34m\"age\"\u001b[0m\u001b[1;33m)\u001b[0m\u001b[1;33m\u001b[0m\u001b[1;33m\u001b[0m\u001b[0m\n\u001b[0m",
      "\u001b[1;32m<string>\u001b[0m in \u001b[0;36m<module>\u001b[1;34m\u001b[0m\n",
      "\u001b[1;31mNameError\u001b[0m: name 'age' is not defined"
     ]
    }
   ],
   "source": [
    "eval(\"age\")"
   ]
  },
  {
   "cell_type": "code",
   "execution_count": 3,
   "metadata": {},
   "outputs": [
    {
     "data": {
      "text/plain": [
       "'age'"
      ]
     },
     "execution_count": 3,
     "metadata": {},
     "output_type": "execute_result"
    }
   ],
   "source": [
    "eval(\"'age'\")"
   ]
  },
  {
   "cell_type": "code",
   "execution_count": 5,
   "metadata": {},
   "outputs": [
    {
     "name": "stdout",
     "output_type": "stream",
     "text": [
      "hello World !!\n",
      "hello World !!\n",
      "hello World !!\n",
      "hello World !!\n",
      "hello World !!\n",
      "hello World !!\n",
      "hello World !!\n",
      "hello World !!\n",
      "hello World !!\n",
      "hello World !!\n"
     ]
    }
   ],
   "source": [
    "for var in range(10): \n",
    "    var += 10 \n",
    "    print(\"hello World !!\")"
   ]
  },
  {
   "cell_type": "code",
   "execution_count": 6,
   "metadata": {},
   "outputs": [
    {
     "name": "stdout",
     "output_type": "stream",
     "text": [
      "<str_iterator object at 0x000002770BCD3358>\n"
     ]
    }
   ],
   "source": [
    "# iterators \n",
    "x = iter(\"python\")\n",
    "print(x)"
   ]
  },
  {
   "cell_type": "code",
   "execution_count": 13,
   "metadata": {},
   "outputs": [
    {
     "ename": "StopIteration",
     "evalue": "",
     "output_type": "error",
     "traceback": [
      "\u001b[1;31m---------------------------------------------------------------------------\u001b[0m",
      "\u001b[1;31mStopIteration\u001b[0m                             Traceback (most recent call last)",
      "\u001b[1;32m<ipython-input-13-92de4e9f6b1e>\u001b[0m in \u001b[0;36m<module>\u001b[1;34m\u001b[0m\n\u001b[1;32m----> 1\u001b[1;33m \u001b[0mnext\u001b[0m\u001b[1;33m(\u001b[0m\u001b[0mx\u001b[0m\u001b[1;33m)\u001b[0m\u001b[1;33m\u001b[0m\u001b[1;33m\u001b[0m\u001b[0m\n\u001b[0m",
      "\u001b[1;31mStopIteration\u001b[0m: "
     ]
    }
   ],
   "source": [
    "next(x)"
   ]
  },
  {
   "cell_type": "code",
   "execution_count": 14,
   "metadata": {},
   "outputs": [
    {
     "name": "stdout",
     "output_type": "stream",
     "text": [
      "p\n",
      "y\n",
      "t\n",
      "h\n",
      "o\n",
      "n\n",
      "hi i am working like for isn't I \n"
     ]
    }
   ],
   "source": [
    "x = iter(\"python\")\n",
    "try : \n",
    "    while True :\n",
    "        print(next(x))\n",
    "except : \n",
    "    print(\"hi i am working like for isn't I \")"
   ]
  },
  {
   "cell_type": "code",
   "execution_count": 15,
   "metadata": {},
   "outputs": [
    {
     "name": "stdout",
     "output_type": "stream",
     "text": [
      "1\n",
      "3\n",
      "5\n",
      "7\n",
      "9\n"
     ]
    }
   ],
   "source": [
    "data = [ 1,2,3,4,5,6,7,8,9,10]\n",
    "for item in data  : \n",
    "    print(item)\n",
    "    data.pop(0)"
   ]
  },
  {
   "cell_type": "markdown",
   "metadata": {},
   "source": [
    "### Functions"
   ]
  },
  {
   "cell_type": "markdown",
   "metadata": {},
   "source": [
    "## why functional progrmming has so much noise\n",
    "\n",
    "\n",
    "### Features of functions\n",
    "\n",
    "* Re-Useablility of Code\n",
    "* Debugging is Easy\n",
    "* Make Programming Moduler\n",
    "* Memory Optimization\n",
    "* Easy to Code Complex Programms"
   ]
  },
  {
   "cell_type": "markdown",
   "metadata": {},
   "source": [
    "#### types of functions in C\n",
    "1. without argument without return type\n",
    "2. without argument with return type\n",
    "3. with argument without return type\n",
    "4. with argument with return type"
   ]
  },
  {
   "cell_type": "markdown",
   "metadata": {},
   "source": [
    "#### at calling type of functions\n",
    "1. call by value ( immutable parameter )\n",
    "2. call by reference (mutable )"
   ]
  },
  {
   "cell_type": "code",
   "execution_count": 4,
   "metadata": {},
   "outputs": [],
   "source": [
    "import builtins"
   ]
  },
  {
   "cell_type": "code",
   "execution_count": 5,
   "metadata": {},
   "outputs": [
    {
     "data": {
      "text/plain": [
       "<module 'builtins' (built-in)>"
      ]
     },
     "execution_count": 5,
     "metadata": {},
     "output_type": "execute_result"
    }
   ],
   "source": [
    "builtins"
   ]
  },
  {
   "cell_type": "code",
   "execution_count": 7,
   "metadata": {},
   "outputs": [
    {
     "name": "stdout",
     "output_type": "stream",
     "text": [
      "['ArithmeticError', 'AssertionError', 'AttributeError', 'BaseException', 'BlockingIOError', 'BrokenPipeError', 'BufferError', 'BytesWarning', 'ChildProcessError', 'ConnectionAbortedError', 'ConnectionError', 'ConnectionRefusedError', 'ConnectionResetError', 'DeprecationWarning', 'EOFError', 'Ellipsis', 'EnvironmentError', 'Exception', 'False', 'FileExistsError', 'FileNotFoundError', 'FloatingPointError', 'FutureWarning', 'GeneratorExit', 'IOError', 'ImportError', 'ImportWarning', 'IndentationError', 'IndexError', 'InterruptedError', 'IsADirectoryError', 'KeyError', 'KeyboardInterrupt', 'LookupError', 'MemoryError', 'ModuleNotFoundError', 'NameError', 'None', 'NotADirectoryError', 'NotImplemented', 'NotImplementedError', 'OSError', 'OverflowError', 'PendingDeprecationWarning', 'PermissionError', 'ProcessLookupError', 'RecursionError', 'ReferenceError', 'ResourceWarning', 'RuntimeError', 'RuntimeWarning', 'StopAsyncIteration', 'StopIteration', 'SyntaxError', 'SyntaxWarning', 'SystemError', 'SystemExit', 'TabError', 'TimeoutError', 'True', 'TypeError', 'UnboundLocalError', 'UnicodeDecodeError', 'UnicodeEncodeError', 'UnicodeError', 'UnicodeTranslateError', 'UnicodeWarning', 'UserWarning', 'ValueError', 'Warning', 'WindowsError', 'ZeroDivisionError', '__IPYTHON__', '__build_class__', '__debug__', '__doc__', '__import__', '__loader__', '__name__', '__package__', '__spec__', 'abs', 'all', 'any', 'ascii', 'bin', 'bool', 'breakpoint', 'bytearray', 'bytes', 'callable', 'chr', 'classmethod', 'compile', 'complex', 'copyright', 'credits', 'delattr', 'dict', 'dir', 'display', 'divmod', 'enumerate', 'eval', 'exec', 'filter', 'float', 'format', 'frozenset', 'get_ipython', 'getattr', 'globals', 'hasattr', 'hash', 'help', 'hex', 'id', 'input', 'int', 'isinstance', 'issubclass', 'iter', 'len', 'license', 'list', 'locals', 'map', 'max', 'memoryview', 'min', 'next', 'object', 'oct', 'open', 'ord', 'pow', 'print', 'property', 'range', 'repr', 'reversed', 'round', 'set', 'setattr', 'slice', 'sorted', 'staticmethod', 'str', 'sum', 'super', 'tuple', 'type', 'vars', 'zip']\n"
     ]
    }
   ],
   "source": [
    "print(dir(builtins))"
   ]
  },
  {
   "cell_type": "code",
   "execution_count": 8,
   "metadata": {},
   "outputs": [
    {
     "name": "stdout",
     "output_type": "stream",
     "text": [
      "Return an enumerate object.\n",
      "\n",
      "  iterable\n",
      "    an object supporting iteration\n",
      "\n",
      "The enumerate object yields pairs containing a count (from start, which\n",
      "defaults to zero) and a value yielded by the iterable argument.\n",
      "\n",
      "enumerate is useful for obtaining an indexed list:\n",
      "    (0, seq[0]), (1, seq[1]), (2, seq[2]), ...\n"
     ]
    }
   ],
   "source": [
    "print(builtins.enumerate.__doc__)"
   ]
  },
  {
   "cell_type": "code",
   "execution_count": 16,
   "metadata": {},
   "outputs": [
    {
     "name": "stdout",
     "output_type": "stream",
     "text": [
      "1. name = ayush\n",
      "2. age = 19\n",
      "3. langauge = ['hindi', 'english']\n",
      "4. education = {'school': {'board': 'ICSE', 'grade': '90'}, 'high-school': {'board': 'ICSE', 'grade': '89%'}, 'graduation': {'board': 'RTU', 'grade': '73.5%'}}\n",
      "Smjh m aaya ky ? \n"
     ]
    }
   ],
   "source": [
    "data = { 'name':'ayush', 'age':19, 'langauge':['hindi','english'],\n",
    "       'education' : { \n",
    "           'school' : { 'board':'ICSE','grade':'90',},\n",
    "           'high-school' : { 'board':'ICSE', 'grade':'89%'},\n",
    "           'graduation' : { 'board':'RTU','grade':'73.5%'},\n",
    "               }}\n",
    "\n",
    "for count,(key,value) in enumerate(data.items(),start=1) : \n",
    "    print(f\"{count}. {key} = {value}\")\n",
    "else : \n",
    "    print(\"Smjh m aaya ky ? \")"
   ]
  },
  {
   "cell_type": "code",
   "execution_count": 11,
   "metadata": {},
   "outputs": [],
   "source": [
    "def even(n):\n",
    "    \"\"\"\n",
    "    even(n) ---> None\n",
    "    \n",
    "    Descr:\n",
    "        To calculate whether number is even or odd\n",
    "    \"\"\"\n",
    "    if n%2:\n",
    "        print(\"Odd number\")\n",
    "    else:\n",
    "        print(\"Even number\")\n",
    "        "
   ]
  },
  {
   "cell_type": "code",
   "execution_count": 12,
   "metadata": {},
   "outputs": [
    {
     "name": "stdout",
     "output_type": "stream",
     "text": [
      "Even number\n"
     ]
    }
   ],
   "source": [
    "even(16)"
   ]
  },
  {
   "cell_type": "code",
   "execution_count": 13,
   "metadata": {},
   "outputs": [
    {
     "name": "stdout",
     "output_type": "stream",
     "text": [
      "Help on function even in module __main__:\n",
      "\n",
      "even(n)\n",
      "    even(n) ---> None\n",
      "    \n",
      "    Descr:\n",
      "        To calculate whether number is even or odd\n",
      "\n"
     ]
    }
   ],
   "source": [
    "help(even)"
   ]
  },
  {
   "cell_type": "code",
   "execution_count": 15,
   "metadata": {},
   "outputs": [
    {
     "name": "stdout",
     "output_type": "stream",
     "text": [
      "\n",
      "    even(n) ---> None\n",
      "    \n",
      "    Descr:\n",
      "        To calculate whether number is even or odd\n",
      "    \n"
     ]
    }
   ],
   "source": [
    "print(even.__doc__)"
   ]
  },
  {
   "cell_type": "code",
   "execution_count": 16,
   "metadata": {},
   "outputs": [
    {
     "name": "stdout",
     "output_type": "stream",
     "text": [
      "['__annotations__', '__call__', '__class__', '__closure__', '__code__', '__defaults__', '__delattr__', '__dict__', '__dir__', '__doc__', '__eq__', '__format__', '__ge__', '__get__', '__getattribute__', '__globals__', '__gt__', '__hash__', '__init__', '__init_subclass__', '__kwdefaults__', '__le__', '__lt__', '__module__', '__name__', '__ne__', '__new__', '__qualname__', '__reduce__', '__reduce_ex__', '__repr__', '__setattr__', '__sizeof__', '__str__', '__subclasshook__']\n"
     ]
    }
   ],
   "source": [
    "print(dir(even))"
   ]
  },
  {
   "cell_type": "code",
   "execution_count": 17,
   "metadata": {},
   "outputs": [
    {
     "data": {
      "text/plain": [
       "{'__name__': '__main__',\n",
       " '__doc__': 'Automatically created module for IPython interactive environment',\n",
       " '__package__': None,\n",
       " '__loader__': None,\n",
       " '__spec__': None,\n",
       " '__builtin__': <module 'builtins' (built-in)>,\n",
       " '__builtins__': <module 'builtins' (built-in)>,\n",
       " '_ih': ['',\n",
       "  'name = \\'ayush\\'\\neval(\"name\")',\n",
       "  'eval(\"age\")',\n",
       "  'eval(\"\\'age\\'\")',\n",
       "  'import builtins',\n",
       "  'builtins',\n",
       "  'dir(builtins)',\n",
       "  'print(dir(builtins))',\n",
       "  'print(builtins.enumerate.__doc__)',\n",
       "  'def even(n):\\n    if n%2:\\n        print(\"Odd number\")\\n    else:\\n        print(\"Even number\")\\n        ',\n",
       "  'even(16)',\n",
       "  'def even(n):\\n    \"\"\"\\n    even(n) ---> None\\n    \\n    Descr:\\n        To calculate whether number is even or odd\\n    \"\"\"\\n    if n%2:\\n        print(\"Odd number\")\\n    else:\\n        print(\"Even number\")\\n        ',\n",
       "  'even(16)',\n",
       "  'help(even)',\n",
       "  'print(hello.__doc__)',\n",
       "  'print(even.__doc__)',\n",
       "  'print(dir(even))',\n",
       "  'globals()'],\n",
       " '_oh': {1: 'ayush',\n",
       "  3: 'age',\n",
       "  5: <module 'builtins' (built-in)>,\n",
       "  6: ['ArithmeticError',\n",
       "   'AssertionError',\n",
       "   'AttributeError',\n",
       "   'BaseException',\n",
       "   'BlockingIOError',\n",
       "   'BrokenPipeError',\n",
       "   'BufferError',\n",
       "   'BytesWarning',\n",
       "   'ChildProcessError',\n",
       "   'ConnectionAbortedError',\n",
       "   'ConnectionError',\n",
       "   'ConnectionRefusedError',\n",
       "   'ConnectionResetError',\n",
       "   'DeprecationWarning',\n",
       "   'EOFError',\n",
       "   'Ellipsis',\n",
       "   'EnvironmentError',\n",
       "   'Exception',\n",
       "   'False',\n",
       "   'FileExistsError',\n",
       "   'FileNotFoundError',\n",
       "   'FloatingPointError',\n",
       "   'FutureWarning',\n",
       "   'GeneratorExit',\n",
       "   'IOError',\n",
       "   'ImportError',\n",
       "   'ImportWarning',\n",
       "   'IndentationError',\n",
       "   'IndexError',\n",
       "   'InterruptedError',\n",
       "   'IsADirectoryError',\n",
       "   'KeyError',\n",
       "   'KeyboardInterrupt',\n",
       "   'LookupError',\n",
       "   'MemoryError',\n",
       "   'ModuleNotFoundError',\n",
       "   'NameError',\n",
       "   'None',\n",
       "   'NotADirectoryError',\n",
       "   'NotImplemented',\n",
       "   'NotImplementedError',\n",
       "   'OSError',\n",
       "   'OverflowError',\n",
       "   'PendingDeprecationWarning',\n",
       "   'PermissionError',\n",
       "   'ProcessLookupError',\n",
       "   'RecursionError',\n",
       "   'ReferenceError',\n",
       "   'ResourceWarning',\n",
       "   'RuntimeError',\n",
       "   'RuntimeWarning',\n",
       "   'StopAsyncIteration',\n",
       "   'StopIteration',\n",
       "   'SyntaxError',\n",
       "   'SyntaxWarning',\n",
       "   'SystemError',\n",
       "   'SystemExit',\n",
       "   'TabError',\n",
       "   'TimeoutError',\n",
       "   'True',\n",
       "   'TypeError',\n",
       "   'UnboundLocalError',\n",
       "   'UnicodeDecodeError',\n",
       "   'UnicodeEncodeError',\n",
       "   'UnicodeError',\n",
       "   'UnicodeTranslateError',\n",
       "   'UnicodeWarning',\n",
       "   'UserWarning',\n",
       "   'ValueError',\n",
       "   'Warning',\n",
       "   'WindowsError',\n",
       "   'ZeroDivisionError',\n",
       "   '__IPYTHON__',\n",
       "   '__build_class__',\n",
       "   '__debug__',\n",
       "   '__doc__',\n",
       "   '__import__',\n",
       "   '__loader__',\n",
       "   '__name__',\n",
       "   '__package__',\n",
       "   '__spec__',\n",
       "   'abs',\n",
       "   'all',\n",
       "   'any',\n",
       "   'ascii',\n",
       "   'bin',\n",
       "   'bool',\n",
       "   'breakpoint',\n",
       "   'bytearray',\n",
       "   'bytes',\n",
       "   'callable',\n",
       "   'chr',\n",
       "   'classmethod',\n",
       "   'compile',\n",
       "   'complex',\n",
       "   'copyright',\n",
       "   'credits',\n",
       "   'delattr',\n",
       "   'dict',\n",
       "   'dir',\n",
       "   'display',\n",
       "   'divmod',\n",
       "   'enumerate',\n",
       "   'eval',\n",
       "   'exec',\n",
       "   'filter',\n",
       "   'float',\n",
       "   'format',\n",
       "   'frozenset',\n",
       "   'get_ipython',\n",
       "   'getattr',\n",
       "   'globals',\n",
       "   'hasattr',\n",
       "   'hash',\n",
       "   'help',\n",
       "   'hex',\n",
       "   'id',\n",
       "   'input',\n",
       "   'int',\n",
       "   'isinstance',\n",
       "   'issubclass',\n",
       "   'iter',\n",
       "   'len',\n",
       "   'license',\n",
       "   'list',\n",
       "   'locals',\n",
       "   'map',\n",
       "   'max',\n",
       "   'memoryview',\n",
       "   'min',\n",
       "   'next',\n",
       "   'object',\n",
       "   'oct',\n",
       "   'open',\n",
       "   'ord',\n",
       "   'pow',\n",
       "   'print',\n",
       "   'property',\n",
       "   'range',\n",
       "   'repr',\n",
       "   'reversed',\n",
       "   'round',\n",
       "   'set',\n",
       "   'setattr',\n",
       "   'slice',\n",
       "   'sorted',\n",
       "   'staticmethod',\n",
       "   'str',\n",
       "   'sum',\n",
       "   'super',\n",
       "   'tuple',\n",
       "   'type',\n",
       "   'vars',\n",
       "   'zip']},\n",
       " '_dh': ['C:\\\\Users\\\\HP'],\n",
       " 'In': ['',\n",
       "  'name = \\'ayush\\'\\neval(\"name\")',\n",
       "  'eval(\"age\")',\n",
       "  'eval(\"\\'age\\'\")',\n",
       "  'import builtins',\n",
       "  'builtins',\n",
       "  'dir(builtins)',\n",
       "  'print(dir(builtins))',\n",
       "  'print(builtins.enumerate.__doc__)',\n",
       "  'def even(n):\\n    if n%2:\\n        print(\"Odd number\")\\n    else:\\n        print(\"Even number\")\\n        ',\n",
       "  'even(16)',\n",
       "  'def even(n):\\n    \"\"\"\\n    even(n) ---> None\\n    \\n    Descr:\\n        To calculate whether number is even or odd\\n    \"\"\"\\n    if n%2:\\n        print(\"Odd number\")\\n    else:\\n        print(\"Even number\")\\n        ',\n",
       "  'even(16)',\n",
       "  'help(even)',\n",
       "  'print(hello.__doc__)',\n",
       "  'print(even.__doc__)',\n",
       "  'print(dir(even))',\n",
       "  'globals()'],\n",
       " 'Out': {1: 'ayush',\n",
       "  3: 'age',\n",
       "  5: <module 'builtins' (built-in)>,\n",
       "  6: ['ArithmeticError',\n",
       "   'AssertionError',\n",
       "   'AttributeError',\n",
       "   'BaseException',\n",
       "   'BlockingIOError',\n",
       "   'BrokenPipeError',\n",
       "   'BufferError',\n",
       "   'BytesWarning',\n",
       "   'ChildProcessError',\n",
       "   'ConnectionAbortedError',\n",
       "   'ConnectionError',\n",
       "   'ConnectionRefusedError',\n",
       "   'ConnectionResetError',\n",
       "   'DeprecationWarning',\n",
       "   'EOFError',\n",
       "   'Ellipsis',\n",
       "   'EnvironmentError',\n",
       "   'Exception',\n",
       "   'False',\n",
       "   'FileExistsError',\n",
       "   'FileNotFoundError',\n",
       "   'FloatingPointError',\n",
       "   'FutureWarning',\n",
       "   'GeneratorExit',\n",
       "   'IOError',\n",
       "   'ImportError',\n",
       "   'ImportWarning',\n",
       "   'IndentationError',\n",
       "   'IndexError',\n",
       "   'InterruptedError',\n",
       "   'IsADirectoryError',\n",
       "   'KeyError',\n",
       "   'KeyboardInterrupt',\n",
       "   'LookupError',\n",
       "   'MemoryError',\n",
       "   'ModuleNotFoundError',\n",
       "   'NameError',\n",
       "   'None',\n",
       "   'NotADirectoryError',\n",
       "   'NotImplemented',\n",
       "   'NotImplementedError',\n",
       "   'OSError',\n",
       "   'OverflowError',\n",
       "   'PendingDeprecationWarning',\n",
       "   'PermissionError',\n",
       "   'ProcessLookupError',\n",
       "   'RecursionError',\n",
       "   'ReferenceError',\n",
       "   'ResourceWarning',\n",
       "   'RuntimeError',\n",
       "   'RuntimeWarning',\n",
       "   'StopAsyncIteration',\n",
       "   'StopIteration',\n",
       "   'SyntaxError',\n",
       "   'SyntaxWarning',\n",
       "   'SystemError',\n",
       "   'SystemExit',\n",
       "   'TabError',\n",
       "   'TimeoutError',\n",
       "   'True',\n",
       "   'TypeError',\n",
       "   'UnboundLocalError',\n",
       "   'UnicodeDecodeError',\n",
       "   'UnicodeEncodeError',\n",
       "   'UnicodeError',\n",
       "   'UnicodeTranslateError',\n",
       "   'UnicodeWarning',\n",
       "   'UserWarning',\n",
       "   'ValueError',\n",
       "   'Warning',\n",
       "   'WindowsError',\n",
       "   'ZeroDivisionError',\n",
       "   '__IPYTHON__',\n",
       "   '__build_class__',\n",
       "   '__debug__',\n",
       "   '__doc__',\n",
       "   '__import__',\n",
       "   '__loader__',\n",
       "   '__name__',\n",
       "   '__package__',\n",
       "   '__spec__',\n",
       "   'abs',\n",
       "   'all',\n",
       "   'any',\n",
       "   'ascii',\n",
       "   'bin',\n",
       "   'bool',\n",
       "   'breakpoint',\n",
       "   'bytearray',\n",
       "   'bytes',\n",
       "   'callable',\n",
       "   'chr',\n",
       "   'classmethod',\n",
       "   'compile',\n",
       "   'complex',\n",
       "   'copyright',\n",
       "   'credits',\n",
       "   'delattr',\n",
       "   'dict',\n",
       "   'dir',\n",
       "   'display',\n",
       "   'divmod',\n",
       "   'enumerate',\n",
       "   'eval',\n",
       "   'exec',\n",
       "   'filter',\n",
       "   'float',\n",
       "   'format',\n",
       "   'frozenset',\n",
       "   'get_ipython',\n",
       "   'getattr',\n",
       "   'globals',\n",
       "   'hasattr',\n",
       "   'hash',\n",
       "   'help',\n",
       "   'hex',\n",
       "   'id',\n",
       "   'input',\n",
       "   'int',\n",
       "   'isinstance',\n",
       "   'issubclass',\n",
       "   'iter',\n",
       "   'len',\n",
       "   'license',\n",
       "   'list',\n",
       "   'locals',\n",
       "   'map',\n",
       "   'max',\n",
       "   'memoryview',\n",
       "   'min',\n",
       "   'next',\n",
       "   'object',\n",
       "   'oct',\n",
       "   'open',\n",
       "   'ord',\n",
       "   'pow',\n",
       "   'print',\n",
       "   'property',\n",
       "   'range',\n",
       "   'repr',\n",
       "   'reversed',\n",
       "   'round',\n",
       "   'set',\n",
       "   'setattr',\n",
       "   'slice',\n",
       "   'sorted',\n",
       "   'staticmethod',\n",
       "   'str',\n",
       "   'sum',\n",
       "   'super',\n",
       "   'tuple',\n",
       "   'type',\n",
       "   'vars',\n",
       "   'zip']},\n",
       " 'get_ipython': <bound method InteractiveShell.get_ipython of <ipykernel.zmqshell.ZMQInteractiveShell object at 0x00000230743838D0>>,\n",
       " 'exit': <IPython.core.autocall.ZMQExitAutocall at 0x230769298d0>,\n",
       " 'quit': <IPython.core.autocall.ZMQExitAutocall at 0x230769298d0>,\n",
       " '_': ['ArithmeticError',\n",
       "  'AssertionError',\n",
       "  'AttributeError',\n",
       "  'BaseException',\n",
       "  'BlockingIOError',\n",
       "  'BrokenPipeError',\n",
       "  'BufferError',\n",
       "  'BytesWarning',\n",
       "  'ChildProcessError',\n",
       "  'ConnectionAbortedError',\n",
       "  'ConnectionError',\n",
       "  'ConnectionRefusedError',\n",
       "  'ConnectionResetError',\n",
       "  'DeprecationWarning',\n",
       "  'EOFError',\n",
       "  'Ellipsis',\n",
       "  'EnvironmentError',\n",
       "  'Exception',\n",
       "  'False',\n",
       "  'FileExistsError',\n",
       "  'FileNotFoundError',\n",
       "  'FloatingPointError',\n",
       "  'FutureWarning',\n",
       "  'GeneratorExit',\n",
       "  'IOError',\n",
       "  'ImportError',\n",
       "  'ImportWarning',\n",
       "  'IndentationError',\n",
       "  'IndexError',\n",
       "  'InterruptedError',\n",
       "  'IsADirectoryError',\n",
       "  'KeyError',\n",
       "  'KeyboardInterrupt',\n",
       "  'LookupError',\n",
       "  'MemoryError',\n",
       "  'ModuleNotFoundError',\n",
       "  'NameError',\n",
       "  'None',\n",
       "  'NotADirectoryError',\n",
       "  'NotImplemented',\n",
       "  'NotImplementedError',\n",
       "  'OSError',\n",
       "  'OverflowError',\n",
       "  'PendingDeprecationWarning',\n",
       "  'PermissionError',\n",
       "  'ProcessLookupError',\n",
       "  'RecursionError',\n",
       "  'ReferenceError',\n",
       "  'ResourceWarning',\n",
       "  'RuntimeError',\n",
       "  'RuntimeWarning',\n",
       "  'StopAsyncIteration',\n",
       "  'StopIteration',\n",
       "  'SyntaxError',\n",
       "  'SyntaxWarning',\n",
       "  'SystemError',\n",
       "  'SystemExit',\n",
       "  'TabError',\n",
       "  'TimeoutError',\n",
       "  'True',\n",
       "  'TypeError',\n",
       "  'UnboundLocalError',\n",
       "  'UnicodeDecodeError',\n",
       "  'UnicodeEncodeError',\n",
       "  'UnicodeError',\n",
       "  'UnicodeTranslateError',\n",
       "  'UnicodeWarning',\n",
       "  'UserWarning',\n",
       "  'ValueError',\n",
       "  'Warning',\n",
       "  'WindowsError',\n",
       "  'ZeroDivisionError',\n",
       "  '__IPYTHON__',\n",
       "  '__build_class__',\n",
       "  '__debug__',\n",
       "  '__doc__',\n",
       "  '__import__',\n",
       "  '__loader__',\n",
       "  '__name__',\n",
       "  '__package__',\n",
       "  '__spec__',\n",
       "  'abs',\n",
       "  'all',\n",
       "  'any',\n",
       "  'ascii',\n",
       "  'bin',\n",
       "  'bool',\n",
       "  'breakpoint',\n",
       "  'bytearray',\n",
       "  'bytes',\n",
       "  'callable',\n",
       "  'chr',\n",
       "  'classmethod',\n",
       "  'compile',\n",
       "  'complex',\n",
       "  'copyright',\n",
       "  'credits',\n",
       "  'delattr',\n",
       "  'dict',\n",
       "  'dir',\n",
       "  'display',\n",
       "  'divmod',\n",
       "  'enumerate',\n",
       "  'eval',\n",
       "  'exec',\n",
       "  'filter',\n",
       "  'float',\n",
       "  'format',\n",
       "  'frozenset',\n",
       "  'get_ipython',\n",
       "  'getattr',\n",
       "  'globals',\n",
       "  'hasattr',\n",
       "  'hash',\n",
       "  'help',\n",
       "  'hex',\n",
       "  'id',\n",
       "  'input',\n",
       "  'int',\n",
       "  'isinstance',\n",
       "  'issubclass',\n",
       "  'iter',\n",
       "  'len',\n",
       "  'license',\n",
       "  'list',\n",
       "  'locals',\n",
       "  'map',\n",
       "  'max',\n",
       "  'memoryview',\n",
       "  'min',\n",
       "  'next',\n",
       "  'object',\n",
       "  'oct',\n",
       "  'open',\n",
       "  'ord',\n",
       "  'pow',\n",
       "  'print',\n",
       "  'property',\n",
       "  'range',\n",
       "  'repr',\n",
       "  'reversed',\n",
       "  'round',\n",
       "  'set',\n",
       "  'setattr',\n",
       "  'slice',\n",
       "  'sorted',\n",
       "  'staticmethod',\n",
       "  'str',\n",
       "  'sum',\n",
       "  'super',\n",
       "  'tuple',\n",
       "  'type',\n",
       "  'vars',\n",
       "  'zip'],\n",
       " '__': <module 'builtins' (built-in)>,\n",
       " '___': 'age',\n",
       " '_i': 'print(dir(even))',\n",
       " '_ii': 'print(even.__doc__)',\n",
       " '_iii': 'print(hello.__doc__)',\n",
       " '_i1': 'name = \\'ayush\\'\\neval(\"name\")',\n",
       " 'name': 'ayush',\n",
       " '_1': 'ayush',\n",
       " '_i2': 'eval(\"age\")',\n",
       " '_i3': 'eval(\"\\'age\\'\")',\n",
       " '_3': 'age',\n",
       " '_i4': 'import builtins',\n",
       " 'builtins': <module 'builtins' (built-in)>,\n",
       " '_i5': 'builtins',\n",
       " '_5': <module 'builtins' (built-in)>,\n",
       " '_i6': 'dir(builtins)',\n",
       " '_6': ['ArithmeticError',\n",
       "  'AssertionError',\n",
       "  'AttributeError',\n",
       "  'BaseException',\n",
       "  'BlockingIOError',\n",
       "  'BrokenPipeError',\n",
       "  'BufferError',\n",
       "  'BytesWarning',\n",
       "  'ChildProcessError',\n",
       "  'ConnectionAbortedError',\n",
       "  'ConnectionError',\n",
       "  'ConnectionRefusedError',\n",
       "  'ConnectionResetError',\n",
       "  'DeprecationWarning',\n",
       "  'EOFError',\n",
       "  'Ellipsis',\n",
       "  'EnvironmentError',\n",
       "  'Exception',\n",
       "  'False',\n",
       "  'FileExistsError',\n",
       "  'FileNotFoundError',\n",
       "  'FloatingPointError',\n",
       "  'FutureWarning',\n",
       "  'GeneratorExit',\n",
       "  'IOError',\n",
       "  'ImportError',\n",
       "  'ImportWarning',\n",
       "  'IndentationError',\n",
       "  'IndexError',\n",
       "  'InterruptedError',\n",
       "  'IsADirectoryError',\n",
       "  'KeyError',\n",
       "  'KeyboardInterrupt',\n",
       "  'LookupError',\n",
       "  'MemoryError',\n",
       "  'ModuleNotFoundError',\n",
       "  'NameError',\n",
       "  'None',\n",
       "  'NotADirectoryError',\n",
       "  'NotImplemented',\n",
       "  'NotImplementedError',\n",
       "  'OSError',\n",
       "  'OverflowError',\n",
       "  'PendingDeprecationWarning',\n",
       "  'PermissionError',\n",
       "  'ProcessLookupError',\n",
       "  'RecursionError',\n",
       "  'ReferenceError',\n",
       "  'ResourceWarning',\n",
       "  'RuntimeError',\n",
       "  'RuntimeWarning',\n",
       "  'StopAsyncIteration',\n",
       "  'StopIteration',\n",
       "  'SyntaxError',\n",
       "  'SyntaxWarning',\n",
       "  'SystemError',\n",
       "  'SystemExit',\n",
       "  'TabError',\n",
       "  'TimeoutError',\n",
       "  'True',\n",
       "  'TypeError',\n",
       "  'UnboundLocalError',\n",
       "  'UnicodeDecodeError',\n",
       "  'UnicodeEncodeError',\n",
       "  'UnicodeError',\n",
       "  'UnicodeTranslateError',\n",
       "  'UnicodeWarning',\n",
       "  'UserWarning',\n",
       "  'ValueError',\n",
       "  'Warning',\n",
       "  'WindowsError',\n",
       "  'ZeroDivisionError',\n",
       "  '__IPYTHON__',\n",
       "  '__build_class__',\n",
       "  '__debug__',\n",
       "  '__doc__',\n",
       "  '__import__',\n",
       "  '__loader__',\n",
       "  '__name__',\n",
       "  '__package__',\n",
       "  '__spec__',\n",
       "  'abs',\n",
       "  'all',\n",
       "  'any',\n",
       "  'ascii',\n",
       "  'bin',\n",
       "  'bool',\n",
       "  'breakpoint',\n",
       "  'bytearray',\n",
       "  'bytes',\n",
       "  'callable',\n",
       "  'chr',\n",
       "  'classmethod',\n",
       "  'compile',\n",
       "  'complex',\n",
       "  'copyright',\n",
       "  'credits',\n",
       "  'delattr',\n",
       "  'dict',\n",
       "  'dir',\n",
       "  'display',\n",
       "  'divmod',\n",
       "  'enumerate',\n",
       "  'eval',\n",
       "  'exec',\n",
       "  'filter',\n",
       "  'float',\n",
       "  'format',\n",
       "  'frozenset',\n",
       "  'get_ipython',\n",
       "  'getattr',\n",
       "  'globals',\n",
       "  'hasattr',\n",
       "  'hash',\n",
       "  'help',\n",
       "  'hex',\n",
       "  'id',\n",
       "  'input',\n",
       "  'int',\n",
       "  'isinstance',\n",
       "  'issubclass',\n",
       "  'iter',\n",
       "  'len',\n",
       "  'license',\n",
       "  'list',\n",
       "  'locals',\n",
       "  'map',\n",
       "  'max',\n",
       "  'memoryview',\n",
       "  'min',\n",
       "  'next',\n",
       "  'object',\n",
       "  'oct',\n",
       "  'open',\n",
       "  'ord',\n",
       "  'pow',\n",
       "  'print',\n",
       "  'property',\n",
       "  'range',\n",
       "  'repr',\n",
       "  'reversed',\n",
       "  'round',\n",
       "  'set',\n",
       "  'setattr',\n",
       "  'slice',\n",
       "  'sorted',\n",
       "  'staticmethod',\n",
       "  'str',\n",
       "  'sum',\n",
       "  'super',\n",
       "  'tuple',\n",
       "  'type',\n",
       "  'vars',\n",
       "  'zip'],\n",
       " '_i7': 'print(dir(builtins))',\n",
       " '_i8': 'print(builtins.enumerate.__doc__)',\n",
       " '_i9': 'def even(n):\\n    if n%2:\\n        print(\"Odd number\")\\n    else:\\n        print(\"Even number\")\\n        ',\n",
       " 'even': <function __main__.even(n)>,\n",
       " '_i10': 'even(16)',\n",
       " '_i11': 'def even(n):\\n    \"\"\"\\n    even(n) ---> None\\n    \\n    Descr:\\n        To calculate whether number is even or odd\\n    \"\"\"\\n    if n%2:\\n        print(\"Odd number\")\\n    else:\\n        print(\"Even number\")\\n        ',\n",
       " '_i12': 'even(16)',\n",
       " '_i13': 'help(even)',\n",
       " '_i14': 'print(hello.__doc__)',\n",
       " '_i15': 'print(even.__doc__)',\n",
       " '_i16': 'print(dir(even))',\n",
       " '_i17': 'globals()'}"
      ]
     },
     "execution_count": 17,
     "metadata": {},
     "output_type": "execute_result"
    }
   ],
   "source": [
    "globals()"
   ]
  },
  {
   "cell_type": "code",
   "execution_count": 17,
   "metadata": {},
   "outputs": [],
   "source": [
    "# with arugment without return type \n",
    "\n",
    "def hello(name):\n",
    "    print(f\"hello user {name}\")"
   ]
  },
  {
   "cell_type": "code",
   "execution_count": 19,
   "metadata": {},
   "outputs": [
    {
     "name": "stdout",
     "output_type": "stream",
     "text": [
      "hello user ayush\n",
      "None\n"
     ]
    }
   ],
   "source": [
    "x = hello('ayush')\n",
    "print(x)"
   ]
  },
  {
   "cell_type": "code",
   "execution_count": 21,
   "metadata": {},
   "outputs": [],
   "source": [
    "# without argument with return type \n",
    "def hello():\n",
    "    return \"hello world\""
   ]
  },
  {
   "cell_type": "code",
   "execution_count": 23,
   "metadata": {},
   "outputs": [
    {
     "name": "stdout",
     "output_type": "stream",
     "text": [
      "hello world\n"
     ]
    }
   ],
   "source": [
    "x = hello()\n",
    "print(x)"
   ]
  },
  {
   "cell_type": "code",
   "execution_count": 20,
   "metadata": {},
   "outputs": [
    {
     "name": "stdout",
     "output_type": "stream",
     "text": [
      "hello\n",
      "hello\n"
     ]
    }
   ],
   "source": [
    "x = input()\n",
    "print(x)"
   ]
  },
  {
   "cell_type": "code",
   "execution_count": 24,
   "metadata": {},
   "outputs": [
    {
     "name": "stdout",
     "output_type": "stream",
     "text": [
      "Hello User HSUYA\n"
     ]
    }
   ],
   "source": [
    "# with arugment with return \n",
    "def hello(name):\n",
    "    return \"Hello User \"+name[::-1].strip().upper()\n",
    "\n",
    "r = hello('          ayush       ')\n",
    "print(r)"
   ]
  },
  {
   "cell_type": "code",
   "execution_count": 25,
   "metadata": {},
   "outputs": [
    {
     "name": "stdout",
     "output_type": "stream",
     "text": [
      "Before Calling x  =  5\n",
      "Inside x =  25\n",
      "After Calling x =  5\n"
     ]
    }
   ],
   "source": [
    "# call by value \n",
    "x = 5\n",
    "def hello(x):\n",
    "    x = x ** 2\n",
    "    print(\"Inside x = \",x)\n",
    "print(\"Before Calling x  = \",x)\n",
    "hello(x)\n",
    "print(\"After Calling x = \",x)"
   ]
  },
  {
   "cell_type": "code",
   "execution_count": 26,
   "metadata": {},
   "outputs": [
    {
     "name": "stdout",
     "output_type": "stream",
     "text": [
      "Before x =  [1, 2, 3, 4, 5]\n",
      "Inside x =  [1, 2, 3, 4, 5, 10]\n",
      "After x =  [1, 2, 3, 4, 5, 10]\n"
     ]
    }
   ],
   "source": [
    "# call by reference\n",
    "x = [ 1,2,3,4,5]\n",
    "def change(x):\n",
    "    x.append(10)\n",
    "    print(\"Inside x = \",x)\n",
    "print(\"Before x = \",x)\n",
    "change(x)\n",
    "print(\"After x = \",x)"
   ]
  },
  {
   "cell_type": "code",
   "execution_count": null,
   "metadata": {},
   "outputs": [],
   "source": []
  }
 ],
 "metadata": {
  "kernelspec": {
   "display_name": "Python 3",
   "language": "python",
   "name": "python3"
  },
  "language_info": {
   "codemirror_mode": {
    "name": "ipython",
    "version": 3
   },
   "file_extension": ".py",
   "mimetype": "text/x-python",
   "name": "python",
   "nbconvert_exporter": "python",
   "pygments_lexer": "ipython3",
   "version": "3.7.1"
  }
 },
 "nbformat": 4,
 "nbformat_minor": 2
}
