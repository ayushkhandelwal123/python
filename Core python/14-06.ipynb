{
 "cells": [
  {
   "cell_type": "code",
   "execution_count": 1,
   "metadata": {},
   "outputs": [
    {
     "name": "stdout",
     "output_type": "stream",
     "text": [
      "Enter a number : 5\n",
      "5 x 1 = 5 \n",
      "5 x 2 = 10 \n",
      "5 x 3 = 15 \n",
      "5 x 4 = 20 \n",
      "5 x 5 = 25 \n",
      "5 x 6 = 30 \n",
      "5 x 7 = 35 \n",
      "5 x 8 = 40 \n",
      "5 x 9 = 45 \n",
      "5 x 10 = 50 \n"
     ]
    }
   ],
   "source": [
    "n = int(input(\"Enter a number : \"))\n",
    "i=1\n",
    "\n",
    "while i<=10:\n",
    "    print(f\"{n} x {i} = {n*i} \") #string formatting\n",
    "    i = i+1"
   ]
  },
  {
   "cell_type": "code",
   "execution_count": 4,
   "metadata": {},
   "outputs": [
    {
     "name": "stdout",
     "output_type": "stream",
     "text": [
      "Enter a number : 5\n",
      "5     x     1\t =     5 \n",
      "5     x     2\t =    10 \n",
      "5     x     3\t =    15 \n",
      "5     x     4\t =    20 \n",
      "5     x     5\t =    25 \n",
      "5     x     6\t =    30 \n",
      "5     x     7\t =    35 \n",
      "5     x     8\t =    40 \n",
      "5     x     9\t =    45 \n",
      "5     x    10\t =    50 \n"
     ]
    }
   ],
   "source": [
    "n = int(input(\"Enter a number : \"))\n",
    "i=1\n",
    "\n",
    "while i<=10:\n",
    "    print(f\"{n:<5} x {i:>5}\\t = {n*i:>5} \")\n",
    "    i = i+1"
   ]
  },
  {
   "cell_type": "code",
   "execution_count": 6,
   "metadata": {},
   "outputs": [
    {
     "name": "stdout",
     "output_type": "stream",
     "text": [
      "Enter a number : 5\n",
      "5     **     1\t = 5     \n",
      "5     **     2\t = 25    \n",
      "5     **     3\t = 125   \n",
      "5     **     4\t = 625   \n",
      "5     **     5\t = 3125  \n",
      "5     **     6\t = 15625 \n",
      "5     **     7\t = 78125 \n",
      "5     **     8\t = 390625 \n",
      "5     **     9\t = 1953125 \n",
      "5     **    10\t = 9765625 \n"
     ]
    }
   ],
   "source": [
    "n = int(input(\"Enter a number : \"))\n",
    "i=1\n",
    "\n",
    "while i<=10:\n",
    "    print(f\"{n:<5} ** {i:>5}\\t = {n**i:<5} \")\n",
    "    i = i+1\n"
   ]
  },
  {
   "cell_type": "code",
   "execution_count": 2,
   "metadata": {},
   "outputs": [
    {
     "name": "stdout",
     "output_type": "stream",
     "text": [
      "hello world\n"
     ]
    },
    {
     "ename": "AttributeError",
     "evalue": "'list' object has no attribute 'lower'",
     "output_type": "error",
     "traceback": [
      "\u001b[1;31m---------------------------------------------------------------------------\u001b[0m",
      "\u001b[1;31mAttributeError\u001b[0m                            Traceback (most recent call last)",
      "\u001b[1;32m<ipython-input-2-7ce07d1aa8aa>\u001b[0m in \u001b[0;36m<module>\u001b[1;34m\u001b[0m\n\u001b[1;32m----> 1\u001b[1;33m \u001b[0minput\u001b[0m\u001b[1;33m(\u001b[0m\u001b[1;33m)\u001b[0m\u001b[1;33m.\u001b[0m\u001b[0msplit\u001b[0m\u001b[1;33m(\u001b[0m\u001b[1;33m)\u001b[0m\u001b[1;33m.\u001b[0m\u001b[0mlower\u001b[0m\u001b[1;33m(\u001b[0m\u001b[1;33m)\u001b[0m\u001b[1;33m\u001b[0m\u001b[1;33m\u001b[0m\u001b[0m\n\u001b[0m",
      "\u001b[1;31mAttributeError\u001b[0m: 'list' object has no attribute 'lower'"
     ]
    }
   ],
   "source": [
    "input().split().lower()  #split() will convert the given input to list and list has no lower() function"
   ]
  },
  {
   "cell_type": "code",
   "execution_count": 8,
   "metadata": {},
   "outputs": [
    {
     "name": "stdout",
     "output_type": "stream",
     "text": [
      "Enter your choice : 40\n",
      "Think smaller\n",
      "Enter your choice : 20\n",
      "Think smaller\n",
      "Enter your choice : 10\n",
      "Think smaller\n",
      "Enter your choice : 6\n",
      "Think bigger\n",
      "Enter your choice : 8\n",
      "Think smaller\n",
      "Computer wins\n",
      "Computer's choice :  7\n"
     ]
    }
   ],
   "source": [
    "from time import sleep\n",
    "from random import randint\n",
    "c = randint(1,50)\n",
    "choice = 1\n",
    "while choice <= 5:\n",
    "    p = int(input(\"Enter your choice : \"))\n",
    "    if p==c:\n",
    "        sleep(randint(1,3))\n",
    "        print(\"Player wins\")\n",
    "        break\n",
    "    elif p>c:\n",
    "        sleep(randint(1,3))\n",
    "        print(\"Think smaller\")\n",
    "    else:\n",
    "        sleep(randint(1,3))\n",
    "        print(\"Think bigger\")\n",
    "    choice+=1\n",
    "else:\n",
    "    sleep(randint(1,3))\n",
    "    print(\"Computer wins\")\n",
    "    print(\"Computer's choice : \",c)\n",
    "    \n",
    "        "
   ]
  },
  {
   "cell_type": "code",
   "execution_count": 16,
   "metadata": {},
   "outputs": [
    {
     "name": "stdout",
     "output_type": "stream",
     "text": [
      "\n",
      "You have only 5\n",
      "\n",
      "Your Guess (1,50) : 25\n",
      "Hint: Be Big Think Big\n",
      "\n",
      "You have only 4\n",
      "\n",
      "Your Guess (1,50) : 37\n",
      "Hint: Be Big Think Big\n",
      "\n",
      "You have only 3\n",
      "\n",
      "Your Guess (1,50) : 42\n",
      "\n",
      "!!Waah!!!You have won the Game\n",
      "\n"
     ]
    }
   ],
   "source": [
    "# comguess\n",
    "from random import randint \n",
    "com_guess = randint(1,50)\n",
    "c = 1\n",
    "while c <= 5 : \n",
    "    print(f\"\\nYou have only {6-c} chance left\\n\")\n",
    "    user_guess = int(input(\"Your Guess (1,50) : \"))\n",
    "    if user_guess > 50 or user_guess < 1 : \n",
    "        print(\"!!!Warning!!!!!Aaukat m input De 1 - 50 \")\n",
    "        continue \n",
    "    if user_guess == com_guess : \n",
    "        print(\"\\n!!Waah!!!You have won the Game\\n\")\n",
    "        break \n",
    "    elif user_guess < com_guess : \n",
    "        print(\"Hint: Be Big Think Big\")\n",
    "    else : \n",
    "        print(\"Hint: Be in Limits\")\n",
    "    c = c + 1\n",
    "else :\n",
    "    print(\"Computer Guess was : \",com_guess)\n",
    "    print(\"Hey you Listen !!! You Such A Looser\")"
   ]
  },
  {
   "cell_type": "code",
   "execution_count": 17,
   "metadata": {},
   "outputs": [
    {
     "name": "stdout",
     "output_type": "stream",
     "text": [
      "\n",
      "I am in Row 1 \n",
      "for row 1 columns are : \t1, 2, 3, 4, 5, \n",
      "\n",
      "\n",
      "I am in Row 2 \n",
      "for row 2 columns are : \t1, 2, 3, 4, 5, \n",
      "\n",
      "\n",
      "I am in Row 3 \n",
      "for row 3 columns are : \t1, 2, 3, 4, 5, \n",
      "\n",
      "\n",
      "I am in Row 4 \n",
      "for row 4 columns are : \t1, 2, 3, 4, 5, \n",
      "\n",
      "\n",
      "I am in Row 5 \n",
      "for row 5 columns are : \t1, 2, 3, 4, 5, \n",
      "\n"
     ]
    }
   ],
   "source": [
    "row = 1\n",
    "while row <= 5 : \n",
    "    print(f\"\\nI am in Row {row} \")\n",
    "    print(f\"for row {row} columns are : \",end=\"\\t\")\n",
    "    col = 1\n",
    "    while col <= 5 : \n",
    "        print(col,end=\", \")\n",
    "        col += 1\n",
    "    print(\"\\n\")\n",
    "    row += 1"
   ]
  },
  {
   "cell_type": "code",
   "execution_count": 1,
   "metadata": {},
   "outputs": [
    {
     "name": "stdout",
     "output_type": "stream",
     "text": [
      "**********\n",
      "**********\n",
      "**********\n",
      "**********\n",
      "**********\n",
      "**********\n",
      "**********\n",
      "**********\n",
      "**********\n",
      "**********\n"
     ]
    }
   ],
   "source": [
    "row = 1\n",
    "while row <= 10:\n",
    "    col=1\n",
    "    while col<= 10:\n",
    "        print(\"*\",end = \"\")\n",
    "        col += 1\n",
    "    \n",
    "    print()\n",
    "    row+=1"
   ]
  },
  {
   "cell_type": "code",
   "execution_count": 4,
   "metadata": {},
   "outputs": [
    {
     "name": "stdout",
     "output_type": "stream",
     "text": [
      "*\n",
      "**\n",
      "***\n",
      "****\n",
      "*****\n",
      "******\n",
      "*******\n",
      "********\n",
      "*********\n",
      "**********\n"
     ]
    }
   ],
   "source": [
    "row = 1\n",
    "while row<=10:\n",
    "    col=1\n",
    "    while col<=10:\n",
    "        print(\"*\",end=\"\")\n",
    "        col+=1\n",
    "        if col>row:\n",
    "            break\n",
    "    print()\n",
    "    row+=1\n",
    "    "
   ]
  },
  {
   "cell_type": "code",
   "execution_count": 8,
   "metadata": {},
   "outputs": [
    {
     "name": "stdout",
     "output_type": "stream",
     "text": [
      "         *\n",
      "        **\n",
      "       ***\n",
      "      ****\n",
      "     *****\n",
      "    ******\n",
      "   *******\n",
      "  ********\n",
      " *********\n",
      "**********\n"
     ]
    }
   ],
   "source": [
    "row = 1\n",
    "while row<=10:\n",
    "    col=1\n",
    "    while col<=10:\n",
    "        if col<= 10-row:\n",
    "            print(\" \",end=\"\")\n",
    "        else:\n",
    "            print(\"*\" ,end = \"\")\n",
    "        col+=1\n",
    "        \n",
    "    print()\n",
    "    row+=1"
   ]
  },
  {
   "cell_type": "code",
   "execution_count": 16,
   "metadata": {},
   "outputs": [
    {
     "name": "stdout",
     "output_type": "stream",
     "text": [
      "\t\t *********\n",
      "\t\t  ********\n",
      "\t\t   *******\n",
      "\t\t    ******\n",
      "\t\t     *****\n",
      "\t\t      ****\n",
      "\t\t       ***\n",
      "\t\t        **\n",
      "\t\t         *\n",
      "\t\t          \n"
     ]
    }
   ],
   "source": [
    "row=1\n",
    "while row<=10:\n",
    "    col=1\n",
    "    print(\"\\t\\t\",end='')\n",
    "    while col<=10:\n",
    "        if col>row:\n",
    "            print(\"*\",end=\"\")\n",
    "        else:\n",
    "            print(\" \",end ='')\n",
    "        col+=1\n",
    "    print()\n",
    "    row+=1"
   ]
  },
  {
   "cell_type": "code",
   "execution_count": 2,
   "metadata": {},
   "outputs": [
    {
     "name": "stdout",
     "output_type": "stream",
     "text": [
      "*********\n",
      "********\n",
      "*******\n",
      "******\n",
      "*****\n",
      "****\n",
      "***\n",
      "**\n",
      "*\n",
      "\n"
     ]
    }
   ],
   "source": [
    "row = 1\n",
    "while row<=10:\n",
    "    col=1\n",
    "    while col<=10:\n",
    "        if col<=10-row:\n",
    "            print(\"*\",end=\"\")\n",
    "        else:\n",
    "            break\n",
    "        col+=1\n",
    "        \n",
    "    print()\n",
    "    row+=1"
   ]
  },
  {
   "cell_type": "code",
   "execution_count": 5,
   "metadata": {},
   "outputs": [
    {
     "name": "stdout",
     "output_type": "stream",
     "text": [
      " * * * * * * * * * *\n",
      "  * * * * * * * * *\n",
      "   * * * * * * * *\n",
      "    * * * * * * *\n",
      "     * * * * * *\n",
      "      * * * * *\n",
      "       * * * *\n",
      "        * * *\n",
      "         * *\n",
      "          *\n"
     ]
    }
   ],
   "source": [
    "row = 1\n",
    "while row <= 10 : \n",
    "    col = 1\n",
    "    while col <= 10 : \n",
    "        print(\" \",end='')\n",
    "        col += 1\n",
    "        if col > row : \n",
    "            print(\"*\",end='')\n",
    "        \n",
    "    print()\n",
    "    row += 1"
   ]
  },
  {
   "cell_type": "code",
   "execution_count": 9,
   "metadata": {},
   "outputs": [
    {
     "name": "stdout",
     "output_type": "stream",
     "text": [
      "         * \n",
      "        * * \n",
      "       * * * \n",
      "      * * * * \n",
      "     * * * * * \n",
      "    * * * * * * \n",
      "   * * * * * * * \n",
      "  * * * * * * * * \n",
      " * * * * * * * * * \n",
      "* * * * * * * * * * \n"
     ]
    }
   ],
   "source": [
    "row = 1\n",
    "while row<=10:\n",
    "    col=1\n",
    "    while col<=10:\n",
    "        if col<= 10-row:\n",
    "            print(\" \",end=\"\")\n",
    "        else:\n",
    "            print(\"* \" ,end = \"\")\n",
    "        col+=1\n",
    "        \n",
    "    print()\n",
    "    row+=1"
   ]
  },
  {
   "cell_type": "code",
   "execution_count": 13,
   "metadata": {},
   "outputs": [
    {
     "name": "stdout",
     "output_type": "stream",
     "text": [
      "         *\n",
      "        ***\n",
      "       *****\n",
      "      *******\n",
      "     *********\n",
      "    ***********\n",
      "   *************\n",
      "  ***************\n",
      " *****************\n",
      "*******************\n"
     ]
    }
   ],
   "source": [
    "row=1\n",
    "while row <=10:\n",
    "    col=1\n",
    "    while col<=20:\n",
    "        if col<=(20//2)-row:\n",
    "            print(\" \",end = '')\n",
    "        col+=1\n",
    "    col=1\n",
    "    while col<=(2*row)-1:\n",
    "        print(\"*\",end='')\n",
    "        col+=1\n",
    "    print()\n",
    "    row+=1"
   ]
  },
  {
   "cell_type": "code",
   "execution_count": 14,
   "metadata": {},
   "outputs": [
    {
     "name": "stdout",
     "output_type": "stream",
     "text": [
      "* * * * * * * * * \n",
      "* * * * * * * * \n",
      "* * * * * * * \n",
      "* * * * * * \n",
      "* * * * * \n",
      "* * * * \n",
      "* * * \n",
      "* * \n",
      "* \n",
      "\n"
     ]
    }
   ],
   "source": [
    "for i in range(1,11):\n",
    "    print(\"* \"*(10-i))"
   ]
  },
  {
   "cell_type": "code",
   "execution_count": 15,
   "metadata": {},
   "outputs": [
    {
     "name": "stdout",
     "output_type": "stream",
     "text": [
      "         *\n",
      "        ***\n",
      "       *****\n",
      "      *******\n",
      "     *********\n",
      "    ***********\n",
      "   *************\n",
      "  ***************\n",
      " *****************\n",
      "*******************\n"
     ]
    }
   ],
   "source": [
    "for var in range(1,11):\n",
    "    print(\" \"*(10-var),end='')\n",
    "    print(\"*\"*(var*2-1))"
   ]
  },
  {
   "cell_type": "code",
   "execution_count": 18,
   "metadata": {},
   "outputs": [
    {
     "name": "stdout",
     "output_type": "stream",
     "text": [
      "*     * * * *\n",
      "*     *\n",
      "*     *\n",
      "* * * * * * * \n",
      "      *     * \n",
      "      *     * \n",
      "* * * *     * \n"
     ]
    }
   ],
   "source": [
    "row=7\n",
    "col=7\n",
    "for i in range(row): \n",
    "        for j in range(col):  \n",
    "              \n",
    "            # checking if i < row/2 \n",
    "            if(i < row // 2):  \n",
    "                  \n",
    "                # checking if j<col/2 \n",
    "                if (j < col // 2):  \n",
    "                      \n",
    "                    # print '*' if j=0 \n",
    "                    if (j == 0): \n",
    "                        print(\"*\", end = \"\") \n",
    "                          \n",
    "                    # else print space \n",
    "                    else: \n",
    "                        print(\" \", end = \" \") \n",
    "                  \n",
    "                # check if j=col/2  \n",
    "                elif (j == col // 2): \n",
    "                    print(\" *\", end = \"\") \n",
    "                else: \n",
    "                      \n",
    "                    # if i=0 then first row will have '*' \n",
    "                    if (i == 0): \n",
    "                        print(\" *\", end = \"\") \n",
    "                          \n",
    "            elif (i == row // 2): \n",
    "                print(\"* \", end = \"\") \n",
    "            else:  \n",
    "                  \n",
    "                # middle column and last column will  \n",
    "                # have '*' after i > row/2 \n",
    "                if (j == col // 2 or j == col - 1): \n",
    "                    print(\"* \", end = \"\") \n",
    "                      \n",
    "                # last row \n",
    "                elif (i == row - 1):  \n",
    "                      \n",
    "                    # last row will be have '*' if  \n",
    "                    # j <= col/2 or if it is last column \n",
    "                    if (j <= col // 2 or j == col - 1): \n",
    "                        print(\"* \", end = \"\") \n",
    "                    else: \n",
    "                        print(\" \", end = \" \") \n",
    "                else: \n",
    "                    print(\" \", end = \" \") \n",
    "        print() \n",
    "          "
   ]
  },
  {
   "cell_type": "code",
   "execution_count": null,
   "metadata": {},
   "outputs": [],
   "source": []
  }
 ],
 "metadata": {
  "kernelspec": {
   "display_name": "Python 3",
   "language": "python",
   "name": "python3"
  },
  "language_info": {
   "codemirror_mode": {
    "name": "ipython",
    "version": 3
   },
   "file_extension": ".py",
   "mimetype": "text/x-python",
   "name": "python",
   "nbconvert_exporter": "python",
   "pygments_lexer": "ipython3",
   "version": "3.7.1"
  }
 },
 "nbformat": 4,
 "nbformat_minor": 2
}
