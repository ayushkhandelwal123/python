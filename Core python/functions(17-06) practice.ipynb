{
 "cells": [
  {
   "cell_type": "code",
   "execution_count": 1,
   "metadata": {},
   "outputs": [],
   "source": [
    "import socket"
   ]
  },
  {
   "cell_type": "code",
   "execution_count": 2,
   "metadata": {},
   "outputs": [
    {
     "data": {
      "text/plain": [
       "('Ayush', [], ['192.168.86.1'])"
      ]
     },
     "execution_count": 2,
     "metadata": {},
     "output_type": "execute_result"
    }
   ],
   "source": [
    "socket.gethostbyaddr(\"192.168.86.1\")"
   ]
  },
  {
   "cell_type": "code",
   "execution_count": null,
   "metadata": {},
   "outputs": [],
   "source": [
    "server = socket.socket()\n",
    "server.bind((\"192.168.86.1\",123))\n",
    "server.listen()\n",
    "\n",
    "\n",
    "client,addr = server.accept()\n",
    "\n",
    "print(\"Got a connection from client \",*addr)\n",
    "\n",
    "req = client.recv(1024).decode()\n",
    "\n",
    "print(\"Here is what client has requested \")\n",
    "\n",
    "print(req)\n",
    "\n",
    "resp = \"\"\"HTTP 200 OK\n",
    "Content-type:text/html\n",
    "\n",
    "\n",
    "<h1 style='color:red'>This is how internet works</h1>\"\"\"\n",
    "client.send(resp.encode())\n",
    "client.close()\n",
    "server.close()"
   ]
  },
  {
   "cell_type": "code",
   "execution_count": 1,
   "metadata": {},
   "outputs": [
    {
     "name": "stdout",
     "output_type": "stream",
     "text": [
      "p\n",
      "y\n",
      "t\n",
      "h\n",
      "o\n",
      "n\n"
     ]
    }
   ],
   "source": [
    "for var in 'python':\n",
    "    print(var)"
   ]
  },
  {
   "cell_type": "code",
   "execution_count": 3,
   "metadata": {},
   "outputs": [
    {
     "name": "stdout",
     "output_type": "stream",
     "text": [
      "hello world\n",
      "hello world\n",
      "hello world\n",
      "hello world\n",
      "hello world\n",
      "hello world\n",
      "hello world\n",
      "hello world\n",
      "hello world\n"
     ]
    }
   ],
   "source": [
    "for var in range(1,10):\n",
    "    var = var + 2\n",
    "    print(\"hello world\")"
   ]
  },
  {
   "cell_type": "code",
   "execution_count": 5,
   "metadata": {},
   "outputs": [
    {
     "name": "stdout",
     "output_type": "stream",
     "text": [
      "1\n",
      "2\n",
      "3\n",
      "hello\n"
     ]
    }
   ],
   "source": [
    "for var in[1,2,3,'hello']:\n",
    "    print(var)"
   ]
  },
  {
   "cell_type": "code",
   "execution_count": 6,
   "metadata": {},
   "outputs": [
    {
     "name": "stdout",
     "output_type": "stream",
     "text": [
      "('name', 'ayush')\n",
      "('age', 19)\n"
     ]
    }
   ],
   "source": [
    "for var in {'name':'ayush','age':19}.items():\n",
    "    print(var)"
   ]
  },
  {
   "cell_type": "code",
   "execution_count": 7,
   "metadata": {},
   "outputs": [],
   "source": [
    "import builtins"
   ]
  },
  {
   "cell_type": "code",
   "execution_count": 8,
   "metadata": {},
   "outputs": [
    {
     "name": "stdout",
     "output_type": "stream",
     "text": [
      "['ArithmeticError', 'AssertionError', 'AttributeError', 'BaseException', 'BlockingIOError', 'BrokenPipeError', 'BufferError', 'BytesWarning', 'ChildProcessError', 'ConnectionAbortedError', 'ConnectionError', 'ConnectionRefusedError', 'ConnectionResetError', 'DeprecationWarning', 'EOFError', 'Ellipsis', 'EnvironmentError', 'Exception', 'False', 'FileExistsError', 'FileNotFoundError', 'FloatingPointError', 'FutureWarning', 'GeneratorExit', 'IOError', 'ImportError', 'ImportWarning', 'IndentationError', 'IndexError', 'InterruptedError', 'IsADirectoryError', 'KeyError', 'KeyboardInterrupt', 'LookupError', 'MemoryError', 'ModuleNotFoundError', 'NameError', 'None', 'NotADirectoryError', 'NotImplemented', 'NotImplementedError', 'OSError', 'OverflowError', 'PendingDeprecationWarning', 'PermissionError', 'ProcessLookupError', 'RecursionError', 'ReferenceError', 'ResourceWarning', 'RuntimeError', 'RuntimeWarning', 'StopAsyncIteration', 'StopIteration', 'SyntaxError', 'SyntaxWarning', 'SystemError', 'SystemExit', 'TabError', 'TimeoutError', 'True', 'TypeError', 'UnboundLocalError', 'UnicodeDecodeError', 'UnicodeEncodeError', 'UnicodeError', 'UnicodeTranslateError', 'UnicodeWarning', 'UserWarning', 'ValueError', 'Warning', 'WindowsError', 'ZeroDivisionError', '__IPYTHON__', '__build_class__', '__debug__', '__doc__', '__import__', '__loader__', '__name__', '__package__', '__spec__', 'abs', 'all', 'any', 'ascii', 'bin', 'bool', 'breakpoint', 'bytearray', 'bytes', 'callable', 'chr', 'classmethod', 'compile', 'complex', 'copyright', 'credits', 'delattr', 'dict', 'dir', 'display', 'divmod', 'enumerate', 'eval', 'exec', 'filter', 'float', 'format', 'frozenset', 'get_ipython', 'getattr', 'globals', 'hasattr', 'hash', 'help', 'hex', 'id', 'input', 'int', 'isinstance', 'issubclass', 'iter', 'len', 'license', 'list', 'locals', 'map', 'max', 'memoryview', 'min', 'next', 'object', 'oct', 'open', 'ord', 'pow', 'print', 'property', 'range', 'repr', 'reversed', 'round', 'set', 'setattr', 'slice', 'sorted', 'staticmethod', 'str', 'sum', 'super', 'tuple', 'type', 'vars', 'zip']\n"
     ]
    }
   ],
   "source": [
    "print(dir(builtins))"
   ]
  },
  {
   "cell_type": "code",
   "execution_count": 9,
   "metadata": {},
   "outputs": [
    {
     "data": {
      "text/plain": [
       "5"
      ]
     },
     "execution_count": 9,
     "metadata": {},
     "output_type": "execute_result"
    }
   ],
   "source": [
    "abs(-5)"
   ]
  },
  {
   "cell_type": "code",
   "execution_count": 10,
   "metadata": {},
   "outputs": [
    {
     "data": {
      "text/plain": [
       "5"
      ]
     },
     "execution_count": 10,
     "metadata": {},
     "output_type": "execute_result"
    }
   ],
   "source": [
    "abs(5)"
   ]
  },
  {
   "cell_type": "code",
   "execution_count": 11,
   "metadata": {},
   "outputs": [
    {
     "data": {
      "text/plain": [
       "5.6"
      ]
     },
     "execution_count": 11,
     "metadata": {},
     "output_type": "execute_result"
    }
   ],
   "source": [
    "abs(5.6)"
   ]
  },
  {
   "cell_type": "code",
   "execution_count": 12,
   "metadata": {},
   "outputs": [
    {
     "data": {
      "text/plain": [
       "True"
      ]
     },
     "execution_count": 12,
     "metadata": {},
     "output_type": "execute_result"
    }
   ],
   "source": [
    "all([1,2,3,])"
   ]
  },
  {
   "cell_type": "code",
   "execution_count": 15,
   "metadata": {},
   "outputs": [
    {
     "data": {
      "text/plain": [
       "True"
      ]
     },
     "execution_count": 15,
     "metadata": {},
     "output_type": "execute_result"
    }
   ],
   "source": [
    "all([1,2,{'name':'ayush'}])"
   ]
  },
  {
   "cell_type": "code",
   "execution_count": 19,
   "metadata": {},
   "outputs": [
    {
     "data": {
      "text/plain": [
       "True"
      ]
     },
     "execution_count": 19,
     "metadata": {},
     "output_type": "execute_result"
    }
   ],
   "source": [
    "any([1,2,])"
   ]
  },
  {
   "cell_type": "code",
   "execution_count": 20,
   "metadata": {},
   "outputs": [
    {
     "name": "stdout",
     "output_type": "stream",
     "text": [
      "Return an ASCII-only representation of an object.\n",
      "\n",
      "As repr(), return a string containing a printable representation of an\n",
      "object, but escape the non-ASCII characters in the string returned by\n",
      "repr() using \\\\x, \\\\u or \\\\U escapes. This generates a string similar\n",
      "to that returned by repr() in Python 2.\n"
     ]
    }
   ],
   "source": [
    "print(ascii.__doc__)"
   ]
  },
  {
   "cell_type": "code",
   "execution_count": 21,
   "metadata": {},
   "outputs": [
    {
     "data": {
      "text/plain": [
       "'84'"
      ]
     },
     "execution_count": 21,
     "metadata": {},
     "output_type": "execute_result"
    }
   ],
   "source": [
    "ascii(84)"
   ]
  },
  {
   "cell_type": "code",
   "execution_count": 3,
   "metadata": {},
   "outputs": [
    {
     "data": {
      "text/plain": [
       "\"'A'\""
      ]
     },
     "execution_count": 3,
     "metadata": {},
     "output_type": "execute_result"
    }
   ],
   "source": [
    "a = 'A'\n",
    "ascii(a)"
   ]
  },
  {
   "cell_type": "code",
   "execution_count": 4,
   "metadata": {},
   "outputs": [
    {
     "data": {
      "text/plain": [
       "\"'A'\""
      ]
     },
     "execution_count": 4,
     "metadata": {},
     "output_type": "execute_result"
    }
   ],
   "source": [
    "ascii('A')"
   ]
  },
  {
   "cell_type": "code",
   "execution_count": 5,
   "metadata": {},
   "outputs": [
    {
     "data": {
      "text/plain": [
       "'0b10111'"
      ]
     },
     "execution_count": 5,
     "metadata": {},
     "output_type": "execute_result"
    }
   ],
   "source": [
    "bin(23)"
   ]
  },
  {
   "cell_type": "code",
   "execution_count": 6,
   "metadata": {},
   "outputs": [
    {
     "data": {
      "text/plain": [
       "'0b1110'"
      ]
     },
     "execution_count": 6,
     "metadata": {},
     "output_type": "execute_result"
    }
   ],
   "source": [
    "bin(14)"
   ]
  },
  {
   "cell_type": "code",
   "execution_count": 7,
   "metadata": {},
   "outputs": [
    {
     "data": {
      "text/plain": [
       "False"
      ]
     },
     "execution_count": 7,
     "metadata": {},
     "output_type": "execute_result"
    }
   ],
   "source": [
    "bool(0)"
   ]
  },
  {
   "cell_type": "code",
   "execution_count": 8,
   "metadata": {},
   "outputs": [
    {
     "data": {
      "text/plain": [
       "True"
      ]
     },
     "execution_count": 8,
     "metadata": {},
     "output_type": "execute_result"
    }
   ],
   "source": [
    "bool(1)"
   ]
  },
  {
   "cell_type": "code",
   "execution_count": 9,
   "metadata": {},
   "outputs": [
    {
     "data": {
      "text/plain": [
       "False"
      ]
     },
     "execution_count": 9,
     "metadata": {},
     "output_type": "execute_result"
    }
   ],
   "source": [
    "bool('')"
   ]
  },
  {
   "cell_type": "code",
   "execution_count": 10,
   "metadata": {},
   "outputs": [
    {
     "data": {
      "text/plain": [
       "True"
      ]
     },
     "execution_count": 10,
     "metadata": {},
     "output_type": "execute_result"
    }
   ],
   "source": [
    "bool(' ')"
   ]
  },
  {
   "cell_type": "code",
   "execution_count": 11,
   "metadata": {},
   "outputs": [
    {
     "name": "stdout",
     "output_type": "stream",
     "text": [
      "breakpoint(*args, **kws)\n",
      "\n",
      "Call sys.breakpointhook(*args, **kws).  sys.breakpointhook() must accept\n",
      "whatever arguments are passed.\n",
      "\n",
      "By default, this drops you into the pdb debugger.\n"
     ]
    }
   ],
   "source": [
    "print(breakpoint.__doc__)"
   ]
  },
  {
   "cell_type": "code",
   "execution_count": 12,
   "metadata": {},
   "outputs": [
    {
     "name": "stdout",
     "output_type": "stream",
     "text": [
      "Help on built-in function breakpoint in module builtins:\n",
      "\n",
      "breakpoint(...)\n",
      "    breakpoint(*args, **kws)\n",
      "    \n",
      "    Call sys.breakpointhook(*args, **kws).  sys.breakpointhook() must accept\n",
      "    whatever arguments are passed.\n",
      "    \n",
      "    By default, this drops you into the pdb debugger.\n",
      "\n"
     ]
    }
   ],
   "source": [
    "help(breakpoint)"
   ]
  },
  {
   "cell_type": "code",
   "execution_count": null,
   "metadata": {},
   "outputs": [
    {
     "name": "stdout",
     "output_type": "stream",
     "text": [
      "--Call--\n",
      "> c:\\users\\hp\\anaconda3\\lib\\site-packages\\ipython\\core\\displayhook.py(247)__call__()\n",
      "-> def __call__(self, result=None):\n"
     ]
    }
   ],
   "source": [
    "breakpoint()"
   ]
  },
  {
   "cell_type": "code",
   "execution_count": 1,
   "metadata": {},
   "outputs": [
    {
     "name": "stdout",
     "output_type": "stream",
     "text": [
      "bytearray(iterable_of_ints) -> bytearray\n",
      "bytearray(string, encoding[, errors]) -> bytearray\n",
      "bytearray(bytes_or_buffer) -> mutable copy of bytes_or_buffer\n",
      "bytearray(int) -> bytes array of size given by the parameter initialized with null bytes\n",
      "bytearray() -> empty bytes array\n",
      "\n",
      "Construct a mutable bytearray object from:\n",
      "  - an iterable yielding integers in range(256)\n",
      "  - a text string encoded using the specified encoding\n",
      "  - a bytes or a buffer object\n",
      "  - any object implementing the buffer API.\n",
      "  - an integer\n"
     ]
    }
   ],
   "source": [
    "print(bytearray.__doc__)"
   ]
  },
  {
   "cell_type": "code",
   "execution_count": 4,
   "metadata": {},
   "outputs": [
    {
     "name": "stdout",
     "output_type": "stream",
     "text": [
      "bytearray(b'')\n",
      "bytearray(b'\\x00')\n",
      "bytearray(b'\\x00\\x00')\n",
      "bytearray(b'\\x00\\x00\\x00')\n",
      "bytearray(b'\\x00\\x00\\x00\\x00')\n",
      "bytearray(b'\\x00\\x00\\x00\\x00\\x00')\n",
      "bytearray(b'\\x00\\x00\\x00\\x00\\x00\\x00')\n",
      "bytearray(b'\\x00\\x00\\x00\\x00\\x00\\x00\\x00')\n",
      "bytearray(b'\\x00\\x00\\x00\\x00\\x00\\x00\\x00\\x00')\n",
      "bytearray(b'\\x00\\x00\\x00\\x00\\x00\\x00\\x00\\x00\\x00')\n"
     ]
    }
   ],
   "source": [
    "for var in range(10):\n",
    "    print(bytearray(var))"
   ]
  },
  {
   "cell_type": "code",
   "execution_count": 5,
   "metadata": {},
   "outputs": [
    {
     "name": "stdout",
     "output_type": "stream",
     "text": [
      "bytearray(b'\\x00\\x00\\x00')\n"
     ]
    }
   ],
   "source": [
    "size = 3\n",
    "\n",
    "# will create an array of given size  \n",
    "# and initialize with null bytes\n",
    "array1 = bytearray(size)\n",
    "\n",
    "print(array1)"
   ]
  },
  {
   "cell_type": "code",
   "execution_count": 6,
   "metadata": {},
   "outputs": [
    {
     "name": "stdout",
     "output_type": "stream",
     "text": [
      "bytearray(b'hellopython')\n",
      "bytearray(b'\\xff\\xfeh\\x00e\\x00l\\x00l\\x00o\\x00p\\x00y\\x00t\\x00h\\x00o\\x00n\\x00')\n"
     ]
    }
   ],
   "source": [
    "str = \"hellopython\"\n",
    "  \n",
    "# encoding the string with unicode 8 and 16 \n",
    "array1 = bytearray(str, 'utf-8') \n",
    "array2 = bytearray(str, 'utf-16') \n",
    "  \n",
    "print(array1) \n",
    "print(array2) "
   ]
  },
  {
   "cell_type": "code",
   "execution_count": 9,
   "metadata": {},
   "outputs": [
    {
     "name": "stdout",
     "output_type": "stream",
     "text": [
      "97\n",
      "98\n",
      "99\n",
      "100\n",
      "Count of a is: 4\n"
     ]
    }
   ],
   "source": [
    "# Creates bytearray from byte literal \n",
    "arr1 = bytearray(b\"abcd\") \n",
    "  \n",
    "# iterating the value \n",
    "for value in arr1: \n",
    "    print(value) \n",
    "      \n",
    "# Create a bytearray object \n",
    "arr2 = bytearray(b\"aaaacccc\") \n",
    "  \n",
    "# count bytes from the buffer \n",
    "print(\"Count of a is:\", arr2.count(b\"a\")) "
   ]
  },
  {
   "cell_type": "code",
   "execution_count": 10,
   "metadata": {},
   "outputs": [
    {
     "name": "stdout",
     "output_type": "stream",
     "text": [
      "bytearray(b'\\x01\\x02\\x03\\x04')\n",
      "Count of bytes : 4\n"
     ]
    }
   ],
   "source": [
    "l = [1,2,3,4]\n",
    "\n",
    "arr = bytearray(l)\n",
    "\n",
    "print(arr)\n",
    "print(\"Count of bytes :\",len(arr))"
   ]
  },
  {
   "cell_type": "code",
   "execution_count": 12,
   "metadata": {},
   "outputs": [
    {
     "data": {
      "text/plain": [
       "'H'"
      ]
     },
     "execution_count": 12,
     "metadata": {},
     "output_type": "execute_result"
    }
   ],
   "source": [
    "chr(72)"
   ]
  },
  {
   "cell_type": "code",
   "execution_count": 13,
   "metadata": {},
   "outputs": [
    {
     "data": {
      "text/plain": [
       "99"
      ]
     },
     "execution_count": 13,
     "metadata": {},
     "output_type": "execute_result"
    }
   ],
   "source": [
    "ord('c')"
   ]
  },
  {
   "cell_type": "code",
   "execution_count": 14,
   "metadata": {},
   "outputs": [
    {
     "name": "stdout",
     "output_type": "stream",
     "text": [
      "bytes(iterable_of_ints) -> bytes\n",
      "bytes(string, encoding[, errors]) -> bytes\n",
      "bytes(bytes_or_buffer) -> immutable copy of bytes_or_buffer\n",
      "bytes(int) -> bytes object of size given by the parameter initialized with null bytes\n",
      "bytes() -> empty bytes object\n",
      "\n",
      "Construct an immutable array of bytes from:\n",
      "  - an iterable yielding integers in range(256)\n",
      "  - a text string encoded using the specified encoding\n",
      "  - any object implementing the buffer API.\n",
      "  - an integer\n"
     ]
    }
   ],
   "source": [
    "print(bytes.__doc__)"
   ]
  },
  {
   "cell_type": "code",
   "execution_count": 15,
   "metadata": {},
   "outputs": [
    {
     "name": "stdout",
     "output_type": "stream",
     "text": [
      "b'\\x01\\x02\\x03\\x04'\n",
      "Count of bytes : 4\n"
     ]
    }
   ],
   "source": [
    "l = [1,2,3,4]\n",
    "\n",
    "arr = bytes(l)\n",
    "\n",
    "print(arr)\n",
    "print(\"Count of bytes :\",len(arr))"
   ]
  },
  {
   "cell_type": "code",
   "execution_count": 16,
   "metadata": {},
   "outputs": [
    {
     "name": "stdout",
     "output_type": "stream",
     "text": [
      "Compile source into a code object that can be executed by exec() or eval().\n",
      "\n",
      "The source code may represent a Python module, statement or expression.\n",
      "The filename will be used for run-time error messages.\n",
      "The mode must be 'exec' to compile a module, 'single' to compile a\n",
      "single (interactive) statement, or 'eval' to compile an expression.\n",
      "The flags argument, if present, controls which future statements influence\n",
      "the compilation of the code.\n",
      "The dont_inherit argument, if true, stops the compilation inheriting\n",
      "the effects of any future statements in effect in the code calling\n",
      "compile; if absent or false these statements do influence the compilation,\n",
      "in addition to any features explicitly specified.\n"
     ]
    }
   ],
   "source": [
    "print(compile.__doc__)"
   ]
  },
  {
   "cell_type": "code",
   "execution_count": 17,
   "metadata": {},
   "outputs": [
    {
     "data": {
      "text/plain": [
       "'ayush'"
      ]
     },
     "execution_count": 17,
     "metadata": {},
     "output_type": "execute_result"
    }
   ],
   "source": [
    "eval(\"'ayush'\")"
   ]
  },
  {
   "cell_type": "code",
   "execution_count": 18,
   "metadata": {},
   "outputs": [
    {
     "data": {
      "text/plain": [
       "<function compile(source, filename, mode, flags=0, dont_inherit=False, optimize=-1)>"
      ]
     },
     "execution_count": 18,
     "metadata": {},
     "output_type": "execute_result"
    }
   ],
   "source": [
    "compile"
   ]
  },
  {
   "cell_type": "code",
   "execution_count": 19,
   "metadata": {},
   "outputs": [],
   "source": [
    "a = 5"
   ]
  },
  {
   "cell_type": "code",
   "execution_count": 22,
   "metadata": {},
   "outputs": [
    {
     "data": {
      "text/plain": [
       "<function delattr(obj, name, /)>"
      ]
     },
     "execution_count": 22,
     "metadata": {},
     "output_type": "execute_result"
    }
   ],
   "source": [
    "delattr"
   ]
  },
  {
   "cell_type": "code",
   "execution_count": 23,
   "metadata": {},
   "outputs": [],
   "source": [
    "del a"
   ]
  },
  {
   "cell_type": "code",
   "execution_count": 24,
   "metadata": {},
   "outputs": [
    {
     "ename": "NameError",
     "evalue": "name 'a' is not defined",
     "output_type": "error",
     "traceback": [
      "\u001b[1;31m---------------------------------------------------------------------------\u001b[0m",
      "\u001b[1;31mNameError\u001b[0m                                 Traceback (most recent call last)",
      "\u001b[1;32m<ipython-input-24-3f786850e387>\u001b[0m in \u001b[0;36m<module>\u001b[1;34m\u001b[0m\n\u001b[1;32m----> 1\u001b[1;33m \u001b[0ma\u001b[0m\u001b[1;33m\u001b[0m\u001b[1;33m\u001b[0m\u001b[0m\n\u001b[0m",
      "\u001b[1;31mNameError\u001b[0m: name 'a' is not defined"
     ]
    }
   ],
   "source": [
    "a"
   ]
  },
  {
   "cell_type": "code",
   "execution_count": 25,
   "metadata": {},
   "outputs": [],
   "source": [
    "def hello():\n",
    "    print(\"hello world\")"
   ]
  },
  {
   "cell_type": "code",
   "execution_count": 26,
   "metadata": {},
   "outputs": [
    {
     "data": {
      "text/plain": [
       "True"
      ]
     },
     "execution_count": 26,
     "metadata": {},
     "output_type": "execute_result"
    }
   ],
   "source": [
    "callable(hello)"
   ]
  },
  {
   "cell_type": "code",
   "execution_count": 27,
   "metadata": {},
   "outputs": [
    {
     "name": "stdout",
     "output_type": "stream",
     "text": [
      "Copyright (c) 2001-2018 Python Software Foundation.\n",
      "All Rights Reserved.\n",
      "\n",
      "Copyright (c) 2000 BeOpen.com.\n",
      "All Rights Reserved.\n",
      "\n",
      "Copyright (c) 1995-2001 Corporation for National Research Initiatives.\n",
      "All Rights Reserved.\n",
      "\n",
      "Copyright (c) 1991-1995 Stichting Mathematisch Centrum, Amsterdam.\n",
      "All Rights Reserved.\n"
     ]
    }
   ],
   "source": [
    "copyright()"
   ]
  },
  {
   "cell_type": "code",
   "execution_count": 28,
   "metadata": {},
   "outputs": [
    {
     "name": "stdout",
     "output_type": "stream",
     "text": [
      "    Thanks to CWI, CNRI, BeOpen.com, Zope Corporation and a cast of thousands\n",
      "    for supporting Python development.  See www.python.org for more information.\n"
     ]
    }
   ],
   "source": [
    "credits()"
   ]
  },
  {
   "cell_type": "code",
   "execution_count": 29,
   "metadata": {},
   "outputs": [
    {
     "data": {
      "text/plain": [
       "'hello'"
      ]
     },
     "metadata": {},
     "output_type": "display_data"
    }
   ],
   "source": [
    "display(\"hello\")"
   ]
  },
  {
   "cell_type": "code",
   "execution_count": 30,
   "metadata": {},
   "outputs": [
    {
     "name": "stdout",
     "output_type": "stream",
     "text": [
      "hello world\n"
     ]
    }
   ],
   "source": [
    "hello()"
   ]
  },
  {
   "cell_type": "code",
   "execution_count": 34,
   "metadata": {},
   "outputs": [
    {
     "name": "stdout",
     "output_type": "stream",
     "text": [
      "(1, 'p') (2, 'y') (3, 't') (4, 'h') (5, 'o') (6, 'n')\n"
     ]
    }
   ],
   "source": [
    "print(*enumerate('python',start=1))"
   ]
  },
  {
   "cell_type": "code",
   "execution_count": 35,
   "metadata": {},
   "outputs": [
    {
     "name": "stdout",
     "output_type": "stream",
     "text": [
      "filter(function or None, iterable) --> filter object\n",
      "\n",
      "Return an iterator yielding those items of iterable for which function(item)\n",
      "is true. If function is None, return the items that are true.\n"
     ]
    }
   ],
   "source": [
    "print(filter.__doc__)"
   ]
  },
  {
   "cell_type": "code",
   "execution_count": 40,
   "metadata": {},
   "outputs": [],
   "source": [
    "def fun(a):\n",
    "    return a"
   ]
  },
  {
   "cell_type": "code",
   "execution_count": 41,
   "metadata": {},
   "outputs": [
    {
     "data": {
      "text/plain": [
       "'hello'"
      ]
     },
     "execution_count": 41,
     "metadata": {},
     "output_type": "execute_result"
    }
   ],
   "source": [
    "fun(\"hello\")"
   ]
  },
  {
   "cell_type": "code",
   "execution_count": 42,
   "metadata": {},
   "outputs": [
    {
     "data": {
      "text/plain": [
       "<filter at 0x239aa1d0b38>"
      ]
     },
     "execution_count": 42,
     "metadata": {},
     "output_type": "execute_result"
    }
   ],
   "source": [
    "filter(fun,'hello')"
   ]
  },
  {
   "cell_type": "code",
   "execution_count": 43,
   "metadata": {},
   "outputs": [
    {
     "data": {
      "text/plain": [
       "<ipykernel.zmqshell.ZMQInteractiveShell at 0x239a93f2208>"
      ]
     },
     "execution_count": 43,
     "metadata": {},
     "output_type": "execute_result"
    }
   ],
   "source": [
    "get_ipython()"
   ]
  },
  {
   "cell_type": "code",
   "execution_count": 47,
   "metadata": {},
   "outputs": [
    {
     "data": {
      "text/plain": [
       "1"
      ]
     },
     "execution_count": 47,
     "metadata": {},
     "output_type": "execute_result"
    }
   ],
   "source": [
    "s = 1\n",
    "hash(s)"
   ]
  },
  {
   "cell_type": "code",
   "execution_count": 1,
   "metadata": {},
   "outputs": [],
   "source": [
    "class Rectangle:\n",
    "    def __init__(self,height,width,color,pos=[0,0]):\n",
    "        self.height = height\n",
    "        self.width = width\n",
    "        self.color = color\n",
    "        self.pos = pos\n",
    "    def change(self):\n",
    "        self.height = int(input(\"Height : \"))\n",
    "        self.width = int(input(\"Width : \"))\n",
    "        self.color = input(\"Color : \")\n",
    "        self.pos = list(map(int,input().split()))"
   ]
  },
  {
   "cell_type": "code",
   "execution_count": 3,
   "metadata": {},
   "outputs": [],
   "source": [
    "r1 = Rectangle(10,12,'blue')"
   ]
  },
  {
   "cell_type": "code",
   "execution_count": 4,
   "metadata": {},
   "outputs": [
    {
     "data": {
      "text/plain": [
       "'blue'"
      ]
     },
     "execution_count": 4,
     "metadata": {},
     "output_type": "execute_result"
    }
   ],
   "source": [
    "getattr(r1,'color')"
   ]
  },
  {
   "cell_type": "code",
   "execution_count": 5,
   "metadata": {},
   "outputs": [
    {
     "data": {
      "text/plain": [
       "True"
      ]
     },
     "execution_count": 5,
     "metadata": {},
     "output_type": "execute_result"
    }
   ],
   "source": [
    "hasattr(r1,'height')"
   ]
  },
  {
   "cell_type": "code",
   "execution_count": 7,
   "metadata": {},
   "outputs": [],
   "source": [
    "setattr(r1,'name','Ayush')"
   ]
  },
  {
   "cell_type": "code",
   "execution_count": 8,
   "metadata": {},
   "outputs": [
    {
     "data": {
      "text/plain": [
       "True"
      ]
     },
     "execution_count": 8,
     "metadata": {},
     "output_type": "execute_result"
    }
   ],
   "source": [
    "hasattr(r1,'name')"
   ]
  },
  {
   "cell_type": "code",
   "execution_count": 9,
   "metadata": {},
   "outputs": [
    {
     "data": {
      "text/plain": [
       "'Ayush'"
      ]
     },
     "execution_count": 9,
     "metadata": {},
     "output_type": "execute_result"
    }
   ],
   "source": [
    "r1.name"
   ]
  },
  {
   "cell_type": "code",
   "execution_count": 11,
   "metadata": {},
   "outputs": [
    {
     "data": {
      "text/plain": [
       "{'__name__': '__main__',\n",
       " '__doc__': 'Automatically created module for IPython interactive environment',\n",
       " '__package__': None,\n",
       " '__loader__': None,\n",
       " '__spec__': None,\n",
       " '__builtin__': <module 'builtins' (built-in)>,\n",
       " '__builtins__': <module 'builtins' (built-in)>,\n",
       " '_ih': ['',\n",
       "  'class Rectangle:\\n    def __init__(self,height,width,color,pos=[0,0]):\\n        self.height = height\\n        self.width = width\\n        self.color = color\\n        self.pos = pos\\n    def change(self):\\n        self.height = int(input(\"Height : \"))\\n        self.width = int(input(\"Width : \"))\\n        self.color = input(\"Color : \")\\n        self.pos = list(map(int,input().split()))',\n",
       "  \"r1 = Rectangle(10.12,'blue')\",\n",
       "  \"r1 = Rectangle(10,12,'blue')\",\n",
       "  \"getattr(r1,'color')\",\n",
       "  \"hasattr(r1,'height')\",\n",
       "  \"setattr(r1,'name')\",\n",
       "  \"setattr(r1,'name','Ayush')\",\n",
       "  \"hasattr(r1,'name')\",\n",
       "  'r1.name',\n",
       "  'globals',\n",
       "  'globals()'],\n",
       " '_oh': {4: 'blue', 5: True, 8: True, 9: 'Ayush', 10: <function globals()>},\n",
       " '_dh': ['C:\\\\Users\\\\HP'],\n",
       " 'In': ['',\n",
       "  'class Rectangle:\\n    def __init__(self,height,width,color,pos=[0,0]):\\n        self.height = height\\n        self.width = width\\n        self.color = color\\n        self.pos = pos\\n    def change(self):\\n        self.height = int(input(\"Height : \"))\\n        self.width = int(input(\"Width : \"))\\n        self.color = input(\"Color : \")\\n        self.pos = list(map(int,input().split()))',\n",
       "  \"r1 = Rectangle(10.12,'blue')\",\n",
       "  \"r1 = Rectangle(10,12,'blue')\",\n",
       "  \"getattr(r1,'color')\",\n",
       "  \"hasattr(r1,'height')\",\n",
       "  \"setattr(r1,'name')\",\n",
       "  \"setattr(r1,'name','Ayush')\",\n",
       "  \"hasattr(r1,'name')\",\n",
       "  'r1.name',\n",
       "  'globals',\n",
       "  'globals()'],\n",
       " 'Out': {4: 'blue', 5: True, 8: True, 9: 'Ayush', 10: <function globals()>},\n",
       " 'get_ipython': <bound method InteractiveShell.get_ipython of <ipykernel.zmqshell.ZMQInteractiveShell object at 0x0000015C880105F8>>,\n",
       " 'exit': <IPython.core.autocall.ZMQExitAutocall at 0x15c88b769e8>,\n",
       " 'quit': <IPython.core.autocall.ZMQExitAutocall at 0x15c88b769e8>,\n",
       " '_': <function globals()>,\n",
       " '__': 'Ayush',\n",
       " '___': True,\n",
       " '_i': 'globals',\n",
       " '_ii': 'r1.name',\n",
       " '_iii': \"hasattr(r1,'name')\",\n",
       " '_i1': 'class Rectangle:\\n    def __init__(self,height,width,color,pos=[0,0]):\\n        self.height = height\\n        self.width = width\\n        self.color = color\\n        self.pos = pos\\n    def change(self):\\n        self.height = int(input(\"Height : \"))\\n        self.width = int(input(\"Width : \"))\\n        self.color = input(\"Color : \")\\n        self.pos = list(map(int,input().split()))',\n",
       " 'Rectangle': __main__.Rectangle,\n",
       " '_i2': \"r1 = Rectangle(10.12,'blue')\",\n",
       " '_i3': \"r1 = Rectangle(10,12,'blue')\",\n",
       " 'r1': <__main__.Rectangle at 0x15c8900eba8>,\n",
       " '_i4': \"getattr(r1,'color')\",\n",
       " '_4': 'blue',\n",
       " '_i5': \"hasattr(r1,'height')\",\n",
       " '_5': True,\n",
       " '_i6': \"setattr(r1,'name')\",\n",
       " '_i7': \"setattr(r1,'name','Ayush')\",\n",
       " '_i8': \"hasattr(r1,'name')\",\n",
       " '_8': True,\n",
       " '_i9': 'r1.name',\n",
       " '_9': 'Ayush',\n",
       " '_i10': 'globals',\n",
       " '_10': <function globals()>,\n",
       " '_i11': 'globals()'}"
      ]
     },
     "execution_count": 11,
     "metadata": {},
     "output_type": "execute_result"
    }
   ],
   "source": [
    "globals()"
   ]
  },
  {
   "cell_type": "code",
   "execution_count": 12,
   "metadata": {},
   "outputs": [
    {
     "data": {
      "text/plain": [
       "True"
      ]
     },
     "execution_count": 12,
     "metadata": {},
     "output_type": "execute_result"
    }
   ],
   "source": [
    "globals() == locals()"
   ]
  },
  {
   "cell_type": "code",
   "execution_count": 13,
   "metadata": {},
   "outputs": [
    {
     "data": {
      "text/plain": [
       "{'__name__': '__main__',\n",
       " '__doc__': 'Automatically created module for IPython interactive environment',\n",
       " '__package__': None,\n",
       " '__loader__': None,\n",
       " '__spec__': None,\n",
       " '__builtin__': <module 'builtins' (built-in)>,\n",
       " '__builtins__': <module 'builtins' (built-in)>,\n",
       " '_ih': ['',\n",
       "  'class Rectangle:\\n    def __init__(self,height,width,color,pos=[0,0]):\\n        self.height = height\\n        self.width = width\\n        self.color = color\\n        self.pos = pos\\n    def change(self):\\n        self.height = int(input(\"Height : \"))\\n        self.width = int(input(\"Width : \"))\\n        self.color = input(\"Color : \")\\n        self.pos = list(map(int,input().split()))',\n",
       "  \"r1 = Rectangle(10.12,'blue')\",\n",
       "  \"r1 = Rectangle(10,12,'blue')\",\n",
       "  \"getattr(r1,'color')\",\n",
       "  \"hasattr(r1,'height')\",\n",
       "  \"setattr(r1,'name')\",\n",
       "  \"setattr(r1,'name','Ayush')\",\n",
       "  \"hasattr(r1,'name')\",\n",
       "  'r1.name',\n",
       "  'globals',\n",
       "  'globals()',\n",
       "  'globals() == locals()',\n",
       "  'locals()'],\n",
       " '_oh': {4: 'blue',\n",
       "  5: True,\n",
       "  8: True,\n",
       "  9: 'Ayush',\n",
       "  10: <function globals()>,\n",
       "  11: {...},\n",
       "  12: True},\n",
       " '_dh': ['C:\\\\Users\\\\HP'],\n",
       " 'In': ['',\n",
       "  'class Rectangle:\\n    def __init__(self,height,width,color,pos=[0,0]):\\n        self.height = height\\n        self.width = width\\n        self.color = color\\n        self.pos = pos\\n    def change(self):\\n        self.height = int(input(\"Height : \"))\\n        self.width = int(input(\"Width : \"))\\n        self.color = input(\"Color : \")\\n        self.pos = list(map(int,input().split()))',\n",
       "  \"r1 = Rectangle(10.12,'blue')\",\n",
       "  \"r1 = Rectangle(10,12,'blue')\",\n",
       "  \"getattr(r1,'color')\",\n",
       "  \"hasattr(r1,'height')\",\n",
       "  \"setattr(r1,'name')\",\n",
       "  \"setattr(r1,'name','Ayush')\",\n",
       "  \"hasattr(r1,'name')\",\n",
       "  'r1.name',\n",
       "  'globals',\n",
       "  'globals()',\n",
       "  'globals() == locals()',\n",
       "  'locals()'],\n",
       " 'Out': {4: 'blue',\n",
       "  5: True,\n",
       "  8: True,\n",
       "  9: 'Ayush',\n",
       "  10: <function globals()>,\n",
       "  11: {...},\n",
       "  12: True},\n",
       " 'get_ipython': <bound method InteractiveShell.get_ipython of <ipykernel.zmqshell.ZMQInteractiveShell object at 0x0000015C880105F8>>,\n",
       " 'exit': <IPython.core.autocall.ZMQExitAutocall at 0x15c88b769e8>,\n",
       " 'quit': <IPython.core.autocall.ZMQExitAutocall at 0x15c88b769e8>,\n",
       " '_': True,\n",
       " '__': {...},\n",
       " '___': <function globals()>,\n",
       " '_i': 'globals() == locals()',\n",
       " '_ii': 'globals()',\n",
       " '_iii': 'globals',\n",
       " '_i1': 'class Rectangle:\\n    def __init__(self,height,width,color,pos=[0,0]):\\n        self.height = height\\n        self.width = width\\n        self.color = color\\n        self.pos = pos\\n    def change(self):\\n        self.height = int(input(\"Height : \"))\\n        self.width = int(input(\"Width : \"))\\n        self.color = input(\"Color : \")\\n        self.pos = list(map(int,input().split()))',\n",
       " 'Rectangle': __main__.Rectangle,\n",
       " '_i2': \"r1 = Rectangle(10.12,'blue')\",\n",
       " '_i3': \"r1 = Rectangle(10,12,'blue')\",\n",
       " 'r1': <__main__.Rectangle at 0x15c8900eba8>,\n",
       " '_i4': \"getattr(r1,'color')\",\n",
       " '_4': 'blue',\n",
       " '_i5': \"hasattr(r1,'height')\",\n",
       " '_5': True,\n",
       " '_i6': \"setattr(r1,'name')\",\n",
       " '_i7': \"setattr(r1,'name','Ayush')\",\n",
       " '_i8': \"hasattr(r1,'name')\",\n",
       " '_8': True,\n",
       " '_i9': 'r1.name',\n",
       " '_9': 'Ayush',\n",
       " '_i10': 'globals',\n",
       " '_10': <function globals()>,\n",
       " '_i11': 'globals()',\n",
       " '_11': {...},\n",
       " '_i12': 'globals() == locals()',\n",
       " '_12': True,\n",
       " '_i13': 'locals()'}"
      ]
     },
     "execution_count": 13,
     "metadata": {},
     "output_type": "execute_result"
    }
   ],
   "source": [
    "locals()"
   ]
  },
  {
   "cell_type": "code",
   "execution_count": 14,
   "metadata": {},
   "outputs": [
    {
     "data": {
      "text/plain": [
       "'0x19'"
      ]
     },
     "execution_count": 14,
     "metadata": {},
     "output_type": "execute_result"
    }
   ],
   "source": [
    "hex(25)"
   ]
  },
  {
   "cell_type": "code",
   "execution_count": 16,
   "metadata": {},
   "outputs": [
    {
     "data": {
      "text/plain": [
       "'0x7b'"
      ]
     },
     "execution_count": 16,
     "metadata": {},
     "output_type": "execute_result"
    }
   ],
   "source": [
    "hex(123)"
   ]
  },
  {
   "cell_type": "code",
   "execution_count": 17,
   "metadata": {},
   "outputs": [
    {
     "name": "stdout",
     "output_type": "stream",
     "text": [
      "ayush\n"
     ]
    }
   ],
   "source": [
    "a =input()"
   ]
  },
  {
   "cell_type": "code",
   "execution_count": 19,
   "metadata": {},
   "outputs": [
    {
     "name": "stdout",
     "output_type": "stream",
     "text": [
      "('a', 'm') ('y', 'o') ('u', 'h') ('s', 'i') ('h', 't')\n"
     ]
    }
   ],
   "source": [
    "s1 = 'ayush'\n",
    "s2 = 'mohit'\n",
    "print(*zip(s1,s2))"
   ]
  },
  {
   "cell_type": "code",
   "execution_count": 18,
   "metadata": {},
   "outputs": [
    {
     "name": "stdout",
     "output_type": "stream",
     "text": [
      "zip(iter1 [,iter2 [...]]) --> zip object\n",
      "\n",
      "Return a zip object whose .__next__() method returns a tuple where\n",
      "the i-th element comes from the i-th iterable argument.  The .__next__()\n",
      "method continues until the shortest iterable in the argument sequence\n",
      "is exhausted and then it raises StopIteration.\n"
     ]
    }
   ],
   "source": [
    "print(zip.__doc__)"
   ]
  },
  {
   "cell_type": "code",
   "execution_count": 22,
   "metadata": {},
   "outputs": [
    {
     "name": "stdout",
     "output_type": "stream",
     "text": [
      "1,2,3\n",
      "['1', '2', '3']\n"
     ]
    },
    {
     "data": {
      "text/plain": [
       "list"
      ]
     },
     "execution_count": 22,
     "metadata": {},
     "output_type": "execute_result"
    }
   ],
   "source": [
    "l = input().split(\",\")\n",
    "print(l)\n",
    "type(l)"
   ]
  },
  {
   "cell_type": "code",
   "execution_count": 23,
   "metadata": {},
   "outputs": [
    {
     "name": "stdout",
     "output_type": "stream",
     "text": [
      "Property attribute.\n",
      "\n",
      "  fget\n",
      "    function to be used for getting an attribute value\n",
      "  fset\n",
      "    function to be used for setting an attribute value\n",
      "  fdel\n",
      "    function to be used for del'ing an attribute\n",
      "  doc\n",
      "    docstring\n",
      "\n",
      "Typical use is to define a managed attribute x:\n",
      "\n",
      "class C(object):\n",
      "    def getx(self): return self._x\n",
      "    def setx(self, value): self._x = value\n",
      "    def delx(self): del self._x\n",
      "    x = property(getx, setx, delx, \"I'm the 'x' property.\")\n",
      "\n",
      "Decorators make defining new properties or modifying existing ones easy:\n",
      "\n",
      "class C(object):\n",
      "    @property\n",
      "    def x(self):\n",
      "        \"I am the 'x' property.\"\n",
      "        return self._x\n",
      "    @x.setter\n",
      "    def x(self, value):\n",
      "        self._x = value\n",
      "    @x.deleter\n",
      "    def x(self):\n",
      "        del self._x\n"
     ]
    }
   ],
   "source": [
    "print(property.__doc__)"
   ]
  },
  {
   "cell_type": "code",
   "execution_count": null,
   "metadata": {},
   "outputs": [],
   "source": []
  }
 ],
 "metadata": {
  "kernelspec": {
   "display_name": "Python 3",
   "language": "python",
   "name": "python3"
  },
  "language_info": {
   "codemirror_mode": {
    "name": "ipython",
    "version": 3
   },
   "file_extension": ".py",
   "mimetype": "text/x-python",
   "name": "python",
   "nbconvert_exporter": "python",
   "pygments_lexer": "ipython3",
   "version": "3.7.1"
  }
 },
 "nbformat": 4,
 "nbformat_minor": 2
}
