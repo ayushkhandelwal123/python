{
 "cells": [
  {
   "cell_type": "code",
   "execution_count": 1,
   "metadata": {},
   "outputs": [
    {
     "name": "stdout",
     "output_type": "stream",
     "text": [
      "Writing one.py\n"
     ]
    }
   ],
   "source": [
    "%%writefile one.py\n",
    "#this is a python script\n",
    "import time\n",
    "print(\"Welcome at \",time.ctime())\n",
    "s = \"\"\"     Hello--world--how--are--you--?      \"\"\"\n",
    "print(\"before processing \",s)\n",
    "s = s.strip() # leading and traling spaces are trimmed \n",
    "print(\"After strip \",s)\n",
    "# \"Hello--world--how--are--you--?\"\n",
    "s = s.split(\"--\") # [ \"Hello\",\"world\",\"how\",\"are\",\"you\",\"?\"]\n",
    "print(\"After Split \",s)\n",
    "s = s[::-1] # [\"?\",\"you\",\"are\",\"how\",\"world\",\"Hello\"]\n",
    "print(\"After Reversing \",s)\n",
    "s = \" \".join(s)\n",
    "print(\"final outupt = \",s)"
   ]
  },
  {
   "cell_type": "code",
   "execution_count": 6,
   "metadata": {},
   "outputs": [
    {
     "name": "stdout",
     "output_type": "stream",
     "text": [
      " Volume in drive C is Windows\n",
      " Volume Serial Number is 68F7-7C84\n",
      "\n",
      " Directory of C:\\Users\\HP\n",
      "\n",
      "11-06-2019  10:13    <DIR>          .\n",
      "11-06-2019  10:13    <DIR>          ..\n",
      "18-02-2019  19:07    <DIR>          .anaconda\n",
      "26-01-2019  19:02             1,442 .bash_history\n",
      "09-03-2019  16:16    <DIR>          .conda\n",
      "09-03-2019  15:02                43 .condarc\n",
      "26-01-2019  18:53                45 .gitconfig\n",
      "21-02-2019  18:17    <DIR>          .idlerc\n",
      "11-06-2019  10:10    <DIR>          .ipynb_checkpoints\n",
      "29-01-2019  18:37    <DIR>          .ipython\n",
      "31-01-2019  15:58    <DIR>          .jupyter\n",
      "10-04-2019  19:12    <DIR>          .matplotlib\n",
      "10-04-2019  19:52    <DIR>          .spyder-py3\n",
      "26-01-2019  19:02               764 .viminfo\n",
      "18-02-2019  17:33    <DIR>          __pycache__\n",
      "07-06-2019  13:19            20,595 05-06.ipynb\n",
      "07-06-2019  09:43            14,340 06-06.ipynb\n",
      "10-06-2019  16:58            38,042 07-06.ipynb\n",
      "10-04-2019  14:30            20,687 09-04-2019.ipynb\n",
      "11-06-2019  10:13             8,161 10-06(2).ipynb\n",
      "10-06-2019  17:58            26,708 10-06.ipynb\n",
      "15-04-2019  17:27             2,944 15-4-19.ipynb\n",
      "30-05-2019  09:59             5,923 30-05-19.ipynb\n",
      "31-05-2019  09:56             9,174 31-05.ipynb\n",
      "09-02-2019  18:15    <DIR>          3D Objects\n",
      "04-06-2019  09:50             3,656 4-6.ipynb\n",
      "07-06-2019  10:16               197 abc.py\n",
      "29-01-2019  18:31    <DIR>          Anaconda3\n",
      "04-06-2019  19:34             8,612 assign-9.ipynb\n",
      "11-04-2019  13:53             7,886 assignment 1-2-3.ipynb\n",
      "11-04-2019  14:39            12,318 assignment 8.ipynb\n",
      "11-04-2019  14:08             3,619 assignment-4.ipynb\n",
      "13-04-2019  13:55             3,504 Assignment-6.ipynb\n",
      "11-04-2019  14:37             8,984 assignment7.ipynb\n",
      "11-04-2019  14:40            19,440 assignment9.ipynb\n",
      "26-01-2019  18:41    <DIR>          ayush\n",
      "07-06-2019  11:02               147 ayush.py\n",
      "10-04-2019  21:35            23,123 Bank application.ipynb\n",
      "12-04-2019  13:59               344 Bank.json\n",
      "12-04-2019  14:10            45,994 bankapp.ipynb\n",
      "07-06-2019  10:52               202 c.py\n",
      "07-06-2019  11:08               957 car1.py\n",
      "15-04-2019  14:51            27,108 classes.ipynb\n",
      "18-03-2019  17:00             3,211 Cont.ipynb\n",
      "09-02-2019  18:15    <DIR>          Contacts\n",
      "25-03-2019  16:43             1,206 continue.ipynb\n",
      "09-06-2019  11:22    <DIR>          Desktop\n",
      "06-06-2019  16:16    <DIR>          Documents\n",
      "11-06-2019  10:06    <DIR>          Downloads\n",
      "09-02-2019  18:15    <DIR>          Favorites\n",
      "29-03-2019  16:08             6,735 functions in python.ipynb\n",
      "31-03-2019  10:28            59,919 functions.ipynb\n",
      "14-03-2019  17:50               555 game.ipynb\n",
      "04-04-2019  16:33                20 h.py\n",
      "12-04-2019  14:07               344 hii.json\n",
      "16-04-2019  17:36             2,439 inheritance.ipynb\n",
      "09-02-2019  18:15    <DIR>          Links\n",
      "29-03-2019  16:31               555 list functions.ipynb\n",
      "29-03-2019  16:27               555 list functions.py\n",
      "17-02-2019  17:50               555 module.ipynb\n",
      "17-02-2019  18:18               555 module.py\n",
      "26-01-2019  19:26    <DIR>          mohit\n",
      "09-02-2019  18:15    <DIR>          Music\n",
      "11-06-2019  10:10               492 one.py\n",
      "09-02-2019  18:19    <DIR>          OneDrive\n",
      "18-03-2019  15:30            10,615 operators.ipynb\n",
      "06-06-2019  14:10                75 pat1.txt\n",
      "20-04-2019  20:58    <DIR>          Pictures\n",
      "21-02-2019  18:15                 0 pip\n",
      "10-06-2019  21:35            24,682 practice datatype.ipynb\n",
      "07-06-2019  09:49            34,018 practice1.ipynb\n",
      "17-02-2019  17:47    <DIR>          Python 3.7\n",
      "17-02-2019  18:00        25,365,744 python-3.7.2.exe\n",
      "09-02-2019  18:15    <DIR>          Saved Games\n",
      "09-02-2019  18:15    <DIR>          Searches\n",
      "02-04-2019  18:53            15,631 special functions.ipynb\n",
      "24-12-2018  15:29    <DIR>          test\n",
      "15-02-2019  13:21             1,383 test.ipynb\n",
      "08-02-2019  18:00            19,925 test1.ipynb\n",
      "12-04-2019  13:12                32 test1.pkl\n",
      "06-04-2019  10:35            31,413 test2.ipynb\n",
      "16-02-2019  17:00             1,650 test3.ipynb\n",
      "04-06-2019  19:23             8,557 test4.ipynb\n",
      "17-02-2019  17:54             9,855 test4.py\n",
      "31-03-2019  10:30            65,413 test5.ipynb\n",
      "29-01-2019  18:39               800 Untitled.ipynb\n",
      "15-04-2019  16:18                72 Untitled1.ipynb\n",
      "27-03-2019  14:08            53,227 Untitled13.ipynb\n",
      "01-04-2019  22:18             7,199 Untitled14.ipynb\n",
      "02-04-2019  18:53             6,120 Untitled15.ipynb\n",
      "30-05-2019  08:27               555 Untitled16.ipynb\n",
      "31-05-2019  08:12                72 Untitled17.ipynb\n",
      "04-06-2019  08:44             2,170 Untitled18.ipynb\n",
      "04-06-2019  16:41                72 Untitled19.ipynb\n",
      "03-02-2019  02:00             2,462 Untitled2.ipynb\n",
      "06-06-2019  13:04               555 Untitled20.ipynb\n",
      "08-02-2019  18:09             2,519 Untitled3.ipynb\n",
      "14-02-2019  18:09                72 Untitled4.ipynb\n",
      "14-02-2019  18:18                72 Untitled5.ipynb\n",
      "17-02-2019  17:50                72 Untitled6.ipynb\n",
      "17-02-2019  18:07                72 Untitled7.ipynb\n",
      "14-03-2019  20:38                72 Untitled8.ipynb\n",
      "26-03-2019  16:02               555 Untitled9.ipynb\n",
      "09-02-2019  18:15    <DIR>          Videos\n",
      "              75 File(s)     26,057,831 bytes\n",
      "              29 Dir(s)  44,126,216,192 bytes free\n"
     ]
    }
   ],
   "source": [
    "ls"
   ]
  },
  {
   "cell_type": "code",
   "execution_count": 4,
   "metadata": {},
   "outputs": [
    {
     "name": "stdout",
     "output_type": "stream",
     "text": [
      "Welcome at  Tue Jun 11 10:13:37 2019\n",
      "before processing       Hello--world--how--are--you--?      \n",
      "After strip  Hello--world--how--are--you--?\n",
      "After Split  ['Hello', 'world', 'how', 'are', 'you', '?']\n",
      "After Reversing  ['?', 'you', 'are', 'how', 'world', 'Hello']\n",
      "final outupt =  ? you are how world Hello\n"
     ]
    }
   ],
   "source": [
    "!python one.py"
   ]
  },
  {
   "cell_type": "markdown",
   "metadata": {},
   "source": [
    "# List is collection of data types ( objects )\n",
    "\n",
    " what is difference between list and array ?<br><br>\n",
    "if similar how ?"
   ]
  },
  {
   "cell_type": "markdown",
   "metadata": {},
   "source": [
    "### Array --> collection homogenous (same) data types"
   ]
  },
  {
   "cell_type": "markdown",
   "metadata": {},
   "source": [
    "#### all arrays are list but all list are not array.\n",
    "\n",
    "1. sequence, compound, collection , iterable\n",
    "2. orderd\n",
    "3. indexing, slicing\n",
    "4. mutable"
   ]
  },
  {
   "cell_type": "code",
   "execution_count": 7,
   "metadata": {},
   "outputs": [
    {
     "name": "stdout",
     "output_type": "stream",
     "text": [
      "id of mylist1 =  1279374306888\n",
      "id of mylist2 =  1279374508808\n",
      "data of mylist1 =  ['java', 'c', 'c++', 'python']\n",
      "data of mylist2 =  ['ruby', 'perl', 'bash', 'go']\n",
      "class of mylist1 =  <class 'list'>\n",
      "class of mylist2 =  <class 'list'>\n"
     ]
    }
   ],
   "source": [
    "mylist1 =  list([\"java\",\"c\",\"c++\",\"python\"])\n",
    "mylist2 = list([\"ruby\",\"perl\",\"bash\",\"go\"])\n",
    "print(\"id of mylist1 = \",id(mylist1))\n",
    "print(\"id of mylist2 = \",id(mylist2))\n",
    "print(\"data of mylist1 = \",mylist1)\n",
    "print(\"data of mylist2 = \",mylist2)\n",
    "\n",
    "print(\"class of mylist1 = \",type(mylist1))\n",
    "print(\"class of mylist2 = \",type(mylist2))"
   ]
  },
  {
   "cell_type": "markdown",
   "metadata": {},
   "source": [
    "##### we can add or remove data types from list that's why list is mutable but we can't from string so string is immutable"
   ]
  },
  {
   "cell_type": "code",
   "execution_count": 8,
   "metadata": {},
   "outputs": [
    {
     "data": {
      "text/plain": [
       "['java', 'c', 'c++', 'python']"
      ]
     },
     "execution_count": 8,
     "metadata": {},
     "output_type": "execute_result"
    }
   ],
   "source": [
    "mylist = ['java', 'c', 'c++', 'python']\n",
    "mylist"
   ]
  },
  {
   "cell_type": "code",
   "execution_count": 9,
   "metadata": {},
   "outputs": [
    {
     "data": {
      "text/plain": [
       "'java'"
      ]
     },
     "execution_count": 9,
     "metadata": {},
     "output_type": "execute_result"
    }
   ],
   "source": [
    "mylist[0]"
   ]
  },
  {
   "cell_type": "code",
   "execution_count": 10,
   "metadata": {},
   "outputs": [
    {
     "data": {
      "text/plain": [
       "['java', 'c', 'c++', 'python']"
      ]
     },
     "execution_count": 10,
     "metadata": {},
     "output_type": "execute_result"
    }
   ],
   "source": [
    "mylist"
   ]
  },
  {
   "cell_type": "code",
   "execution_count": 11,
   "metadata": {},
   "outputs": [
    {
     "data": {
      "text/plain": [
       "['java', 'c++']"
      ]
     },
     "execution_count": 11,
     "metadata": {},
     "output_type": "execute_result"
    }
   ],
   "source": [
    "mylist[::2]"
   ]
  },
  {
   "cell_type": "code",
   "execution_count": 12,
   "metadata": {},
   "outputs": [
    {
     "data": {
      "text/plain": [
       "['I can Over-write', 'c', 'c++', 'python']"
      ]
     },
     "execution_count": 12,
     "metadata": {},
     "output_type": "execute_result"
    }
   ],
   "source": [
    "mylist[0]= \"I can Over-write\" # this is called mutable\n",
    "mylist "
   ]
  },
  {
   "cell_type": "code",
   "execution_count": 13,
   "metadata": {},
   "outputs": [
    {
     "data": {
      "text/plain": [
       "'o'"
      ]
     },
     "execution_count": 13,
     "metadata": {},
     "output_type": "execute_result"
    }
   ],
   "source": [
    "s = \"hello world\"\n",
    "s[4]"
   ]
  },
  {
   "cell_type": "code",
   "execution_count": 14,
   "metadata": {},
   "outputs": [
    {
     "ename": "TypeError",
     "evalue": "'str' object does not support item assignment",
     "output_type": "error",
     "traceback": [
      "\u001b[1;31m---------------------------------------------------------------------------\u001b[0m",
      "\u001b[1;31mTypeError\u001b[0m                                 Traceback (most recent call last)",
      "\u001b[1;32m<ipython-input-14-6cde09ce0224>\u001b[0m in \u001b[0;36m<module>\u001b[1;34m\u001b[0m\n\u001b[1;32m----> 1\u001b[1;33m \u001b[0ms\u001b[0m\u001b[1;33m[\u001b[0m\u001b[1;36m4\u001b[0m\u001b[1;33m]\u001b[0m\u001b[1;33m=\u001b[0m\u001b[1;34m'e'\u001b[0m\u001b[1;33m\u001b[0m\u001b[1;33m\u001b[0m\u001b[0m\n\u001b[0m\u001b[0;32m      2\u001b[0m \u001b[0ms\u001b[0m\u001b[1;33m\u001b[0m\u001b[1;33m\u001b[0m\u001b[0m\n",
      "\u001b[1;31mTypeError\u001b[0m: 'str' object does not support item assignment"
     ]
    }
   ],
   "source": [
    "s[4]='e'\n",
    "s"
   ]
  },
  {
   "cell_type": "code",
   "execution_count": 16,
   "metadata": {},
   "outputs": [],
   "source": [
    "l = [ 'hi','hello']"
   ]
  },
  {
   "cell_type": "code",
   "execution_count": 17,
   "metadata": {},
   "outputs": [
    {
     "name": "stdout",
     "output_type": "stream",
     "text": [
      "1279374306736\n",
      "hello world\n"
     ]
    }
   ],
   "source": [
    "s = \"hello world\"\n",
    "print(id(s))\n",
    "print(s)"
   ]
  },
  {
   "cell_type": "code",
   "execution_count": 18,
   "metadata": {},
   "outputs": [
    {
     "name": "stdout",
     "output_type": "stream",
     "text": [
      "1279374307248\n",
      "HELLO WORLD\n"
     ]
    }
   ],
   "source": [
    "s = s.upper()\n",
    "print(id(s))\n",
    "print(s)"
   ]
  },
  {
   "cell_type": "code",
   "execution_count": 19,
   "metadata": {},
   "outputs": [
    {
     "data": {
      "text/plain": [
       "72"
      ]
     },
     "execution_count": 19,
     "metadata": {},
     "output_type": "execute_result"
    }
   ],
   "source": [
    "ord(\"H\")"
   ]
  },
  {
   "cell_type": "code",
   "execution_count": 20,
   "metadata": {},
   "outputs": [
    {
     "data": {
      "text/plain": [
       "104"
      ]
     },
     "execution_count": 20,
     "metadata": {},
     "output_type": "execute_result"
    }
   ],
   "source": [
    "ord(\"h\")"
   ]
  },
  {
   "cell_type": "code",
   "execution_count": 21,
   "metadata": {},
   "outputs": [
    {
     "data": {
      "text/plain": [
       "['I can Over-write', 'c', 'c++', 'python']"
      ]
     },
     "execution_count": 21,
     "metadata": {},
     "output_type": "execute_result"
    }
   ],
   "source": [
    "mylist"
   ]
  },
  {
   "cell_type": "code",
   "execution_count": 22,
   "metadata": {},
   "outputs": [],
   "source": [
    "mylist =  [ \"java\",\"python\",\"c\",\"c++\"]"
   ]
  },
  {
   "cell_type": "code",
   "execution_count": 23,
   "metadata": {},
   "outputs": [
    {
     "data": {
      "text/plain": [
       "['java', 'python', 'c', 'c++']"
      ]
     },
     "execution_count": 23,
     "metadata": {},
     "output_type": "execute_result"
    }
   ],
   "source": [
    "mylist"
   ]
  },
  {
   "cell_type": "code",
   "execution_count": 24,
   "metadata": {},
   "outputs": [
    {
     "data": {
      "text/plain": [
       "1279378656584"
      ]
     },
     "execution_count": 24,
     "metadata": {},
     "output_type": "execute_result"
    }
   ],
   "source": [
    "id(mylist)"
   ]
  },
  {
   "cell_type": "code",
   "execution_count": 25,
   "metadata": {},
   "outputs": [
    {
     "data": {
      "text/plain": [
       "['java', 'python', 'c', 'c++', 'ruby']"
      ]
     },
     "execution_count": 25,
     "metadata": {},
     "output_type": "execute_result"
    }
   ],
   "source": [
    "mylist.append(\"ruby\")\n",
    "mylist"
   ]
  },
  {
   "cell_type": "code",
   "execution_count": 26,
   "metadata": {},
   "outputs": [
    {
     "data": {
      "text/plain": [
       "1279378656584"
      ]
     },
     "execution_count": 26,
     "metadata": {},
     "output_type": "execute_result"
    }
   ],
   "source": [
    "id(mylist)"
   ]
  },
  {
   "cell_type": "markdown",
   "metadata": {},
   "source": [
    "#### Methods of List Class\n",
    "\n",
    "Methods to add elements in list\n",
    "\n",
    "list.append(object) --> will add your object at the end of your list <br>\n",
    "\n",
    "list.insert(index,object) --> will insert your object at the location index in list <br>\n",
    "\n",
    "list.extend(iterables) --> will add each item from iterable to at the end of the list"
   ]
  },
  {
   "cell_type": "code",
   "execution_count": 27,
   "metadata": {},
   "outputs": [
    {
     "data": {
      "text/plain": [
       "['java', 'python', 'c', 'c++', 'ruby']"
      ]
     },
     "execution_count": 27,
     "metadata": {},
     "output_type": "execute_result"
    }
   ],
   "source": [
    "mylist"
   ]
  },
  {
   "cell_type": "code",
   "execution_count": 28,
   "metadata": {},
   "outputs": [],
   "source": [
    "mylist.append(\"one\")"
   ]
  },
  {
   "cell_type": "code",
   "execution_count": 29,
   "metadata": {},
   "outputs": [
    {
     "data": {
      "text/plain": [
       "['java', 'python', 'c', 'c++', 'ruby', 'one']"
      ]
     },
     "execution_count": 29,
     "metadata": {},
     "output_type": "execute_result"
    }
   ],
   "source": [
    "mylist"
   ]
  },
  {
   "cell_type": "code",
   "execution_count": 30,
   "metadata": {},
   "outputs": [
    {
     "data": {
      "text/plain": [
       "['java', 'python', 'c', 'c++', 'ruby', 'one', 'end']"
      ]
     },
     "execution_count": 30,
     "metadata": {},
     "output_type": "execute_result"
    }
   ],
   "source": [
    "mylist.append(\"end\")\n",
    "mylist"
   ]
  },
  {
   "cell_type": "code",
   "execution_count": 31,
   "metadata": {},
   "outputs": [],
   "source": [
    "mylist.insert(1,\"mar java\")"
   ]
  },
  {
   "cell_type": "code",
   "execution_count": 32,
   "metadata": {},
   "outputs": [
    {
     "data": {
      "text/plain": [
       "['java', 'mar java', 'python', 'c', 'c++', 'ruby', 'one', 'end']"
      ]
     },
     "execution_count": 32,
     "metadata": {},
     "output_type": "execute_result"
    }
   ],
   "source": [
    "mylist"
   ]
  },
  {
   "cell_type": "code",
   "execution_count": 33,
   "metadata": {},
   "outputs": [],
   "source": [
    "mylist.extend(\"python\")"
   ]
  },
  {
   "cell_type": "code",
   "execution_count": 34,
   "metadata": {},
   "outputs": [
    {
     "data": {
      "text/plain": [
       "['java',\n",
       " 'mar java',\n",
       " 'python',\n",
       " 'c',\n",
       " 'c++',\n",
       " 'ruby',\n",
       " 'one',\n",
       " 'end',\n",
       " 'p',\n",
       " 'y',\n",
       " 't',\n",
       " 'h',\n",
       " 'o',\n",
       " 'n']"
      ]
     },
     "execution_count": 34,
     "metadata": {},
     "output_type": "execute_result"
    }
   ],
   "source": [
    "mylist"
   ]
  },
  {
   "cell_type": "code",
   "execution_count": 35,
   "metadata": {},
   "outputs": [
    {
     "data": {
      "text/plain": [
       "['java']"
      ]
     },
     "execution_count": 35,
     "metadata": {},
     "output_type": "execute_result"
    }
   ],
   "source": [
    "language = []\n",
    "language.append(\"java\")\n",
    "language"
   ]
  },
  {
   "cell_type": "code",
   "execution_count": 36,
   "metadata": {},
   "outputs": [
    {
     "name": "stdout",
     "output_type": "stream",
     "text": [
      "['java', ['python', 'c', 'c++'], 'r', 'u', 'b', 'y']\n"
     ]
    }
   ],
   "source": [
    "language.append([\"python\",\"c\",\"c++\"])\n",
    "language.extend(\"ruby\")\n",
    "print(language)"
   ]
  },
  {
   "cell_type": "code",
   "execution_count": 37,
   "metadata": {},
   "outputs": [
    {
     "data": {
      "text/plain": [
       "'java'"
      ]
     },
     "execution_count": 37,
     "metadata": {},
     "output_type": "execute_result"
    }
   ],
   "source": [
    "language[0]"
   ]
  },
  {
   "cell_type": "code",
   "execution_count": 38,
   "metadata": {},
   "outputs": [
    {
     "data": {
      "text/plain": [
       "['python', 'c', 'c++']"
      ]
     },
     "execution_count": 38,
     "metadata": {},
     "output_type": "execute_result"
    }
   ],
   "source": [
    "language[1]"
   ]
  },
  {
   "cell_type": "code",
   "execution_count": 39,
   "metadata": {},
   "outputs": [
    {
     "data": {
      "text/plain": [
       "'r'"
      ]
     },
     "execution_count": 39,
     "metadata": {},
     "output_type": "execute_result"
    }
   ],
   "source": [
    "language[2]"
   ]
  },
  {
   "cell_type": "code",
   "execution_count": 40,
   "metadata": {},
   "outputs": [
    {
     "data": {
      "text/plain": [
       "['java', ['python', 'c', 'c++'], 'r', 'u', 'b', 'y']"
      ]
     },
     "execution_count": 40,
     "metadata": {},
     "output_type": "execute_result"
    }
   ],
   "source": [
    "language"
   ]
  },
  {
   "cell_type": "code",
   "execution_count": 41,
   "metadata": {},
   "outputs": [
    {
     "ename": "TypeError",
     "evalue": "'int' object is not iterable",
     "output_type": "error",
     "traceback": [
      "\u001b[1;31m---------------------------------------------------------------------------\u001b[0m",
      "\u001b[1;31mTypeError\u001b[0m                                 Traceback (most recent call last)",
      "\u001b[1;32m<ipython-input-41-b7ba1bde241f>\u001b[0m in \u001b[0;36m<module>\u001b[1;34m\u001b[0m\n\u001b[0;32m      1\u001b[0m \u001b[0md\u001b[0m \u001b[1;33m=\u001b[0m \u001b[1;33m[\u001b[0m \u001b[1;36m1\u001b[0m\u001b[1;33m,\u001b[0m\u001b[1;36m2\u001b[0m\u001b[1;33m,\u001b[0m\u001b[1;36m3\u001b[0m\u001b[1;33m]\u001b[0m\u001b[1;33m\u001b[0m\u001b[1;33m\u001b[0m\u001b[0m\n\u001b[1;32m----> 2\u001b[1;33m \u001b[0md\u001b[0m\u001b[1;33m.\u001b[0m\u001b[0mextend\u001b[0m\u001b[1;33m(\u001b[0m\u001b[1;36m5677\u001b[0m\u001b[1;33m)\u001b[0m\u001b[1;33m\u001b[0m\u001b[1;33m\u001b[0m\u001b[0m\n\u001b[0m\u001b[0;32m      3\u001b[0m \u001b[0mprint\u001b[0m\u001b[1;33m(\u001b[0m\u001b[0md\u001b[0m\u001b[1;33m)\u001b[0m\u001b[1;33m\u001b[0m\u001b[1;33m\u001b[0m\u001b[0m\n",
      "\u001b[1;31mTypeError\u001b[0m: 'int' object is not iterable"
     ]
    }
   ],
   "source": [
    "d = [ 1,2,3]\n",
    "d.extend(5677)\n",
    "print(d)"
   ]
  },
  {
   "cell_type": "code",
   "execution_count": 42,
   "metadata": {},
   "outputs": [
    {
     "data": {
      "text/plain": [
       "[1, 2, 3, 5643]"
      ]
     },
     "execution_count": 42,
     "metadata": {},
     "output_type": "execute_result"
    }
   ],
   "source": [
    "d.append(5643)\n",
    "d"
   ]
  },
  {
   "cell_type": "code",
   "execution_count": 43,
   "metadata": {},
   "outputs": [
    {
     "name": "stdout",
     "output_type": "stream",
     "text": [
      "[1, 2, 3, 5643, '1', '2', '3', '4']\n"
     ]
    }
   ],
   "source": [
    "d.extend('1234')\n",
    "print(d)"
   ]
  },
  {
   "cell_type": "code",
   "execution_count": 44,
   "metadata": {},
   "outputs": [
    {
     "name": "stdout",
     "output_type": "stream",
     "text": [
      "['hi']\n"
     ]
    }
   ],
   "source": [
    "l = []\n",
    "l.insert(1,'hi')\n",
    "print(l)"
   ]
  },
  {
   "cell_type": "code",
   "execution_count": 45,
   "metadata": {},
   "outputs": [
    {
     "data": {
      "text/plain": [
       "'hi'"
      ]
     },
     "execution_count": 45,
     "metadata": {},
     "output_type": "execute_result"
    }
   ],
   "source": [
    "l[0]"
   ]
  },
  {
   "cell_type": "code",
   "execution_count": 46,
   "metadata": {},
   "outputs": [
    {
     "ename": "IndexError",
     "evalue": "list index out of range",
     "output_type": "error",
     "traceback": [
      "\u001b[1;31m---------------------------------------------------------------------------\u001b[0m",
      "\u001b[1;31mIndexError\u001b[0m                                Traceback (most recent call last)",
      "\u001b[1;32m<ipython-input-46-3e0eb6719c52>\u001b[0m in \u001b[0;36m<module>\u001b[1;34m\u001b[0m\n\u001b[1;32m----> 1\u001b[1;33m \u001b[0ml\u001b[0m\u001b[1;33m[\u001b[0m\u001b[1;36m1\u001b[0m\u001b[1;33m]\u001b[0m\u001b[1;33m\u001b[0m\u001b[1;33m\u001b[0m\u001b[0m\n\u001b[0m",
      "\u001b[1;31mIndexError\u001b[0m: list index out of range"
     ]
    }
   ],
   "source": [
    "l[1]"
   ]
  },
  {
   "cell_type": "code",
   "execution_count": 47,
   "metadata": {},
   "outputs": [
    {
     "name": "stdout",
     "output_type": "stream",
     "text": [
      "Help on built-in function insert:\n",
      "\n",
      "insert(index, object, /) method of builtins.list instance\n",
      "    Insert object before index.\n",
      "\n"
     ]
    }
   ],
   "source": [
    "help(l.insert)"
   ]
  },
  {
   "cell_type": "markdown",
   "metadata": {},
   "source": [
    "### common functions\n",
    "\n",
    "list.sort() --> to sort ascending order <br>\n",
    "list.sort(reverse=True) --> to sort descending order <br>\n",
    "**note:- to sort a list , list should be homogenous\n",
    "\n",
    "list.reverse() --> inplace reverse list, same as list[::-1](not inplace) <br>\n",
    "\n",
    "list.count(object) --> will return no of occurence in list of that object <br>\n",
    "list.index(object) --> will return first index value of object if object in list else -1 <br>\n",
    "list.clear() --> will delete all items from list\n",
    "list.copy() --> will return a copy of list\n"
   ]
  },
  {
   "cell_type": "code",
   "execution_count": 48,
   "metadata": {},
   "outputs": [
    {
     "name": "stdout",
     "output_type": "stream",
     "text": [
      "['c++', 'java', 'c', 'Python', 'Z', 'A']\n"
     ]
    }
   ],
   "source": [
    "mylist = ['c++', 'java', 'c',\"Python\",\"Z\",\"A\"]\n",
    "print(mylist)"
   ]
  },
  {
   "cell_type": "code",
   "execution_count": 49,
   "metadata": {},
   "outputs": [
    {
     "data": {
      "text/plain": [
       "['A', 'Python', 'Z', 'c', 'c++', 'java']"
      ]
     },
     "execution_count": 49,
     "metadata": {},
     "output_type": "execute_result"
    }
   ],
   "source": [
    "mylist.sort()\n",
    "mylist"
   ]
  },
  {
   "cell_type": "code",
   "execution_count": 50,
   "metadata": {},
   "outputs": [],
   "source": [
    "from random import randint"
   ]
  },
  {
   "cell_type": "code",
   "execution_count": 51,
   "metadata": {},
   "outputs": [],
   "source": [
    "mylist = [randint(50,100) for var in range(10)]\n",
    "# list comprehension"
   ]
  },
  {
   "cell_type": "code",
   "execution_count": 52,
   "metadata": {},
   "outputs": [
    {
     "data": {
      "text/plain": [
       "[93, 58, 96, 73, 81, 95, 79, 100, 52, 92]"
      ]
     },
     "execution_count": 52,
     "metadata": {},
     "output_type": "execute_result"
    }
   ],
   "source": [
    "mylist"
   ]
  },
  {
   "cell_type": "code",
   "execution_count": 53,
   "metadata": {},
   "outputs": [],
   "source": [
    "mylist.sort()"
   ]
  },
  {
   "cell_type": "code",
   "execution_count": 54,
   "metadata": {},
   "outputs": [
    {
     "name": "stdout",
     "output_type": "stream",
     "text": [
      "[52, 58, 73, 79, 81, 92, 93, 95, 96, 100]\n"
     ]
    }
   ],
   "source": [
    "print(mylist)"
   ]
  },
  {
   "cell_type": "code",
   "execution_count": 55,
   "metadata": {},
   "outputs": [],
   "source": [
    "mylist.sort(reverse=True)"
   ]
  },
  {
   "cell_type": "code",
   "execution_count": 56,
   "metadata": {},
   "outputs": [
    {
     "data": {
      "text/plain": [
       "[100, 96, 95, 93, 92, 81, 79, 73, 58, 52]"
      ]
     },
     "execution_count": 56,
     "metadata": {},
     "output_type": "execute_result"
    }
   ],
   "source": [
    "mylist"
   ]
  },
  {
   "cell_type": "code",
   "execution_count": 58,
   "metadata": {},
   "outputs": [
    {
     "name": "stdout",
     "output_type": "stream",
     "text": [
      "index of 92 is 4.\n"
     ]
    }
   ],
   "source": [
    "i = mylist.index(92)\n",
    "print(f\"index of 92 is {i}.\")"
   ]
  },
  {
   "cell_type": "code",
   "execution_count": 59,
   "metadata": {},
   "outputs": [],
   "source": [
    "rep =  [ randint(1,10) for var in range(25)]"
   ]
  },
  {
   "cell_type": "code",
   "execution_count": 60,
   "metadata": {},
   "outputs": [
    {
     "data": {
      "text/plain": [
       "[8, 4, 1, 8, 1, 4, 10, 4, 3, 4, 5, 2, 4, 1, 9, 9, 1, 10, 9, 6, 8, 3, 7, 6, 1]"
      ]
     },
     "execution_count": 60,
     "metadata": {},
     "output_type": "execute_result"
    }
   ],
   "source": [
    "rep"
   ]
  },
  {
   "cell_type": "code",
   "execution_count": 61,
   "metadata": {},
   "outputs": [
    {
     "name": "stdout",
     "output_type": "stream",
     "text": [
      "1 is 5 times in [8, 4, 1, 8, 1, 4, 10, 4, 3, 4, 5, 2, 4, 1, 9, 9, 1, 10, 9, 6, 8, 3, 7, 6, 1]\n"
     ]
    }
   ],
   "source": [
    "c=rep.count(1)\n",
    "print(f\"1 is {c} times in {rep}\")"
   ]
  },
  {
   "cell_type": "code",
   "execution_count": 62,
   "metadata": {},
   "outputs": [],
   "source": [
    "rep.clear()"
   ]
  },
  {
   "cell_type": "code",
   "execution_count": 63,
   "metadata": {},
   "outputs": [
    {
     "data": {
      "text/plain": [
       "[]"
      ]
     },
     "execution_count": 63,
     "metadata": {},
     "output_type": "execute_result"
    }
   ],
   "source": [
    "rep"
   ]
  },
  {
   "cell_type": "code",
   "execution_count": 64,
   "metadata": {},
   "outputs": [
    {
     "data": {
      "text/plain": [
       "[100, 96, 95, 93, 92, 81, 79, 73, 58, 52]"
      ]
     },
     "execution_count": 64,
     "metadata": {},
     "output_type": "execute_result"
    }
   ],
   "source": [
    "mylist"
   ]
  },
  {
   "cell_type": "code",
   "execution_count": 65,
   "metadata": {},
   "outputs": [],
   "source": [
    "mylist1 = mylist.copy()"
   ]
  },
  {
   "cell_type": "code",
   "execution_count": 66,
   "metadata": {},
   "outputs": [
    {
     "data": {
      "text/plain": [
       "[100, 96, 95, 93, 92, 81, 79, 73, 58, 52]"
      ]
     },
     "execution_count": 66,
     "metadata": {},
     "output_type": "execute_result"
    }
   ],
   "source": [
    "mylist"
   ]
  },
  {
   "cell_type": "code",
   "execution_count": 67,
   "metadata": {},
   "outputs": [
    {
     "data": {
      "text/plain": [
       "[100, 96, 95, 93, 92, 81, 79, 73, 58, 52]"
      ]
     },
     "execution_count": 67,
     "metadata": {},
     "output_type": "execute_result"
    }
   ],
   "source": [
    "mylist1"
   ]
  },
  {
   "cell_type": "code",
   "execution_count": 68,
   "metadata": {},
   "outputs": [],
   "source": [
    "c= mylist"
   ]
  },
  {
   "cell_type": "code",
   "execution_count": 69,
   "metadata": {},
   "outputs": [
    {
     "data": {
      "text/plain": [
       "[100, 96, 95, 93, 92, 81, 79, 73, 58, 52]"
      ]
     },
     "execution_count": 69,
     "metadata": {},
     "output_type": "execute_result"
    }
   ],
   "source": [
    "c"
   ]
  },
  {
   "cell_type": "code",
   "execution_count": 70,
   "metadata": {},
   "outputs": [],
   "source": [
    "l = [ \n",
    "    [ 'ayush',45],\n",
    "    [ 'rajat',67],\n",
    "    [ 'mohit',89],\n",
    "    [ 'gaurav',66]\n",
    "]"
   ]
  },
  {
   "cell_type": "code",
   "execution_count": 71,
   "metadata": {},
   "outputs": [
    {
     "data": {
      "text/plain": [
       "[['ayush', 45], ['rajat', 67], ['mohit', 89], ['gaurav', 66]]"
      ]
     },
     "execution_count": 71,
     "metadata": {},
     "output_type": "execute_result"
    }
   ],
   "source": [
    "l"
   ]
  },
  {
   "cell_type": "code",
   "execution_count": 72,
   "metadata": {},
   "outputs": [
    {
     "data": {
      "text/plain": [
       "[['ayush', 45], ['gaurav', 66], ['mohit', 89], ['rajat', 67]]"
      ]
     },
     "execution_count": 72,
     "metadata": {},
     "output_type": "execute_result"
    }
   ],
   "source": [
    "l.sort()\n",
    "l"
   ]
  },
  {
   "cell_type": "code",
   "execution_count": 73,
   "metadata": {},
   "outputs": [],
   "source": [
    "l.sort(key=lambda item:item[1],reverse=True)"
   ]
  },
  {
   "cell_type": "code",
   "execution_count": 74,
   "metadata": {},
   "outputs": [
    {
     "data": {
      "text/plain": [
       "[['mohit', 89], ['rajat', 67], ['gaurav', 66], ['ayush', 45]]"
      ]
     },
     "execution_count": 74,
     "metadata": {},
     "output_type": "execute_result"
    }
   ],
   "source": [
    "l"
   ]
  },
  {
   "cell_type": "code",
   "execution_count": null,
   "metadata": {},
   "outputs": [],
   "source": []
  }
 ],
 "metadata": {
  "kernelspec": {
   "display_name": "Python 3",
   "language": "python",
   "name": "python3"
  },
  "language_info": {
   "codemirror_mode": {
    "name": "ipython",
    "version": 3
   },
   "file_extension": ".py",
   "mimetype": "text/x-python",
   "name": "python",
   "nbconvert_exporter": "python",
   "pygments_lexer": "ipython3",
   "version": "3.7.1"
  }
 },
 "nbformat": 4,
 "nbformat_minor": 2
}
