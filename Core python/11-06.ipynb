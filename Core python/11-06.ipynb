{
 "cells": [
  {
   "cell_type": "markdown",
   "metadata": {},
   "source": [
    "# Dictionary\n",
    "\n",
    "* un-orderd data type (no indexing, no slicing)\n",
    "* map type object\n",
    "* will map all values to their unique keys\n",
    "* dictionary is iterable"
   ]
  },
  {
   "cell_type": "code",
   "execution_count": 1,
   "metadata": {},
   "outputs": [
    {
     "name": "stdout",
     "output_type": "stream",
     "text": [
      "p y t h o n\n"
     ]
    }
   ],
   "source": [
    "print(*\"python\") # * is iterable"
   ]
  },
  {
   "cell_type": "code",
   "execution_count": 2,
   "metadata": {},
   "outputs": [
    {
     "name": "stdout",
     "output_type": "stream",
     "text": [
      "java\tc\tc++\tpython\n"
     ]
    }
   ],
   "source": [
    "print(*['java','c','c++','python'],sep='\\t')"
   ]
  },
  {
   "cell_type": "code",
   "execution_count": 3,
   "metadata": {},
   "outputs": [
    {
     "name": "stdout",
     "output_type": "stream",
     "text": [
      "java\n",
      "c\n",
      "c++\n",
      "python\n"
     ]
    }
   ],
   "source": [
    "print(*['java','c','c++','python'],sep='\\n')"
   ]
  },
  {
   "cell_type": "code",
   "execution_count": 4,
   "metadata": {},
   "outputs": [],
   "source": [
    "# zip iterable\n",
    "\n",
    "l1 = [ 'python','java','c','c++']\n",
    "l2 = [ 'awesome','mar','excellent','average']"
   ]
  },
  {
   "cell_type": "code",
   "execution_count": 5,
   "metadata": {},
   "outputs": [
    {
     "name": "stdout",
     "output_type": "stream",
     "text": [
      "('awesome', 'python')\n",
      "('mar', 'java')\n",
      "('excellent', 'c')\n",
      "('average', 'c++')\n"
     ]
    }
   ],
   "source": [
    "print(*zip(l2,l1),sep='\\n')"
   ]
  },
  {
   "cell_type": "markdown",
   "metadata": {},
   "source": [
    "#### tuple\n",
    "\n",
    " tuple is brother of list but it is immutable."
   ]
  },
  {
   "cell_type": "code",
   "execution_count": 7,
   "metadata": {},
   "outputs": [
    {
     "name": "stdout",
     "output_type": "stream",
     "text": [
      "('p', 'y', 't', 'h', 'o', 'n')\n"
     ]
    }
   ],
   "source": [
    "data = tuple(\"python\")\n",
    "print(data)"
   ]
  },
  {
   "cell_type": "code",
   "execution_count": 8,
   "metadata": {},
   "outputs": [
    {
     "data": {
      "text/plain": [
       "('n', 'o', 'h', 't', 'y', 'p')"
      ]
     },
     "execution_count": 8,
     "metadata": {},
     "output_type": "execute_result"
    }
   ],
   "source": [
    "data[::-1]"
   ]
  },
  {
   "cell_type": "code",
   "execution_count": 9,
   "metadata": {},
   "outputs": [],
   "source": [
    "new = ( 'java','c','c++' )"
   ]
  },
  {
   "cell_type": "code",
   "execution_count": 10,
   "metadata": {},
   "outputs": [
    {
     "name": "stdout",
     "output_type": "stream",
     "text": [
      "('java', 'c', 'c++')\n"
     ]
    }
   ],
   "source": [
    "print(new)"
   ]
  },
  {
   "cell_type": "code",
   "execution_count": 12,
   "metadata": {},
   "outputs": [
    {
     "data": {
      "text/plain": [
       "2399577475256"
      ]
     },
     "execution_count": 12,
     "metadata": {},
     "output_type": "execute_result"
    }
   ],
   "source": [
    "id(new)"
   ]
  },
  {
   "cell_type": "code",
   "execution_count": 13,
   "metadata": {},
   "outputs": [
    {
     "ename": "TypeError",
     "evalue": "'tuple' object does not support item assignment",
     "output_type": "error",
     "traceback": [
      "\u001b[1;31m---------------------------------------------------------------------------\u001b[0m",
      "\u001b[1;31mTypeError\u001b[0m                                 Traceback (most recent call last)",
      "\u001b[1;32m<ipython-input-13-e6c5ec714887>\u001b[0m in \u001b[0;36m<module>\u001b[1;34m\u001b[0m\n\u001b[1;32m----> 1\u001b[1;33m \u001b[0mnew\u001b[0m\u001b[1;33m[\u001b[0m\u001b[1;36m1\u001b[0m\u001b[1;33m]\u001b[0m\u001b[1;33m=\u001b[0m\u001b[1;34m'mar java'\u001b[0m\u001b[1;33m\u001b[0m\u001b[1;33m\u001b[0m\u001b[0m\n\u001b[0m",
      "\u001b[1;31mTypeError\u001b[0m: 'tuple' object does not support item assignment"
     ]
    }
   ],
   "source": [
    "new[1]='mar java'"
   ]
  },
  {
   "cell_type": "code",
   "execution_count": 14,
   "metadata": {},
   "outputs": [
    {
     "name": "stdout",
     "output_type": "stream",
     "text": [
      "['__add__', '__class__', '__contains__', '__delattr__', '__dir__', '__doc__', '__eq__', '__format__', '__ge__', '__getattribute__', '__getitem__', '__getnewargs__', '__gt__', '__hash__', '__init__', '__init_subclass__', '__iter__', '__le__', '__len__', '__lt__', '__mul__', '__ne__', '__new__', '__reduce__', '__reduce_ex__', '__repr__', '__rmul__', '__setattr__', '__sizeof__', '__str__', '__subclasshook__', 'count', 'index']\n"
     ]
    }
   ],
   "source": [
    "print(dir(tuple))"
   ]
  },
  {
   "cell_type": "code",
   "execution_count": 15,
   "metadata": {},
   "outputs": [
    {
     "name": "stdout",
     "output_type": "stream",
     "text": [
      "('java', ['a', 'b', 'c', 'd'], 'python')\n"
     ]
    }
   ],
   "source": [
    "t = ( 'java', ['a','b','c'],'python')\n",
    "t[1].append('d')\n",
    "print(t)"
   ]
  },
  {
   "cell_type": "markdown",
   "metadata": {},
   "source": [
    "##### dictionary"
   ]
  },
  {
   "cell_type": "code",
   "execution_count": 16,
   "metadata": {},
   "outputs": [],
   "source": [
    "data = { 'key':'value', 'key1':'value1', 'key2':'value2' }"
   ]
  },
  {
   "cell_type": "code",
   "execution_count": 17,
   "metadata": {},
   "outputs": [
    {
     "data": {
      "text/plain": [
       "{'key': 'value', 'key1': 'value1', 'key2': 'value2'}"
      ]
     },
     "execution_count": 17,
     "metadata": {},
     "output_type": "execute_result"
    }
   ],
   "source": [
    "data"
   ]
  },
  {
   "cell_type": "markdown",
   "metadata": {},
   "source": [
    "##### dictionary is collection of key-value pairs where keys should be im-mutable (hashable), values can be any type of valid python object\n",
    "\n",
    "##### dictionary is mutable"
   ]
  },
  {
   "cell_type": "code",
   "execution_count": 18,
   "metadata": {},
   "outputs": [
    {
     "data": {
      "text/plain": [
       "{1: 'hi', 0: 'bye', 2: 'good bye'}"
      ]
     },
     "execution_count": 18,
     "metadata": {},
     "output_type": "execute_result"
    }
   ],
   "source": [
    "data = { 1:'hi',0:'bye',2:'good bye', } \n",
    "data"
   ]
  },
  {
   "cell_type": "code",
   "execution_count": 21,
   "metadata": {},
   "outputs": [],
   "source": [
    "data = { 'name':'ayush',\n",
    "        'age':19,\n",
    "       'language':['c','c++','java','python',]\n",
    "       }"
   ]
  },
  {
   "cell_type": "code",
   "execution_count": 22,
   "metadata": {},
   "outputs": [
    {
     "data": {
      "text/plain": [
       "{'name': 'ayush', 'age': 19, 'language': ['c', 'c++', 'java', 'python']}"
      ]
     },
     "execution_count": 22,
     "metadata": {},
     "output_type": "execute_result"
    }
   ],
   "source": [
    "data"
   ]
  },
  {
   "cell_type": "code",
   "execution_count": 23,
   "metadata": {},
   "outputs": [
    {
     "name": "stdout",
     "output_type": "stream",
     "text": [
      "{(1, 2): 'hi', (2, 3): 'bye'}\n"
     ]
    }
   ],
   "source": [
    "d = { (1,2) : 'hi',(2,3) : 'bye'}\n",
    "print(d)"
   ]
  },
  {
   "cell_type": "code",
   "execution_count": 24,
   "metadata": {},
   "outputs": [
    {
     "name": "stdout",
     "output_type": "stream",
     "text": [
      "['__class__', '__contains__', '__delattr__', '__delitem__', '__dir__', '__doc__', '__eq__', '__format__', '__ge__', '__getattribute__', '__getitem__', '__gt__', '__hash__', '__init__', '__init_subclass__', '__iter__', '__le__', '__len__', '__lt__', '__ne__', '__new__', '__reduce__', '__reduce_ex__', '__repr__', '__setattr__', '__setitem__', '__sizeof__', '__str__', '__subclasshook__', 'clear', 'copy', 'fromkeys', 'get', 'items', 'keys', 'pop', 'popitem', 'setdefault', 'update', 'values']\n"
     ]
    }
   ],
   "source": [
    "print(dir(d))"
   ]
  },
  {
   "cell_type": "markdown",
   "metadata": {},
   "source": [
    "* to add items --> update, setdefault\n",
    "* to delte items --> pop, popitem,\n",
    "* common operations --> clear, copy, values,fromkeys, get, items, keys"
   ]
  },
  {
   "cell_type": "code",
   "execution_count": 25,
   "metadata": {},
   "outputs": [
    {
     "name": "stdout",
     "output_type": "stream",
     "text": [
      "Python 3.7.1\n"
     ]
    }
   ],
   "source": [
    "!python --version"
   ]
  },
  {
   "cell_type": "code",
   "execution_count": 26,
   "metadata": {},
   "outputs": [
    {
     "name": "stdout",
     "output_type": "stream",
     "text": [
      " Volume in drive C is Windows\n",
      " Volume Serial Number is 68F7-7C84\n",
      "\n",
      " Directory of C:\\Users\\HP\n",
      "\n",
      "11-06-2019  17:59    <DIR>          .\n",
      "11-06-2019  17:59    <DIR>          ..\n",
      "18-02-2019  19:07    <DIR>          .anaconda\n",
      "26-01-2019  19:02             1,442 .bash_history\n",
      "09-03-2019  16:16    <DIR>          .conda\n",
      "09-03-2019  15:02                43 .condarc\n",
      "26-01-2019  18:53                45 .gitconfig\n",
      "21-02-2019  18:17    <DIR>          .idlerc\n",
      "11-06-2019  17:47    <DIR>          .ipynb_checkpoints\n",
      "29-01-2019  18:37    <DIR>          .ipython\n",
      "11-06-2019  14:01    <DIR>          .jupyter\n",
      "10-04-2019  19:12    <DIR>          .matplotlib\n",
      "10-04-2019  19:52    <DIR>          .spyder-py3\n",
      "26-01-2019  19:02               764 .viminfo\n",
      "18-02-2019  17:33    <DIR>          __pycache__\n",
      "07-06-2019  13:19            20,595 05-06.ipynb\n",
      "07-06-2019  09:43            14,340 06-06.ipynb\n",
      "10-06-2019  16:58            38,042 07-06.ipynb\n",
      "10-04-2019  14:30            20,687 09-04-2019.ipynb\n",
      "11-06-2019  10:47            33,244 10-06(2).ipynb\n",
      "10-06-2019  17:58            26,708 10-06.ipynb\n",
      "11-06-2019  17:59             9,071 11-06.ipynb\n",
      "15-04-2019  17:27             2,944 15-4-19.ipynb\n",
      "30-05-2019  09:59             5,923 30-05-19.ipynb\n",
      "31-05-2019  09:56             9,174 31-05.ipynb\n",
      "09-02-2019  18:15    <DIR>          3D Objects\n",
      "04-06-2019  09:50             3,656 4-6.ipynb\n",
      "07-06-2019  10:16               197 abc.py\n",
      "29-01-2019  18:31    <DIR>          Anaconda3\n",
      "04-06-2019  19:34             8,612 assign-9.ipynb\n",
      "11-04-2019  13:53             7,886 assignment 1-2-3.ipynb\n",
      "11-04-2019  14:39            12,318 assignment 8.ipynb\n",
      "11-04-2019  14:08             3,619 assignment-4.ipynb\n",
      "13-04-2019  13:55             3,504 Assignment-6.ipynb\n",
      "11-04-2019  14:37             8,984 assignment7.ipynb\n",
      "11-04-2019  14:40            19,440 assignment9.ipynb\n",
      "26-01-2019  18:41    <DIR>          ayush\n",
      "07-06-2019  11:02               147 ayush.py\n",
      "10-04-2019  21:35            23,123 Bank application.ipynb\n",
      "12-04-2019  13:59               344 Bank.json\n",
      "12-04-2019  14:10            45,994 bankapp.ipynb\n",
      "07-06-2019  10:52               202 c.py\n",
      "07-06-2019  11:08               957 car1.py\n",
      "15-04-2019  14:51            27,108 classes.ipynb\n",
      "18-03-2019  17:00             3,211 Cont.ipynb\n",
      "09-02-2019  18:15    <DIR>          Contacts\n",
      "25-03-2019  16:43             1,206 continue.ipynb\n",
      "09-06-2019  11:22    <DIR>          Desktop\n",
      "06-06-2019  16:16    <DIR>          Documents\n",
      "11-06-2019  17:02    <DIR>          Downloads\n",
      "09-02-2019  18:15    <DIR>          Favorites\n",
      "29-03-2019  16:08             6,735 functions in python.ipynb\n",
      "31-03-2019  10:28            59,919 functions.ipynb\n",
      "14-03-2019  17:50               555 game.ipynb\n",
      "04-04-2019  16:33                20 h.py\n",
      "12-04-2019  14:07               344 hii.json\n",
      "16-04-2019  17:36             2,439 inheritance.ipynb\n",
      "09-02-2019  18:15    <DIR>          Links\n",
      "11-06-2019  17:47            19,794 list and dict practice and zip(11-06).ipynb\n",
      "29-03-2019  16:31               555 list functions.ipynb\n",
      "29-03-2019  16:27               555 list functions.py\n",
      "17-02-2019  17:50               555 module.ipynb\n",
      "17-02-2019  18:18               555 module.py\n",
      "26-01-2019  19:26    <DIR>          mohit\n",
      "09-02-2019  18:15    <DIR>          Music\n",
      "11-06-2019  10:10               492 one.py\n",
      "09-02-2019  18:19    <DIR>          OneDrive\n",
      "18-03-2019  15:30            10,615 operators.ipynb\n",
      "06-06-2019  14:10                75 pat1.txt\n",
      "20-04-2019  20:58    <DIR>          Pictures\n",
      "21-02-2019  18:15                 0 pip\n",
      "10-06-2019  21:35            24,682 practice datatype.ipynb\n",
      "07-06-2019  09:49            34,018 practice1.ipynb\n",
      "17-02-2019  17:47    <DIR>          Python 3.7\n",
      "17-02-2019  18:00        25,365,744 python-3.7.2.exe\n",
      "09-02-2019  18:15    <DIR>          Saved Games\n",
      "09-02-2019  18:15    <DIR>          Searches\n",
      "02-04-2019  18:53            15,631 special functions.ipynb\n",
      "24-12-2018  15:29    <DIR>          test\n",
      "15-02-2019  13:21             1,383 test.ipynb\n",
      "08-02-2019  18:00            19,925 test1.ipynb\n",
      "12-04-2019  13:12                32 test1.pkl\n",
      "06-04-2019  10:35            31,413 test2.ipynb\n",
      "16-02-2019  17:00             1,650 test3.ipynb\n",
      "04-06-2019  19:23             8,557 test4.ipynb\n",
      "17-02-2019  17:54             9,855 test4.py\n",
      "31-03-2019  10:30            65,413 test5.ipynb\n",
      "29-01-2019  18:39               800 Untitled.ipynb\n",
      "15-04-2019  16:18                72 Untitled1.ipynb\n",
      "27-03-2019  14:08            53,227 Untitled13.ipynb\n",
      "01-04-2019  22:18             7,199 Untitled14.ipynb\n",
      "02-04-2019  18:53             6,120 Untitled15.ipynb\n",
      "30-05-2019  08:27               555 Untitled16.ipynb\n",
      "31-05-2019  08:12                72 Untitled17.ipynb\n",
      "04-06-2019  08:44             2,170 Untitled18.ipynb\n",
      "03-02-2019  02:00             2,462 Untitled2.ipynb\n",
      "08-02-2019  18:09             2,519 Untitled3.ipynb\n",
      "14-02-2019  18:09                72 Untitled4.ipynb\n",
      "14-02-2019  18:18                72 Untitled5.ipynb\n",
      "17-02-2019  17:50                72 Untitled6.ipynb\n",
      "17-02-2019  18:07                72 Untitled7.ipynb\n",
      "14-03-2019  20:38                72 Untitled8.ipynb\n",
      "26-03-2019  16:02               555 Untitled9.ipynb\n",
      "09-02-2019  18:15    <DIR>          Videos\n",
      "              75 File(s)     26,111,152 bytes\n",
      "              29 Dir(s)  43,895,623,680 bytes free\n"
     ]
    }
   ],
   "source": [
    "ls"
   ]
  },
  {
   "cell_type": "code",
   "execution_count": 27,
   "metadata": {},
   "outputs": [],
   "source": [
    "data = { 'name':'python',\n",
    "        'version':3.7,\n",
    "        'father':'Guido Van Rossum',\n",
    "        'release' : 1994,\n",
    "        'versions' : [ ('python1',1994),\n",
    "                    ('python2',2000),\n",
    "                    ('python3',2008)\n",
    "                    ],\n",
    "        'website' : 'python.org'\n",
    "       }"
   ]
  },
  {
   "cell_type": "code",
   "execution_count": 29,
   "metadata": {},
   "outputs": [
    {
     "name": "stdout",
     "output_type": "stream",
     "text": [
      "{'name': 'python', 'version': 3.7, 'father': 'Guido Van Rossum', 'release': 1994, 'versions': [('python1', 1994), ('python2', 2000), ('python3', 2008)], 'website': 'python.org'}\n"
     ]
    }
   ],
   "source": [
    "print(data)"
   ]
  },
  {
   "cell_type": "code",
   "execution_count": 30,
   "metadata": {},
   "outputs": [],
   "source": [
    "from pprint import pprint"
   ]
  },
  {
   "cell_type": "code",
   "execution_count": 31,
   "metadata": {},
   "outputs": [
    {
     "name": "stdout",
     "output_type": "stream",
     "text": [
      "{   'father': 'Guido Van Rossum',\n",
      "    'name': 'python',\n",
      "    'release': 1994,\n",
      "    'version': 3.7,\n",
      "    'versions': [('python1', 1994), ('python2', 2000), ('python3', 2008)],\n",
      "    'website': 'python.org'}\n"
     ]
    }
   ],
   "source": [
    "pprint(data,indent=4)"
   ]
  },
  {
   "cell_type": "code",
   "execution_count": 33,
   "metadata": {},
   "outputs": [
    {
     "name": "stdout",
     "output_type": "stream",
     "text": [
      "name\n",
      "version\n",
      "father\n",
      "release\n",
      "versions\n",
      "website\n"
     ]
    }
   ],
   "source": [
    "print(*data,sep='\\n')"
   ]
  },
  {
   "cell_type": "code",
   "execution_count": 34,
   "metadata": {},
   "outputs": [
    {
     "ename": "KeyError",
     "evalue": "0",
     "output_type": "error",
     "traceback": [
      "\u001b[1;31m---------------------------------------------------------------------------\u001b[0m",
      "\u001b[1;31mKeyError\u001b[0m                                  Traceback (most recent call last)",
      "\u001b[1;32m<ipython-input-34-80a4aab09c73>\u001b[0m in \u001b[0;36m<module>\u001b[1;34m\u001b[0m\n\u001b[1;32m----> 1\u001b[1;33m \u001b[0mdata\u001b[0m\u001b[1;33m[\u001b[0m\u001b[1;36m0\u001b[0m\u001b[1;33m]\u001b[0m\u001b[1;33m\u001b[0m\u001b[1;33m\u001b[0m\u001b[0m\n\u001b[0m",
      "\u001b[1;31mKeyError\u001b[0m: 0"
     ]
    }
   ],
   "source": [
    "data[0]"
   ]
  },
  {
   "cell_type": "code",
   "execution_count": 35,
   "metadata": {},
   "outputs": [
    {
     "ename": "TypeError",
     "evalue": "unhashable type: 'slice'",
     "output_type": "error",
     "traceback": [
      "\u001b[1;31m---------------------------------------------------------------------------\u001b[0m",
      "\u001b[1;31mTypeError\u001b[0m                                 Traceback (most recent call last)",
      "\u001b[1;32m<ipython-input-35-fa3cb3c69f36>\u001b[0m in \u001b[0;36m<module>\u001b[1;34m\u001b[0m\n\u001b[1;32m----> 1\u001b[1;33m \u001b[0mdata\u001b[0m\u001b[1;33m[\u001b[0m\u001b[1;33m:\u001b[0m\u001b[1;33m:\u001b[0m\u001b[1;33m]\u001b[0m\u001b[1;33m\u001b[0m\u001b[1;33m\u001b[0m\u001b[0m\n\u001b[0m",
      "\u001b[1;31mTypeError\u001b[0m: unhashable type: 'slice'"
     ]
    }
   ],
   "source": [
    "data[::]"
   ]
  },
  {
   "cell_type": "code",
   "execution_count": 36,
   "metadata": {},
   "outputs": [
    {
     "data": {
      "text/plain": [
       "{'name': 'python',\n",
       " 'version': 3.7,\n",
       " 'father': 'Guido Van Rossum',\n",
       " 'release': 1994,\n",
       " 'versions': [('python1', 1994), ('python2', 2000), ('python3', 2008)],\n",
       " 'website': 'python.org'}"
      ]
     },
     "execution_count": 36,
     "metadata": {},
     "output_type": "execute_result"
    }
   ],
   "source": [
    "data"
   ]
  },
  {
   "cell_type": "code",
   "execution_count": 37,
   "metadata": {},
   "outputs": [
    {
     "data": {
      "text/plain": [
       "'python'"
      ]
     },
     "execution_count": 37,
     "metadata": {},
     "output_type": "execute_result"
    }
   ],
   "source": [
    "data['name']\n"
   ]
  },
  {
   "cell_type": "code",
   "execution_count": 38,
   "metadata": {},
   "outputs": [
    {
     "data": {
      "text/plain": [
       "3.7"
      ]
     },
     "execution_count": 38,
     "metadata": {},
     "output_type": "execute_result"
    }
   ],
   "source": [
    "data['version']"
   ]
  },
  {
   "cell_type": "code",
   "execution_count": 39,
   "metadata": {},
   "outputs": [
    {
     "data": {
      "text/plain": [
       "'Guido Van Rossum'"
      ]
     },
     "execution_count": 39,
     "metadata": {},
     "output_type": "execute_result"
    }
   ],
   "source": [
    "data['father']"
   ]
  },
  {
   "cell_type": "code",
   "execution_count": 40,
   "metadata": {},
   "outputs": [
    {
     "data": {
      "text/plain": [
       "1994"
      ]
     },
     "execution_count": 40,
     "metadata": {},
     "output_type": "execute_result"
    }
   ],
   "source": [
    "data['release']"
   ]
  },
  {
   "cell_type": "code",
   "execution_count": 41,
   "metadata": {},
   "outputs": [
    {
     "data": {
      "text/plain": [
       "[('python1', 1994), ('python2', 2000), ('python3', 2008)]"
      ]
     },
     "execution_count": 41,
     "metadata": {},
     "output_type": "execute_result"
    }
   ],
   "source": [
    "data['versions']"
   ]
  },
  {
   "cell_type": "code",
   "execution_count": 42,
   "metadata": {},
   "outputs": [
    {
     "data": {
      "text/plain": [
       "'python.org'"
      ]
     },
     "execution_count": 42,
     "metadata": {},
     "output_type": "execute_result"
    }
   ],
   "source": [
    "data['website']"
   ]
  },
  {
   "cell_type": "code",
   "execution_count": 43,
   "metadata": {},
   "outputs": [
    {
     "ename": "KeyError",
     "evalue": "'ayush'",
     "output_type": "error",
     "traceback": [
      "\u001b[1;31m---------------------------------------------------------------------------\u001b[0m",
      "\u001b[1;31mKeyError\u001b[0m                                  Traceback (most recent call last)",
      "\u001b[1;32m<ipython-input-43-54738b9e8a75>\u001b[0m in \u001b[0;36m<module>\u001b[1;34m\u001b[0m\n\u001b[1;32m----> 1\u001b[1;33m \u001b[0mdata\u001b[0m\u001b[1;33m[\u001b[0m\u001b[1;34m'ayush'\u001b[0m\u001b[1;33m]\u001b[0m\u001b[1;33m\u001b[0m\u001b[1;33m\u001b[0m\u001b[0m\n\u001b[0m",
      "\u001b[1;31mKeyError\u001b[0m: 'ayush'"
     ]
    }
   ],
   "source": [
    "data['ayush']"
   ]
  },
  {
   "cell_type": "code",
   "execution_count": 46,
   "metadata": {},
   "outputs": [
    {
     "name": "stdout",
     "output_type": "stream",
     "text": [
      "Enter your query :        versions     \n"
     ]
    },
    {
     "data": {
      "text/plain": [
       "[('python1', 1994), ('python2', 2000), ('python3', 2008)]"
      ]
     },
     "execution_count": 46,
     "metadata": {},
     "output_type": "execute_result"
    }
   ],
   "source": [
    "key = input(\"Enter your query : \").strip().lower()\n",
    "data.get(key,\"No such Data Available\")"
   ]
  },
  {
   "cell_type": "markdown",
   "metadata": {},
   "source": [
    " dict.get(key,default value) --> will return value if key exists else return default value"
   ]
  },
  {
   "cell_type": "code",
   "execution_count": 47,
   "metadata": {},
   "outputs": [
    {
     "data": {
      "text/plain": [
       "{'name': 'python',\n",
       " 'version': 3.7,\n",
       " 'father': 'Guido Van Rossum',\n",
       " 'release': 1994,\n",
       " 'versions': [('python1', 1994), ('python2', 2000), ('python3', 2008)],\n",
       " 'website': 'python.org'}"
      ]
     },
     "execution_count": 47,
     "metadata": {},
     "output_type": "execute_result"
    }
   ],
   "source": [
    "data"
   ]
  },
  {
   "cell_type": "code",
   "execution_count": 48,
   "metadata": {},
   "outputs": [],
   "source": [
    "x = { 'name':'yahoo', }"
   ]
  },
  {
   "cell_type": "code",
   "execution_count": 49,
   "metadata": {},
   "outputs": [
    {
     "name": "stdout",
     "output_type": "stream",
     "text": [
      "No such color available\n",
      "Setting Default color to blue\n"
     ]
    }
   ],
   "source": [
    "\n",
    "if 'color' in x : \n",
    "    print(\"found color : \",x['color'])\n",
    "else :\n",
    "    x['color'] = 'black'\n",
    "    print(\"No such color available\")\n",
    "    print(\"Setting Default color to blue\")"
   ]
  },
  {
   "cell_type": "code",
   "execution_count": 50,
   "metadata": {},
   "outputs": [
    {
     "data": {
      "text/plain": [
       "{'name': 'yahoo', 'color': 'black'}"
      ]
     },
     "execution_count": 50,
     "metadata": {},
     "output_type": "execute_result"
    }
   ],
   "source": [
    "x"
   ]
  },
  {
   "cell_type": "code",
   "execution_count": 51,
   "metadata": {},
   "outputs": [],
   "source": [
    "x = { 'name':'ayush'}"
   ]
  },
  {
   "cell_type": "code",
   "execution_count": 52,
   "metadata": {},
   "outputs": [
    {
     "name": "stdout",
     "output_type": "stream",
     "text": [
      "value is  blue\n"
     ]
    },
    {
     "data": {
      "text/plain": [
       "{'name': 'ayush', 'color': 'blue'}"
      ]
     },
     "execution_count": 52,
     "metadata": {},
     "output_type": "execute_result"
    }
   ],
   "source": [
    "\n",
    "value  = x.setdefault('color','blue')\n",
    "print(\"value is \",value)\n",
    "x"
   ]
  },
  {
   "cell_type": "code",
   "execution_count": 53,
   "metadata": {},
   "outputs": [
    {
     "data": {
      "text/plain": [
       "{'name': 'ayush', 'color': 'blue'}"
      ]
     },
     "execution_count": 53,
     "metadata": {},
     "output_type": "execute_result"
    }
   ],
   "source": [
    "x"
   ]
  },
  {
   "cell_type": "code",
   "execution_count": 54,
   "metadata": {},
   "outputs": [
    {
     "data": {
      "text/plain": [
       "'blue'"
      ]
     },
     "execution_count": 54,
     "metadata": {},
     "output_type": "execute_result"
    }
   ],
   "source": [
    "x.setdefault('color','black')"
   ]
  },
  {
   "cell_type": "code",
   "execution_count": 55,
   "metadata": {},
   "outputs": [
    {
     "data": {
      "text/plain": [
       "{'name': 'ayush', 'color': 'blue'}"
      ]
     },
     "execution_count": 55,
     "metadata": {},
     "output_type": "execute_result"
    }
   ],
   "source": [
    "x"
   ]
  },
  {
   "cell_type": "code",
   "execution_count": 56,
   "metadata": {},
   "outputs": [
    {
     "data": {
      "text/plain": [
       "{'name': 'python',\n",
       " 'version': 3.7,\n",
       " 'father': 'Guido Van Rossum',\n",
       " 'release': 1994,\n",
       " 'versions': [('python1', 1994), ('python2', 2000), ('python3', 2008)],\n",
       " 'website': 'python.org'}"
      ]
     },
     "execution_count": 56,
     "metadata": {},
     "output_type": "execute_result"
    }
   ],
   "source": [
    "data"
   ]
  },
  {
   "cell_type": "code",
   "execution_count": 57,
   "metadata": {},
   "outputs": [],
   "source": [
    "data.update(scope=\"global\",growth=\"exp\")"
   ]
  },
  {
   "cell_type": "code",
   "execution_count": 58,
   "metadata": {},
   "outputs": [
    {
     "data": {
      "text/plain": [
       "{'name': 'python',\n",
       " 'version': 3.7,\n",
       " 'father': 'Guido Van Rossum',\n",
       " 'release': 1994,\n",
       " 'versions': [('python1', 1994), ('python2', 2000), ('python3', 2008)],\n",
       " 'website': 'python.org',\n",
       " 'scope': 'global',\n",
       " 'growth': 'exp'}"
      ]
     },
     "execution_count": 58,
     "metadata": {},
     "output_type": "execute_result"
    }
   ],
   "source": [
    "data"
   ]
  },
  {
   "cell_type": "code",
   "execution_count": 59,
   "metadata": {},
   "outputs": [
    {
     "data": {
      "text/plain": [
       "{'name': 'python',\n",
       " 'version': 3.7,\n",
       " 'father': 'Guido Van Rossum',\n",
       " 'release': 1994,\n",
       " 'versions': [('python1', 1994), ('python2', 2000), ('python3', 2008)],\n",
       " 'website': 'python.org',\n",
       " 'scope': 'global',\n",
       " 'growth': 'exp',\n",
       " 'key1': 'value1',\n",
       " 'key2': 'value2'}"
      ]
     },
     "execution_count": 59,
     "metadata": {},
     "output_type": "execute_result"
    }
   ],
   "source": [
    "data.update( [ ('key1','value1'), ('key2','value2') ])\n",
    "data"
   ]
  },
  {
   "cell_type": "code",
   "execution_count": 60,
   "metadata": {},
   "outputs": [
    {
     "data": {
      "text/plain": [
       "'value1'"
      ]
     },
     "execution_count": 60,
     "metadata": {},
     "output_type": "execute_result"
    }
   ],
   "source": [
    "data.pop('key1')"
   ]
  },
  {
   "cell_type": "code",
   "execution_count": 61,
   "metadata": {},
   "outputs": [
    {
     "data": {
      "text/plain": [
       "'value2'"
      ]
     },
     "execution_count": 61,
     "metadata": {},
     "output_type": "execute_result"
    }
   ],
   "source": [
    "data.pop('key2')"
   ]
  },
  {
   "cell_type": "code",
   "execution_count": 62,
   "metadata": {},
   "outputs": [
    {
     "data": {
      "text/plain": [
       "'No such key occurs'"
      ]
     },
     "execution_count": 62,
     "metadata": {},
     "output_type": "execute_result"
    }
   ],
   "source": [
    "data.pop('ayush',\"No such key occurs\")"
   ]
  },
  {
   "cell_type": "code",
   "execution_count": 63,
   "metadata": {},
   "outputs": [
    {
     "name": "stdout",
     "output_type": "stream",
     "text": [
      "Help on built-in function popitem:\n",
      "\n",
      "popitem(...) method of builtins.dict instance\n",
      "    D.popitem() -> (k, v), remove and return some (key, value) pair as a\n",
      "    2-tuple; but raise KeyError if D is empty.\n",
      "\n"
     ]
    }
   ],
   "source": [
    "help(data.popitem)"
   ]
  },
  {
   "cell_type": "code",
   "execution_count": 65,
   "metadata": {},
   "outputs": [
    {
     "name": "stdout",
     "output_type": "stream",
     "text": [
      "D.popitem() -> (k, v), remove and return some (key, value) pair as a\n",
      "2-tuple; but raise KeyError if D is empty.\n"
     ]
    }
   ],
   "source": [
    "print(data.popitem.__doc__)"
   ]
  },
  {
   "cell_type": "markdown",
   "metadata": {},
   "source": [
    "## sets -->\n",
    "\n",
    "* set is collection of unique objects\n",
    "* set is mutable but values of sets should immutable\n",
    "* set is also unorderd "
   ]
  },
  {
   "cell_type": "code",
   "execution_count": 66,
   "metadata": {},
   "outputs": [
    {
     "data": {
      "text/plain": [
       "{'h', 'n', 'o', 'p', 't', 'y'}"
      ]
     },
     "execution_count": 66,
     "metadata": {},
     "output_type": "execute_result"
    }
   ],
   "source": [
    "set(\"python\")"
   ]
  },
  {
   "cell_type": "code",
   "execution_count": 67,
   "metadata": {},
   "outputs": [
    {
     "data": {
      "text/plain": [
       "{'a'}"
      ]
     },
     "execution_count": 67,
     "metadata": {},
     "output_type": "execute_result"
    }
   ],
   "source": [
    "set(\"aaaaaaaaaaaaaaaaaaaaaaaaaaaaaaaaaaaaaaa\")"
   ]
  },
  {
   "cell_type": "code",
   "execution_count": 83,
   "metadata": {},
   "outputs": [],
   "source": [
    "facebook = { 'java','swift','python','ruby','php','java script'}"
   ]
  },
  {
   "cell_type": "code",
   "execution_count": 84,
   "metadata": {},
   "outputs": [],
   "source": [
    "google = { 'java','python','go','matlab','R'}"
   ]
  },
  {
   "cell_type": "code",
   "execution_count": 70,
   "metadata": {},
   "outputs": [
    {
     "name": "stdout",
     "output_type": "stream",
     "text": [
      "['__and__', '__class__', '__contains__', '__delattr__', '__dir__', '__doc__', '__eq__', '__format__', '__ge__', '__getattribute__', '__gt__', '__hash__', '__iand__', '__init__', '__init_subclass__', '__ior__', '__isub__', '__iter__', '__ixor__', '__le__', '__len__', '__lt__', '__ne__', '__new__', '__or__', '__rand__', '__reduce__', '__reduce_ex__', '__repr__', '__ror__', '__rsub__', '__rxor__', '__setattr__', '__sizeof__', '__str__', '__sub__', '__subclasshook__', '__xor__', 'add', 'clear', 'copy', 'difference', 'difference_update', 'discard', 'intersection', 'intersection_update', 'isdisjoint', 'issubset', 'issuperset', 'pop', 'remove', 'symmetric_difference', 'symmetric_difference_update', 'union', 'update']\n"
     ]
    }
   ],
   "source": [
    "print(dir(facebook))"
   ]
  },
  {
   "cell_type": "code",
   "execution_count": 85,
   "metadata": {},
   "outputs": [
    {
     "data": {
      "text/plain": [
       "{'java', 'java script', 'php', 'python', 'ruby', 'swift'}"
      ]
     },
     "execution_count": 85,
     "metadata": {},
     "output_type": "execute_result"
    }
   ],
   "source": [
    "facebook"
   ]
  },
  {
   "cell_type": "code",
   "execution_count": 86,
   "metadata": {},
   "outputs": [
    {
     "data": {
      "text/plain": [
       "{'R', 'go', 'java', 'matlab', 'python'}"
      ]
     },
     "execution_count": 86,
     "metadata": {},
     "output_type": "execute_result"
    }
   ],
   "source": [
    "google"
   ]
  },
  {
   "cell_type": "code",
   "execution_count": 87,
   "metadata": {},
   "outputs": [
    {
     "data": {
      "text/plain": [
       "{'java', 'python'}"
      ]
     },
     "execution_count": 87,
     "metadata": {},
     "output_type": "execute_result"
    }
   ],
   "source": [
    "facebook.intersection(google)"
   ]
  },
  {
   "cell_type": "code",
   "execution_count": 88,
   "metadata": {},
   "outputs": [
    {
     "data": {
      "text/plain": [
       "{'java script', 'php', 'ruby', 'swift'}"
      ]
     },
     "execution_count": 88,
     "metadata": {},
     "output_type": "execute_result"
    }
   ],
   "source": [
    "facebook.difference(google)"
   ]
  },
  {
   "cell_type": "code",
   "execution_count": 89,
   "metadata": {},
   "outputs": [
    {
     "data": {
      "text/plain": [
       "{'R', 'go', 'java script', 'matlab', 'php', 'ruby', 'swift'}"
      ]
     },
     "execution_count": 89,
     "metadata": {},
     "output_type": "execute_result"
    }
   ],
   "source": [
    "facebook.symmetric_difference(google)"
   ]
  },
  {
   "cell_type": "code",
   "execution_count": 90,
   "metadata": {},
   "outputs": [
    {
     "data": {
      "text/plain": [
       "{'R', 'go', 'java', 'java script', 'matlab', 'php', 'python', 'ruby', 'swift'}"
      ]
     },
     "execution_count": 90,
     "metadata": {},
     "output_type": "execute_result"
    }
   ],
   "source": [
    "facebook.union(google)"
   ]
  },
  {
   "cell_type": "code",
   "execution_count": 91,
   "metadata": {},
   "outputs": [],
   "source": [
    "facebook.difference_update(google)"
   ]
  },
  {
   "cell_type": "code",
   "execution_count": 92,
   "metadata": {},
   "outputs": [
    {
     "data": {
      "text/plain": [
       "{'java script', 'php', 'ruby', 'swift'}"
      ]
     },
     "execution_count": 92,
     "metadata": {},
     "output_type": "execute_result"
    }
   ],
   "source": [
    "facebook"
   ]
  },
  {
   "cell_type": "code",
   "execution_count": 93,
   "metadata": {},
   "outputs": [],
   "source": [
    "facebook.add('java')"
   ]
  },
  {
   "cell_type": "code",
   "execution_count": 94,
   "metadata": {},
   "outputs": [],
   "source": [
    "facebook.update([\"c\",\"c++\",\"java\",\"java\",'python'])"
   ]
  },
  {
   "cell_type": "code",
   "execution_count": 95,
   "metadata": {},
   "outputs": [
    {
     "data": {
      "text/plain": [
       "{'c', 'c++', 'java', 'java script', 'php', 'python', 'ruby', 'swift'}"
      ]
     },
     "execution_count": 95,
     "metadata": {},
     "output_type": "execute_result"
    }
   ],
   "source": [
    "facebook"
   ]
  },
  {
   "cell_type": "code",
   "execution_count": 96,
   "metadata": {},
   "outputs": [
    {
     "data": {
      "text/plain": [
       "'c'"
      ]
     },
     "execution_count": 96,
     "metadata": {},
     "output_type": "execute_result"
    }
   ],
   "source": [
    "facebook.pop()"
   ]
  },
  {
   "cell_type": "code",
   "execution_count": 97,
   "metadata": {},
   "outputs": [],
   "source": [
    "facebook.remove('c++')"
   ]
  },
  {
   "cell_type": "code",
   "execution_count": 98,
   "metadata": {},
   "outputs": [
    {
     "data": {
      "text/plain": [
       "{'java', 'java script', 'php', 'python', 'ruby', 'swift'}"
      ]
     },
     "execution_count": 98,
     "metadata": {},
     "output_type": "execute_result"
    }
   ],
   "source": [
    "facebook"
   ]
  },
  {
   "cell_type": "code",
   "execution_count": 99,
   "metadata": {},
   "outputs": [],
   "source": [
    "facebook.discard('python')"
   ]
  },
  {
   "cell_type": "code",
   "execution_count": 100,
   "metadata": {},
   "outputs": [
    {
     "data": {
      "text/plain": [
       "{'java', 'java script', 'php', 'ruby', 'swift'}"
      ]
     },
     "execution_count": 100,
     "metadata": {},
     "output_type": "execute_result"
    }
   ],
   "source": [
    "facebook"
   ]
  },
  {
   "cell_type": "code",
   "execution_count": 101,
   "metadata": {},
   "outputs": [
    {
     "ename": "KeyError",
     "evalue": "'ayush'",
     "output_type": "error",
     "traceback": [
      "\u001b[1;31m---------------------------------------------------------------------------\u001b[0m",
      "\u001b[1;31mKeyError\u001b[0m                                  Traceback (most recent call last)",
      "\u001b[1;32m<ipython-input-101-5dd86ad9ea55>\u001b[0m in \u001b[0;36m<module>\u001b[1;34m\u001b[0m\n\u001b[1;32m----> 1\u001b[1;33m \u001b[0mfacebook\u001b[0m\u001b[1;33m.\u001b[0m\u001b[0mremove\u001b[0m\u001b[1;33m(\u001b[0m\u001b[1;34m'ayush'\u001b[0m\u001b[1;33m)\u001b[0m\u001b[1;33m\u001b[0m\u001b[1;33m\u001b[0m\u001b[0m\n\u001b[0m",
      "\u001b[1;31mKeyError\u001b[0m: 'ayush'"
     ]
    }
   ],
   "source": [
    "facebook.remove('ayush')"
   ]
  },
  {
   "cell_type": "code",
   "execution_count": 102,
   "metadata": {},
   "outputs": [],
   "source": [
    "facebook.discard('ayush')"
   ]
  },
  {
   "cell_type": "code",
   "execution_count": 103,
   "metadata": {},
   "outputs": [
    {
     "data": {
      "text/plain": [
       "{'java', 'java script', 'php', 'ruby', 'swift'}"
      ]
     },
     "execution_count": 103,
     "metadata": {},
     "output_type": "execute_result"
    }
   ],
   "source": [
    "facebook"
   ]
  },
  {
   "cell_type": "code",
   "execution_count": 104,
   "metadata": {},
   "outputs": [
    {
     "data": {
      "text/plain": [
       "{'R', 'go', 'java', 'java script', 'matlab', 'php', 'python', 'ruby', 'swift'}"
      ]
     },
     "execution_count": 104,
     "metadata": {},
     "output_type": "execute_result"
    }
   ],
   "source": [
    "u = facebook.union(google)\n",
    "u"
   ]
  },
  {
   "cell_type": "code",
   "execution_count": 105,
   "metadata": {},
   "outputs": [
    {
     "data": {
      "text/plain": [
       "False"
      ]
     },
     "execution_count": 105,
     "metadata": {},
     "output_type": "execute_result"
    }
   ],
   "source": [
    "facebook.issubset(google)"
   ]
  },
  {
   "cell_type": "code",
   "execution_count": 106,
   "metadata": {},
   "outputs": [
    {
     "data": {
      "text/plain": [
       "True"
      ]
     },
     "execution_count": 106,
     "metadata": {},
     "output_type": "execute_result"
    }
   ],
   "source": [
    "facebook.issubset(u)"
   ]
  },
  {
   "cell_type": "code",
   "execution_count": 107,
   "metadata": {},
   "outputs": [
    {
     "data": {
      "text/plain": [
       "False"
      ]
     },
     "execution_count": 107,
     "metadata": {},
     "output_type": "execute_result"
    }
   ],
   "source": [
    "facebook.isdisjoint(google)"
   ]
  },
  {
   "cell_type": "code",
   "execution_count": 108,
   "metadata": {},
   "outputs": [
    {
     "data": {
      "text/plain": [
       "{'java'}"
      ]
     },
     "execution_count": 108,
     "metadata": {},
     "output_type": "execute_result"
    }
   ],
   "source": [
    "facebook.intersection(google)"
   ]
  },
  {
   "cell_type": "code",
   "execution_count": 109,
   "metadata": {},
   "outputs": [],
   "source": [
    "facebook.remove('java')"
   ]
  },
  {
   "cell_type": "code",
   "execution_count": 110,
   "metadata": {},
   "outputs": [
    {
     "data": {
      "text/plain": [
       "True"
      ]
     },
     "execution_count": 110,
     "metadata": {},
     "output_type": "execute_result"
    }
   ],
   "source": [
    "facebook.isdisjoint(google)"
   ]
  },
  {
   "cell_type": "code",
   "execution_count": 4,
   "metadata": {},
   "outputs": [],
   "source": [
    "      # a dictionary to store the account details of a person\n",
    "Accounts= {\n",
    "        \n",
    "    2455: ([9521057735,965691556636,100000],(\"Ayush\",\"Ayush99\")),\n",
    "    2456: ([8979260543,915566542130,50000],(\"Akansha\",\"Akansha97\")),\n",
    "    2457: ([9997311805,965691241567,40000],(\"Shalini\",\"Shalini71\")),\n",
    "    2458: ([9027146654,965695463210,85000],(\"Manoj\",\"Manoj70\")),\n",
    "    2459: ([8005878724,965696428120,75000],(\"Mohit\",\"mohit98\"))\n",
    "    \n",
    "}\n",
    "\n"
   ]
  },
  {
   "cell_type": "code",
   "execution_count": 6,
   "metadata": {},
   "outputs": [],
   "source": [
    "Cricket = {         # A dictionary where cricket rules are defined\n",
    "    \n",
    "    \n",
    "         'Rules' : {\n",
    "             'Rule1' : '11 players in each Team',\n",
    "             'Rule2' : 'A pitch must be of 22 yards and there is an inner circle of 30 yards',\n",
    "             'Rule3' : 'Each over comprises of six delieveries',\n",
    "             'Rule4' : 'A match can be 20 over match or 50 over one day match or 5 day Test match',\n",
    "             'Rule5' : 'In a 20 over match,each bowler can bowl maximum of 4 overs and in one day,each bowler can bowl maximum of 10 overs and in Test match,the bowler can bowl any number of overs',\n",
    "             'Rule6' : 'In a 20-20 match,2 powerplays are there.In the 1st powerplay only 2 fielders are allowed outside the 30 yard circle and in 2nd powerplay 5 fielders are allowed outside the 30 yard circle',\n",
    "             'Rule7' : 'In one day match,3 powerplays are there.In the 1st powerplay only 2 fielders are allowed outside the 30 yard circle while in 2nd powerplay 4 fielders are allowed outside the 30 yard circle and in 3rd powerplay 5 fielders are outside yhe 30 yard circle',\n",
    "             \n",
    "         }\n",
    "}"
   ]
  },
  {
   "cell_type": "code",
   "execution_count": 1,
   "metadata": {},
   "outputs": [],
   "source": [
    "Currency = {\n",
    "    \n",
    "         'Countries' : {\n",
    "             'India' : 'Rupees',\n",
    "             'USA' : 'Dollar',\n",
    "             'England' : 'Pounds',\n",
    "             'France' : 'Euro',\n",
    "             'China' : 'Chinese Dollar',\n",
    "         }\n",
    "}"
   ]
  },
  {
   "cell_type": "code",
   "execution_count": null,
   "metadata": {},
   "outputs": [],
   "source": []
  },
  {
   "cell_type": "code",
   "execution_count": null,
   "metadata": {},
   "outputs": [],
   "source": []
  },
  {
   "cell_type": "code",
   "execution_count": null,
   "metadata": {},
   "outputs": [],
   "source": []
  },
  {
   "cell_type": "code",
   "execution_count": null,
   "metadata": {},
   "outputs": [],
   "source": []
  },
  {
   "cell_type": "code",
   "execution_count": 5,
   "metadata": {},
   "outputs": [
    {
     "data": {
      "text/plain": [
       "{2455: ([9521057735, 965691556636, 100000], ('Ayush', 'Ayush99')),\n",
       " 2456: ([8979260543, 915566542130, 50000], ('Akansha', 'Akansha97')),\n",
       " 2457: ([9997311805, 965691241567, 40000], ('Shalini', 'Shalini71')),\n",
       " 2458: ([9027146654, 965695463210, 85000], ('Manoj', 'Manoj70')),\n",
       " 2459: ([8005878724, 965696428120, 75000], ('Mohit', 'mohit98'))}"
      ]
     },
     "execution_count": 5,
     "metadata": {},
     "output_type": "execute_result"
    }
   ],
   "source": [
    "Accounts"
   ]
  },
  {
   "cell_type": "code",
   "execution_count": 8,
   "metadata": {},
   "outputs": [
    {
     "data": {
      "text/plain": [
       "{'Rules': {'Rule1': '11 players in each Team',\n",
       "  'Rule2': 'A pitch must be of 22 yards and there is an inner circle of 30 yards',\n",
       "  'Rule3': 'Each over comprises of six delieveries',\n",
       "  'Rule4': 'A match can be 20 over match or 50 over one day match or 5 day Test match',\n",
       "  'Rule5': 'In a 20 over match,each bowler can bowl maximum of 4 overs and in one day,each bowler can bowl maximum of 10 overs and in Test match,the bowler can bowl any number of overs',\n",
       "  'Rule6': 'In a 20-20 match,2 powerplays are there.In the 1st powerplay only 2 fielders are allowed outside the 30 yard circle and in 2nd powerplay 5 fielders are allowed outside the 30 yard circle',\n",
       "  'Rule7': 'In one day match,3 powerplays are there.In the 1st powerplay only 2 fielders are allowed outside the 30 yard circle while in 2nd powerplay 4 fielders are allowed outside the 30 yard circle and in 3rd powerplay 5 fielders are outside yhe 30 yard circle'}}"
      ]
     },
     "execution_count": 8,
     "metadata": {},
     "output_type": "execute_result"
    }
   ],
   "source": [
    "Cricket"
   ]
  },
  {
   "cell_type": "code",
   "execution_count": 2,
   "metadata": {},
   "outputs": [
    {
     "data": {
      "text/plain": [
       "{'Countries': {'India': 'Rupees',\n",
       "  'USA': 'Dollar',\n",
       "  'England': 'Pounds',\n",
       "  'France': 'Euro',\n",
       "  'China': 'Chinese Dollar'}}"
      ]
     },
     "execution_count": 2,
     "metadata": {},
     "output_type": "execute_result"
    }
   ],
   "source": [
    "Currency"
   ]
  },
  {
   "cell_type": "code",
   "execution_count": 3,
   "metadata": {},
   "outputs": [],
   "source": [
    "from pprint import pprint"
   ]
  },
  {
   "cell_type": "code",
   "execution_count": 8,
   "metadata": {},
   "outputs": [
    {
     "name": "stdout",
     "output_type": "stream",
     "text": [
      "{    'Rules': {    'Rule1': '11 players in each Team',\n",
      "                   'Rule2': 'A pitch must be of 22 yards and there is an inner '\n",
      "                            'circle of 30 yards',\n",
      "                   'Rule3': 'Each over comprises of six delieveries',\n",
      "                   'Rule4': 'A match can be 20 over match or 50 over one day '\n",
      "                            'match or 5 day Test match',\n",
      "                   'Rule5': 'In a 20 over match,each bowler can bowl maximum '\n",
      "                            'of 4 overs and in one day,each bowler can bowl '\n",
      "                            'maximum of 10 overs and in Test match,the bowler '\n",
      "                            'can bowl any number of overs',\n",
      "                   'Rule6': 'In a 20-20 match,2 powerplays are there.In the '\n",
      "                            '1st powerplay only 2 fielders are allowed outside '\n",
      "                            'the 30 yard circle and in 2nd powerplay 5 '\n",
      "                            'fielders are allowed outside the 30 yard circle',\n",
      "                   'Rule7': 'In one day match,3 powerplays are there.In the '\n",
      "                            '1st powerplay only 2 fielders are allowed outside '\n",
      "                            'the 30 yard circle while in 2nd powerplay 4 '\n",
      "                            'fielders are allowed outside the 30 yard circle '\n",
      "                            'and in 3rd powerplay 5 fielders are outside yhe '\n",
      "                            '30 yard circle'}}\n"
     ]
    }
   ],
   "source": [
    "pprint(Cricket,indent=5)"
   ]
  },
  {
   "cell_type": "code",
   "execution_count": null,
   "metadata": {},
   "outputs": [],
   "source": []
  }
 ],
 "metadata": {
  "kernelspec": {
   "display_name": "Python 3",
   "language": "python",
   "name": "python3"
  },
  "language_info": {
   "codemirror_mode": {
    "name": "ipython",
    "version": 3
   },
   "file_extension": ".py",
   "mimetype": "text/x-python",
   "name": "python",
   "nbconvert_exporter": "python",
   "pygments_lexer": "ipython3",
   "version": "3.7.1"
  }
 },
 "nbformat": 4,
 "nbformat_minor": 2
}
