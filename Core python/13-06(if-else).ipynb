{
 "cells": [
  {
   "cell_type": "markdown",
   "metadata": {},
   "source": [
    "#### Conditional or Decision Statements"
   ]
  },
  {
   "cell_type": "markdown",
   "metadata": {},
   "source": [
    "if - else are conditinal statemetns"
   ]
  },
  {
   "cell_type": "code",
   "execution_count": 6,
   "metadata": {},
   "outputs": [
    {
     "name": "stdout",
     "output_type": "stream",
     "text": [
      "Enter your name :ayush\n",
      "Hello Mr ayush\n"
     ]
    }
   ],
   "source": [
    "name = input(\"Enter your name :\").strip()\n",
    "if name:\n",
    "    print( f\"Hello Mr {name}\")"
   ]
  },
  {
   "cell_type": "code",
   "execution_count": 5,
   "metadata": {},
   "outputs": [
    {
     "ename": "IndentationError",
     "evalue": "unexpected indent (<ipython-input-5-e56219962781>, line 2)",
     "output_type": "error",
     "traceback": [
      "\u001b[1;36m  File \u001b[1;32m\"<ipython-input-5-e56219962781>\"\u001b[1;36m, line \u001b[1;32m2\u001b[0m\n\u001b[1;33m    print(\"hi world\")\u001b[0m\n\u001b[1;37m    ^\u001b[0m\n\u001b[1;31mIndentationError\u001b[0m\u001b[1;31m:\u001b[0m unexpected indent\n"
     ]
    }
   ],
   "source": [
    "print(\"hello world\")\n",
    "    print(\"hi world\")\n",
    "print(\"bye world\")"
   ]
  },
  {
   "cell_type": "code",
   "execution_count": 6,
   "metadata": {},
   "outputs": [
    {
     "name": "stdout",
     "output_type": "stream",
     "text": [
      "5\n"
     ]
    }
   ],
   "source": [
    "x                =            5\n",
    "print(x)"
   ]
  },
  {
   "cell_type": "code",
   "execution_count": 7,
   "metadata": {},
   "outputs": [
    {
     "name": "stdout",
     "output_type": "stream",
     "text": [
      " \n",
      "' '\n"
     ]
    }
   ],
   "source": [
    "x = input()\n",
    "print(repr(x))"
   ]
  },
  {
   "cell_type": "code",
   "execution_count": 11,
   "metadata": {},
   "outputs": [
    {
     "name": "stdout",
     "output_type": "stream",
     "text": [
      "before if\n",
      "Inside If\n",
      "After if \n"
     ]
    }
   ],
   "source": [
    "print(\"before if\")\n",
    "if True : \n",
    "    print(\"Inside If\")\n",
    "print(\"After if \")"
   ]
  },
  {
   "cell_type": "code",
   "execution_count": 10,
   "metadata": {},
   "outputs": [
    {
     "name": "stdout",
     "output_type": "stream",
     "text": [
      "before if\n",
      "After if \n"
     ]
    }
   ],
   "source": [
    "print(\"before if\")\n",
    "if False : \n",
    "    print(\"Inside If\")\n",
    "print(\"After if \")"
   ]
  },
  {
   "cell_type": "code",
   "execution_count": 12,
   "metadata": {},
   "outputs": [
    {
     "name": "stdout",
     "output_type": "stream",
     "text": [
      "Enter your choice :     Y    e   s\n",
      "Bhag ja yaha se\n"
     ]
    }
   ],
   "source": [
    "a = input(\"Enter your choice : \").strip().lower()\n",
    "if a=='yes' or a=='y':\n",
    "    print(\"Welcome\")\n",
    "else:\n",
    "    print(\"Bhag ja yaha se\")"
   ]
  },
  {
   "cell_type": "code",
   "execution_count": 11,
   "metadata": {},
   "outputs": [
    {
     "data": {
      "text/plain": [
       "['h', 'e', 'l', 'l', 'o']"
      ]
     },
     "execution_count": 11,
     "metadata": {},
     "output_type": "execute_result"
    }
   ],
   "source": [
    "'h e l l o'.split()"
   ]
  },
  {
   "cell_type": "code",
   "execution_count": 13,
   "metadata": {},
   "outputs": [
    {
     "data": {
      "text/plain": [
       "'hello'"
      ]
     },
     "execution_count": 13,
     "metadata": {},
     "output_type": "execute_result"
    }
   ],
   "source": [
    "\"\".join(\"   h e l l o   \".split())"
   ]
  },
  {
   "cell_type": "code",
   "execution_count": 12,
   "metadata": {},
   "outputs": [
    {
     "data": {
      "text/plain": [
       "'hello'"
      ]
     },
     "execution_count": 12,
     "metadata": {},
     "output_type": "execute_result"
    }
   ],
   "source": [
    "\"\".join(['h', 'e', 'l', 'l', 'o'])"
   ]
  },
  {
   "cell_type": "code",
   "execution_count": 14,
   "metadata": {},
   "outputs": [
    {
     "name": "stdout",
     "output_type": "stream",
     "text": [
      "Enter your name :         y   e     s\n",
      "Welcome\n"
     ]
    }
   ],
   "source": [
    "ch = \"\".join(input(\"Enter your name : \").split()).lower()\n",
    "if ch=='yes' or ch=='y':\n",
    "    print(\"Welcome\")\n",
    "else:\n",
    "    print(\"Bhag ja yaha se\")"
   ]
  },
  {
   "cell_type": "code",
   "execution_count": 7,
   "metadata": {},
   "outputs": [
    {
     "name": "stdout",
     "output_type": "stream",
     "text": [
      "Enter a number : 13\n",
      "Even\n"
     ]
    }
   ],
   "source": [
    "num = int(input(\"Enter a number : \"))\n",
    "if num%2:\n",
    "    print(\"odd\")\n",
    "else:\n",
    "    print(\"even\")"
   ]
  },
  {
   "cell_type": "code",
   "execution_count": 16,
   "metadata": {},
   "outputs": [
    {
     "name": "stdout",
     "output_type": "stream",
     "text": [
      "Age : 19\n",
      "You can drink\n"
     ]
    }
   ],
   "source": [
    "if int(input(\"Age : \"))>18:\n",
    "    print(\"You can drink\")\n",
    "else:\n",
    "    print(\"You can not drink\")"
   ]
  },
  {
   "cell_type": "code",
   "execution_count": 13,
   "metadata": {},
   "outputs": [
    {
     "name": "stdout",
     "output_type": "stream",
     "text": [
      "Enter the first number4\n",
      "Enter the second number5\n",
      "Enter the third number6\n",
      "4 5 6\n"
     ]
    }
   ],
   "source": [
    "a = int(input(\"Enter the first number\"))\n",
    "b = int(input(\"Enter the second number\"))\n",
    "c = int(input(\"Enter the third number\"))\n",
    "print(repr(a),repr(b),repr(c))"
   ]
  },
  {
   "cell_type": "code",
   "execution_count": 14,
   "metadata": {},
   "outputs": [
    {
     "data": {
      "text/plain": [
       "[4, 5, 6]"
      ]
     },
     "execution_count": 14,
     "metadata": {},
     "output_type": "execute_result"
    }
   ],
   "source": [
    "list(map(int,['4','5','6']))"
   ]
  },
  {
   "cell_type": "code",
   "execution_count": 18,
   "metadata": {},
   "outputs": [
    {
     "name": "stdout",
     "output_type": "stream",
     "text": [
      "a,b,c : 4,5,6\n",
      "c is greatest\n"
     ]
    }
   ],
   "source": [
    "a,b,c = map(int,input(\"a,b,c : \").split(\",\"))\n",
    "\n",
    "if a>=b:\n",
    "    if a>=c:\n",
    "        print(\"a is greatest\")\n",
    "elif b>=c :\n",
    "    print(\"b is greatest\")\n",
    "else :\n",
    "    print(\"c is greatest\")"
   ]
  },
  {
   "cell_type": "code",
   "execution_count": 19,
   "metadata": {},
   "outputs": [
    {
     "name": "stdout",
     "output_type": "stream",
     "text": [
      "a b c : 4 5 6\n",
      "6 is greatest\n"
     ]
    }
   ],
   "source": [
    "a,b,c = map(int,input(\"a b c : \").split())\n",
    "\n",
    "if a>b and a>c:\n",
    "    print(f\"{a} is greatest\")\n",
    "elif b>c:\n",
    "    print(f\"{b} is greatest\")\n",
    "else:\n",
    "    print(f\"{c} is greatest\")"
   ]
  },
  {
   "cell_type": "code",
   "execution_count": 20,
   "metadata": {},
   "outputs": [
    {
     "name": "stdout",
     "output_type": "stream",
     "text": [
      "x y z : 2 6 10\n",
      "10 is greatest\n"
     ]
    }
   ],
   "source": [
    "x,y,z = map(int,input(\"x y z : \").split())\n",
    "\n",
    "if x>y and x>z:\n",
    "    f=x\n",
    "elif y>z:\n",
    "    f=y\n",
    "else:\n",
    "    f=z\n",
    "    \n",
    "print(f\"{f} is greatest\")"
   ]
  },
  {
   "cell_type": "code",
   "execution_count": 34,
   "metadata": {},
   "outputs": [
    {
     "name": "stdout",
     "output_type": "stream",
     "text": [
      "Enter your job :(Private,Government,Business)      p\n",
      "You will not get any loan\n"
     ]
    }
   ],
   "source": [
    "# Loan approval\n",
    "ch = input(\"Enter your job :(Private,Government,Business)\").strip().lower()\n",
    "if ch == \"government\" or ch ==\"g\":\n",
    "    salary = int(input(\"Enter your salary : \"))\n",
    "    if salary >=50000:\n",
    "        print(\"Submit your documents as soon as possible\")\n",
    "    else:\n",
    "        print(\"You will get loan upto 2 lakhs\")\n",
    "elif ch==\"private\" or ch ==\"p\":\n",
    "    print(\"You will not get any loan\")\n",
    "elif ch ==\"businessman\" or ch ==\"b\":\n",
    "    turnover = int(input(\"Enter your turnover : \"))\n",
    "    if turnover >= 2000000 :\n",
    "        print(\"We will provide you loan as soon as possible\")\n",
    "    else:\n",
    "        print(\"Loan will not be approved\")\n",
    "else:\n",
    "    pass\n",
    "    "
   ]
  },
  {
   "cell_type": "code",
   "execution_count": 2,
   "metadata": {},
   "outputs": [
    {
     "name": "stdout",
     "output_type": "stream",
     "text": [
      "Player1 choice  : ········\n",
      "Player2 choce   : ········\n",
      "\n",
      "\n",
      "\n",
      "Processing -------> \n",
      "\n",
      "\n",
      "\n",
      "Player1 choice :  rock\n",
      "Player 2 choice :  scissor\n",
      "Player 1 wins\n"
     ]
    }
   ],
   "source": [
    "# Rock,Paper,Scissor\n",
    "from time import sleep\n",
    "from getpass import getpass\n",
    "from random import randint\n",
    "ch1=getpass(\"Player1 choice  : \")\n",
    "ch2=getpass(\"Player2 choce   : \")\n",
    "print(\"\\n\\n\")\n",
    "print(\"Processing -------> \")\n",
    "sleep(randint(1,4))\n",
    "print(\"\\n\\n\")\n",
    "print(\"Player1 choice : \",ch1)\n",
    "print(\"Player 2 choice : \",ch2)\n",
    "p1_win = ((\"rock\",\"scissor\"),(\"paper\",\"rock\"),(\"scissor\",\"paper\"))\n",
    "\n",
    "if (ch1,ch2) in p1_win:\n",
    "    print(\"Player 1 wins\")\n",
    "elif ch1 == ch2:\n",
    "    print(\"Match Tied\")\n",
    "else:\n",
    "    print(\"Player 2 wins\")\n",
    "    "
   ]
  },
  {
   "cell_type": "code",
   "execution_count": 6,
   "metadata": {},
   "outputs": [
    {
     "name": "stdout",
     "output_type": "stream",
     "text": [
      "player's choice R|P|S  : ········\n",
      "Processing --------> \n",
      "Match tied\n",
      "Computer's choice r\n"
     ]
    }
   ],
   "source": [
    "from getpass import getpass\n",
    "from time import sleep\n",
    "from random import choice\n",
    "c = choice((\"r\",\"p\",\"s\"))\n",
    "p = getpass(\"player's choice R|P|S  : \").strip().lower()\n",
    "print(\"Processing --------> \")\n",
    "\n",
    "if p==\"r\" and c=='s' or p==\"p\" and c==\"r\" or p==\"s\" and c==\"p\":\n",
    "    sleep(3)\n",
    "    print(\"player wins\")\n",
    "    print(\"comp's choice\",c)\n",
    "elif p == c:\n",
    "    sleep(3)\n",
    "    print(\"Match tied\")\n",
    "    print(\"Computer's choice\",c)\n",
    "else:\n",
    "    sleep(3)\n",
    "    print(\"Computer wins\")\n",
    "    print(\"Computer's choice\",c)"
   ]
  },
  {
   "cell_type": "code",
   "execution_count": 4,
   "metadata": {},
   "outputs": [
    {
     "data": {
      "text/plain": [
       "'rock'"
      ]
     },
     "execution_count": 4,
     "metadata": {},
     "output_type": "execute_result"
    }
   ],
   "source": [
    "from random import choice\n",
    "choice(('rock','paper','scissor'))\n"
   ]
  },
  {
   "cell_type": "code",
   "execution_count": 5,
   "metadata": {},
   "outputs": [
    {
     "name": "stdout",
     "output_type": "stream",
     "text": [
      "Player's Choice : ········\n",
      "\n",
      "\n",
      "\n",
      "..............Processing.............\n",
      "\n",
      "\n",
      "\n",
      "Computer's Choice :  paper\n",
      "Player's Choice :  scissor\n",
      "\n",
      "\n",
      "Player has Won the Game\n"
     ]
    }
   ],
   "source": [
    " # Rock, Paper, Scissor\n",
    "from random import randint,choice\n",
    "from time import sleep\n",
    "from getpass import getpass\n",
    "ch1 = choice([\"rock\",\"paper\",\"scissor\"])\n",
    "ch2 = getpass(\"Player's Choice : \")\n",
    "print(\"\\n\\n\")\n",
    "print(\"..............Processing.............\")\n",
    "sleep(randint(1,4))\n",
    "print(\"\\n\\n\")\n",
    "print(\"Computer's Choice : \",ch1)\n",
    "print(\"Player's Choice : \",ch2)\n",
    "print(\"\\n\")\n",
    "p1_win =((\"rock\",\"scissor\"),(\"paper\",\"rock\"),(\"scissor\",\"paper\"))\n",
    "if (ch1,ch2) in p1_win : \n",
    "    print(\"Computer Has Won the Game\")\n",
    "elif ch1 == ch2 : \n",
    "    print(\"Match Tie\")\n",
    "else : \n",
    "    print(\"Player has Won the Game\")"
   ]
  },
  {
   "cell_type": "code",
   "execution_count": 3,
   "metadata": {},
   "outputs": [
    {
     "name": "stdout",
     "output_type": "stream",
     "text": [
      "Press any key to start k\n",
      "Enter a number ---> 50\n",
      "Think Smaller\n",
      "Enter a number ---> 40\n",
      "Think Smaller\n",
      "Enter a number ---> 30\n",
      "Think Smaller\n",
      "Enter a number ---> 20\n",
      "Think Bigger\n",
      "Enter a number ---> 25\n",
      "!!!You Win!!!\n",
      "Press any key to start \n"
     ]
    }
   ],
   "source": [
    "from random import randint\n",
    "from time import sleep\n",
    "while input(\"Press any key to start \"):\n",
    "    c = randint(1,100)\n",
    "    choice = 5\n",
    "    while choice >0:\n",
    "        p = int(input(\"Enter a number ---> \"))\n",
    "        if p==c:\n",
    "            sleep(3)\n",
    "            print(\"!!!You Win!!!\")\n",
    "            break\n",
    "        elif p>c:\n",
    "            sleep(2)\n",
    "            print(\"Think Smaller\")\n",
    "        else:\n",
    "            sleep(2)\n",
    "            print(\"Think Bigger\")\n",
    "        choice-=1\n",
    "    else:\n",
    "        sleep(3)\n",
    "        print(\"!!!Computer wins!!!\")\n",
    "        print(\"Computer's Choice \",c)"
   ]
  },
  {
   "cell_type": "code",
   "execution_count": null,
   "metadata": {},
   "outputs": [],
   "source": []
  }
 ],
 "metadata": {
  "kernelspec": {
   "display_name": "Python 3",
   "language": "python",
   "name": "python3"
  },
  "language_info": {
   "codemirror_mode": {
    "name": "ipython",
    "version": 3
   },
   "file_extension": ".py",
   "mimetype": "text/x-python",
   "name": "python",
   "nbconvert_exporter": "python",
   "pygments_lexer": "ipython3",
   "version": "3.7.1"
  }
 },
 "nbformat": 4,
 "nbformat_minor": 2
}
