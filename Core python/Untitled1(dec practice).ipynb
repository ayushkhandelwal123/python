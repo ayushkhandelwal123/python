{
 "cells": [
  {
   "cell_type": "code",
   "execution_count": 1,
   "metadata": {},
   "outputs": [],
   "source": [
    "def dec(old_fun):\n",
    "    def fun(*args,**kwargs):\n",
    "        print(\"*\"*50)\n",
    "        print(\"*\"*50)\n",
    "        print()\n",
    "        old_fun(*args,**kwargs)\n",
    "        print()\n",
    "        print(\"*\"*50)\n",
    "        print(\"*\"*50)\n",
    "    return fun"
   ]
  },
  {
   "cell_type": "code",
   "execution_count": 2,
   "metadata": {},
   "outputs": [
    {
     "name": "stdout",
     "output_type": "stream",
     "text": [
      "**************************************************\n",
      "**************************************************\n",
      "\n",
      "              Welcome To Decorators               \n",
      "\n",
      "**************************************************\n",
      "**************************************************\n"
     ]
    }
   ],
   "source": [
    "@dec\n",
    "def hello():\n",
    "    print(\"Welcome To Decorators\".center(50))\n",
    "    \n",
    "hello()"
   ]
  },
  {
   "cell_type": "code",
   "execution_count": null,
   "metadata": {},
   "outputs": [],
   "source": []
  }
 ],
 "metadata": {
  "kernelspec": {
   "display_name": "Python 3",
   "language": "python",
   "name": "python3"
  },
  "language_info": {
   "codemirror_mode": {
    "name": "ipython",
    "version": 3
   },
   "file_extension": ".py",
   "mimetype": "text/x-python",
   "name": "python",
   "nbconvert_exporter": "python",
   "pygments_lexer": "ipython3",
   "version": "3.7.1"
  }
 },
 "nbformat": 4,
 "nbformat_minor": 2
}
