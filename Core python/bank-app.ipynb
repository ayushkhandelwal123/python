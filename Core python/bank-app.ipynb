{
 "cells": [
  {
   "cell_type": "code",
   "execution_count": 20,
   "metadata": {},
   "outputs": [
    {
     "name": "stdout",
     "output_type": "stream",
     "text": [
      "$$$$$$$$$$$$$$$$$$$$$$$$$$$$$$$$$$$$$$$$$$$$$$$$$$$$$$$$$$$$$$$$$$$$$$$$$$$$$$$$$$$$$$$$$$$$$$$$$$$$$$$$$$$$$$$$$$$$\n",
      "#                                                                                                                  #\n",
      "#                                                                                                                  #\n",
      "#                                        Hello,Welcome To State Bank Of India                                      #\n",
      "#                                                                                                                  #\n",
      "#                                                                                                                  #\n",
      "$$$$$$$$$$$$$$$$$$$$$$$$$$$$$$$$$$$$$$$$$$$$$$$$$$$$$$$$$$$$$$$$$$$$$$$$$$$$$$$$$$$$$$$$$$$$$$$$$$$$$$$$$$$$$$$$$$$$\n",
      "Enter your choice ------> \n",
      "\n",
      " 1.SignUp \n",
      " 2.Login \n",
      " 3.View Account Details ---->\t3\n",
      "Please wait.....\n",
      "Enter the account number ----->2460\n",
      "Name is gaurav \n",
      "\n",
      "Balance is 35000\n",
      "If you want to continue press yes else press any key : y\n",
      "Enter your choice ------> \n",
      "\n",
      " 1.SignUp \n",
      " 2.Login \n",
      " 3.View Account Details ---->\t1\n",
      "Please wait.....\n",
      "$$$$$$$$$$$$$$$$$$$$$$$$$$$$$$$$$$$$$$$$$$$$$$$$$$$$$$$$$$$$$$$$$$$$$$$$$$$$$$$$$$$$$$$$$$$$$$$$$$$$$$$$$$$$$$$$$$$$\n",
      "#                                                                                                                  #\n",
      "#                                                                                                                  #\n",
      "#                                                  Create Account                                                  #\n",
      "#                                                                                                                  #\n",
      "#                                                                                                                  #\n",
      "$$$$$$$$$$$$$$$$$$$$$$$$$$$$$$$$$$$$$$$$$$$$$$$$$$$$$$$$$$$$$$$$$$$$$$$$$$$$$$$$$$$$$$$$$$$$$$$$$$$$$$$$$$$$$$$$$$$$\n",
      "\n",
      "Enter your age ---->20\n",
      "\n",
      "You are eligible for creating account\n",
      "\n",
      " \n",
      "\n",
      "Enter your name ----->rajat\n",
      "****************************** Condition For Password ******************************\n",
      "1.Password length must be less than 15\n",
      "2.Password must have at least one digit\n",
      "Enter your Password -------->········\n",
      "Confirm Your Password ------->········\n",
      "\n",
      "Enter your current balance ----->50000\n",
      "\n",
      "Your account number is ---->  2462\n",
      "**************************************** Account Created Successfully ****************************************\n",
      "If you want to continue press yes else press any key : \n",
      "$$$$$$$$$$$$$$$$$$$$$$$$$$$$$$$$$$$$$$$$$$$$$$$$$$$$$$$$$$$$$$$$$$$$$$$$$$$$$$$$$$$$$$$$$$$$$$$$$$$$$$$$$$$$$$$$$$$$\n",
      "#                                                                                                                  #\n",
      "#                                                                                                                  #\n",
      "#                                                Thanks For Banking With Us                                        #\n",
      "#                                                                                                                  #\n",
      "#                                                                                                                  #\n",
      "$$$$$$$$$$$$$$$$$$$$$$$$$$$$$$$$$$$$$$$$$$$$$$$$$$$$$$$$$$$$$$$$$$$$$$$$$$$$$$$$$$$$$$$$$$$$$$$$$$$$$$$$$$$$$$$$$$$$\n"
     ]
    }
   ],
   "source": [
    "from time import sleep\n",
    "from getpass import getpass\n",
    "import os\n",
    "import json\n",
    "\n",
    "fp=open(\"bank3.db\")\n",
    "\n",
    "\n",
    "\n",
    "def dec(fun):\n",
    "    def inner():\n",
    "        for i in range(1,8):\n",
    "            if i==1 or i==7:\n",
    "                print(\"$\"*116)\n",
    "            if i==4:\n",
    "                fun()\n",
    "            if i!=1 and i!=7 and i!=4:\n",
    "                print(\"#\",\" \"*114,\"#\",sep=\"\")\n",
    "    return inner\n",
    "\n",
    "def process():\n",
    "    print(\"Please wait\",end=\"\")\n",
    "    for i in range(1,6):\n",
    "        print(\".\",end=\"\")\n",
    "        sleep(1)\n",
    "        \n",
    "#A dictionary where all the account details of a person are stored.\n",
    "\n",
    "\n",
    "\n",
    "\n",
    "\n",
    "@dec\n",
    "def fun3():\n",
    "    print(\"#\",\" \"*40,\"Hello,Welcome To State Bank Of India\",\" \"*38,\"#\",sep=\"\")\n",
    "    \n",
    "fun3()\n",
    "\n",
    "sleep(2)\n",
    "\n",
    "\n",
    "def Create_Account():\n",
    "    @dec\n",
    "    def fun4():\n",
    "        print(\"#\",\" \"*50,\"Create Account\",\" \"*50,\"#\",sep=\"\")\n",
    "    fun4()\n",
    "    Docs = []\n",
    "    age = int(input(\"\\nEnter your age ---->\"))\n",
    "    if age>=18:\n",
    "        print(\"\\nYou are eligible for creating account\\n\\n \")\n",
    "        name = input(\"\\nEnter your name ----->\")\n",
    "        print(\"*\"*30,\"Condition For Password\",\"*\"*30)\n",
    "        print(\"1.Password length must be less than 15\")\n",
    "        print(\"2.Password must have at least one digit\")\n",
    "        pswd=getpass(\"Enter your Password -------->\")\n",
    "        confirm_password=getpass(\"Confirm Your Password ------->\")\n",
    "        Bal = int(input(\"\\nEnter your current balance ----->\"))\n",
    "        acc_list=list(Accounts)\n",
    "        acc_no=acc_list[-1]+1\n",
    "        print(\"\\nYour account number is ----> \",acc_no)\n",
    "        \n",
    "        def digit(pswd):\n",
    "                count=0\n",
    "                for i in pswd:\n",
    "                    if i.isdigit():\n",
    "                            count+=1\n",
    "                    else:\n",
    "                        pass\n",
    "                else:\n",
    "                    if count>=2:\n",
    "                        return True\n",
    "                    else:\n",
    "                        return False\n",
    "        if pswd==confirm_password and len(pswd)<12 and digit(pswd):\n",
    "            \n",
    "            Docs.append(name)\n",
    "            Docs.append(pswd)\n",
    "            Docs.append(Bal)\n",
    "            dict_values=(Docs)\n",
    "            Accounts[acc_no]=dict_values\n",
    "            print(\"*\"*40,\"Account Created Successfully\",\"*\"*40)\n",
    "        else:\n",
    "            print(\"Incorrect Password\")\n",
    "        \n",
    "    else:\n",
    "        print (\"\\n\\nPerson Having age 18 or above are eligible to create account\")\n",
    "        \n",
    "        \n",
    "def Banking(Accounts):\n",
    "    acc_no=int(input(\"\\nEnter your Account number : \"))\n",
    "    password=getpass(\"\\nEnter your password : \")\n",
    "    if acc_no in Accounts.keys() and password==Accounts[acc_no][1]:\n",
    "        c=int(input(\"\\nEnter your choce of banking ------> \\n\\n1.Debit  \\n2.Credit  \\n3.Check Bal \\n4.Logout\"))\n",
    "        if c==1:\n",
    "              Debit(Accounts,acc_no)\n",
    "        elif c==2:\n",
    "              Credit(Accounts,acc_no)\n",
    "        elif c==3:\n",
    "              Check_Bal(Accounts,acc_no)\n",
    "        elif c==4:\n",
    "            Log_out()\n",
    "        else:\n",
    "              print(\"\\nEnter correct choice\")\n",
    "    else:\n",
    "        print(\"\\nEnter correct account no and password\")\n",
    "        \n",
    "def banking(Accounts,acc_no):\n",
    "    ch = int(input(\"Enter your choice of Banking \\n\\n1.Debit \\n2.Credit \\n3.Check Bal \\n4.Logout\"))\n",
    "    if ch==1:\n",
    "        Debit(Accounts,acc_no)\n",
    "    elif ch==2:\n",
    "        Credit(Accounts,acc_no)\n",
    "    elif ch==3:\n",
    "        Check_Bal(Accounts,acc_no)\n",
    "    elif ch==4:\n",
    "        Log_out()\n",
    "                \n",
    "def Debit(Accounts,acc_no):\n",
    "    amt=int(input(\"Enter the amount to be debited : \"))\n",
    "    if amt>=500 and amt<Accounts[acc_no][2]:\n",
    "        Accounts[acc_no][2]-=amt\n",
    "        print(\"\\nThe updated balance is : \",Accounts[acc_no][2])\n",
    "        banking(Accounts,acc_no)\n",
    "    else:\n",
    "        print(f\"The amount that is to be withdrawed is greater than or equal to 500 and less than {Accounts[acc_no][2]}\")\n",
    "        banking(Accounts,acc_no)\n",
    "\n",
    "def Credit(Accounts,acc_no):\n",
    "    amount=int(input(\"Enter the amount to be credited : \"))\n",
    "    if amount>=1000:\n",
    "        Accounts[acc_no][0][2]+=amount\n",
    "        print(\"\\nThe updated balance is : \",Accounts[acc_no][2])\n",
    "        banking(Accounts,acc_no)\n",
    "    else:\n",
    "        print(\"\\nThe amount that is to be deposited is greater than or equal to 1000\") \n",
    "        \n",
    "def Check_Bal(Accounts,acc_no):\n",
    "    print(\"\\nThe balance is :\",Accounts[acc_no][2])\n",
    "    banking(Accounts,acc_no)\n",
    "    \n",
    "def Log_out():\n",
    "    press = input(\"\\nAre you sure you want to logout : \")\n",
    "    if press.casefold()=='yes' or press.casefold()=='y':\n",
    "        print(\"\\nYou have been logged out successfully\")\n",
    "        \n",
    "        \n",
    "    else:\n",
    "        pass\n",
    "        \n",
    "def View_AccountDetails(Accounts):\n",
    "    acc_no = int(input(\"Enter the account number ----->\"))\n",
    "    if acc_no in Accounts.keys():\n",
    "        json.load(fp)\n",
    "        print(f\"Name is {Accounts[acc_no][0]} \\n\\nBalance is {Accounts[acc_no][2]}\")\n",
    "    else:\n",
    "        print(\"Enter the valid account number\")\n",
    "    \n",
    "    \n",
    "    \n",
    "\n",
    "\n",
    "while True:\n",
    "        choice=int(input(\"Enter your choice ------> \\n\\n 1.SignUp \\n 2.Login \\n 3.View Account Details ---->\\t\"))\n",
    "        process()\n",
    "        print()\n",
    "        if choice==1:\n",
    "            Create_Account()\n",
    "        elif choice==2:\n",
    "            Banking(Accounts)\n",
    "        elif choice==3:\n",
    "            View_AccountDetails(Accounts)\n",
    "        else:\n",
    "            print(\"Please Enter the correct choice\")\n",
    "        press_character=input(\"If you want to continue press yes else press any key : \").strip()\n",
    "        if press_character.casefold()=='yes' or press_character.casefold()=='y':\n",
    "            os.system(\"cls\")\n",
    "\n",
    "        else:\n",
    "            @dec\n",
    "            def fun2():\n",
    "                    print(\"#\",\" \"*48,\"Thanks For Banking With Us\",\" \"*40,\"#\",sep=\"\")\n",
    "                    fp=open(\"bank3.db\",\"w\")\n",
    "                    json.dump(Accounts,fp,indent=10)\n",
    "                    fp.close()\n",
    "            fun2()\n",
    "            break\n"
   ]
  },
  {
   "cell_type": "code",
   "execution_count": 22,
   "metadata": {},
   "outputs": [
    {
     "data": {
      "text/plain": [
       "{2455: ['Ayush', 'Ayush99', 100000],\n",
       " 2456: ['Akansha', 'Akansha99', 50000],\n",
       " 2457: ['Shalini', 'Shalini71', 40000],\n",
       " 2458: ['Manoj', 'Manoj70', 85000],\n",
       " 2459: ['Mohit', 'Mohit98', 75000],\n",
       " 2460: ['gaurav', 'gaurav123', 35000],\n",
       " 2461: ['karan', 'karan123', 38500],\n",
       " 2462: ['rajat', 'raj123', 50000]}"
      ]
     },
     "execution_count": 22,
     "metadata": {},
     "output_type": "execute_result"
    }
   ],
   "source": [
    "Accounts"
   ]
  },
  {
   "cell_type": "code",
   "execution_count": 52,
   "metadata": {},
   "outputs": [
    {
     "data": {
      "text/plain": [
       "5"
      ]
     },
     "execution_count": 52,
     "metadata": {},
     "output_type": "execute_result"
    }
   ],
   "source": [
    "len(Accounts)"
   ]
  },
  {
   "cell_type": "code",
   "execution_count": 3,
   "metadata": {},
   "outputs": [],
   "source": [
    "import json"
   ]
  },
  {
   "cell_type": "code",
   "execution_count": 3,
   "metadata": {},
   "outputs": [],
   "source": [
    "bank_app={\n",
    "    '2455':{'name':'Ayush','password':'Ayush99','Bal':100000},\n",
    "    '2456':{'name':'Akansha','password':'Akansha99','Bal':50000},\n",
    "    '2457':{'name':'Shalini','password':'Shalini71','Bal':40000},\n",
    "    '2458':{'name':'Manoj','password':'Manoj70','Bal':85000},\n",
    "    '2459':{'name':'Mohit','password':'Mohit98','Bal':75000},\n",
    "}"
   ]
  },
  {
   "cell_type": "code",
   "execution_count": 5,
   "metadata": {},
   "outputs": [],
   "source": [
    "fp = open(\"bank2.db\",\"w\")\n",
    "fp.write(json.dumps(bank_app,indent=10))\n",
    "fp.close()"
   ]
  },
  {
   "cell_type": "code",
   "execution_count": 6,
   "metadata": {},
   "outputs": [],
   "source": [
    "fp = open(\"bank2.db\")\n",
    "data  = json.loads(fp.read())\n",
    "fp.close()"
   ]
  },
  {
   "cell_type": "code",
   "execution_count": 14,
   "metadata": {},
   "outputs": [
    {
     "name": "stdout",
     "output_type": "stream",
     "text": [
      "['_CHUNK_SIZE', '__class__', '__del__', '__delattr__', '__dict__', '__dir__', '__doc__', '__enter__', '__eq__', '__exit__', '__format__', '__ge__', '__getattribute__', '__getstate__', '__gt__', '__hash__', '__init__', '__init_subclass__', '__iter__', '__le__', '__lt__', '__ne__', '__new__', '__next__', '__reduce__', '__reduce_ex__', '__repr__', '__setattr__', '__sizeof__', '__str__', '__subclasshook__', '_checkClosed', '_checkReadable', '_checkSeekable', '_checkWritable', '_finalizing', 'buffer', 'close', 'closed', 'detach', 'encoding', 'errors', 'fileno', 'flush', 'isatty', 'line_buffering', 'mode', 'name', 'newlines', 'read', 'readable', 'readline', 'readlines', 'seek', 'seekable', 'tell', 'truncate', 'writable', 'write', 'writelines']\n"
     ]
    }
   ],
   "source": [
    "print(dir(fp))"
   ]
  },
  {
   "cell_type": "code",
   "execution_count": 15,
   "metadata": {},
   "outputs": [],
   "source": [
    "fp.mode?"
   ]
  },
  {
   "cell_type": "code",
   "execution_count": 15,
   "metadata": {},
   "outputs": [],
   "source": [
    "#A dictionary where all the account details of a person are stored.\n",
    "Accounts={\n",
    "    2455: ([\"Ayush\",\"Ayush99\",100000]),\n",
    "    2456: ([\"Akansha\",\"Akansha99\",50000]),\n",
    "    2457: ([\"Shalini\",\"Shalini71\",40000]),\n",
    "    2458: ([\"Manoj\",\"Manoj70\",85000]),\n",
    "    2459: ([\"Mohit\",\"Mohit98\",75000])}"
   ]
  },
  {
   "cell_type": "code",
   "execution_count": 16,
   "metadata": {},
   "outputs": [],
   "source": [
    "fp = open(\"bank3.db\",\"w+\")\n",
    "fp.write(json.dumps(Accounts,indent=10))\n",
    "fp.close()"
   ]
  },
  {
   "cell_type": "code",
   "execution_count": 17,
   "metadata": {},
   "outputs": [],
   "source": [
    "fp = open(\"bank3.db\")\n",
    "data  = json.loads(fp.read())\n",
    "fp.close()"
   ]
  },
  {
   "cell_type": "code",
   "execution_count": 21,
   "metadata": {},
   "outputs": [
    {
     "data": {
      "text/plain": [
       "{2455: ['Ayush', 'Ayush99', 100000],\n",
       " 2456: ['Akansha', 'Akansha99', 50000],\n",
       " 2457: ['Shalini', 'Shalini71', 40000],\n",
       " 2458: ['Manoj', 'Manoj70', 85000],\n",
       " 2459: ['Mohit', 'Mohit98', 75000],\n",
       " 2460: ['gaurav', 'gaurav123', 35000],\n",
       " 2461: ['karan', 'karan123', 38500],\n",
       " 2462: ['rajat', 'raj123', 50000]}"
      ]
     },
     "execution_count": 21,
     "metadata": {},
     "output_type": "execute_result"
    }
   ],
   "source": [
    "Accounts"
   ]
  },
  {
   "cell_type": "code",
   "execution_count": 67,
   "metadata": {},
   "outputs": [],
   "source": [
    "json.dump()"
   ]
  },
  {
   "cell_type": "code",
   "execution_count": 76,
   "metadata": {},
   "outputs": [],
   "source": [
    "ac = list(Accounts)"
   ]
  },
  {
   "cell_type": "code",
   "execution_count": 82,
   "metadata": {},
   "outputs": [
    {
     "data": {
      "text/plain": [
       "[2455, 2456, 2457, 2458, 2459]"
      ]
     },
     "execution_count": 82,
     "metadata": {},
     "output_type": "execute_result"
    }
   ],
   "source": [
    "ac"
   ]
  },
  {
   "cell_type": "code",
   "execution_count": 78,
   "metadata": {},
   "outputs": [],
   "source": [
    "ac=list(map(int,ac))"
   ]
  },
  {
   "cell_type": "code",
   "execution_count": 79,
   "metadata": {},
   "outputs": [
    {
     "data": {
      "text/plain": [
       "[2455, 2456, 2457, 2458, 2459]"
      ]
     },
     "execution_count": 79,
     "metadata": {},
     "output_type": "execute_result"
    }
   ],
   "source": [
    "ac"
   ]
  },
  {
   "cell_type": "code",
   "execution_count": 83,
   "metadata": {},
   "outputs": [],
   "source": [
    "acno = ac[-1]+1"
   ]
  },
  {
   "cell_type": "code",
   "execution_count": 84,
   "metadata": {},
   "outputs": [
    {
     "data": {
      "text/plain": [
       "2460"
      ]
     },
     "execution_count": 84,
     "metadata": {},
     "output_type": "execute_result"
    }
   ],
   "source": [
    "acno"
   ]
  },
  {
   "cell_type": "code",
   "execution_count": null,
   "metadata": {},
   "outputs": [],
   "source": []
  }
 ],
 "metadata": {
  "kernelspec": {
   "display_name": "Python 3",
   "language": "python",
   "name": "python3"
  },
  "language_info": {
   "codemirror_mode": {
    "name": "ipython",
    "version": 3
   },
   "file_extension": ".py",
   "mimetype": "text/x-python",
   "name": "python",
   "nbconvert_exporter": "python",
   "pygments_lexer": "ipython3",
   "version": "3.6.5"
  }
 },
 "nbformat": 4,
 "nbformat_minor": 2
}
