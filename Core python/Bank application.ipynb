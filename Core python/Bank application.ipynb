{
 "cells": [
  {
   "cell_type": "code",
   "execution_count": 2,
   "metadata": {
    "scrolled": true
   },
   "outputs": [
    {
     "name": "stdout",
     "output_type": "stream",
     "text": [
      "-----------------------------Hello,Welcome to State Bank of India-----------------------------\n",
      "Enter your choice ------> 1.Create Account  2.Banking  3.Loan Approval  4.View Account Details2\n"
     ]
    },
    {
     "ename": "NameError",
     "evalue": "name 'Banking' is not defined",
     "output_type": "error",
     "traceback": [
      "\u001b[1;31m---------------------------------------------------------------------------\u001b[0m",
      "\u001b[1;31mNameError\u001b[0m                                 Traceback (most recent call last)",
      "\u001b[1;32m<ipython-input-2-8daf25b51cee>\u001b[0m in \u001b[0;36m<module>\u001b[1;34m\u001b[0m\n\u001b[0;32m      8\u001b[0m         \u001b[0mCreate_Account\u001b[0m\u001b[1;33m(\u001b[0m\u001b[1;33m)\u001b[0m\u001b[1;33m\u001b[0m\u001b[1;33m\u001b[0m\u001b[0m\n\u001b[0;32m      9\u001b[0m     \u001b[1;32melif\u001b[0m \u001b[0mchoice\u001b[0m\u001b[1;33m==\u001b[0m\u001b[1;36m2\u001b[0m\u001b[1;33m:\u001b[0m\u001b[1;33m\u001b[0m\u001b[1;33m\u001b[0m\u001b[0m\n\u001b[1;32m---> 10\u001b[1;33m         \u001b[0mBanking\u001b[0m\u001b[1;33m(\u001b[0m\u001b[0mAccounts\u001b[0m\u001b[1;33m)\u001b[0m\u001b[1;33m\u001b[0m\u001b[1;33m\u001b[0m\u001b[0m\n\u001b[0m\u001b[0;32m     11\u001b[0m     \u001b[1;32melif\u001b[0m \u001b[0mchoice\u001b[0m\u001b[1;33m==\u001b[0m\u001b[1;36m3\u001b[0m\u001b[1;33m:\u001b[0m\u001b[1;33m\u001b[0m\u001b[1;33m\u001b[0m\u001b[0m\n\u001b[0;32m     12\u001b[0m         \u001b[0mLoan_Approval\u001b[0m\u001b[1;33m(\u001b[0m\u001b[1;33m)\u001b[0m\u001b[1;33m\u001b[0m\u001b[1;33m\u001b[0m\u001b[0m\n",
      "\u001b[1;31mNameError\u001b[0m: name 'Banking' is not defined"
     ]
    }
   ],
   "source": [
    "from time import sleep\n",
    "print(\"-----------------------------Hello,Welcome to State Bank of India-----------------------------\")\n",
    "sleep(2)\n",
    "\n",
    "while True:\n",
    "    choice=int(input(\"Enter your choice ------> 1.Create Account  2.Banking  3.Loan Approval  4.View Account Details\"))\n",
    "    if choice==1:\n",
    "        Create_Account()\n",
    "    elif choice==2:\n",
    "        Banking(Accounts)\n",
    "    elif choice==3:\n",
    "        Loan_Approval()\n",
    "    elif choice==4:\n",
    "        View_AccountDetails(Accounts)\n",
    "    else:\n",
    "        print(\"Please Enter the correct choice\")\n",
    "    press_character=input(\"If you want to continue press yes else press any key : \")\n",
    "    if press_character=='yes':\n",
    "        pass\n",
    "    \n",
    "    else:\n",
    "        print(\"*\"*40,\"Thank you\",\"*\"*40)\n",
    "        break\n",
    "Accounts={\n",
    "    2455: ([9521057735,965691556636,100000],(\"Ayush\",\"Ayush99\")),\n",
    "    4254: ([8979260543,915566542130,50000],(\"Akansha\",\"Akansha97\")),\n",
    "    3452: ([9997311805,965691241567,40000],(\"Shalini\",\"Shalini71\")),\n",
    "    6521: ([9027146654,965695463210,85000],(\"Manoj\",\"Manoj70\")),\n",
    "    8425: ([8005878724,965696428120,75000],(\"Mohit\",\"mohit98\")),\n",
    "}\n",
    "\n",
    "def Create_Account():\n",
    "    print(\"*\"*50, \"create account\",\"*\"*50)\n",
    "    verify(Accounts)\n",
    "    \n",
    "def verify(Accounts):\n",
    "    Docs=[]\n",
    "    age=int(input(\"Enter your age\"))\n",
    "    if age>=18:\n",
    "        PAN_NO=input(\"Press yes if you hav pan card else press no : \")\n",
    "        ID_NO=input(\"Press yes if you hav Voter card else press no : \")\n",
    "        if PAN_NO==\"yes\" and ID_NO==\"yes\":\n",
    "            print(\"*\"*40,\"You are eligible for creating account\",\"*\"*40)\n",
    "            acc_no=sorted(list(Accounts.keys()))[-1]+1000\n",
    "            print(\"Your account number is ------> \",acc_no)\n",
    "            Docs.append(int(input(\"Enter your mobile number ------->\")))\n",
    "            Docs.append(int(input(\"Enter your Aadhar number ------->\")))\n",
    "            Docs.append(int(input(\"Enter your Bank balance ------->\")))\n",
    "            uname=input(\"Enter your username --------->\")\n",
    "            pswd=getpass(\"Enter your Password -------->\")\n",
    "            dict_values=(Docs,(uname,pswd))\n",
    "            Accounts[acc_no]=dict_values\n",
    "            print(\"*\"*40,\"Account Has been created\",\"*\"*40)\n",
    "        else:\n",
    "            print(\"You are not eligible to craete Account\")\n",
    "    else:\n",
    "        print(\"Person having age above 18 are eligible to create account\")\n",
    "\n",
    "\n",
    "from getpass import *\n",
    "\n",
    "def Banking(Accounts):\n",
    "    acc_no=int(input(\"Enter your Account number : \"))\n",
    "    username=input(\"Enter your username : \")\n",
    "    password=getpass(\"Enter your password : \")\n",
    "    if username==Accounts[acc_no][1][0] and password==Accounts[acc_no][1][1]:\n",
    "        c=int(input(\"Enter your choce of banking ------> 1.Withdraw  2.Deposit  3.Aadhar update  4.Mobile number update\"))\n",
    "        if c==1:\n",
    "              Withdraw(Accounts,acc_no)\n",
    "        elif c==2:\n",
    "              Deposit(Accounts,acc_no)\n",
    "        elif c==3:\n",
    "              Update_Aadhar(Accounts,acc_no) \n",
    "        elif c==4:\n",
    "              Update_mobile(Accounts,acc_no)\n",
    "        else:\n",
    "              print(\"Enter correct choice\")\n",
    "                \n",
    "def Withdraw(Accounts,acc_no):\n",
    "    amt=int(input(\"Enter the amount which you want to withdraw : \"))\n",
    "    if amt>=500 and amt<Accounts[acc_no][0][2]:\n",
    "        Accounts[acc_no][0][2]-=amt\n",
    "    else:\n",
    "        print(f\"The amount that is to be withdrawed is greater than or equal to 500 and less than {Accounts[acc_no][0][2]}\")\n",
    "\n",
    "def Deposit(Accounts,acc_no):\n",
    "    amount=int(input(\"Enter the amount which you want to deposit : \"))\n",
    "    if amount>=1000:\n",
    "        Accounts[acc_no][0][2]+=amount\n",
    "    else:\n",
    "        print(\"The amount that is to be deposited is greater than or equal to 1000\")\n",
    "        \n",
    "def Update_Aadhar(Accounts,acc_no):\n",
    "    aadhar=int(input(\"Enter the updated Aadhar number : \"))\n",
    "    if len(str(aadhar))==12:\n",
    "        Accounts[acc_no][0][1]=aadhar\n",
    "    else:\n",
    "        print(\"Enter valid aadhar number\")\n",
    "        \n",
    "def Update_mobile(Accounts,acc_no):\n",
    "    m=int(input(\"Enter the updated Mobile number : \"))\n",
    "    if len(str(m))==10:\n",
    "        Accounts[acc_no][0][0]=m\n",
    "    else:\n",
    "        print(\"Enter valid mobile number\")\n",
    "    \n",
    "def Loan_Approval():\n",
    "    c=int(input(\"Enter your choice ------> 1.Government Sector  2.Private Sector  3.Business Sector\"))\n",
    "    if c==1:\n",
    "         Gov_Sector()\n",
    "    elif c==2:\n",
    "         Private_Sec() \n",
    "    elif c==3:\n",
    "         Business_Sec()\n",
    "    else:\n",
    "         print(\"Not valid to Take Loan\")\n",
    "                \n",
    "def Gov_Sector():\n",
    "    salary=int(input(\"Enter the salary : \"))\n",
    "    Loan_amt=int(input(\"Enter the loan amount : \"))\n",
    "    if salary>=50000 and salary<100000 and Loan_amt>600000 and Loan_amt<=2000000:\n",
    "        salary*=12\n",
    "        print(\"Loan Approved\")\n",
    "    else:\n",
    "        print(\"Not approved\")\n",
    "        \n",
    "def Private_Sec():\n",
    "    salary=int(input(\"Enter the salary : \"))\n",
    "    Loan_amt=int(input(\"Enter the loan amount : \"))\n",
    "    if salary>=20000 and salary<=50000 and Loan_amt>600000 and Loan_amt<=1500000:\n",
    "        salary*=12\n",
    "        print(\"Loan Approved\")\n",
    "    else:\n",
    "        print(\"Not approved\")\n",
    "        \n",
    "def Business_Sec():\n",
    "    turnover=int(input(\"Enter the turnover : \"))\n",
    "    Loan_amt=int(input(\"Enter the loan amount : \"))\n",
    "    if turnover>=100000 and turnover<=400000 and Loan_amt>600000 and Loan_amt<=1000000:\n",
    "        turnover*=12\n",
    "        print(\"Loan Approved\")\n",
    "    else:\n",
    "        print(\"Not approved\")\n",
    "\n",
    "   \n",
    "\n",
    "\n",
    "      \n",
    "                \n",
    "def View_AccountDetails(Accounts):\n",
    "    acc_no=int(input(\"Enter your Account number : \"))\n",
    "    if acc_no in Accounts.keys():\n",
    "        print(f\"Mobile number is {Accounts[acc_no][0][0]} \\nAadhar number is {Accounts[acc_no][0][1]} \\nBalance is {Accounts[acc_no][0][2]}\")\n",
    "    else:\n",
    "        print(\"Enter the valid account number\")\n"
   ]
  },
  {
   "cell_type": "code",
   "execution_count": 2,
   "metadata": {},
   "outputs": [],
   "source": [
    "Manager_details={4:(\"Manager\",\"Man123\")}\n",
    "def Manager_Authentication():\n",
    "    global Accounts\n",
    "    i_d=int(input(\"Enter Your Id----> \"))\n",
    "    user=input(\"Enter your UserName----> \")\n",
    "    password=getpass(\"Enter your PassWord---> \")\n",
    "    if password==Manager_details[i_d][0][1] and user==Manager_details[i_d][0][0]:\n",
    "        return Accounts\n",
    "    "
   ]
  },
  {
   "cell_type": "code",
   "execution_count": 3,
   "metadata": {},
   "outputs": [],
   "source": [
    "Accounts={\n",
    "    2455: ([9521057735,965691556636,100000],(\"Ayush\",\"Ayush99\")),\n",
    "    4254: ([8979260543,915566542130,50000],(\"Akansha\",\"Akansha97\")),\n",
    "    3452: ([9997311805,965691241567,40000],(\"Shalini\",\"Shalini71\")),\n",
    "    6521: ([9027146654,965695463210,85000],(\"Manoj\",\"Manoj70\")),\n",
    "    8425: ([8005878724,965696428120,75000],(\"Mohit\",\"mohit98\")),\n",
    "}"
   ]
  },
  {
   "cell_type": "code",
   "execution_count": 4,
   "metadata": {},
   "outputs": [
    {
     "name": "stdout",
     "output_type": "stream",
     "text": [
      "Enter Your Id----> \n"
     ]
    },
    {
     "ename": "ValueError",
     "evalue": "invalid literal for int() with base 10: ''",
     "output_type": "error",
     "traceback": [
      "\u001b[1;31m---------------------------------------------------------------------------\u001b[0m",
      "\u001b[1;31mValueError\u001b[0m                                Traceback (most recent call last)",
      "\u001b[1;32m<ipython-input-4-93ef25e9e27c>\u001b[0m in \u001b[0;36m<module>\u001b[1;34m\u001b[0m\n\u001b[1;32m----> 1\u001b[1;33m \u001b[0mp\u001b[0m\u001b[1;33m=\u001b[0m\u001b[0mManager_Authentication\u001b[0m\u001b[1;33m(\u001b[0m\u001b[1;33m)\u001b[0m\u001b[1;33m\u001b[0m\u001b[1;33m\u001b[0m\u001b[0m\n\u001b[0m\u001b[0;32m      2\u001b[0m \u001b[0mprint\u001b[0m\u001b[1;33m(\u001b[0m\u001b[0mp\u001b[0m\u001b[1;33m)\u001b[0m\u001b[1;33m\u001b[0m\u001b[1;33m\u001b[0m\u001b[0m\n",
      "\u001b[1;32m<ipython-input-2-eb0d93d17907>\u001b[0m in \u001b[0;36mManager_Authentication\u001b[1;34m()\u001b[0m\n\u001b[0;32m      2\u001b[0m \u001b[1;32mdef\u001b[0m \u001b[0mManager_Authentication\u001b[0m\u001b[1;33m(\u001b[0m\u001b[1;33m)\u001b[0m\u001b[1;33m:\u001b[0m\u001b[1;33m\u001b[0m\u001b[1;33m\u001b[0m\u001b[0m\n\u001b[0;32m      3\u001b[0m     \u001b[1;32mglobal\u001b[0m \u001b[0mAccounts\u001b[0m\u001b[1;33m\u001b[0m\u001b[1;33m\u001b[0m\u001b[0m\n\u001b[1;32m----> 4\u001b[1;33m     \u001b[0mi_d\u001b[0m\u001b[1;33m=\u001b[0m\u001b[0mint\u001b[0m\u001b[1;33m(\u001b[0m\u001b[0minput\u001b[0m\u001b[1;33m(\u001b[0m\u001b[1;34m\"Enter Your Id----> \"\u001b[0m\u001b[1;33m)\u001b[0m\u001b[1;33m)\u001b[0m\u001b[1;33m\u001b[0m\u001b[1;33m\u001b[0m\u001b[0m\n\u001b[0m\u001b[0;32m      5\u001b[0m     \u001b[0muser\u001b[0m\u001b[1;33m=\u001b[0m\u001b[0minput\u001b[0m\u001b[1;33m(\u001b[0m\u001b[1;34m\"Enter your UserName----> \"\u001b[0m\u001b[1;33m)\u001b[0m\u001b[1;33m\u001b[0m\u001b[1;33m\u001b[0m\u001b[0m\n\u001b[0;32m      6\u001b[0m     \u001b[0mpassword\u001b[0m\u001b[1;33m=\u001b[0m\u001b[0mgetpass\u001b[0m\u001b[1;33m(\u001b[0m\u001b[1;34m\"Enter your PassWord---> \"\u001b[0m\u001b[1;33m)\u001b[0m\u001b[1;33m\u001b[0m\u001b[1;33m\u001b[0m\u001b[0m\n",
      "\u001b[1;31mValueError\u001b[0m: invalid literal for int() with base 10: ''"
     ]
    }
   ],
   "source": [
    "p=Manager_Authentication()\n",
    "print(p)"
   ]
  },
  {
   "cell_type": "code",
   "execution_count": 5,
   "metadata": {},
   "outputs": [],
   "source": [
    "def View_AccountDetails(Accounts):\n",
    "    acc_no=int(input(\"Enter your Account number : \"))\n",
    "    if acc_no in Accounts.keys():\n",
    "        print(f\"Mobile number is {Accounts[acc_no][0][0]} \\nAadhar number is {Accounts[acc_no][0][1]} \\nBalance is {Accounts[acc_no][0][2]}\")\n",
    "    else:\n",
    "        print(\"Enter the valid account number\")"
   ]
  },
  {
   "cell_type": "code",
   "execution_count": 6,
   "metadata": {},
   "outputs": [],
   "source": [
    "from getpass import *"
   ]
  },
  {
   "cell_type": "code",
   "execution_count": 7,
   "metadata": {},
   "outputs": [],
   "source": [
    "def Banking(Accounts):\n",
    "    acc_no=int(input(\"Enter your Account number : \"))\n",
    "    username=input(\"Enter your username : \")\n",
    "    password=getpass(\"Enter your password : \")\n",
    "    if username==Accounts[acc_no][1][0] and password==Accounts[acc_no][1][1]:\n",
    "        c=int(input(\"Enter your choce of banking ------> 1.Withdraw  2.Deposit  3.Aadhar update  4.Mobile number update\"))\n",
    "        if c==1:\n",
    "              Withdraw(Accounts,acc_no)\n",
    "        elif c==2:\n",
    "              Deposit(Accounts,acc_no)\n",
    "        elif c==3:\n",
    "              Update_Aadhar(Accounts,acc_no) \n",
    "        elif c==4:\n",
    "              Update_mobile(Accounts,acc_no)\n",
    "        else:\n",
    "              print(\"Enter correct choice\")"
   ]
  },
  {
   "cell_type": "code",
   "execution_count": 8,
   "metadata": {},
   "outputs": [],
   "source": [
    "def Withdraw(Accounts,acc_no):\n",
    "    amt=int(input(\"Enter the amount which you want to withdraw : \"))\n",
    "    if amt>=500 and amt<Accounts[acc_no][0][2]:\n",
    "        Accounts[acc_no][0][2]-=amt\n",
    "    else:\n",
    "        print(f\"The amount that is to be withdrawed is greater than or equal to 500 and less than {Accounts[acc_no][0][2]}\")\n",
    "            "
   ]
  },
  {
   "cell_type": "code",
   "execution_count": 9,
   "metadata": {},
   "outputs": [],
   "source": [
    "def Deposit(Accounts,acc_no):\n",
    "    amount=int(input(\"Enter the amount which you want to deposit : \"))\n",
    "    if amount>=1000:\n",
    "        Accounts[acc_no][0][2]+=amount\n",
    "    else:\n",
    "        print(\"The amount that is to be deposited is greater than or equal to 1000\")\n",
    "            \n",
    "    "
   ]
  },
  {
   "cell_type": "code",
   "execution_count": 10,
   "metadata": {},
   "outputs": [],
   "source": [
    "def Update_Aadhar(Accounts,acc_no):\n",
    "    aadhar=int(input(\"Enter the updated Aadhar number : \"))\n",
    "    if len(str(aadhar))==12:\n",
    "        Accounts[acc_no][0][1]=aadhar\n",
    "    else:\n",
    "        print(\"Enter valid aadhar number\")"
   ]
  },
  {
   "cell_type": "code",
   "execution_count": 11,
   "metadata": {},
   "outputs": [],
   "source": [
    "def Update_mobile(Accounts,acc_no):\n",
    "    m=int(input(\"Enter the updated Mobile number : \"))\n",
    "    if len(str(m))==10:\n",
    "        Accounts[acc_no][0][0]=m\n",
    "    else:\n",
    "        print(\"Enter valid mobile number\")\n",
    "    "
   ]
  },
  {
   "cell_type": "code",
   "execution_count": 12,
   "metadata": {},
   "outputs": [],
   "source": [
    "def Loan_Approval():\n",
    "    c=int(input(\"Enter your choice ------> 1.Government Sector  2.Private Sector  3.Business Sector\"))\n",
    "    if c==1:\n",
    "         Gov_Sector()\n",
    "    elif c==2:\n",
    "         Private_Sec() \n",
    "    elif c==3:\n",
    "         Business_Sec()\n",
    "    else:\n",
    "         print(\"Not valid to Take Loan\")\n",
    "    "
   ]
  },
  {
   "cell_type": "code",
   "execution_count": 13,
   "metadata": {},
   "outputs": [],
   "source": [
    "def Gov_Sector():\n",
    "    salary=int(input(\"Enter the salary : \"))\n",
    "    Loan_amt=int(input(\"Enter the loan amount : \"))\n",
    "    if salary>=50000 and salary<100000 and Loan_amt>600000 and Loan_amt<=2000000:\n",
    "        salary*=12\n",
    "        print(\"Loan Approved\")\n",
    "    else:\n",
    "        print(\"Not approved\")\n",
    "   "
   ]
  },
  {
   "cell_type": "code",
   "execution_count": 14,
   "metadata": {},
   "outputs": [],
   "source": [
    "def Private_Sec():\n",
    "    salary=int(input(\"Enter the salary : \"))\n",
    "    Loan_amt=int(input(\"Enter the loan amount : \"))\n",
    "    if salary>=20000 and salary<=50000 and Loan_amt>600000 and Loan_amt<=1500000:\n",
    "        salary*=12\n",
    "        print(\"Loan Approved\")\n",
    "    else:\n",
    "        print(\"Not approved\")\n",
    "   "
   ]
  },
  {
   "cell_type": "code",
   "execution_count": 15,
   "metadata": {},
   "outputs": [],
   "source": [
    "def Business_Sec():\n",
    "    turnover=int(input(\"Enter the turnover : \"))\n",
    "    Loan_amt=int(input(\"Enter the loan amount : \"))\n",
    "    if turnover>=100000 and turnover<=400000 and Loan_amt>600000 and Loan_amt<=1000000:\n",
    "        turnover*=12\n",
    "        print(\"Loan Approved\")\n",
    "    else:\n",
    "        print(\"Not approved\")\n",
    "   "
   ]
  },
  {
   "cell_type": "code",
   "execution_count": 16,
   "metadata": {},
   "outputs": [],
   "source": [
    "from getpass import *\n",
    "def Create_Account():\n",
    "    print(\"*\"*50, \"create account\",\"*\"*50)\n",
    "    verify(Accounts)"
   ]
  },
  {
   "cell_type": "code",
   "execution_count": 17,
   "metadata": {},
   "outputs": [],
   "source": [
    "def verify(Accounts):\n",
    "    Docs=[]\n",
    "    age=int(input(\"Enter your age\"))\n",
    "    if age>=18:\n",
    "        PAN_NO=input(\"Press yes if you hav pan card else press no : \")\n",
    "        ID_NO=input(\"Press yes if you hav Voter card else press no : \")\n",
    "        if PAN_NO==\"yes\" and ID_NO==\"yes\":\n",
    "            print(\"*\"*40,\"You are eligible for creating account\",\"*\"*40)\n",
    "            acc_no=sorted(list(Accounts.keys()))[-1]+1000\n",
    "            print(\"Your account number is ------> \",acc_no)\n",
    "            Docs.append(int(input(\"Enter your mobile number ------->\")))\n",
    "            Docs.append(int(input(\"Enter your Aadhar number ------->\")))\n",
    "            Docs.append(int(input(\"Enter your Bank balance ------->\")))\n",
    "            uname=input(\"Enter your username --------->\")\n",
    "            pswd=getpass(\"Enter your Password -------->\")\n",
    "            dict_values=(Docs,(uname,pswd))\n",
    "            Accounts[acc_no]=dict_values\n",
    "            print(\"*\"*40,\"Account Has been created\",\"*\"*40)\n",
    "        else:\n",
    "            print(\"You are not eligible to craete Account\")\n",
    "    else:\n",
    "        print(\"Person having age above 18 are eligible to create account\")"
   ]
  },
  {
   "cell_type": "code",
   "execution_count": 18,
   "metadata": {},
   "outputs": [
    {
     "data": {
      "text/plain": [
       "6"
      ]
     },
     "execution_count": 18,
     "metadata": {},
     "output_type": "execute_result"
    }
   ],
   "source": [
    "a=123456\n",
    "len(str(a))"
   ]
  },
  {
   "cell_type": "code",
   "execution_count": 19,
   "metadata": {},
   "outputs": [],
   "source": [
    "getuser?"
   ]
  },
  {
   "cell_type": "code",
   "execution_count": 20,
   "metadata": {},
   "outputs": [],
   "source": [
    "uname=getuser()"
   ]
  },
  {
   "cell_type": "code",
   "execution_count": 44,
   "metadata": {},
   "outputs": [
    {
     "data": {
      "text/plain": [
       "'HP'"
      ]
     },
     "execution_count": 44,
     "metadata": {},
     "output_type": "execute_result"
    }
   ],
   "source": [
    "uname"
   ]
  },
  {
   "cell_type": "code",
   "execution_count": 20,
   "metadata": {},
   "outputs": [
    {
     "data": {
      "text/plain": [
       "'                 ayush                  '"
      ]
     },
     "execution_count": 20,
     "metadata": {},
     "output_type": "execute_result"
    }
   ],
   "source": [
    "s=\"ayush\"\n",
    "s.center(40)"
   ]
  },
  {
   "cell_type": "code",
   "execution_count": 33,
   "metadata": {},
   "outputs": [
    {
     "data": {
      "text/plain": [
       "{2455: ([9521057735, 965691556636, 100000], ('Ayush', 'Ayush99')),\n",
       " 4254: ([8979260543, 915566542130, 50000], ('Akansha', 'Akansha97')),\n",
       " 3452: ([9997311805, 965691241567, 40000], ('Shalini', 'Shalini71')),\n",
       " 6521: ([9027146654, 965695463210, 85000], ('Manoj', 'Manoj70')),\n",
       " 8425: ([8005878724, 965696428120, 75000], ('Mohit', 'mohit98')),\n",
       " 9425: ([8209102792, 923156348745, 75000], ('Akshay', 'Akshay89'))}"
      ]
     },
     "execution_count": 33,
     "metadata": {},
     "output_type": "execute_result"
    }
   ],
   "source": [
    "Accounts"
   ]
  },
  {
   "cell_type": "code",
   "execution_count": 22,
   "metadata": {},
   "outputs": [],
   "source": [
    "A={\"name\":\"Ayush\"}"
   ]
  },
  {
   "cell_type": "code",
   "execution_count": 24,
   "metadata": {},
   "outputs": [
    {
     "data": {
      "text/plain": [
       "{'name': 'Ayush'}"
      ]
     },
     "execution_count": 24,
     "metadata": {},
     "output_type": "execute_result"
    }
   ],
   "source": [
    "A"
   ]
  },
  {
   "cell_type": "code",
   "execution_count": 29,
   "metadata": {},
   "outputs": [
    {
     "ename": "SyntaxError",
     "evalue": "invalid syntax (<ipython-input-29-fd4f46325bd7>, line 1)",
     "output_type": "error",
     "traceback": [
      "\u001b[1;36m  File \u001b[1;32m\"<ipython-input-29-fd4f46325bd7>\"\u001b[1;36m, line \u001b[1;32m1\u001b[0m\n\u001b[1;33m    A.update('age':19)\u001b[0m\n\u001b[1;37m                  ^\u001b[0m\n\u001b[1;31mSyntaxError\u001b[0m\u001b[1;31m:\u001b[0m invalid syntax\n"
     ]
    }
   ],
   "source": [
    "A.update('age':19)"
   ]
  },
  {
   "cell_type": "code",
   "execution_count": null,
   "metadata": {},
   "outputs": [],
   "source": []
  }
 ],
 "metadata": {
  "kernelspec": {
   "display_name": "Python 3",
   "language": "python",
   "name": "python3"
  },
  "language_info": {
   "codemirror_mode": {
    "name": "ipython",
    "version": 3
   },
   "file_extension": ".py",
   "mimetype": "text/x-python",
   "name": "python",
   "nbconvert_exporter": "python",
   "pygments_lexer": "ipython3",
   "version": "3.6.5"
  }
 },
 "nbformat": 4,
 "nbformat_minor": 2
}
