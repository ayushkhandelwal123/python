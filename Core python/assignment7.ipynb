{
 "cells": [
  {
   "cell_type": "code",
   "execution_count": 10,
   "metadata": {},
   "outputs": [
    {
     "name": "stdout",
     "output_type": "stream",
     "text": [
      "Enter a number55\n",
      "number is divisible by 5 and 11\n"
     ]
    }
   ],
   "source": [
    "a=int(input(\"Enter a number\"))\n",
    "if a%5==0 and a%11==0:\n",
    "    print(\"number is divisible by 5 and 11\")\n",
    "else:\n",
    "    print(\"number is not divisible by 5 and 11\")"
   ]
  },
  {
   "cell_type": "code",
   "execution_count": 11,
   "metadata": {},
   "outputs": [
    {
     "name": "stdout",
     "output_type": "stream",
     "text": [
      "Enter the year2016\n",
      "Leap year\n"
     ]
    }
   ],
   "source": [
    "year=int(input(\"Enter the year\"))\n",
    "if year%4==0 and year%100!=0 or year%400==0:\n",
    "    print(\"Leap year\")\n",
    "else:\n",
    "    print(\"Not a leap year\")"
   ]
  },
  {
   "cell_type": "code",
   "execution_count": 12,
   "metadata": {},
   "outputs": [
    {
     "name": "stdout",
     "output_type": "stream",
     "text": [
      "Enter a character :a\n",
      "character is alphabet\n"
     ]
    }
   ],
   "source": [
    "c=input(\"Enter a character :\")\n",
    "if c>='a' or c<='z' and c>='A' or c<='Z':\n",
    "    print(\"character is alphabet\")\n",
    "else:\n",
    "    print(\"character is not alphabet\")"
   ]
  },
  {
   "cell_type": "code",
   "execution_count": 13,
   "metadata": {},
   "outputs": [
    {
     "name": "stdout",
     "output_type": "stream",
     "text": [
      "Enter the alphabete\n",
      "vowel\n"
     ]
    }
   ],
   "source": [
    "ch=input(\"Enter the alphabet\")\n",
    "l=['a','e','i','o','u','A','E','I','U','O']\n",
    "if ch in l:\n",
    "    print(\"vowel\")\n",
    "elif ch.isalpha():\n",
    "    print(\"consonant\")\n",
    "elif ch.isdigit():\n",
    "    print(\"digit\")\n",
    "else:\n",
    "    print(\"Special Character\")"
   ]
  },
  {
   "cell_type": "code",
   "execution_count": 14,
   "metadata": {},
   "outputs": [
    {
     "name": "stdout",
     "output_type": "stream",
     "text": [
      "Enter a charactera\n",
      "Lowercase alphabet\n"
     ]
    }
   ],
   "source": [
    "cha=input(\"Enter a character\")\n",
    "if cha.islower():\n",
    "    print(\"Lowercase alphabet\")\n",
    "elif cha.isupper():\n",
    "    print(\"uppercase alphabet\")\n",
    "else:\n",
    "    print(\"Not an alphabet\")"
   ]
  },
  {
   "cell_type": "code",
   "execution_count": 15,
   "metadata": {},
   "outputs": [
    {
     "name": "stdout",
     "output_type": "stream",
     "text": [
      "Enter your choice4\n",
      "Thursday\n"
     ]
    }
   ],
   "source": [
    "b=int(input(\"Enter your choice\"))\n",
    "if b==1:\n",
    "    print(\"Monday\")\n",
    "elif b==2:\n",
    "    print(\"Tuesday\")\n",
    "elif b==3:\n",
    "    print(\"Wednesday\")\n",
    "elif b==4:\n",
    "    print(\"Thursday\")\n",
    "elif b==5:\n",
    "    print(\"Friday\")\n",
    "elif b==6:\n",
    "    print(\"Saturday\")\n",
    "else:\n",
    "    print(\"Sunday\")"
   ]
  },
  {
   "cell_type": "code",
   "execution_count": 16,
   "metadata": {},
   "outputs": [
    {
     "name": "stdout",
     "output_type": "stream",
     "text": [
      "4\n"
     ]
    }
   ],
   "source": [
    "import datetime\n",
    "x = datetime.datetime.now()\n",
    "\n",
    "print(x.strftime(\"%w\"))\n"
   ]
  },
  {
   "cell_type": "code",
   "execution_count": 17,
   "metadata": {},
   "outputs": [
    {
     "name": "stdout",
     "output_type": "stream",
     "text": [
      "Enter a number1\n",
      "31 days\n"
     ]
    }
   ],
   "source": [
    "m=int(input(\"Enter a number\"))\n",
    "l=[1,3,5,7,8,10,12]\n",
    "l1=[4,6,9,11]\n",
    "if m in l:\n",
    "    print(\"31 days\")\n",
    "elif m in l1:\n",
    "    print(\"30 days\")\n",
    "else:\n",
    "    print(\"28 days or 29 days\")"
   ]
  },
  {
   "cell_type": "code",
   "execution_count": 18,
   "metadata": {},
   "outputs": [
    {
     "name": "stdout",
     "output_type": "stream",
     "text": [
      "Enter first angle60\n",
      "Enter second angle60\n",
      "Enter third angle60\n",
      "Triangle is valid\n"
     ]
    }
   ],
   "source": [
    "a=int(input(\"Enter first angle\"))\n",
    "b=int(input(\"Enter second angle\"))\n",
    "c=int(input(\"Enter third angle\"))\n",
    "if a+b+c==180:\n",
    "    print(\"Triangle is valid\")\n",
    "else:\n",
    "    print(\"triangle invalid\")"
   ]
  },
  {
   "cell_type": "code",
   "execution_count": 19,
   "metadata": {},
   "outputs": [
    {
     "name": "stdout",
     "output_type": "stream",
     "text": [
      "Enter the length of first side10\n",
      "Enter the length of second side10\n",
      "Enter the length of third side10\n",
      "Equilateral triangle\n"
     ]
    }
   ],
   "source": [
    "a=int(input(\"Enter the length of first side\"))\n",
    "a1=int(input(\"Enter the length of second side\"))\n",
    "a2=int(input(\"Enter the length of third side\"))\n",
    "\n",
    "if a==a1 and a1==a2 and a2==a:\n",
    "    print(\"Equilateral triangle\")\n",
    "elif a==a1 or a1==a2 or a2==a:\n",
    "    print(\"isosceles triangle\")\n",
    "else:\n",
    "    print(\"scalene triangle\")"
   ]
  },
  {
   "cell_type": "code",
   "execution_count": 4,
   "metadata": {},
   "outputs": [
    {
     "name": "stdout",
     "output_type": "stream",
     "text": [
      "Enter the coefficient of x^2 : 1\n",
      "Enter the coefficient of x : -5\n",
      "Enter the constant value : 6\n",
      "root 1 : 2.0\n",
      "root 2 : 3.0\n"
     ]
    }
   ],
   "source": [
    "from math import sqrt\n",
    "a=int(input(\"Enter the coefficient of x^2 : \"))\n",
    "b=int(input(\"Enter the coefficient of x : \"))\n",
    "c=int(input(\"Enter the constant value : \"))\n",
    "sol1 = (-b-sqrt(b**2-4*a*c))/(2*a)\n",
    "sol2 = (-b+sqrt(b**2-4*a*c))/(2*a)\n",
    "print(\"root 1 :\",sol1)\n",
    "print(\"root 2 :\",sol2)"
   ]
  },
  {
   "cell_type": "code",
   "execution_count": 21,
   "metadata": {},
   "outputs": [
    {
     "name": "stdout",
     "output_type": "stream",
     "text": [
      "Enter the selling price45\n",
      "Enter the cost price20\n",
      "Profit is 25.0\n"
     ]
    }
   ],
   "source": [
    "SP=float(input(\"Enter the selling price\"))\n",
    "CP=float(input(\"Enter the cost price\"))\n",
    "profit=SP-CP\n",
    "if profit>0:\n",
    "    print(\"Profit is\",profit)\n",
    "else:\n",
    "    print(\"Loss is\",CP-SP)"
   ]
  },
  {
   "cell_type": "code",
   "execution_count": 22,
   "metadata": {},
   "outputs": [
    {
     "name": "stdout",
     "output_type": "stream",
     "text": [
      "Enter the basic salary20000\n",
      "Gross salary is :  43000.0\n"
     ]
    }
   ],
   "source": [
    "bs=int(input(\"Enter the basic salary\"))\n",
    "if bs<=10000:\n",
    "    HRA=(20/100)*bs\n",
    "    DA=(80/100)*bs\n",
    "    GS=bs+HRA+DA\n",
    "    print(\"Gross salary is : \",GS)\n",
    "elif bs>10000 and bs<=20000:\n",
    "    HRA=(25/100)*bs\n",
    "    DA=(90/100)*bs\n",
    "    GS=bs+HRA+DA\n",
    "    print(\"Gross salary is : \",GS)\n",
    "elif bs>20000:\n",
    "    HRA=(30/100)*bs\n",
    "    DA=(95/100)*bs\n",
    "    GS=bs+HRA+DA\n",
    "    print(\"Gross salary is : \",GS)\n",
    "    \n",
    "    "
   ]
  },
  {
   "cell_type": "code",
   "execution_count": 3,
   "metadata": {},
   "outputs": [
    {
     "name": "stdout",
     "output_type": "stream",
     "text": [
      "Enter the electricity units250\n",
      "Electricity bill is : 437.5\n"
     ]
    }
   ],
   "source": [
    "units=int(input(\"Enter the electricity units\"))\n",
    "if units<=50:\n",
    "    bill1=0.50*units\n",
    "    print(\"Electricity bill is :\",bill1)\n",
    "elif units>50 and units<=150:\n",
    "    bill2=(0.50*50)+(0.75*units)\n",
    "    print(\"Electricity bill is :\",bill2)\n",
    "elif units>150 and units<=250:\n",
    "    bill3=0.50*50+0.75*150+(1.20*units)\n",
    "    print(\"Electricity bill is :\",bill3)\n",
    "elif units>250:\n",
    "    bill4=0.50*50+0.75*150+1.20*250+(1.50*units) \n",
    "    print(\"Electricity bill is :\",bill4)"
   ]
  },
  {
   "cell_type": "code",
   "execution_count": null,
   "metadata": {},
   "outputs": [],
   "source": []
  },
  {
   "cell_type": "code",
   "execution_count": null,
   "metadata": {},
   "outputs": [],
   "source": []
  },
  {
   "cell_type": "code",
   "execution_count": null,
   "metadata": {},
   "outputs": [],
   "source": []
  }
 ],
 "metadata": {
  "kernelspec": {
   "display_name": "Python 3",
   "language": "python",
   "name": "python3"
  },
  "language_info": {
   "codemirror_mode": {
    "name": "ipython",
    "version": 3
   },
   "file_extension": ".py",
   "mimetype": "text/x-python",
   "name": "python",
   "nbconvert_exporter": "python",
   "pygments_lexer": "ipython3",
   "version": "3.7.1"
  }
 },
 "nbformat": 4,
 "nbformat_minor": 2
}
