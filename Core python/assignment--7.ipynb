{
 "cells": [
  {
   "cell_type": "code",
   "execution_count": 6,
   "metadata": {},
   "outputs": [],
   "source": [
    "class Even:\n",
    "    def __init__(self,limit):\n",
    "        self.limit=limit\n",
    "        self.a=0\n",
    "    def __iter__(self):\n",
    "        self.n=1\n",
    "    def __next__(self):\n",
    "        if self.a>self.limit:\n",
    "            raise StopIteration\n",
    "        else:\n",
    "            v=self.n\n",
    "            self.n+=2\n",
    "            self.a+=1\n",
    "            return v"
   ]
  },
  {
   "cell_type": "code",
   "execution_count": 7,
   "metadata": {},
   "outputs": [],
   "source": [
    "obj=Even(20)"
   ]
  },
  {
   "cell_type": "code",
   "execution_count": 8,
   "metadata": {},
   "outputs": [
    {
     "ename": "TypeError",
     "evalue": "iter() returned non-iterator of type 'NoneType'",
     "output_type": "error",
     "traceback": [
      "\u001b[1;31m---------------------------------------------------------------------------\u001b[0m",
      "\u001b[1;31mTypeError\u001b[0m                                 Traceback (most recent call last)",
      "\u001b[1;32m<ipython-input-8-8d74e40ad80b>\u001b[0m in \u001b[0;36m<module>\u001b[1;34m\u001b[0m\n\u001b[1;32m----> 1\u001b[1;33m \u001b[0mobj\u001b[0m\u001b[1;33m=\u001b[0m\u001b[0miter\u001b[0m\u001b[1;33m(\u001b[0m\u001b[0mobj\u001b[0m\u001b[1;33m)\u001b[0m\u001b[1;33m\u001b[0m\u001b[1;33m\u001b[0m\u001b[0m\n\u001b[0m",
      "\u001b[1;31mTypeError\u001b[0m: iter() returned non-iterator of type 'NoneType'"
     ]
    }
   ],
   "source": [
    "obj=iter(obj)"
   ]
  },
  {
   "cell_type": "code",
   "execution_count": 2,
   "metadata": {},
   "outputs": [],
   "source": [
    "def maximum(a,b):\n",
    "    if a>b:\n",
    "        print(f\"Number {a} is maximum\")\n",
    "    else:\n",
    "        print(f\"Number {b} is maximum\")"
   ]
  },
  {
   "cell_type": "code",
   "execution_count": 4,
   "metadata": {},
   "outputs": [
    {
     "name": "stdout",
     "output_type": "stream",
     "text": [
      "a :10\n",
      "b :12\n",
      "Number 12 is maximum\n"
     ]
    }
   ],
   "source": [
    "maximum(int(input(\"a :\")),int(input(\"b :\")))"
   ]
  },
  {
   "cell_type": "code",
   "execution_count": 5,
   "metadata": {},
   "outputs": [
    {
     "data": {
      "text/plain": [
       "12"
      ]
     },
     "execution_count": 5,
     "metadata": {},
     "output_type": "execute_result"
    }
   ],
   "source": [
    "max(10,12)"
   ]
  },
  {
   "cell_type": "code",
   "execution_count": 6,
   "metadata": {},
   "outputs": [
    {
     "data": {
      "text/plain": [
       "12"
      ]
     },
     "execution_count": 6,
     "metadata": {},
     "output_type": "execute_result"
    }
   ],
   "source": [
    "greatest = lambda x,y:x if x>y else y\n",
    "greatest(10,12)"
   ]
  },
  {
   "cell_type": "code",
   "execution_count": 10,
   "metadata": {},
   "outputs": [
    {
     "name": "stdout",
     "output_type": "stream",
     "text": [
      "a : 10\n",
      "b : 12\n",
      "c : 11\n"
     ]
    },
    {
     "data": {
      "text/plain": [
       "12"
      ]
     },
     "execution_count": 10,
     "metadata": {},
     "output_type": "execute_result"
    }
   ],
   "source": [
    "def maximum(a,b,c):\n",
    "    if a>b and a>c:\n",
    "        return a\n",
    "    elif b>c:\n",
    "        return b\n",
    "    else:\n",
    "        return c\n",
    "maximum(int(input(\"a : \")),int(input(\"b : \")),int(input(\"c : \")))"
   ]
  },
  {
   "cell_type": "code",
   "execution_count": 13,
   "metadata": {},
   "outputs": [
    {
     "name": "stdout",
     "output_type": "stream",
     "text": [
      "Enter the number : -6\n"
     ]
    },
    {
     "data": {
      "text/plain": [
       "'-6 is Negative Number'"
      ]
     },
     "execution_count": 13,
     "metadata": {},
     "output_type": "execute_result"
    }
   ],
   "source": [
    "def pos_neg(num):\n",
    "    if num>0:\n",
    "        return f\"{num} is Positive Number\"\n",
    "    elif num<0:\n",
    "        return f\"{num} is Negative Number\"\n",
    "    else:\n",
    "        return \"Zero\"\n",
    "    \n",
    "pos_neg(int(input(\"Enter the number : \")))"
   ]
  },
  {
   "cell_type": "code",
   "execution_count": 19,
   "metadata": {},
   "outputs": [
    {
     "name": "stdout",
     "output_type": "stream",
     "text": [
      "num :123\n"
     ]
    },
    {
     "data": {
      "text/plain": [
       "'Number 123 is not divisible by 5 and 11'"
      ]
     },
     "execution_count": 19,
     "metadata": {},
     "output_type": "execute_result"
    }
   ],
   "source": [
    "def div(n):\n",
    "    if n%5==0:\n",
    "        return f\"Number {n} is divisible by 5\"\n",
    "    elif n%11==0:\n",
    "        return f\"Number {n} is divisible by 11\"\n",
    "    else:\n",
    "        return f\"Number {n} is not divisible by 5 and 11\"\n",
    "    \n",
    "div(int(input(\"num :\")))"
   ]
  },
  {
   "cell_type": "code",
   "execution_count": 20,
   "metadata": {},
   "outputs": [],
   "source": [
    "def even_odd(x):\n",
    "    if x%2:\n",
    "        return \"Odd\"\n",
    "    else:\n",
    "        return \"Even\""
   ]
  },
  {
   "cell_type": "code",
   "execution_count": 21,
   "metadata": {},
   "outputs": [
    {
     "data": {
      "text/plain": [
       "'Odd'"
      ]
     },
     "execution_count": 21,
     "metadata": {},
     "output_type": "execute_result"
    }
   ],
   "source": [
    "even_odd(11)"
   ]
  },
  {
   "cell_type": "code",
   "execution_count": 22,
   "metadata": {},
   "outputs": [],
   "source": [
    "def leap(year):\n",
    "    if year %4==0 or year%400==0:\n",
    "        return \"Leap year\"\n",
    "    else:\n",
    "        return \"Not a leap year\""
   ]
  },
  {
   "cell_type": "code",
   "execution_count": 25,
   "metadata": {},
   "outputs": [
    {
     "data": {
      "text/plain": [
       "'Leap year'"
      ]
     },
     "execution_count": 25,
     "metadata": {},
     "output_type": "execute_result"
    }
   ],
   "source": [
    "leap(2000)"
   ]
  },
  {
   "cell_type": "code",
   "execution_count": 26,
   "metadata": {},
   "outputs": [],
   "source": [
    "def alpha(c):\n",
    "    if c.isalpha():\n",
    "        return \"alphabet\"\n",
    "    else:\n",
    "        return \"Not alphabet\""
   ]
  },
  {
   "cell_type": "code",
   "execution_count": 29,
   "metadata": {},
   "outputs": [
    {
     "data": {
      "text/plain": [
       "'alphabet'"
      ]
     },
     "execution_count": 29,
     "metadata": {},
     "output_type": "execute_result"
    }
   ],
   "source": [
    "alpha('acd')"
   ]
  },
  {
   "cell_type": "code",
   "execution_count": 35,
   "metadata": {},
   "outputs": [
    {
     "name": "stdout",
     "output_type": "stream",
     "text": [
      "Enter any alphabet :$\n",
      "Special character\n"
     ]
    }
   ],
   "source": [
    "ch = input(\"Enter any alphabet :\")\n",
    "l=['a','e','i','o','u','A','E','I','O','U']\n",
    "if ch.isalpha():\n",
    "    if ch in l:\n",
    "        print(\"Vowel\")\n",
    "    else:\n",
    "        print(\"Consonant\")\n",
    "else:\n",
    "    print(\"Special character\")"
   ]
  },
  {
   "cell_type": "code",
   "execution_count": 39,
   "metadata": {},
   "outputs": [
    {
     "name": "stdout",
     "output_type": "stream",
     "text": [
      "Enter any alphabet :$\n",
      "Special character\n"
     ]
    }
   ],
   "source": [
    "ch = input(\"Enter any alphabet :\")\n",
    "if ch.isalpha():\n",
    "        print(\"alphabet\")\n",
    "elif ch.isdigit():\n",
    "        print(\"digit\")\n",
    "else:\n",
    "    print(\"Special character\")"
   ]
  },
  {
   "cell_type": "code",
   "execution_count": 42,
   "metadata": {},
   "outputs": [
    {
     "name": "stdout",
     "output_type": "stream",
     "text": [
      "Enter any charactera\n",
      "Lowercase alphabet\n"
     ]
    }
   ],
   "source": [
    "ch = input(\"Enter any character\").strip()\n",
    "if ch.islower():\n",
    "    print(\"Lowercase alphabet\")\n",
    "else:\n",
    "    print(\"Uppercase alphabet\")"
   ]
  },
  {
   "cell_type": "code",
   "execution_count": 45,
   "metadata": {},
   "outputs": [
    {
     "name": "stdout",
     "output_type": "stream",
     "text": [
      "Enter week number : 7\n",
      "Sunday\n"
     ]
    }
   ],
   "source": [
    "w = int(input(\"Enter week number : \"))\n",
    "if w in range(1,8):\n",
    "    if w==1:\n",
    "        print(\"Monday\")\n",
    "    elif w==2:\n",
    "        print(\"Tuesday\")\n",
    "    elif w==3:\n",
    "        print(\"Wednesday\")\n",
    "    elif w==4:\n",
    "        print(\"Thursday\")\n",
    "    elif w==5:\n",
    "        print(\"Friday\")\n",
    "    elif w==6:\n",
    "        print(\"Saturday\")\n",
    "    else:\n",
    "        print(\"Sunday\")\n",
    "else:\n",
    "    print(\"Invalid week number\")"
   ]
  },
  {
   "cell_type": "code",
   "execution_count": 50,
   "metadata": {},
   "outputs": [
    {
     "name": "stdout",
     "output_type": "stream",
     "text": [
      "Enter the month number : 3\n",
      "The number of days in month 3 is 31\n"
     ]
    }
   ],
   "source": [
    "month = int(input(\"Enter the month number : \"))\n",
    "m1=[1,3,5,7,8,10,12]\n",
    "if month in m1:\n",
    "    print(f\"The number of days in month {month} is 31\")\n",
    "elif month==2:\n",
    "    print(f\" the number28 days or 29 days\")\n",
    "else:\n",
    "    print(f\"The number of days in month {month} is 30\")"
   ]
  },
  {
   "cell_type": "code",
   "execution_count": 67,
   "metadata": {},
   "outputs": [
    {
     "name": "stdout",
     "output_type": "stream",
     "text": [
      "Enter the angles of Triange :\n",
      "65\n",
      "65\n",
      "55\n",
      "Triangle is not valid\n"
     ]
    }
   ],
   "source": [
    "print(\"Enter the angles of Triange :\")\n",
    "a = int(input())\n",
    "b = int(input())\n",
    "c = int(input())\n",
    "if a+b+c<=180:\n",
    "    print(\"Triangle is valid\")\n",
    "else:\n",
    "    print(\"Triangle is not valid\")"
   ]
  },
  {
   "cell_type": "code",
   "execution_count": 69,
   "metadata": {},
   "outputs": [
    {
     "name": "stdout",
     "output_type": "stream",
     "text": [
      "Enter the length of first side : 5\n",
      "Enter the length of second side : 6\n",
      "Enter the length of third side : 7\n",
      "scalene triangle\n"
     ]
    }
   ],
   "source": [
    "a=int(input(\"Enter the length of first side : \"))\n",
    "a1=int(input(\"Enter the length of second side : \"))\n",
    "a2=int(input(\"Enter the length of third side : \"))\n",
    "\n",
    "if a==a1 and a1==a2 and a2==a:\n",
    "    print(\"Equilateral triangle\")\n",
    "elif a==a1 or a1==a2 or a2==a:\n",
    "    print(\"isosceles triangle\")\n",
    "else:\n",
    "    print(\"scalene triangle\")"
   ]
  },
  {
   "cell_type": "code",
   "execution_count": 70,
   "metadata": {},
   "outputs": [
    {
     "name": "stdout",
     "output_type": "stream",
     "text": [
      "Enter the coefficient of x^2 : 1\n",
      "Enter the coefficient of x : -5\n",
      "Enter the constant value : 6\n",
      "root 1 : 2.0\n",
      "root 2 : 3.0\n"
     ]
    }
   ],
   "source": [
    "from math import sqrt\n",
    "a=int(input(\"Enter the coefficient of x^2 : \"))\n",
    "b=int(input(\"Enter the coefficient of x : \"))\n",
    "c=int(input(\"Enter the constant value : \"))\n",
    "sol1 = (-b-sqrt(b**2-4*a*c))/(2*a)\n",
    "sol2 = (-b+sqrt(b**2-4*a*c))/(2*a)\n",
    "print(\"root 1 :\",sol1)\n",
    "print(\"root 2 :\",sol2)"
   ]
  },
  {
   "cell_type": "code",
   "execution_count": 72,
   "metadata": {},
   "outputs": [
    {
     "name": "stdout",
     "output_type": "stream",
     "text": [
      "Enter the selling price : 30\n",
      "Enter the cost price : 36\n",
      "Loss is : 6.0\n"
     ]
    }
   ],
   "source": [
    "SP = float(input(\"Enter the selling price : \"))\n",
    "CP = float(input(\"Enter the cost price : \"))\n",
    "if SP>CP:\n",
    "    print(\"Profit is :\",SP-CP)\n",
    "else:\n",
    "    print(\"Loss is :\",CP-SP)"
   ]
  },
  {
   "cell_type": "code",
   "execution_count": 74,
   "metadata": {},
   "outputs": [
    {
     "name": "stdout",
     "output_type": "stream",
     "text": [
      "Enter the basic salary15000\n",
      "Gross salary is :  32250.0\n"
     ]
    }
   ],
   "source": [
    "bs=int(input(\"Enter the basic salary\"))\n",
    "if bs<=10000:\n",
    "    HRA=(20/100)*bs\n",
    "    DA=(80/100)*bs\n",
    "    GS=bs+HRA+DA\n",
    "    print(\"Gross salary is : \",GS)\n",
    "elif bs>10000 and bs<=20000:\n",
    "    HRA=(25/100)*bs\n",
    "    DA=(90/100)*bs\n",
    "    GS=bs+HRA+DA\n",
    "    print(\"Gross salary is : \",GS)\n",
    "elif bs>20000:\n",
    "    HRA=(30/100)*bs\n",
    "    DA=(95/100)*bs\n",
    "    GS=bs+HRA+DA\n",
    "    print(\"Gross salary is : \",GS)"
   ]
  },
  {
   "cell_type": "code",
   "execution_count": 75,
   "metadata": {},
   "outputs": [
    {
     "name": "stdout",
     "output_type": "stream",
     "text": [
      "Enter the electricity units200\n",
      "Electricity bill is : 377.5\n"
     ]
    }
   ],
   "source": [
    "units=int(input(\"Enter the electricity units : \"))\n",
    "if units<=50:\n",
    "    bill1=0.50*units\n",
    "    print(\"Electricity bill is :\",bill1)\n",
    "elif units>50 and units<=150:\n",
    "    bill2=(0.50*50)+(0.75*units)\n",
    "    print(\"Electricity bill is :\",bill2)\n",
    "elif units>150 and units<=250:\n",
    "    bill3=0.50*50+0.75*150+(1.20*units)\n",
    "    print(\"Electricity bill is :\",bill3)\n",
    "elif units>250:\n",
    "    bill4=0.50*50+0.75*150+1.20*250+(1.50*units) \n",
    "    print(\"Electricity bill is :\",bill4)"
   ]
  },
  {
   "cell_type": "code",
   "execution_count": null,
   "metadata": {},
   "outputs": [],
   "source": []
  }
 ],
 "metadata": {
  "kernelspec": {
   "display_name": "Python 3",
   "language": "python",
   "name": "python3"
  },
  "language_info": {
   "codemirror_mode": {
    "name": "ipython",
    "version": 3
   },
   "file_extension": ".py",
   "mimetype": "text/x-python",
   "name": "python",
   "nbconvert_exporter": "python",
   "pygments_lexer": "ipython3",
   "version": "3.7.1"
  }
 },
 "nbformat": 4,
 "nbformat_minor": 2
}
