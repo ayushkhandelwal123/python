{
 "cells": [
  {
   "cell_type": "code",
   "execution_count": null,
   "metadata": {},
   "outputs": [],
   "source": [
    "while True:\n",
    "    print(\"Options:\")\n",
    "    print(\"Enter 'add' to add two numbers\")\n",
    "    print(\"Enter 'subtract' to subtract two numbers\")\n",
    "    print(\"Enter 'multiply' to multiply two numbers\")\n",
    "    print(\"Enter 'divide' to divide two numbers\")\n",
    "    print(\"Enter 'quit' to end the program \")\n",
    "    user_input=input(\": \")\n",
    "    if user_input==\"quit\":\n",
    "        break\n",
    "    elif user_input==\"add\":\n",
    "        num1=int(input(\"Enter a number:\"))\n",
    "        num2=int(input(\"Enter another number:\"))\n",
    "        result=str(num1+num2)\n",
    "        print(\"The answer is\"+result)\n",
    "        \n",
    "    elif user_input==\"subtract\":\n",
    "        ...    \n",
    "    elif user_input==\"multiply\":\n",
    "        ...    \n",
    "    elif user_input==\"divide\":\n",
    "        ... \n",
    "    else:\n",
    "        print(\"Unknown input\")\n"
   ]
  },
  {
   "cell_type": "code",
   "execution_count": null,
   "metadata": {},
   "outputs": [],
   "source": []
  }
 ],
 "metadata": {
  "kernelspec": {
   "display_name": "Python 3",
   "language": "python",
   "name": "python3"
  },
  "language_info": {
   "codemirror_mode": {
    "name": "ipython",
    "version": 3
   },
   "file_extension": ".py",
   "mimetype": "text/x-python",
   "name": "python",
   "nbconvert_exporter": "python",
   "pygments_lexer": "ipython3",
   "version": "3.7.1"
  }
 },
 "nbformat": 4,
 "nbformat_minor": 2
}
