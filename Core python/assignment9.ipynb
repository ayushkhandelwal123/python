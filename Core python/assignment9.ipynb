{
 "cells": [
  {
   "cell_type": "code",
   "execution_count": 1,
   "metadata": {},
   "outputs": [
    {
     "name": "stdout",
     "output_type": "stream",
     "text": [
      "*******\n",
      "*******\n",
      "*******\n",
      "*******\n",
      "*******\n",
      "*******\n",
      "*******\n"
     ]
    }
   ],
   "source": [
    "for i in range(1,8):\n",
    "    print(\"*\"*7)"
   ]
  },
  {
   "cell_type": "code",
   "execution_count": 2,
   "metadata": {},
   "outputs": [
    {
     "name": "stdout",
     "output_type": "stream",
     "text": [
      "*\n",
      "**\n",
      "***\n",
      "****\n",
      "*****\n"
     ]
    }
   ],
   "source": [
    "for i in range(1,6):\n",
    "    print(\"*\"*i)"
   ]
  },
  {
   "cell_type": "code",
   "execution_count": 3,
   "metadata": {},
   "outputs": [
    {
     "name": "stdout",
     "output_type": "stream",
     "text": [
      "1\n",
      "22\n",
      "333\n",
      "4444\n",
      "55555\n"
     ]
    }
   ],
   "source": [
    "for i in range(1,6):\n",
    "     print(f\"{i}\"*i)"
   ]
  },
  {
   "cell_type": "code",
   "execution_count": 4,
   "metadata": {},
   "outputs": [
    {
     "name": "stdout",
     "output_type": "stream",
     "text": [
      "Enter a number5\n",
      "11111\n",
      "11111\n",
      "11111\n",
      "11111\n"
     ]
    }
   ],
   "source": [
    "n=int(input(\"Enter a number\"))\n",
    "for i in range(1,n):\n",
    "    print(\"1\"*(n))"
   ]
  },
  {
   "cell_type": "code",
   "execution_count": 5,
   "metadata": {},
   "outputs": [
    {
     "name": "stdout",
     "output_type": "stream",
     "text": [
      "1\n",
      "12\n",
      "123\n",
      "1234\n",
      "12345\n"
     ]
    }
   ],
   "source": [
    "for i in range(1,6):\n",
    "    for j in range(1,i+1):\n",
    "        print(j,end=\"\")\n",
    "    print() "
   ]
  },
  {
   "cell_type": "code",
   "execution_count": 6,
   "metadata": {},
   "outputs": [
    {
     "name": "stdout",
     "output_type": "stream",
     "text": [
      "Enter the no. of rows5\n",
      "    *\n",
      "   **\n",
      "  ***\n",
      " ****\n",
      "*****\n"
     ]
    }
   ],
   "source": [
    "n=int(input(\"Enter the no. of rows\"))\n",
    "for i in range(1,n+1):\n",
    "    print(\" \"*(n-i),\"*\"*i,sep=\"\")\n",
    "    \n",
    "    "
   ]
  },
  {
   "cell_type": "code",
   "execution_count": 7,
   "metadata": {},
   "outputs": [
    {
     "name": "stdout",
     "output_type": "stream",
     "text": [
      "Enter the no. of rows6\n",
      "     1\n",
      "    12\n",
      "   123\n",
      "  1234\n",
      " 12345\n"
     ]
    }
   ],
   "source": [
    "n=int(input(\"Enter the no. of rows\"))\n",
    "for i in range(1,n):\n",
    "    c=1\n",
    "    for j in range(1,n+1):\n",
    "        if j>=n-i+1 and j<=n+i-1:\n",
    "            print(c,end=\"\")\n",
    "            c+=1\n",
    "        else:\n",
    "            print(\" \",end=\"\")\n",
    "    print() "
   ]
  },
  {
   "cell_type": "code",
   "execution_count": 8,
   "metadata": {},
   "outputs": [
    {
     "name": "stdout",
     "output_type": "stream",
     "text": [
      "Enter the no. of rows : 5\n",
      "5\n",
      "54\n",
      "543\n",
      "5432\n",
      "54321\n"
     ]
    }
   ],
   "source": [
    "n=int(input(\"Enter the no. of rows : \"))\n",
    "for i in range(n,0,-1):\n",
    "    for j in range(n,i-1,-1):\n",
    "        print(j,end=\"\")\n",
    "    print()"
   ]
  },
  {
   "cell_type": "code",
   "execution_count": 9,
   "metadata": {},
   "outputs": [
    {
     "name": "stdout",
     "output_type": "stream",
     "text": [
      "Enter the no. of rows : 5\n",
      "5\n",
      "44\n",
      "333\n",
      "2222\n",
      "11111\n"
     ]
    }
   ],
   "source": [
    "n=int(input(\"Enter the no. of rows : \"))\n",
    "for i in range(n,0,-1):\n",
    "    for j in range(n,i-1,-1):\n",
    "        print(i,end=\"\")\n",
    "    print()\n",
    "    \n",
    "\n",
    "    "
   ]
  },
  {
   "cell_type": "code",
   "execution_count": 10,
   "metadata": {},
   "outputs": [
    {
     "name": "stdout",
     "output_type": "stream",
     "text": [
      "Enter the no. of rows : 5\n",
      "55555\n",
      "4444\n",
      "333\n",
      "22\n",
      "1\n"
     ]
    }
   ],
   "source": [
    "n=int(input(\"Enter the no. of rows : \"))\n",
    "for i in range(n,0,-1):\n",
    "    for j in range(i,0,-1):\n",
    "        print(i,end=\"\")\n",
    "    print()\n",
    "    \n"
   ]
  },
  {
   "cell_type": "code",
   "execution_count": 11,
   "metadata": {},
   "outputs": [
    {
     "name": "stdout",
     "output_type": "stream",
     "text": [
      "Enter the no. of rows : 5\n",
      "12345\n",
      "1234\n",
      "123\n",
      "12\n",
      "1\n"
     ]
    }
   ],
   "source": [
    "n=int(input(\"Enter the no. of rows : \"))\n",
    "for i in range(n,0,-1):\n",
    "    for j in range(1,i+1,1):\n",
    "        print(j,end=\"\")\n",
    "    print()\n",
    "    \n"
   ]
  },
  {
   "cell_type": "code",
   "execution_count": 12,
   "metadata": {},
   "outputs": [
    {
     "name": "stdout",
     "output_type": "stream",
     "text": [
      "Enter the no. of rows : 5\n",
      "54321\n",
      "5432\n",
      "543\n",
      "54\n",
      "5\n"
     ]
    }
   ],
   "source": [
    "n=int(input(\"Enter the no. of rows : \"))\n",
    "for i in range(1,n+1,1):\n",
    "    for j in range(n,i-1,-1):\n",
    "        print(j,end=\"\")\n",
    "    print()\n",
    "    "
   ]
  },
  {
   "cell_type": "code",
   "execution_count": 13,
   "metadata": {},
   "outputs": [
    {
     "name": "stdout",
     "output_type": "stream",
     "text": [
      "Enter the no. of rows : 5\n",
      "*****\n",
      "****\n",
      "***\n",
      "**\n",
      "*\n"
     ]
    }
   ],
   "source": [
    "n=int(input(\"Enter the no. of rows : \"))\n",
    "for i in range(1,n+1,1):\n",
    "    for j in range(n,i-1,-1):\n",
    "        print(\"*\",end=\"\")\n",
    "    print()"
   ]
  },
  {
   "cell_type": "code",
   "execution_count": 14,
   "metadata": {},
   "outputs": [
    {
     "name": "stdout",
     "output_type": "stream",
     "text": [
      "Enter a number7\n",
      "      * \n",
      "     * * \n",
      "    * * * \n",
      "   * * * * \n",
      "  * * * * * \n",
      " * * * * * * \n"
     ]
    }
   ],
   "source": [
    "n=int(input(\"Enter a number\"))\n",
    "for i in range(1,n,1):\n",
    "    print(\" \"*(n-i),i*\"* \",sep=\"\")"
   ]
  },
  {
   "cell_type": "code",
   "execution_count": 15,
   "metadata": {},
   "outputs": [
    {
     "name": "stdout",
     "output_type": "stream",
     "text": [
      "Enter a number13\n",
      "            * \n",
      "          * * * \n",
      "        * * * * * \n",
      "      * * * * * * * \n",
      "    * * * * * * * * * \n",
      "  * * * * * * * * * * * \n"
     ]
    }
   ],
   "source": [
    "n=int(input(\"Enter a number\"))\n",
    "for i in range(1,n,2):\n",
    "    print(\" \"*(n-i),i*\"* \",sep=\"\")"
   ]
  },
  {
   "cell_type": "code",
   "execution_count": 5,
   "metadata": {},
   "outputs": [
    {
     "name": "stdout",
     "output_type": "stream",
     "text": [
      "Enter the number of rows5\n",
      "    1    \n",
      "   123   \n",
      "  12345  \n",
      " 1234567 \n"
     ]
    }
   ],
   "source": [
    "n=int(input(\"Enter the number of rows\"))\n",
    "for i in range(1,n):\n",
    "    c=1\n",
    "    for j in range(1,2*n):\n",
    "        if j>=n-i+1 and j<=n+i-1:\n",
    "            print(c,end=\"\")\n",
    "            c+=1\n",
    "        else:\n",
    "            print(\" \",end=\"\")\n",
    "    print()"
   ]
  },
  {
   "cell_type": "code",
   "execution_count": 16,
   "metadata": {},
   "outputs": [
    {
     "name": "stdout",
     "output_type": "stream",
     "text": [
      "Enter the number of rows6\n",
      "     1     \n",
      "    123    \n",
      "   12345   \n",
      "  1234567  \n",
      " 123456789 \n"
     ]
    }
   ],
   "source": [
    "n=int(input(\"Enter the number of rows\"))\n",
    "for i in range(1,n):\n",
    "    c=1\n",
    "    for j in range(1,2*n):\n",
    "        if j>=n-i+1 and j<=n+i-1:\n",
    "            print(c,end=\"\")\n",
    "            c+=1\n",
    "        else:\n",
    "            print(\" \",end=\"\")\n",
    "    print()"
   ]
  },
  {
   "cell_type": "code",
   "execution_count": 4,
   "metadata": {},
   "outputs": [
    {
     "name": "stdout",
     "output_type": "stream",
     "text": [
      "Enter the dividend24\n",
      "Enter the divisor5\n",
      "Remainder is : 4\n",
      "Quotient is : 4\n"
     ]
    }
   ],
   "source": [
    "n=int(input(\"Enter the dividend\"))\n",
    "i=int(input(\"Enter the divisor\"))\n",
    "d=n%i\n",
    "q=n//i\n",
    "print(\"Remainder is :\", d)\n",
    "print(\"Quotient is :\",q)"
   ]
  },
  {
   "cell_type": "code",
   "execution_count": 6,
   "metadata": {},
   "outputs": [
    {
     "name": "stdout",
     "output_type": "stream",
     "text": [
      "Enter a number245\n",
      "11\n"
     ]
    }
   ],
   "source": [
    "n=int(input(\"Enter a number\"))\n",
    "sum=0\n",
    "while n>0:\n",
    "    d=n%10\n",
    "    sum=sum+d\n",
    "    n=n//10\n",
    "print(sum)"
   ]
  },
  {
   "cell_type": "code",
   "execution_count": 7,
   "metadata": {},
   "outputs": [
    {
     "name": "stdout",
     "output_type": "stream",
     "text": [
      "Enter a number134\n",
      "12\n"
     ]
    }
   ],
   "source": [
    "n=int(input(\"Enter a number\"))\n",
    "p=1\n",
    "while n>0:\n",
    "    d=n%10\n",
    "    p=p*d\n",
    "    n=n//10\n",
    "print(p)"
   ]
  },
  {
   "cell_type": "code",
   "execution_count": 1,
   "metadata": {},
   "outputs": [
    {
     "name": "stdout",
     "output_type": "stream",
     "text": [
      "Enter the number of terms : 6\n",
      "Fibonacci sequence :\n",
      "0 , 1 , 1 , 2 , 3 , 5 , "
     ]
    }
   ],
   "source": [
    "nterms = int(input(\"Enter the number of terms : \"))\n",
    "\n",
    "n1 = 0\n",
    "n2 = 1\n",
    "count = 0\n",
    "\n",
    "if nterms <= 0:\n",
    "    print(\"Please enter a positive integer\")\n",
    "elif nterms == 1:\n",
    "    print(\"Fibonacci sequence :\")\n",
    "    print(n1)\n",
    "else:\n",
    "    print(\"Fibonacci sequence :\")\n",
    "    while count < nterms:\n",
    "        print(n1,end=' , ')\n",
    "        nth = n1 + n2\n",
    "        n1 = n2\n",
    "        n2 = nth\n",
    "        count += 1"
   ]
  },
  {
   "cell_type": "code",
   "execution_count": 5,
   "metadata": {},
   "outputs": [
    {
     "name": "stdout",
     "output_type": "stream",
     "text": [
      "Enter first number5\n",
      "Enter second number4\n"
     ]
    },
    {
     "data": {
      "text/plain": [
       "20"
      ]
     },
     "execution_count": 5,
     "metadata": {},
     "output_type": "execute_result"
    }
   ],
   "source": [
    "a=int(input(\"Enter first number\"))\n",
    "b=int(input(\"Enter second number\"))\n",
    "a.__mul__(b)"
   ]
  },
  {
   "cell_type": "code",
   "execution_count": 16,
   "metadata": {},
   "outputs": [
    {
     "name": "stdout",
     "output_type": "stream",
     "text": [
      "Enter the number of terms6\n",
      "15\n"
     ]
    }
   ],
   "source": [
    "sum=0\n",
    "\n",
    "n=int(input(\"Enter the number of terms\"))\n",
    "for i in range(1,n):\n",
    "    sum=sum+(i)\n",
    "print(sum)"
   ]
  },
  {
   "cell_type": "code",
   "execution_count": 17,
   "metadata": {},
   "outputs": [
    {
     "name": "stdout",
     "output_type": "stream",
     "text": [
      "Enter a number5\n",
      "Number is prime\n"
     ]
    }
   ],
   "source": [
    "n=int(input(\"Enter a number\"))\n",
    "count=0\n",
    "for i in range(1,n,1):\n",
    "    if(n%i==0):\n",
    "        count=count+1\n",
    "    if(count==0):\n",
    "        print(\"Not a prime number\")\n",
    "else:\n",
    "    print(\"Number is prime\")"
   ]
  },
  {
   "cell_type": "code",
   "execution_count": 20,
   "metadata": {},
   "outputs": [
    {
     "name": "stdout",
     "output_type": "stream",
     "text": [
      "55\n",
      "5.5\n"
     ]
    }
   ],
   "source": [
    "sum=0\n",
    "for i in range(1,11):\n",
    "    sum = sum+i\n",
    "    avg=sum/10\n",
    "print(sum)\n",
    "print(avg)"
   ]
  },
  {
   "cell_type": "code",
   "execution_count": 21,
   "metadata": {},
   "outputs": [
    {
     "name": "stdout",
     "output_type": "stream",
     "text": [
      "Enter the first number56\n",
      "Enter the second number24\n",
      "sum is : 80\n",
      "subtraction is : 32\n",
      "product is : 1344\n",
      "division is : 2\n",
      "remainder is : 8\n"
     ]
    }
   ],
   "source": [
    "a=int(input(\"Enter the first number\"))\n",
    "b=int(input(\"Enter the second number\"))\n",
    "sum=a+b\n",
    "sub=a-b\n",
    "pro=a*b\n",
    "div=a//b\n",
    "mod=a%b\n",
    "print(\"sum is :\",sum)\n",
    "print(\"subtraction is :\",sub)\n",
    "print(\"product is :\",pro)\n",
    "print(\"division is :\",div)\n",
    "print(\"remainder is :\",mod)"
   ]
  },
  {
   "cell_type": "code",
   "execution_count": 26,
   "metadata": {},
   "outputs": [
    {
     "name": "stdout",
     "output_type": "stream",
     "text": [
      "Enter the alphabet :$\n",
      "Special symbol\n"
     ]
    }
   ],
   "source": [
    "l=(\"a\",\"e\",\"i\",\"o\",\"u\",\"A\",\"E\",\"I\",\"O\",\"U\")\n",
    "ch=input(\"Enter the alphabet :\")\n",
    "if ch in l:\n",
    "    print(\"vowel\")\n",
    "elif ch.isalpha():\n",
    "    print(\"consonant\")\n",
    "else:\n",
    "    print(\"Special symbol\")"
   ]
  },
  {
   "cell_type": "code",
   "execution_count": 29,
   "metadata": {},
   "outputs": [
    {
     "name": "stdout",
     "output_type": "stream",
     "text": [
      "Enter two numbers12 16\n",
      "4\n"
     ]
    }
   ],
   "source": [
    "n1,n2=map(int,input(\"Enter two numbers\").split())\n",
    "if n1<n2:\n",
    "    min=n1\n",
    "else:\n",
    "    min=n2\n",
    "while True:\n",
    "    if n1%min==0 and n2%min==0:\n",
    "        break\n",
    "    else:\n",
    "        min=min-1\n",
    "print(min)"
   ]
  },
  {
   "cell_type": "code",
   "execution_count": 34,
   "metadata": {},
   "outputs": [
    {
     "name": "stdout",
     "output_type": "stream",
     "text": [
      "Enter 80 numbers1 2 3 4 5 6 7 8 9 10 11 12 13 14 15 16 17 18 19 20\n",
      "1\t2\t3\t4\t5\t6\t7\t8\t\n",
      "9\t10\t11\t12\t13\t14\t15\t16\t\n",
      "17\t18\t19\t20\t"
     ]
    }
   ],
   "source": [
    "n=input(\"Enter 80 numbers\").split()\n",
    "c=1\n",
    "for var in n:\n",
    "    print(int(var),end=\"\\t\")\n",
    "    if c==8:\n",
    "        print()\n",
    "        c=0\n",
    "    c+=1"
   ]
  },
  {
   "cell_type": "code",
   "execution_count": 35,
   "metadata": {},
   "outputs": [
    {
     "name": "stdout",
     "output_type": "stream",
     "text": [
      "Enter 10 numbers24 80 12 14 15 17 18 19 23 67\n",
      "Maximum is 80\n"
     ]
    }
   ],
   "source": [
    "n=sorted(list(map(int,input(\"Enter 10 numbers\").split())))\n",
    "print(f\"Maximum is {n[-1]}\")"
   ]
  },
  {
   "cell_type": "code",
   "execution_count": 38,
   "metadata": {},
   "outputs": [
    {
     "name": "stdout",
     "output_type": "stream",
     "text": [
      "Enter a number123\n",
      "321\n"
     ]
    }
   ],
   "source": [
    "n=int(input(\"Enter a number\"))\n",
    "d=0\n",
    "rev=0\n",
    "while n>0:\n",
    "    d=n%10\n",
    "    rev=rev*10+d\n",
    "    n=n//10\n",
    "print(rev)"
   ]
  },
  {
   "cell_type": "code",
   "execution_count": 46,
   "metadata": {},
   "outputs": [
    {
     "name": "stdout",
     "output_type": "stream",
     "text": [
      "Enter a number121\n",
      "Palindrome\n"
     ]
    }
   ],
   "source": [
    "n=int(input(\"Enter a number\"))\n",
    "d=0\n",
    "rev=0\n",
    "num=n\n",
    "while n>0:\n",
    "    d=n%10\n",
    "    rev=rev*10+d\n",
    "    n=n//10\n",
    "if rev==num:\n",
    "     print(\"Palindrome\")\n",
    "else:\n",
    "    print(\"not palindrome\")"
   ]
  },
  {
   "cell_type": "code",
   "execution_count": null,
   "metadata": {},
   "outputs": [],
   "source": [
    "n=input(\"Enter n numbers\").split()\n",
    "count=1\n",
    "for var in n:\n",
    "    if var%i==0:\n",
    "        count+=1\n",
    "    elif count==2:\n",
    "        print()\n",
    "        \n",
    "    "
   ]
  },
  {
   "cell_type": "code",
   "execution_count": 55,
   "metadata": {},
   "outputs": [
    {
     "name": "stdout",
     "output_type": "stream",
     "text": [
      "Enter the number of rows6\n",
      "    12     \n",
      "   1234    \n",
      "  123456   \n",
      " 12345678  \n",
      "12345678910 \n"
     ]
    }
   ],
   "source": [
    "n=int(input(\"Enter the number of rows\"))\n",
    "for i in range(1,n):\n",
    "    c=1\n",
    "    for j in range(1,2*n):\n",
    "        if j>=n-i and j<=n+i-1:\n",
    "            print(c,end=\"\")\n",
    "            c+=1\n",
    "        else:\n",
    "            print(\" \",end=\"\")\n",
    "    print()"
   ]
  },
  {
   "cell_type": "code",
   "execution_count": 56,
   "metadata": {},
   "outputs": [
    {
     "name": "stdout",
     "output_type": "stream",
     "text": [
      "Enter the number of rows6\n",
      "1\n",
      "123\n",
      "12345\n",
      "1234567\n",
      "123456789\n"
     ]
    }
   ],
   "source": [
    "n=int(input(\"Enter the number of rows\"))\n",
    "for i in range(1,n):\n",
    "    c=1\n",
    "    for j in range(1,2*n):\n",
    "        if j>=n-i+1 and j<=n+i-1:\n",
    "            print(c,end=\"\")\n",
    "            c+=1\n",
    "        else:\n",
    "            print(\"\",end=\"\")\n",
    "    print()"
   ]
  },
  {
   "cell_type": "code",
   "execution_count": 21,
   "metadata": {},
   "outputs": [],
   "source": [
    "def dec(fun):\n",
    "    def inner():\n",
    "        for i in range(1,8):\n",
    "            if i==1 or i==7:\n",
    "                print(\"*\"*10)\n",
    "            if i==4:\n",
    "                fun()\n",
    "            if i!=1 and i!=7 and i!=4:\n",
    "                print(\"*\",\" \"*8,\"*\",sep=\"\")\n",
    "    return inner"
   ]
  },
  {
   "cell_type": "code",
   "execution_count": 23,
   "metadata": {},
   "outputs": [
    {
     "name": "stdout",
     "output_type": "stream",
     "text": [
      "**********\n",
      "*        *\n",
      "*        *\n",
      "*        *\n",
      "*        *\n",
      "*        *\n",
      "**********\n"
     ]
    }
   ],
   "source": [
    "@dec\n",
    "def fun2():\n",
    "    print(\"*\",\" \"*8,\"*\",sep=\"\")\n",
    "fun2()"
   ]
  },
  {
   "cell_type": "code",
   "execution_count": null,
   "metadata": {},
   "outputs": [],
   "source": []
  }
 ],
 "metadata": {
  "kernelspec": {
   "display_name": "Python 3",
   "language": "python",
   "name": "python3"
  },
  "language_info": {
   "codemirror_mode": {
    "name": "ipython",
    "version": 3
   },
   "file_extension": ".py",
   "mimetype": "text/x-python",
   "name": "python",
   "nbconvert_exporter": "python",
   "pygments_lexer": "ipython3",
   "version": "3.6.5"
  }
 },
 "nbformat": 4,
 "nbformat_minor": 2
}
