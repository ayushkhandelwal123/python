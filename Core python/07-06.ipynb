{
 "cells": [
  {
   "cell_type": "markdown",
   "metadata": {},
   "source": [
    "esc --> command mode <br>\n",
    "enter --> insert mode <br>\n",
    "esc -->shift+m --> change cell to markdown <br>\n",
    "esc --> shift + r --> raw cell <br>\n",
    "esc --> shift + a --> open cell above current cell <br>\n",
    "esc --> shift + b --> open cell below <br>\n",
    "esc --> shift + x --> delete cell "
   ]
  },
  {
   "cell_type": "code",
   "execution_count": null,
   "metadata": {},
   "outputs": [],
   "source": [
    "# this is heading one"
   ]
  },
  {
   "cell_type": "code",
   "execution_count": null,
   "metadata": {},
   "outputs": [],
   "source": [
    "# Data types\n",
    "\n",
    "* Numbers\n",
    "    * int\n",
    "    * float\n",
    "    * complex\n",
    "* String\n",
    "* List\n",
    "* Tuple\n",
    "* Dictionary\n",
    "* Sets\n",
    "* Frozen sets\n",
    "* Boolean\n",
    "* None type\n",
    "\n",
    ".[someinfo].(http://google.co.in)"
   ]
  },
  {
   "cell_type": "markdown",
   "metadata": {},
   "source": [
    "<h1 style='color:red'> Hello this is Heading one </h1>"
   ]
  },
  {
   "cell_type": "code",
   "execution_count": 2,
   "metadata": {},
   "outputs": [
    {
     "name": "stdout",
     "output_type": "stream",
     "text": [
      " Volume in drive C is Windows\n",
      " Volume Serial Number is 68F7-7C84\n",
      "\n",
      " Directory of C:\\Users\\HP\n",
      "\n",
      "07-06-2019  13:44    <DIR>          .\n",
      "07-06-2019  13:44    <DIR>          ..\n",
      "18-02-2019  19:07    <DIR>          .anaconda\n",
      "26-01-2019  19:02             1,442 .bash_history\n",
      "09-03-2019  16:16    <DIR>          .conda\n",
      "09-03-2019  15:02                43 .condarc\n",
      "26-01-2019  18:53                45 .gitconfig\n",
      "21-02-2019  18:17    <DIR>          .idlerc\n",
      "07-06-2019  13:26    <DIR>          .ipynb_checkpoints\n",
      "29-01-2019  18:37    <DIR>          .ipython\n",
      "31-01-2019  15:58    <DIR>          .jupyter\n",
      "10-04-2019  19:12    <DIR>          .matplotlib\n",
      "10-04-2019  19:52    <DIR>          .spyder-py3\n",
      "26-01-2019  19:02               764 .viminfo\n",
      "18-02-2019  17:33    <DIR>          __pycache__\n",
      "07-06-2019  13:19            20,595 05-06.ipynb\n",
      "07-06-2019  09:43            14,340 06-06.ipynb\n",
      "10-04-2019  14:30            20,687 09-04-2019.ipynb\n",
      "15-04-2019  17:27             2,944 15-4-19.ipynb\n",
      "30-05-2019  09:59             5,923 30-05-19.ipynb\n",
      "31-05-2019  09:56             9,174 31-05.ipynb\n",
      "09-02-2019  18:15    <DIR>          3D Objects\n",
      "04-06-2019  09:50             3,656 4-6.ipynb\n",
      "07-06-2019  10:16               197 abc.py\n",
      "29-01-2019  18:31    <DIR>          Anaconda3\n",
      "04-06-2019  19:34             8,612 assign-9.ipynb\n",
      "11-04-2019  13:53             7,886 assignment 1-2-3.ipynb\n",
      "11-04-2019  14:39            12,318 assignment 8.ipynb\n",
      "11-04-2019  14:08             3,619 assignment-4.ipynb\n",
      "13-04-2019  13:55             3,504 Assignment-6.ipynb\n",
      "11-04-2019  14:37             8,984 assignment7.ipynb\n",
      "11-04-2019  14:40            19,440 assignment9.ipynb\n",
      "26-01-2019  18:41    <DIR>          ayush\n",
      "07-06-2019  11:02               147 ayush.py\n",
      "10-04-2019  21:35            23,123 Bank application.ipynb\n",
      "12-04-2019  13:59               344 Bank.json\n",
      "12-04-2019  14:10            45,994 bankapp.ipynb\n",
      "07-06-2019  10:52               202 c.py\n",
      "07-06-2019  11:08               957 car1.py\n",
      "15-04-2019  14:51            27,108 classes.ipynb\n",
      "18-03-2019  17:00             3,211 Cont.ipynb\n",
      "09-02-2019  18:15    <DIR>          Contacts\n",
      "25-03-2019  16:43             1,206 continue.ipynb\n",
      "06-06-2019  16:41    <DIR>          Desktop\n",
      "06-06-2019  16:16    <DIR>          Documents\n",
      "07-06-2019  10:05    <DIR>          Downloads\n",
      "09-02-2019  18:15    <DIR>          Favorites\n",
      "29-03-2019  16:08             6,735 functions in python.ipynb\n",
      "31-03-2019  10:28            59,919 functions.ipynb\n",
      "14-03-2019  17:50               555 game.ipynb\n",
      "04-04-2019  16:33                20 h.py\n",
      "12-04-2019  14:07               344 hii.json\n",
      "16-04-2019  17:36             2,439 inheritance.ipynb\n",
      "09-02-2019  18:15    <DIR>          Links\n",
      "29-03-2019  16:31               555 list functions.ipynb\n",
      "29-03-2019  16:27               555 list functions.py\n",
      "17-02-2019  17:50               555 module.ipynb\n",
      "17-02-2019  18:18               555 module.py\n",
      "26-01-2019  19:26    <DIR>          mohit\n",
      "09-02-2019  18:15    <DIR>          Music\n",
      "09-02-2019  18:19    <DIR>          OneDrive\n",
      "18-03-2019  15:30            10,615 operators.ipynb\n",
      "06-06-2019  14:10                75 pat1.txt\n",
      "20-04-2019  20:58    <DIR>          Pictures\n",
      "21-02-2019  18:15                 0 pip\n",
      "06-06-2019  11:08            22,096 practice datatype.ipynb\n",
      "07-06-2019  09:49            34,018 practice1.ipynb\n",
      "17-02-2019  17:47    <DIR>          Python 3.7\n",
      "17-02-2019  18:00        25,365,744 python-3.7.2.exe\n",
      "09-02-2019  18:15    <DIR>          Saved Games\n",
      "09-02-2019  18:15    <DIR>          Searches\n",
      "02-04-2019  18:53            15,631 special functions.ipynb\n",
      "24-12-2018  15:29    <DIR>          test\n",
      "15-02-2019  13:21             1,383 test.ipynb\n",
      "08-02-2019  18:00            19,925 test1.ipynb\n",
      "12-04-2019  13:12                32 test1.pkl\n",
      "06-04-2019  10:35            31,413 test2.ipynb\n",
      "16-02-2019  17:00             1,650 test3.ipynb\n",
      "04-06-2019  19:23             8,557 test4.ipynb\n",
      "17-02-2019  17:54             9,855 test4.py\n",
      "31-03-2019  10:30            65,413 test5.ipynb\n",
      "29-01-2019  18:39               800 Untitled.ipynb\n",
      "15-04-2019  16:18                72 Untitled1.ipynb\n",
      "07-06-2019  13:44             1,599 Untitled10.ipynb\n",
      "27-03-2019  14:08            53,227 Untitled13.ipynb\n",
      "01-04-2019  22:18             7,199 Untitled14.ipynb\n",
      "02-04-2019  18:53             6,120 Untitled15.ipynb\n",
      "30-05-2019  08:27               555 Untitled16.ipynb\n",
      "31-05-2019  08:12                72 Untitled17.ipynb\n",
      "04-06-2019  08:44             2,170 Untitled18.ipynb\n",
      "04-06-2019  16:41                72 Untitled19.ipynb\n",
      "03-02-2019  02:00             2,462 Untitled2.ipynb\n",
      "06-06-2019  13:04               555 Untitled20.ipynb\n",
      "06-06-2019  13:38                72 Untitled21.ipynb\n",
      "08-02-2019  18:09             2,519 Untitled3.ipynb\n",
      "14-02-2019  18:09                72 Untitled4.ipynb\n",
      "14-02-2019  18:18                72 Untitled5.ipynb\n",
      "17-02-2019  17:50                72 Untitled6.ipynb\n",
      "17-02-2019  18:07                72 Untitled7.ipynb\n",
      "14-03-2019  20:38                72 Untitled8.ipynb\n",
      "26-03-2019  16:02               555 Untitled9.ipynb\n",
      "09-02-2019  18:15    <DIR>          Videos\n",
      "              73 File(s)     25,983,513 bytes\n",
      "              29 Dir(s)  44,311,801,856 bytes free\n"
     ]
    }
   ],
   "source": [
    "ls"
   ]
  },
  {
   "cell_type": "markdown",
   "metadata": {},
   "source": [
    "\n",
    "\n",
    "<img src=https://cdn.techbeamers.com/wp-content/uploads/2017/11/Python-Data-Types-Learn-from-Basic-to-Advanced.png height=500 width=400 float=right>\n",
    "<h1 style='color:#123456'> Data Types </h1>    \n",
    "<ol>\n",
    "  <li>Numbers</li>\n",
    "  <li>Strings</li>\n",
    "  <li>List</li>\n",
    "  <li>Tuple</li>\n",
    "  <li>Dictionary</li>\n",
    "  <li>Set</li> \n",
    "  <li>frozenset</li>\n",
    "  <li>None type</li>\n",
    "</ol>  "
   ]
  },
  {
   "cell_type": "code",
   "execution_count": 3,
   "metadata": {},
   "outputs": [
    {
     "data": {
      "text/plain": [
       "['__abs__',\n",
       " '__add__',\n",
       " '__and__',\n",
       " '__bool__',\n",
       " '__ceil__',\n",
       " '__class__',\n",
       " '__delattr__',\n",
       " '__dir__',\n",
       " '__divmod__',\n",
       " '__doc__',\n",
       " '__eq__',\n",
       " '__float__',\n",
       " '__floor__',\n",
       " '__floordiv__',\n",
       " '__format__',\n",
       " '__ge__',\n",
       " '__getattribute__',\n",
       " '__getnewargs__',\n",
       " '__gt__',\n",
       " '__hash__',\n",
       " '__index__',\n",
       " '__init__',\n",
       " '__init_subclass__',\n",
       " '__int__',\n",
       " '__invert__',\n",
       " '__le__',\n",
       " '__lshift__',\n",
       " '__lt__',\n",
       " '__mod__',\n",
       " '__mul__',\n",
       " '__ne__',\n",
       " '__neg__',\n",
       " '__new__',\n",
       " '__or__',\n",
       " '__pos__',\n",
       " '__pow__',\n",
       " '__radd__',\n",
       " '__rand__',\n",
       " '__rdivmod__',\n",
       " '__reduce__',\n",
       " '__reduce_ex__',\n",
       " '__repr__',\n",
       " '__rfloordiv__',\n",
       " '__rlshift__',\n",
       " '__rmod__',\n",
       " '__rmul__',\n",
       " '__ror__',\n",
       " '__round__',\n",
       " '__rpow__',\n",
       " '__rrshift__',\n",
       " '__rshift__',\n",
       " '__rsub__',\n",
       " '__rtruediv__',\n",
       " '__rxor__',\n",
       " '__setattr__',\n",
       " '__sizeof__',\n",
       " '__str__',\n",
       " '__sub__',\n",
       " '__subclasshook__',\n",
       " '__truediv__',\n",
       " '__trunc__',\n",
       " '__xor__',\n",
       " 'bit_length',\n",
       " 'conjugate',\n",
       " 'denominator',\n",
       " 'from_bytes',\n",
       " 'imag',\n",
       " 'numerator',\n",
       " 'real',\n",
       " 'to_bytes']"
      ]
     },
     "execution_count": 3,
     "metadata": {},
     "output_type": "execute_result"
    }
   ],
   "source": [
    "dir(int)"
   ]
  },
  {
   "cell_type": "code",
   "execution_count": 4,
   "metadata": {},
   "outputs": [
    {
     "ename": "SyntaxError",
     "evalue": "EOL while scanning string literal (<ipython-input-4-8de5adeed267>, line 1)",
     "output_type": "error",
     "traceback": [
      "\u001b[1;36m  File \u001b[1;32m\"<ipython-input-4-8de5adeed267>\"\u001b[1;36m, line \u001b[1;32m1\u001b[0m\n\u001b[1;33m    s='hello\u001b[0m\n\u001b[1;37m            ^\u001b[0m\n\u001b[1;31mSyntaxError\u001b[0m\u001b[1;31m:\u001b[0m EOL while scanning string literal\n"
     ]
    }
   ],
   "source": [
    "s='hello\n",
    "world\n",
    "i am a multi line string'\n",
    "print(s)"
   ]
  },
  {
   "cell_type": "markdown",
   "metadata": {},
   "source": [
    "EOL --> end of line"
   ]
  },
  {
   "cell_type": "code",
   "execution_count": 6,
   "metadata": {},
   "outputs": [
    {
     "name": "stdout",
     "output_type": "stream",
     "text": [
      "helloworldi am a multi line string\n"
     ]
    }
   ],
   "source": [
    "# line break\n",
    "s='hello\\\n",
    "world\\\n",
    "i am a multi line string'\n",
    "print(s)"
   ]
  },
  {
   "cell_type": "code",
   "execution_count": 8,
   "metadata": {},
   "outputs": [
    {
     "ename": "SyntaxError",
     "evalue": "invalid syntax (<ipython-input-8-c873fd4a71e5>, line 1)",
     "output_type": "error",
     "traceback": [
      "\u001b[1;36m  File \u001b[1;32m\"<ipython-input-8-c873fd4a71e5>\"\u001b[1;36m, line \u001b[1;32m1\u001b[0m\n\u001b[1;33m    s= \"he said,\"she is beautiful\"\"\u001b[0m\n\u001b[1;37m                   ^\u001b[0m\n\u001b[1;31mSyntaxError\u001b[0m\u001b[1;31m:\u001b[0m invalid syntax\n"
     ]
    }
   ],
   "source": [
    "s= \"he said,\"she is beautiful\"\""
   ]
  },
  {
   "cell_type": "code",
   "execution_count": 10,
   "metadata": {},
   "outputs": [
    {
     "name": "stdout",
     "output_type": "stream",
     "text": [
      "he said,\"she is beautiful.\"\n"
     ]
    }
   ],
   "source": [
    "s= \"he said,\\\"she is beautiful.\\\"\"\n",
    "print(s)"
   ]
  },
  {
   "cell_type": "code",
   "execution_count": 11,
   "metadata": {},
   "outputs": [
    {
     "ename": "SyntaxError",
     "evalue": "EOL while scanning string literal (<ipython-input-11-dff1232de400>, line 1)",
     "output_type": "error",
     "traceback": [
      "\u001b[1;36m  File \u001b[1;32m\"<ipython-input-11-dff1232de400>\"\u001b[1;36m, line \u001b[1;32m1\u001b[0m\n\u001b[1;33m    print(\"\\\")\u001b[0m\n\u001b[1;37m              ^\u001b[0m\n\u001b[1;31mSyntaxError\u001b[0m\u001b[1;31m:\u001b[0m EOL while scanning string literal\n"
     ]
    }
   ],
   "source": [
    "print(\"\\\")"
   ]
  },
  {
   "cell_type": "code",
   "execution_count": 13,
   "metadata": {},
   "outputs": [
    {
     "name": "stdout",
     "output_type": "stream",
     "text": [
      "\\ \\n \\t \\r \\a\n"
     ]
    }
   ],
   "source": [
    "print(\"\\\\ \\\\n \\\\t \\\\r \\\\a\")"
   ]
  },
  {
   "cell_type": "code",
   "execution_count": 14,
   "metadata": {},
   "outputs": [
    {
     "name": "stdout",
     "output_type": "stream",
     "text": [
      "\n",
      "here we\n",
      "will store\n",
      "multiple lines\n"
     ]
    }
   ],
   "source": [
    "s=\"\"\"\n",
    "here we\n",
    "will store\n",
    "multiple lines\"\"\"\n",
    "print(s)"
   ]
  },
  {
   "cell_type": "code",
   "execution_count": 15,
   "metadata": {},
   "outputs": [],
   "source": [
    "def hello():\n",
    "    \"\"\"\n",
    "    __doc__ --> doc string of hello function\n",
    "    hello\n",
    "        i am a function\n",
    "    and its easy to define a function\"\"\"\n",
    "    print(\"hello world\")"
   ]
  },
  {
   "cell_type": "code",
   "execution_count": 16,
   "metadata": {},
   "outputs": [
    {
     "name": "stdout",
     "output_type": "stream",
     "text": [
      "hello world\n"
     ]
    }
   ],
   "source": [
    "hello()"
   ]
  },
  {
   "cell_type": "code",
   "execution_count": 17,
   "metadata": {},
   "outputs": [
    {
     "name": "stdout",
     "output_type": "stream",
     "text": [
      "Help on function hello in module __main__:\n",
      "\n",
      "hello()\n",
      "    __doc__ --> doc string of hello function\n",
      "    hello\n",
      "        i am a function\n",
      "    and its easy to define a function\n",
      "\n"
     ]
    }
   ],
   "source": [
    "help(hello)"
   ]
  },
  {
   "cell_type": "code",
   "execution_count": 18,
   "metadata": {},
   "outputs": [
    {
     "name": "stdout",
     "output_type": "stream",
     "text": [
      "Help on class int in module builtins:\n",
      "\n",
      "class int(object)\n",
      " |  int([x]) -> integer\n",
      " |  int(x, base=10) -> integer\n",
      " |  \n",
      " |  Convert a number or string to an integer, or return 0 if no arguments\n",
      " |  are given.  If x is a number, return x.__int__().  For floating point\n",
      " |  numbers, this truncates towards zero.\n",
      " |  \n",
      " |  If x is not a number or if base is given, then x must be a string,\n",
      " |  bytes, or bytearray instance representing an integer literal in the\n",
      " |  given base.  The literal can be preceded by '+' or '-' and be surrounded\n",
      " |  by whitespace.  The base defaults to 10.  Valid bases are 0 and 2-36.\n",
      " |  Base 0 means to interpret the base from the string as an integer literal.\n",
      " |  >>> int('0b100', base=0)\n",
      " |  4\n",
      " |  \n",
      " |  Methods defined here:\n",
      " |  \n",
      " |  __abs__(self, /)\n",
      " |      abs(self)\n",
      " |  \n",
      " |  __add__(self, value, /)\n",
      " |      Return self+value.\n",
      " |  \n",
      " |  __and__(self, value, /)\n",
      " |      Return self&value.\n",
      " |  \n",
      " |  __bool__(self, /)\n",
      " |      self != 0\n",
      " |  \n",
      " |  __ceil__(...)\n",
      " |      Ceiling of an Integral returns itself.\n",
      " |  \n",
      " |  __divmod__(self, value, /)\n",
      " |      Return divmod(self, value).\n",
      " |  \n",
      " |  __eq__(self, value, /)\n",
      " |      Return self==value.\n",
      " |  \n",
      " |  __float__(self, /)\n",
      " |      float(self)\n",
      " |  \n",
      " |  __floor__(...)\n",
      " |      Flooring an Integral returns itself.\n",
      " |  \n",
      " |  __floordiv__(self, value, /)\n",
      " |      Return self//value.\n",
      " |  \n",
      " |  __format__(self, format_spec, /)\n",
      " |      Default object formatter.\n",
      " |  \n",
      " |  __ge__(self, value, /)\n",
      " |      Return self>=value.\n",
      " |  \n",
      " |  __getattribute__(self, name, /)\n",
      " |      Return getattr(self, name).\n",
      " |  \n",
      " |  __getnewargs__(self, /)\n",
      " |  \n",
      " |  __gt__(self, value, /)\n",
      " |      Return self>value.\n",
      " |  \n",
      " |  __hash__(self, /)\n",
      " |      Return hash(self).\n",
      " |  \n",
      " |  __index__(self, /)\n",
      " |      Return self converted to an integer, if self is suitable for use as an index into a list.\n",
      " |  \n",
      " |  __int__(self, /)\n",
      " |      int(self)\n",
      " |  \n",
      " |  __invert__(self, /)\n",
      " |      ~self\n",
      " |  \n",
      " |  __le__(self, value, /)\n",
      " |      Return self<=value.\n",
      " |  \n",
      " |  __lshift__(self, value, /)\n",
      " |      Return self<<value.\n",
      " |  \n",
      " |  __lt__(self, value, /)\n",
      " |      Return self<value.\n",
      " |  \n",
      " |  __mod__(self, value, /)\n",
      " |      Return self%value.\n",
      " |  \n",
      " |  __mul__(self, value, /)\n",
      " |      Return self*value.\n",
      " |  \n",
      " |  __ne__(self, value, /)\n",
      " |      Return self!=value.\n",
      " |  \n",
      " |  __neg__(self, /)\n",
      " |      -self\n",
      " |  \n",
      " |  __or__(self, value, /)\n",
      " |      Return self|value.\n",
      " |  \n",
      " |  __pos__(self, /)\n",
      " |      +self\n",
      " |  \n",
      " |  __pow__(self, value, mod=None, /)\n",
      " |      Return pow(self, value, mod).\n",
      " |  \n",
      " |  __radd__(self, value, /)\n",
      " |      Return value+self.\n",
      " |  \n",
      " |  __rand__(self, value, /)\n",
      " |      Return value&self.\n",
      " |  \n",
      " |  __rdivmod__(self, value, /)\n",
      " |      Return divmod(value, self).\n",
      " |  \n",
      " |  __repr__(self, /)\n",
      " |      Return repr(self).\n",
      " |  \n",
      " |  __rfloordiv__(self, value, /)\n",
      " |      Return value//self.\n",
      " |  \n",
      " |  __rlshift__(self, value, /)\n",
      " |      Return value<<self.\n",
      " |  \n",
      " |  __rmod__(self, value, /)\n",
      " |      Return value%self.\n",
      " |  \n",
      " |  __rmul__(self, value, /)\n",
      " |      Return value*self.\n",
      " |  \n",
      " |  __ror__(self, value, /)\n",
      " |      Return value|self.\n",
      " |  \n",
      " |  __round__(...)\n",
      " |      Rounding an Integral returns itself.\n",
      " |      Rounding with an ndigits argument also returns an integer.\n",
      " |  \n",
      " |  __rpow__(self, value, mod=None, /)\n",
      " |      Return pow(value, self, mod).\n",
      " |  \n",
      " |  __rrshift__(self, value, /)\n",
      " |      Return value>>self.\n",
      " |  \n",
      " |  __rshift__(self, value, /)\n",
      " |      Return self>>value.\n",
      " |  \n",
      " |  __rsub__(self, value, /)\n",
      " |      Return value-self.\n",
      " |  \n",
      " |  __rtruediv__(self, value, /)\n",
      " |      Return value/self.\n",
      " |  \n",
      " |  __rxor__(self, value, /)\n",
      " |      Return value^self.\n",
      " |  \n",
      " |  __sizeof__(self, /)\n",
      " |      Returns size in memory, in bytes.\n",
      " |  \n",
      " |  __str__(self, /)\n",
      " |      Return str(self).\n",
      " |  \n",
      " |  __sub__(self, value, /)\n",
      " |      Return self-value.\n",
      " |  \n",
      " |  __truediv__(self, value, /)\n",
      " |      Return self/value.\n",
      " |  \n",
      " |  __trunc__(...)\n",
      " |      Truncating an Integral returns itself.\n",
      " |  \n",
      " |  __xor__(self, value, /)\n",
      " |      Return self^value.\n",
      " |  \n",
      " |  bit_length(self, /)\n",
      " |      Number of bits necessary to represent self in binary.\n",
      " |      \n",
      " |      >>> bin(37)\n",
      " |      '0b100101'\n",
      " |      >>> (37).bit_length()\n",
      " |      6\n",
      " |  \n",
      " |  conjugate(...)\n",
      " |      Returns self, the complex conjugate of any int.\n",
      " |  \n",
      " |  to_bytes(self, /, length, byteorder, *, signed=False)\n",
      " |      Return an array of bytes representing an integer.\n",
      " |      \n",
      " |      length\n",
      " |        Length of bytes object to use.  An OverflowError is raised if the\n",
      " |        integer is not representable with the given number of bytes.\n",
      " |      byteorder\n",
      " |        The byte order used to represent the integer.  If byteorder is 'big',\n",
      " |        the most significant byte is at the beginning of the byte array.  If\n",
      " |        byteorder is 'little', the most significant byte is at the end of the\n",
      " |        byte array.  To request the native byte order of the host system, use\n",
      " |        `sys.byteorder' as the byte order value.\n",
      " |      signed\n",
      " |        Determines whether two's complement is used to represent the integer.\n",
      " |        If signed is False and a negative integer is given, an OverflowError\n",
      " |        is raised.\n",
      " |  \n",
      " |  ----------------------------------------------------------------------\n",
      " |  Class methods defined here:\n",
      " |  \n",
      " |  from_bytes(bytes, byteorder, *, signed=False) from builtins.type\n",
      " |      Return the integer represented by the given array of bytes.\n",
      " |      \n",
      " |      bytes\n",
      " |        Holds the array of bytes to convert.  The argument must either\n",
      " |        support the buffer protocol or be an iterable object producing bytes.\n",
      " |        Bytes and bytearray are examples of built-in objects that support the\n",
      " |        buffer protocol.\n",
      " |      byteorder\n",
      " |        The byte order used to represent the integer.  If byteorder is 'big',\n",
      " |        the most significant byte is at the beginning of the byte array.  If\n",
      " |        byteorder is 'little', the most significant byte is at the end of the\n",
      " |        byte array.  To request the native byte order of the host system, use\n",
      " |        `sys.byteorder' as the byte order value.\n",
      " |      signed\n",
      " |        Indicates whether two's complement is used to represent the integer.\n",
      " |  \n",
      " |  ----------------------------------------------------------------------\n",
      " |  Static methods defined here:\n",
      " |  \n",
      " |  __new__(*args, **kwargs) from builtins.type\n",
      " |      Create and return a new object.  See help(type) for accurate signature.\n",
      " |  \n",
      " |  ----------------------------------------------------------------------\n",
      " |  Data descriptors defined here:\n",
      " |  \n",
      " |  denominator\n",
      " |      the denominator of a rational number in lowest terms\n",
      " |  \n",
      " |  imag\n",
      " |      the imaginary part of a complex number\n",
      " |  \n",
      " |  numerator\n",
      " |      the numerator of a rational number in lowest terms\n",
      " |  \n",
      " |  real\n",
      " |      the real part of a complex number\n",
      "\n"
     ]
    }
   ],
   "source": [
    "help(int)"
   ]
  },
  {
   "cell_type": "code",
   "execution_count": 19,
   "metadata": {},
   "outputs": [
    {
     "name": "stdout",
     "output_type": "stream",
     "text": [
      "int([x]) -> integer\n",
      "int(x, base=10) -> integer\n",
      "\n",
      "Convert a number or string to an integer, or return 0 if no arguments\n",
      "are given.  If x is a number, return x.__int__().  For floating point\n",
      "numbers, this truncates towards zero.\n",
      "\n",
      "If x is not a number or if base is given, then x must be a string,\n",
      "bytes, or bytearray instance representing an integer literal in the\n",
      "given base.  The literal can be preceded by '+' or '-' and be surrounded\n",
      "by whitespace.  The base defaults to 10.  Valid bases are 0 and 2-36.\n",
      "Base 0 means to interpret the base from the string as an integer literal.\n",
      ">>> int('0b100', base=0)\n",
      "4\n"
     ]
    }
   ],
   "source": [
    "print(int.__doc__)"
   ]
  },
  {
   "cell_type": "code",
   "execution_count": 20,
   "metadata": {},
   "outputs": [
    {
     "name": "stdout",
     "output_type": "stream",
     "text": [
      "The Zen of Python, by Tim Peters\n",
      "\n",
      "Beautiful is better than ugly.\n",
      "Explicit is better than implicit.\n",
      "Simple is better than complex.\n",
      "Complex is better than complicated.\n",
      "Flat is better than nested.\n",
      "Sparse is better than dense.\n",
      "Readability counts.\n",
      "Special cases aren't special enough to break the rules.\n",
      "Although practicality beats purity.\n",
      "Errors should never pass silently.\n",
      "Unless explicitly silenced.\n",
      "In the face of ambiguity, refuse the temptation to guess.\n",
      "There should be one-- and preferably only one --obvious way to do it.\n",
      "Although that way may not be obvious at first unless you're Dutch.\n",
      "Now is better than never.\n",
      "Although never is often better than *right* now.\n",
      "If the implementation is hard to explain, it's a bad idea.\n",
      "If the implementation is easy to explain, it may be a good idea.\n",
      "Namespaces are one honking great idea -- let's do more of those!\n"
     ]
    }
   ],
   "source": [
    "import this"
   ]
  },
  {
   "cell_type": "code",
   "execution_count": 21,
   "metadata": {},
   "outputs": [],
   "source": [
    "s=\"   heLlo woRlD    \""
   ]
  },
  {
   "cell_type": "code",
   "execution_count": 30,
   "metadata": {},
   "outputs": [
    {
     "data": {
      "text/plain": [
       "['__add__',\n",
       " '__class__',\n",
       " '__contains__',\n",
       " '__delattr__',\n",
       " '__dir__',\n",
       " '__doc__',\n",
       " '__eq__',\n",
       " '__format__',\n",
       " '__ge__',\n",
       " '__getattribute__',\n",
       " '__getitem__',\n",
       " '__getnewargs__',\n",
       " '__gt__',\n",
       " '__hash__',\n",
       " '__init__',\n",
       " '__init_subclass__',\n",
       " '__iter__',\n",
       " '__le__',\n",
       " '__len__',\n",
       " '__lt__',\n",
       " '__mod__',\n",
       " '__mul__',\n",
       " '__ne__',\n",
       " '__new__',\n",
       " '__reduce__',\n",
       " '__reduce_ex__',\n",
       " '__repr__',\n",
       " '__rmod__',\n",
       " '__rmul__',\n",
       " '__setattr__',\n",
       " '__sizeof__',\n",
       " '__str__',\n",
       " '__subclasshook__',\n",
       " 'capitalize',\n",
       " 'casefold',\n",
       " 'center',\n",
       " 'count',\n",
       " 'encode',\n",
       " 'endswith',\n",
       " 'expandtabs',\n",
       " 'find',\n",
       " 'format',\n",
       " 'format_map',\n",
       " 'index',\n",
       " 'isalnum',\n",
       " 'isalpha',\n",
       " 'isascii',\n",
       " 'isdecimal',\n",
       " 'isdigit',\n",
       " 'isidentifier',\n",
       " 'islower',\n",
       " 'isnumeric',\n",
       " 'isprintable',\n",
       " 'isspace',\n",
       " 'istitle',\n",
       " 'isupper',\n",
       " 'join',\n",
       " 'ljust',\n",
       " 'lower',\n",
       " 'lstrip',\n",
       " 'maketrans',\n",
       " 'partition',\n",
       " 'replace',\n",
       " 'rfind',\n",
       " 'rindex',\n",
       " 'rjust',\n",
       " 'rpartition',\n",
       " 'rsplit',\n",
       " 'rstrip',\n",
       " 'split',\n",
       " 'splitlines',\n",
       " 'startswith',\n",
       " 'strip',\n",
       " 'swapcase',\n",
       " 'title',\n",
       " 'translate',\n",
       " 'upper',\n",
       " 'zfill']"
      ]
     },
     "execution_count": 30,
     "metadata": {},
     "output_type": "execute_result"
    }
   ],
   "source": [
    "dir(s)"
   ]
  },
  {
   "cell_type": "code",
   "execution_count": 22,
   "metadata": {},
   "outputs": [
    {
     "name": "stdout",
     "output_type": "stream",
     "text": [
      "'   heLlo woRlD    '\n"
     ]
    }
   ],
   "source": [
    "print(repr(s))"
   ]
  },
  {
   "cell_type": "code",
   "execution_count": null,
   "metadata": {},
   "outputs": [],
   "source": [
    "print()"
   ]
  },
  {
   "cell_type": "code",
   "execution_count": 26,
   "metadata": {},
   "outputs": [
    {
     "name": "stdout",
     "output_type": "stream",
     "text": [
      "'   heLlo woRlD    '\n",
      "'heLlo woRlD    '\n",
      "'   heLlo woRlD'\n",
      "'heLlo woRlD'\n"
     ]
    }
   ],
   "source": [
    "print(repr(s))\n",
    "print(repr(s.lstrip()))\n",
    "print(repr(s.rstrip()))\n",
    "print(repr(s.strip()))\n",
    "\n"
   ]
  },
  {
   "cell_type": "code",
   "execution_count": 27,
   "metadata": {},
   "outputs": [
    {
     "name": "stdout",
     "output_type": "stream",
     "text": [
      "00001\n"
     ]
    }
   ],
   "source": [
    "x= \"1\"\n",
    "print(x.zfill(5))"
   ]
  },
  {
   "cell_type": "code",
   "execution_count": 28,
   "metadata": {},
   "outputs": [
    {
     "name": "stdout",
     "output_type": "stream",
     "text": [
      "                 Ayush khandelwal                 \n"
     ]
    }
   ],
   "source": [
    "s=\"Ayush khandelwal\"\n",
    "\n",
    "print(s.center(50))"
   ]
  },
  {
   "cell_type": "code",
   "execution_count": 29,
   "metadata": {},
   "outputs": [
    {
     "name": "stdout",
     "output_type": "stream",
     "text": [
      "*****************Ayush khandelwal*****************\n"
     ]
    }
   ],
   "source": [
    "s=\"Ayush khandelwal\"\n",
    "\n",
    "print(s.center(50,\"*\"))"
   ]
  },
  {
   "cell_type": "code",
   "execution_count": 31,
   "metadata": {},
   "outputs": [],
   "source": [
    "s = \"tod to merko\""
   ]
  },
  {
   "cell_type": "code",
   "execution_count": 32,
   "metadata": {},
   "outputs": [
    {
     "data": {
      "text/plain": [
       "['tod', 'to', 'merko']"
      ]
     },
     "execution_count": 32,
     "metadata": {},
     "output_type": "execute_result"
    }
   ],
   "source": [
    "s.split()"
   ]
  },
  {
   "cell_type": "code",
   "execution_count": 2,
   "metadata": {},
   "outputs": [
    {
     "name": "stdout",
     "output_type": "stream",
     "text": [
      "Enter a String : all dogs Are NOt Cats\n",
      "all dogs Are NOt Cats\n",
      "Swapcase :  ALL DOGS aRE noT cATS\n",
      "Upper :  ALL DOGS ARE NOT CATS\n",
      "Lower :  all dogs are not cats\n",
      "Strip :  all dogs Are NOt Cats\n",
      "LStrip :  all dogs Are NOt Cats\n",
      "RStrip :  all dogs Are NOt Cats\n",
      "Enter pattern to search : Cats\n",
      "Find Result :  -1\n",
      "String : all dogs Are NOt Cats \n",
      "Pattern : cats \n",
      "***********************************************************************************************************************************************************************************************************************************************all dogs Are NOt Cats************************************************************************************************************************************************************************************************************************************************\n"
     ]
    }
   ],
   "source": [
    "#none of these functions will change the string.\n",
    "s = input(\"Enter a String : \")\n",
    "print(s)\n",
    "#swapcase used to change uppercase letters into lowercase letters and vice versa.\n",
    "print(\"Swapcase : \",s.swapcase())\n",
    "#change all letters into uppercase and return the string\n",
    "print(\"Upper : \",s.upper())\n",
    "#change all letters into lowercase and return the string\n",
    "print(\"Lower : \",s.lower())\n",
    "#strip is used to remove all leading and trailing spaces from string\n",
    "print(\"Strip : \",s.strip())\n",
    "#lstrip is used to remove left space and rstrip to remove rightspace\n",
    "print(\"LStrip : \",s.lstrip())\n",
    "print(\"RStrip : \",s.rstrip())\n",
    "\n",
    "p = input(\"Enter pattern to search : \").strip().lower()  #Remove all the spaces and convert string into lowercase\n",
    "print(\"Find Result : \",s.find(p)) #find a particular pattern in a particular string\n",
    "\n",
    "#string formatting\n",
    "print(\"String : {} \\nPattern : {} \".format(s,p)) #{} is replaced with the parameters passed in format() function\n",
    "print(s.center(500,'*'))"
   ]
  },
  {
   "cell_type": "code",
   "execution_count": 3,
   "metadata": {},
   "outputs": [
    {
     "name": "stdout",
     "output_type": "stream",
     "text": [
      "!dlroW olleH\n",
      "Hello World\n",
      "\n",
      "Hello \n",
      "!dlroW olleH\n",
      "HloWrd\n",
      "!lo le\n"
     ]
    }
   ],
   "source": [
    "s = \"Hello World!\"\n",
    "print(s[::-1])\n",
    "print(s[:-1])\n",
    "print(s[10:13:-1])\n",
    "print(s[-12:-6])\n",
    "print(s[-1:-13:-1])\n",
    "print(s[::2])\n",
    "print(s[::-2])"
   ]
  },
  {
   "cell_type": "code",
   "execution_count": 4,
   "metadata": {},
   "outputs": [
    {
     "name": "stdout",
     "output_type": "stream",
     "text": [
      "Methods and Attributes of String in Python \n",
      "['__add__', '__class__', '__contains__', '__delattr__', '__dir__', '__doc__', '__eq__', '__format__', '__ge__', '__getattribute__', '__getitem__', '__getnewargs__', '__gt__', '__hash__', '__init__', '__init_subclass__', '__iter__', '__le__', '__len__', '__lt__', '__mod__', '__mul__', '__ne__', '__new__', '__reduce__', '__reduce_ex__', '__repr__', '__rmod__', '__rmul__', '__setattr__', '__sizeof__', '__str__', '__subclasshook__', 'capitalize', 'casefold', 'center', 'count', 'encode', 'endswith', 'expandtabs', 'find', 'format', 'format_map', 'index', 'isalnum', 'isalpha', 'isascii', 'isdecimal', 'isdigit', 'isidentifier', 'islower', 'isnumeric', 'isprintable', 'isspace', 'istitle', 'isupper', 'join', 'ljust', 'lower', 'lstrip', 'maketrans', 'partition', 'replace', 'rfind', 'rindex', 'rjust', 'rpartition', 'rsplit', 'rstrip', 'split', 'splitlines', 'startswith', 'strip', 'swapcase', 'title', 'translate', 'upper', 'zfill']\n",
      "Replace each character in the string using the given translation table.\n",
      "\n",
      "  table\n",
      "    Translation table, which must be a mapping of Unicode ordinals to\n",
      "    Unicode ordinals, strings, or None.\n",
      "\n",
      "The table must implement lookup/indexing via __getitem__, for instance a\n",
      "dictionary or list.  If this operation raises LookupError, the character is\n",
      "left untouched.  Characters mapped to None are deleted.\n"
     ]
    }
   ],
   "source": [
    "s = \"Hello World!, Welcome to python string processing.\"\n",
    "print(\"Methods and Attributes of String in Python \")\n",
    "print(dir(s))\n",
    "print(s.translate.__doc__) #Returns the documentation of a method"
   ]
  },
  {
   "cell_type": "code",
   "execution_count": 5,
   "metadata": {},
   "outputs": [
    {
     "name": "stdout",
     "output_type": "stream",
     "text": [
      "HI hello HI hello HI hello HI hello\n",
      "HI HELLO HI HELLO hi HELLO hi hello\n"
     ]
    }
   ],
   "source": [
    "string = \"HI hello HI hello hi hello hi hello\" \n",
    "   \n",
    "# Prints the string by replacing hi by HI  \n",
    "print(string.replace(\"hi\", \"HI\"))  \n",
    "  \n",
    "# Prints the string by replacing only first 3 occurence of hello   \n",
    "print(string.replace(\"hello\", \"HELLO\", 3)) "
   ]
  },
  {
   "cell_type": "code",
   "execution_count": null,
   "metadata": {},
   "outputs": [],
   "source": []
  },
  {
   "cell_type": "markdown",
   "metadata": {},
   "source": [
    "### indexing\n",
    "    only possible in ordered data types\n",
    "    because string is a sequentially ordered data type so we\n",
    "    can use indexing on string"
   ]
  },
  {
   "cell_type": "code",
   "execution_count": null,
   "metadata": {},
   "outputs": [],
   "source": [
    "Data Type\n",
    "\n",
    "\n",
    "Numbers - int, float, complex\n",
    "Strings\n",
    "List\n",
    "Tuple\n",
    "Dictionary\n",
    "Set\n",
    "Frozen Set\n",
    "Boolean\n",
    "None Type"
   ]
  },
  {
   "cell_type": "code",
   "execution_count": null,
   "metadata": {},
   "outputs": [],
   "source": []
  }
 ],
 "metadata": {
  "kernelspec": {
   "display_name": "Python 3",
   "language": "python",
   "name": "python3"
  },
  "language_info": {
   "codemirror_mode": {
    "name": "ipython",
    "version": 3
   },
   "file_extension": ".py",
   "mimetype": "text/x-python",
   "name": "python",
   "nbconvert_exporter": "python",
   "pygments_lexer": "ipython3",
   "version": "3.7.1"
  }
 },
 "nbformat": 4,
 "nbformat_minor": 2
}
