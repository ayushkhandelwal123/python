{
 "cells": [
  {
   "cell_type": "markdown",
   "metadata": {},
   "source": [
    "* Abstraction is hiding the implementation details by providing a layer over the basic functionality.\n",
    "\n",
    "* Information Hiding is hiding the data which is being affected by that implementation. Use of private and public comes under this. For example, hiding the variables of the classes.\n",
    "\n",
    "* Encapsulation is just putting all similar data and functions into a group e.g Class in programming; Packet in networking."
   ]
  },
  {
   "cell_type": "markdown",
   "metadata": {},
   "source": [
    "* Encapsulation : Wrapping up of data and methods into a single unit is Encapsulation (e.g. Class)\n",
    "\n",
    "* Abstraction : It is an act of representing only the essential things without including background details. (e.g. Interface)"
   ]
  },
  {
   "cell_type": "markdown",
   "metadata": {},
   "source": [
    "<h1 style=\"color:red\">What is OOP's</h1>"
   ]
  },
  {
   "cell_type": "markdown",
   "metadata": {},
   "source": [
    "## Featurs of OOP's\n",
    "\n",
    "    Encapsulation\n",
    "    Data Hiding\n",
    "    Abstraction\n",
    "    Inheritance\n",
    "    Polymorphism\n",
    "    Over-riding\n",
    "    Operator Overloading\n",
    "    Message Passing\n",
    "    Class\n",
    "    Object"
   ]
  },
  {
   "cell_type": "code",
   "execution_count": 1,
   "metadata": {},
   "outputs": [],
   "source": [
    "l1 = [1,2,3,4,5]\n",
    "l2 =[ 6,7,8,9,20]"
   ]
  },
  {
   "cell_type": "code",
   "execution_count": 2,
   "metadata": {},
   "outputs": [
    {
     "name": "stdout",
     "output_type": "stream",
     "text": [
      "Help on method_descriptor:\n",
      "\n",
      "append(self, object, /)\n",
      "    Append object to the end of the list.\n",
      "\n"
     ]
    }
   ],
   "source": [
    "help(list.append)"
   ]
  },
  {
   "cell_type": "code",
   "execution_count": 3,
   "metadata": {},
   "outputs": [
    {
     "name": "stdout",
     "output_type": "stream",
     "text": [
      "Help on built-in function append:\n",
      "\n",
      "append(object, /) method of builtins.list instance\n",
      "    Append object to the end of the list.\n",
      "\n"
     ]
    }
   ],
   "source": [
    "help(l1.append)"
   ]
  },
  {
   "cell_type": "code",
   "execution_count": 4,
   "metadata": {},
   "outputs": [
    {
     "data": {
      "text/plain": [
       "[1, 2, 3, 4, 5, 6]"
      ]
     },
     "execution_count": 4,
     "metadata": {},
     "output_type": "execute_result"
    }
   ],
   "source": [
    "l1.append(6) # list.append(l1,6)\n",
    "l1"
   ]
  },
  {
   "cell_type": "code",
   "execution_count": 5,
   "metadata": {},
   "outputs": [
    {
     "data": {
      "text/plain": [
       "[1, 2, 3, 4, 5, 6, 'ayush']"
      ]
     },
     "execution_count": 5,
     "metadata": {},
     "output_type": "execute_result"
    }
   ],
   "source": [
    "list.append(l1,'ayush')\n",
    "l1"
   ]
  },
  {
   "cell_type": "markdown",
   "metadata": {},
   "source": [
    "### syntax\n",
    "\n",
    "    class class_name :\n",
    "        feature1 = 'something'\n",
    "        feature2 = 'nothing'\n",
    "        def method1(self):\n",
    "            body\n",
    "        def method2(self):\n",
    "            body\n",
    "\n",
    "    obj = class_name()"
   ]
  },
  {
   "cell_type": "code",
   "execution_count": null,
   "metadata": {},
   "outputs": [],
   "source": []
  },
  {
   "cell_type": "code",
   "execution_count": 6,
   "metadata": {},
   "outputs": [],
   "source": [
    "class A:\n",
    "    name = \"This is A class\"\n",
    "    __company = \"Grras Solutions Pvt. Ltd.\""
   ]
  },
  {
   "cell_type": "code",
   "execution_count": 7,
   "metadata": {},
   "outputs": [
    {
     "ename": "AttributeError",
     "evalue": "type object 'A' has no attribute '__company'",
     "output_type": "error",
     "traceback": [
      "\u001b[1;31m---------------------------------------------------------------------------\u001b[0m",
      "\u001b[1;31mAttributeError\u001b[0m                            Traceback (most recent call last)",
      "\u001b[1;32m<ipython-input-7-9f139e33adc6>\u001b[0m in \u001b[0;36m<module>\u001b[1;34m\u001b[0m\n\u001b[1;32m----> 1\u001b[1;33m \u001b[0mA\u001b[0m\u001b[1;33m.\u001b[0m\u001b[0m__company\u001b[0m\u001b[1;33m\u001b[0m\u001b[1;33m\u001b[0m\u001b[0m\n\u001b[0m",
      "\u001b[1;31mAttributeError\u001b[0m: type object 'A' has no attribute '__company'"
     ]
    }
   ],
   "source": [
    "A.__company"
   ]
  },
  {
   "cell_type": "code",
   "execution_count": 2,
   "metadata": {},
   "outputs": [
    {
     "data": {
      "text/plain": [
       "'This is A class'"
      ]
     },
     "execution_count": 2,
     "metadata": {},
     "output_type": "execute_result"
    }
   ],
   "source": [
    "# getter methods\n",
    "A.name #getter #getattr(A,'name')"
   ]
  },
  {
   "cell_type": "code",
   "execution_count": 3,
   "metadata": {},
   "outputs": [
    {
     "data": {
      "text/plain": [
       "'This is A class'"
      ]
     },
     "execution_count": 3,
     "metadata": {},
     "output_type": "execute_result"
    }
   ],
   "source": [
    "getattr(A,'name')"
   ]
  },
  {
   "cell_type": "code",
   "execution_count": 4,
   "metadata": {},
   "outputs": [],
   "source": [
    "setattr(A,'name','Python')"
   ]
  },
  {
   "cell_type": "code",
   "execution_count": 5,
   "metadata": {},
   "outputs": [
    {
     "data": {
      "text/plain": [
       "'Python'"
      ]
     },
     "execution_count": 5,
     "metadata": {},
     "output_type": "execute_result"
    }
   ],
   "source": [
    "getattr(A,'name')"
   ]
  },
  {
   "cell_type": "markdown",
   "metadata": {},
   "source": [
    "     Abstraction = Data Hiding + Encapsulation"
   ]
  },
  {
   "cell_type": "code",
   "execution_count": 11,
   "metadata": {},
   "outputs": [],
   "source": [
    "class Student:\n",
    "    def show(self):\n",
    "        print(\"This is show method of Student class\")"
   ]
  },
  {
   "cell_type": "code",
   "execution_count": 12,
   "metadata": {},
   "outputs": [],
   "source": [
    "s = Student()"
   ]
  },
  {
   "cell_type": "code",
   "execution_count": 14,
   "metadata": {},
   "outputs": [
    {
     "name": "stdout",
     "output_type": "stream",
     "text": [
      "This is show method of Student class\n"
     ]
    }
   ],
   "source": [
    "s.show() #Student.show(s)"
   ]
  },
  {
   "cell_type": "markdown",
   "metadata": {},
   "source": [
    "## Inheritance"
   ]
  },
  {
   "cell_type": "code",
   "execution_count": 6,
   "metadata": {},
   "outputs": [
    {
     "name": "stdout",
     "output_type": "stream",
     "text": [
      "Hello This is Show Method of Student Class\n",
      "HI I am hi function of Contact Class.\n"
     ]
    }
   ],
   "source": [
    "class Student : \n",
    "    def show(self):\n",
    "        print(\"Hello This is Show Method of Student Class\")\n",
    "class Contact(Student): # inheritance\n",
    "    def hi(self):\n",
    "        print(\"HI I am hi function of Contact Class.\")\n",
    "        \n",
    "c = Contact()\n",
    "c.show()\n",
    "c.hi()"
   ]
  },
  {
   "cell_type": "code",
   "execution_count": 7,
   "metadata": {},
   "outputs": [
    {
     "name": "stdout",
     "output_type": "stream",
     "text": [
      "Hello This is Show Method of Student Class\n"
     ]
    }
   ],
   "source": [
    "s1 = Student()\n",
    "s1.show()"
   ]
  },
  {
   "cell_type": "markdown",
   "metadata": {},
   "source": [
    "### Types of Inheritance\n",
    "\n",
    "* Single Level Inheritance\n",
    "* Multi-Level Inheritance\n",
    "* Hierarichal Inheritance\n",
    "* Multiple Inheritance\n",
    "* Hybrid Inheritance"
   ]
  },
  {
   "cell_type": "markdown",
   "metadata": {},
   "source": [
    "# Single Level 1 Parent 1 Child"
   ]
  },
  {
   "cell_type": "code",
   "execution_count": 8,
   "metadata": {},
   "outputs": [],
   "source": [
    "class Baap:\n",
    "    def khatala(self):\n",
    "        print(\"Hi I am Khatala\")\n",
    "class Beta(Baap):\n",
    "    def Duke(self):\n",
    "        print(\"I have my own Duke bike\")\n",
    "        \n",
    "b = Beta()"
   ]
  },
  {
   "cell_type": "code",
   "execution_count": 9,
   "metadata": {},
   "outputs": [
    {
     "name": "stdout",
     "output_type": "stream",
     "text": [
      "I have my own Duke bike\n"
     ]
    }
   ],
   "source": [
    "b.Duke()"
   ]
  },
  {
   "cell_type": "code",
   "execution_count": 10,
   "metadata": {},
   "outputs": [
    {
     "name": "stdout",
     "output_type": "stream",
     "text": [
      "Hi I am Khatala\n"
     ]
    }
   ],
   "source": [
    "b.khatala()"
   ]
  },
  {
   "cell_type": "markdown",
   "metadata": {},
   "source": [
    "## Multi-Level Inheritance\n",
    "\n",
    "\n",
    "### GrandParent --> Parent --> Child"
   ]
  },
  {
   "cell_type": "code",
   "execution_count": 11,
   "metadata": {},
   "outputs": [],
   "source": [
    "class Grand:\n",
    "    def love(self):\n",
    "        print(\"I have love of yours\")\n",
    "class Parent(Grand):\n",
    "    def paise(self):\n",
    "        print(\"Mere papa ke paas bahot paisa hai\")\n",
    "class Child(Parent):\n",
    "    def fokat(self):\n",
    "        print(\"Papa ka dada ka sabka fayeda uthata hai beta\")\n",
    "        \n",
    "c = Child()"
   ]
  },
  {
   "cell_type": "code",
   "execution_count": 12,
   "metadata": {},
   "outputs": [
    {
     "name": "stdout",
     "output_type": "stream",
     "text": [
      "I have love of yours\n"
     ]
    }
   ],
   "source": [
    "c.love()"
   ]
  },
  {
   "cell_type": "code",
   "execution_count": 14,
   "metadata": {},
   "outputs": [
    {
     "name": "stdout",
     "output_type": "stream",
     "text": [
      "Mere papa ke paas bahot paisa hai\n"
     ]
    }
   ],
   "source": [
    "c.paise()"
   ]
  },
  {
   "cell_type": "code",
   "execution_count": 15,
   "metadata": {},
   "outputs": [
    {
     "name": "stdout",
     "output_type": "stream",
     "text": [
      "Papa ka dada ka sabka fayeda uthata hai beta\n"
     ]
    }
   ],
   "source": [
    "c.fokat()"
   ]
  },
  {
   "cell_type": "markdown",
   "metadata": {},
   "source": [
    "### Hierarchical Inheritance"
   ]
  },
  {
   "cell_type": "code",
   "execution_count": 16,
   "metadata": {},
   "outputs": [],
   "source": [
    "class Car : \n",
    "    def protocol(self):\n",
    "        print(\"I should have 4 wheels to ride anywhere\")\n",
    "        \n",
    "class Nano(Car):\n",
    "    def feature(self):\n",
    "        print(\"I have only four wheels.\")\n",
    "        \n",
    "class Lambo(Car):\n",
    "    def feature(self):\n",
    "        print(\"I am only in Your Dreams.\")"
   ]
  },
  {
   "cell_type": "code",
   "execution_count": 17,
   "metadata": {},
   "outputs": [],
   "source": [
    "n = Nano()\n",
    "l = Lambo()"
   ]
  },
  {
   "cell_type": "code",
   "execution_count": 18,
   "metadata": {},
   "outputs": [
    {
     "name": "stdout",
     "output_type": "stream",
     "text": [
      "I have only four wheels.\n"
     ]
    }
   ],
   "source": [
    "n.feature()"
   ]
  },
  {
   "cell_type": "code",
   "execution_count": 19,
   "metadata": {},
   "outputs": [
    {
     "name": "stdout",
     "output_type": "stream",
     "text": [
      "I should have 4 wheels to ride anywhere\n"
     ]
    }
   ],
   "source": [
    "n.protocol()"
   ]
  },
  {
   "cell_type": "code",
   "execution_count": 20,
   "metadata": {},
   "outputs": [
    {
     "name": "stdout",
     "output_type": "stream",
     "text": [
      "I am only in Your Dreams.\n"
     ]
    }
   ],
   "source": [
    "l.feature()"
   ]
  },
  {
   "cell_type": "code",
   "execution_count": 21,
   "metadata": {},
   "outputs": [
    {
     "name": "stdout",
     "output_type": "stream",
     "text": [
      "I should have 4 wheels to ride anywhere\n"
     ]
    }
   ],
   "source": [
    "l.protocol()"
   ]
  },
  {
   "cell_type": "markdown",
   "metadata": {},
   "source": [
    "## Multiple Inheritance"
   ]
  },
  {
   "cell_type": "markdown",
   "metadata": {},
   "source": [
    "(Ambiguity)"
   ]
  },
  {
   "cell_type": "code",
   "execution_count": 22,
   "metadata": {},
   "outputs": [],
   "source": [
    "class P1 : \n",
    "    def content(self):\n",
    "        print(\"Content from Parent 1\")\n",
    "class P2 : \n",
    "    def content(self):\n",
    "        print(\"Content from Parent 2\")\n",
    "        \n",
    "class C(P2,P1):  #jo pehle likha hai uska ayega content\n",
    "    pass\n",
    "\n",
    "c  = C()"
   ]
  },
  {
   "cell_type": "markdown",
   "metadata": {},
   "source": [
    "# Method Resolution Order (MRO)"
   ]
  },
  {
   "cell_type": "code",
   "execution_count": 23,
   "metadata": {},
   "outputs": [
    {
     "name": "stdout",
     "output_type": "stream",
     "text": [
      "Content from Parent 2\n"
     ]
    }
   ],
   "source": [
    "c.content()"
   ]
  },
  {
   "cell_type": "code",
   "execution_count": 24,
   "metadata": {},
   "outputs": [],
   "source": [
    "# left to right\n",
    "# bottom to up"
   ]
  },
  {
   "cell_type": "code",
   "execution_count": 27,
   "metadata": {},
   "outputs": [
    {
     "name": "stdout",
     "output_type": "stream",
     "text": [
      "I am p1\n"
     ]
    }
   ],
   "source": [
    "class P : \n",
    "    pass\n",
    "class p1(P) :\n",
    "    def content(self):\n",
    "         print(\"I am p1\")\n",
    "\n",
    "class p2(P) : \n",
    "    def content(self):\n",
    "        print(\"I am p2\")       \n",
    "class p3(p1):\n",
    "    pass\n",
    "class p4(p3):\n",
    "    pass\n",
    "class p5(p2):\n",
    "    def content(self):\n",
    "        print(\"Hello\")\n",
    "class C(p4,p5) : \n",
    "    pass\n",
    "c = C()\n",
    "c.content()"
   ]
  },
  {
   "cell_type": "code",
   "execution_count": 28,
   "metadata": {},
   "outputs": [
    {
     "name": "stdout",
     "output_type": "stream",
     "text": [
      "Hello\n"
     ]
    }
   ],
   "source": [
    "class P : \n",
    "    pass\n",
    "class p1(P) : \n",
    "    pass\n",
    "    #def content(self):\n",
    "        # print(\"I am p1\")\n",
    "\n",
    "class p2(P) : \n",
    "    def content(self):\n",
    "        print(\"I am p2\")       \n",
    "class p3(p1):\n",
    "    pass\n",
    "class p4(p3):\n",
    "    pass\n",
    "class p5(p2):\n",
    "    def content(self):\n",
    "        print(\"Hello\")\n",
    "class C(p4,p5) : \n",
    "    pass\n",
    "c = C()\n",
    "c.content()"
   ]
  },
  {
   "cell_type": "markdown",
   "metadata": {},
   "source": [
    "## Over-riding"
   ]
  },
  {
   "cell_type": "code",
   "execution_count": 33,
   "metadata": {},
   "outputs": [],
   "source": [
    "\n",
    "class parent : \n",
    "    def bike(self):\n",
    "        print(\"This is Splendor\")\n",
    "class child(parent):\n",
    "    def bike(self,old=None):\n",
    "        if old : \n",
    "            super().bike()\n",
    "        else : \n",
    "            print(\"This is Duke\")"
   ]
  },
  {
   "cell_type": "code",
   "execution_count": 34,
   "metadata": {},
   "outputs": [],
   "source": [
    "c = child()"
   ]
  },
  {
   "cell_type": "code",
   "execution_count": 35,
   "metadata": {},
   "outputs": [
    {
     "name": "stdout",
     "output_type": "stream",
     "text": [
      "This is Duke\n"
     ]
    }
   ],
   "source": [
    "c.bike()"
   ]
  },
  {
   "cell_type": "code",
   "execution_count": 36,
   "metadata": {},
   "outputs": [
    {
     "name": "stdout",
     "output_type": "stream",
     "text": [
      "This is Splendor\n"
     ]
    }
   ],
   "source": [
    "c.bike(old = 'hi')"
   ]
  },
  {
   "cell_type": "markdown",
   "metadata": {},
   "source": [
    "## Poly-morphism\n",
    "\n",
    "    what is difference between function over-loading, over-riding and method polymorphism"
   ]
  },
  {
   "cell_type": "code",
   "execution_count": 37,
   "metadata": {},
   "outputs": [],
   "source": [
    "class A : \n",
    "    def add(self,x,y):\n",
    "        print(x+y)\n",
    "class B(A) : \n",
    "    def add(self,x,y,z): # over-riding of parent's add method\n",
    "        print(x+y+z)"
   ]
  },
  {
   "cell_type": "code",
   "execution_count": 38,
   "metadata": {},
   "outputs": [],
   "source": [
    "b = B()"
   ]
  },
  {
   "cell_type": "code",
   "execution_count": 40,
   "metadata": {},
   "outputs": [
    {
     "name": "stdout",
     "output_type": "stream",
     "text": [
      "42\n"
     ]
    }
   ],
   "source": [
    "b.add(12,14,16)"
   ]
  },
  {
   "cell_type": "markdown",
   "metadata": {},
   "source": [
    "## Dynamic Binding"
   ]
  },
  {
   "cell_type": "code",
   "execution_count": 41,
   "metadata": {},
   "outputs": [],
   "source": [
    "class A : \n",
    "    pass"
   ]
  },
  {
   "cell_type": "code",
   "execution_count": 42,
   "metadata": {},
   "outputs": [],
   "source": [
    "A.name = \"This is A class\""
   ]
  },
  {
   "cell_type": "code",
   "execution_count": 43,
   "metadata": {},
   "outputs": [
    {
     "data": {
      "text/plain": [
       "'This is A class'"
      ]
     },
     "execution_count": 43,
     "metadata": {},
     "output_type": "execute_result"
    }
   ],
   "source": [
    "getattr(A,'name')"
   ]
  },
  {
   "cell_type": "code",
   "execution_count": 44,
   "metadata": {},
   "outputs": [],
   "source": [
    "setattr(A,'type','Human')"
   ]
  },
  {
   "cell_type": "code",
   "execution_count": 45,
   "metadata": {},
   "outputs": [
    {
     "data": {
      "text/plain": [
       "'Human'"
      ]
     },
     "execution_count": 45,
     "metadata": {},
     "output_type": "execute_result"
    }
   ],
   "source": [
    "getattr(A,'type')"
   ]
  },
  {
   "cell_type": "markdown",
   "metadata": {},
   "source": [
    "## Message Passing\n",
    "\n",
    "\n",
    "* Parameter Passing \n",
    "* Messege Passing \n",
    "* Inter Process Communication (IPC) \n",
    "* Remote Procedure Call (RPC)"
   ]
  },
  {
   "cell_type": "code",
   "execution_count": 46,
   "metadata": {},
   "outputs": [
    {
     "name": "stdout",
     "output_type": "stream",
     "text": [
      "1 2 3 4 5 6 7 8 9 10\n"
     ]
    },
    {
     "data": {
      "text/plain": [
       "25"
      ]
     },
     "execution_count": 46,
     "metadata": {},
     "output_type": "execute_result"
    }
   ],
   "source": [
    "from functools import reduce\n",
    "# parameter passing\n",
    "reduce(lambda x,y:x+y,filter(lambda num:True if num % 2 else False,map(int,input().split())))"
   ]
  },
  {
   "cell_type": "code",
   "execution_count": 47,
   "metadata": {},
   "outputs": [],
   "source": [
    "# Messege Passing \n",
    "class Grras : \n",
    "    msg = \"Hello Grrasians\" # class variable\n",
    "    def send(self,msg):\n",
    "        Grras.msg += \"\\n\" + msg + \"--> \"+self.name\n",
    "    def recv(self):\n",
    "        print(Grras.msg)\n",
    "        "
   ]
  },
  {
   "cell_type": "code",
   "execution_count": 48,
   "metadata": {},
   "outputs": [],
   "source": [
    "rajat = Grras(); rajat.name = \"rajat\"\n",
    "sachin = Grras(); sachin.name = 'sachin'"
   ]
  },
  {
   "cell_type": "code",
   "execution_count": 49,
   "metadata": {},
   "outputs": [
    {
     "name": "stdout",
     "output_type": "stream",
     "text": [
      "Hello Grrasians\n"
     ]
    }
   ],
   "source": [
    "rajat.recv()"
   ]
  },
  {
   "cell_type": "code",
   "execution_count": 50,
   "metadata": {},
   "outputs": [
    {
     "name": "stdout",
     "output_type": "stream",
     "text": [
      "Hello Grrasians\n"
     ]
    }
   ],
   "source": [
    "sachin.recv()"
   ]
  },
  {
   "cell_type": "code",
   "execution_count": 51,
   "metadata": {},
   "outputs": [],
   "source": [
    "sachin.send(\"I won't be able to come tomorrow manage accordingly\")"
   ]
  },
  {
   "cell_type": "code",
   "execution_count": 52,
   "metadata": {},
   "outputs": [
    {
     "name": "stdout",
     "output_type": "stream",
     "text": [
      "Hello Grrasians\n",
      "I won't be able to come tomorrow manage accordingly--> sachin\n"
     ]
    }
   ],
   "source": [
    "rajat.recv()"
   ]
  },
  {
   "cell_type": "code",
   "execution_count": 53,
   "metadata": {},
   "outputs": [],
   "source": [
    "rajat.send(\"Ok I will manage your batches\")"
   ]
  },
  {
   "cell_type": "code",
   "execution_count": 54,
   "metadata": {},
   "outputs": [
    {
     "name": "stdout",
     "output_type": "stream",
     "text": [
      "Hello Grrasians\n",
      "I won't be able to come tomorrow manage accordingly--> sachin\n",
      "Ok I will manage your batches--> rajat\n"
     ]
    }
   ],
   "source": [
    "sachin.recv()"
   ]
  },
  {
   "cell_type": "code",
   "execution_count": 55,
   "metadata": {},
   "outputs": [
    {
     "name": "stdout",
     "output_type": "stream",
     "text": [
      "<class 'type'>\n",
      "<class 'int'>\n",
      "<class 'type'>\n",
      "<class '__main__.Grras'>\n"
     ]
    }
   ],
   "source": [
    "x = 5\n",
    "print(type(int))\n",
    "print(type(x))\n",
    "print(type(Grras))\n",
    "print(type(rajat))"
   ]
  },
  {
   "cell_type": "code",
   "execution_count": 56,
   "metadata": {},
   "outputs": [
    {
     "data": {
      "text/plain": [
       "False"
      ]
     },
     "execution_count": 56,
     "metadata": {},
     "output_type": "execute_result"
    }
   ],
   "source": [
    "issubclass(int,type) # 5 < 5 "
   ]
  },
  {
   "cell_type": "code",
   "execution_count": 57,
   "metadata": {},
   "outputs": [
    {
     "data": {
      "text/plain": [
       "True"
      ]
     },
     "execution_count": 57,
     "metadata": {},
     "output_type": "execute_result"
    }
   ],
   "source": [
    "issubclass(int,object)"
   ]
  },
  {
   "cell_type": "code",
   "execution_count": 58,
   "metadata": {},
   "outputs": [
    {
     "data": {
      "text/plain": [
       "True"
      ]
     },
     "execution_count": 58,
     "metadata": {},
     "output_type": "execute_result"
    }
   ],
   "source": [
    "issubclass(Grras,object)"
   ]
  },
  {
   "cell_type": "code",
   "execution_count": 59,
   "metadata": {},
   "outputs": [
    {
     "name": "stdout",
     "output_type": "stream",
     "text": [
      "['__class__', '__delattr__', '__dict__', '__dir__', '__doc__', '__eq__', '__format__', '__ge__', '__getattribute__', '__gt__', '__hash__', '__init__', '__init_subclass__', '__le__', '__lt__', '__module__', '__ne__', '__new__', '__reduce__', '__reduce_ex__', '__repr__', '__setattr__', '__sizeof__', '__str__', '__subclasshook__', '__weakref__', 'msg', 'recv', 'send']\n"
     ]
    }
   ],
   "source": [
    "print(dir(Grras))"
   ]
  },
  {
   "cell_type": "code",
   "execution_count": 60,
   "metadata": {},
   "outputs": [
    {
     "data": {
      "text/plain": [
       "type"
      ]
     },
     "execution_count": 60,
     "metadata": {},
     "output_type": "execute_result"
    }
   ],
   "source": [
    "Grras.__class__"
   ]
  },
  {
   "cell_type": "code",
   "execution_count": null,
   "metadata": {},
   "outputs": [],
   "source": []
  }
 ],
 "metadata": {
  "kernelspec": {
   "display_name": "Python 3",
   "language": "python",
   "name": "python3"
  },
  "language_info": {
   "codemirror_mode": {
    "name": "ipython",
    "version": 3
   },
   "file_extension": ".py",
   "mimetype": "text/x-python",
   "name": "python",
   "nbconvert_exporter": "python",
   "pygments_lexer": "ipython3",
   "version": "3.6.5"
  }
 },
 "nbformat": 4,
 "nbformat_minor": 2
}
