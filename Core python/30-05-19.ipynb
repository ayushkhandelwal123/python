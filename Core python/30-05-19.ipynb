{
 "cells": [
  {
   "cell_type": "code",
   "execution_count": 2,
   "metadata": {},
   "outputs": [],
   "source": [
    "class Class:\n",
    "    count=0\n",
    "    def setit(self,chair,computer,fan):\n",
    "        self.chair=chair\n",
    "        self.computer=computer\n",
    "        self.fan=fan\n",
    "        Class.count+=1\n",
    "    def getit(self):\n",
    "        print(\"the number of chairs are : \",self.chair)\n",
    "        print(\"the number of tables are : \",self.computer)\n",
    "        print(\"the number of fans are : \",self.fan)\n",
    "    def change(self):\n",
    "        print(\"Press 1 for chairs,2 for computers,press anything for fan\")\n",
    "        ch=int(input(\"Enter your choice\"))\n",
    "        \n",
    "        if ch==1:\n",
    "            int(input(\"Enter the no of chairs\"))\n",
    "            print(\"The no of chairs is : \",self.chair)\n",
    "        elif ch==2:\n",
    "            int(input(\"Enter the no of computers\"))\n",
    "            print(\"The no of computers is : \",self.computer)\n",
    "        else:\n",
    "            print(\"The no of fans are : \",self.fan)\n",
    "    \n",
    "            "
   ]
  },
  {
   "cell_type": "code",
   "execution_count": 3,
   "metadata": {},
   "outputs": [],
   "source": [
    "c1=Class()"
   ]
  },
  {
   "cell_type": "code",
   "execution_count": 4,
   "metadata": {},
   "outputs": [],
   "source": [
    "c1.chair=10\n",
    "c1.computer=12\n",
    "c1.fan=2"
   ]
  },
  {
   "cell_type": "code",
   "execution_count": 5,
   "metadata": {},
   "outputs": [
    {
     "name": "stdout",
     "output_type": "stream",
     "text": [
      "the number of chairs are :  10\n",
      "the number of tables are :  12\n",
      "the number of fans are :  2\n"
     ]
    }
   ],
   "source": [
    "c1.getit()"
   ]
  },
  {
   "cell_type": "code",
   "execution_count": 6,
   "metadata": {},
   "outputs": [
    {
     "name": "stdout",
     "output_type": "stream",
     "text": [
      "Enter your choice1\n",
      "Press 1 for chairs,2 for computers,press anything for fan\n",
      "Enter the no of chairs15\n",
      "The no of chairs is :  10\n"
     ]
    }
   ],
   "source": [
    "c1.change()"
   ]
  },
  {
   "cell_type": "code",
   "execution_count": 8,
   "metadata": {},
   "outputs": [
    {
     "name": "stdout",
     "output_type": "stream",
     "text": [
      "the number of chairs are :  10\n",
      "the number of tables are :  12\n",
      "the number of fans are :  2\n"
     ]
    }
   ],
   "source": [
    "c1.getit()"
   ]
  },
  {
   "cell_type": "code",
   "execution_count": 1,
   "metadata": {},
   "outputs": [],
   "source": [
    "from time import sleep\n",
    "class Student:\n",
    "    def __init__(self,name,course,age):\n",
    "        self.name=name\n",
    "        self.course=course\n",
    "        self.age=age\n",
    "    def getit(self):\n",
    "        print(\"The name of student is :\",self.name)\n",
    "        print(\"The name of course is :\",self.course)\n",
    "        print(\"The age of student is :\",self.age)\n",
    "    def __del__(self):\n",
    "        print(\"Deleting name of student\")\n",
    "        sleep(2)\n",
    "        del self.name\n",
    "        print(\"Deleting course of student\")\n",
    "        sleep(2)\n",
    "        del self.course\n",
    "        print(\"Deleting age of student\")\n",
    "        sleep(2)\n",
    "        del self.age\n",
    "        print(\"Deleting self\")\n",
    "        sleep(2)\n",
    "        del self\n",
    "        \n",
    "        \n",
    "        \n",
    "        "
   ]
  },
  {
   "cell_type": "code",
   "execution_count": 2,
   "metadata": {},
   "outputs": [],
   "source": [
    "s1=Student(\"Ayush\",\"Python\",19)"
   ]
  },
  {
   "cell_type": "code",
   "execution_count": 3,
   "metadata": {},
   "outputs": [
    {
     "name": "stdout",
     "output_type": "stream",
     "text": [
      "The name of student is : Ayush\n",
      "The name of course is : Python\n",
      "The age of student is : 19\n"
     ]
    }
   ],
   "source": [
    "s1.getit()"
   ]
  },
  {
   "cell_type": "code",
   "execution_count": 5,
   "metadata": {},
   "outputs": [
    {
     "name": "stdout",
     "output_type": "stream",
     "text": [
      "Deleting name of student\n",
      "Deleting course of student\n",
      "Deleting age of student\n",
      "Deleting self\n"
     ]
    }
   ],
   "source": [
    "s1.__del__()"
   ]
  },
  {
   "cell_type": "code",
   "execution_count": 6,
   "metadata": {},
   "outputs": [
    {
     "ename": "AttributeError",
     "evalue": "'Student' object has no attribute 'name'",
     "output_type": "error",
     "traceback": [
      "\u001b[1;31m---------------------------------------------------------------------------\u001b[0m",
      "\u001b[1;31mAttributeError\u001b[0m                            Traceback (most recent call last)",
      "\u001b[1;32m<ipython-input-6-bfa1764dcbdc>\u001b[0m in \u001b[0;36m<module>\u001b[1;34m\u001b[0m\n\u001b[1;32m----> 1\u001b[1;33m \u001b[0ms1\u001b[0m\u001b[1;33m.\u001b[0m\u001b[0mname\u001b[0m\u001b[1;33m\u001b[0m\u001b[1;33m\u001b[0m\u001b[0m\n\u001b[0m",
      "\u001b[1;31mAttributeError\u001b[0m: 'Student' object has no attribute 'name'"
     ]
    }
   ],
   "source": [
    "s1.name"
   ]
  },
  {
   "cell_type": "code",
   "execution_count": null,
   "metadata": {},
   "outputs": [],
   "source": []
  }
 ],
 "metadata": {
  "kernelspec": {
   "display_name": "Python 3",
   "language": "python",
   "name": "python3"
  },
  "language_info": {
   "codemirror_mode": {
    "name": "ipython",
    "version": 3
   },
   "file_extension": ".py",
   "mimetype": "text/x-python",
   "name": "python",
   "nbconvert_exporter": "python",
   "pygments_lexer": "ipython3",
   "version": "3.7.1"
  }
 },
 "nbformat": 4,
 "nbformat_minor": 2
}
