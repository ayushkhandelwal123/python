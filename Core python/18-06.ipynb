{
 "cells": [
  {
   "cell_type": "markdown",
   "metadata": {},
   "source": [
    "# Recursion\n"
   ]
  },
  {
   "cell_type": "markdown",
   "metadata": {},
   "source": [
    "### what is recursion\n",
    "\n",
    "* when a function calls itself"
   ]
  },
  {
   "cell_type": "code",
   "execution_count": 1,
   "metadata": {},
   "outputs": [],
   "source": [
    "import sys"
   ]
  },
  {
   "cell_type": "code",
   "execution_count": 3,
   "metadata": {},
   "outputs": [
    {
     "data": {
      "text/plain": [
       "3000"
      ]
     },
     "execution_count": 3,
     "metadata": {},
     "output_type": "execute_result"
    }
   ],
   "source": [
    "sys.getrecursionlimit()"
   ]
  },
  {
   "cell_type": "code",
   "execution_count": 41,
   "metadata": {},
   "outputs": [],
   "source": [
    "def prime(num):\n",
    "    c = 0\n",
    "    for i in range(2,num//2):\n",
    "        if num%i==0:\n",
    "            c = c+1\n",
    "    if c == 0:\n",
    "        print(\"True\")\n",
    "    else:\n",
    "        print(\"False\")"
   ]
  },
  {
   "cell_type": "code",
   "execution_count": 42,
   "metadata": {},
   "outputs": [
    {
     "name": "stdout",
     "output_type": "stream",
     "text": [
      "True\n"
     ]
    }
   ],
   "source": [
    "prime(2)"
   ]
  },
  {
   "cell_type": "code",
   "execution_count": null,
   "metadata": {},
   "outputs": [],
   "source": [
    "n = 23\n",
    "\n",
    "c = 2\n",
    "while c<= 22:\n",
    "    print(f\"{num:>5} / {c:<5} --> Quotient,Remainder)"
   ]
  },
  {
   "cell_type": "code",
   "execution_count": 32,
   "metadata": {},
   "outputs": [
    {
     "name": "stdout",
     "output_type": "stream",
     "text": [
      "Enter a number : 23\n",
      "Number 23 is Prime\n"
     ]
    }
   ],
   "source": [
    "c=2\n",
    "n = int(input(\"Enter a number : \"))\n",
    "while c <= n-1:\n",
    "    if n%c == 0:\n",
    "        print(f\"Number {n} is not prime\")\n",
    "        break\n",
    "    c = c + 1\n",
    "else:\n",
    "    print(f\"Number {n} is Prime\")"
   ]
  },
  {
   "cell_type": "code",
   "execution_count": 33,
   "metadata": {},
   "outputs": [
    {
     "name": "stdout",
     "output_type": "stream",
     "text": [
      "Enter a number : 23\n",
      "True\n"
     ]
    }
   ],
   "source": [
    "def is_prime(n):\n",
    "    for check in range(2,n):\n",
    "        if n%2==0:\n",
    "            return False\n",
    "    return True\n",
    "print(is_prime(int(input(\"Enter a number : \"))))"
   ]
  },
  {
   "cell_type": "code",
   "execution_count": 35,
   "metadata": {},
   "outputs": [
    {
     "name": "stdout",
     "output_type": "stream",
     "text": [
      "Enter a number : 127\n",
      "Number 127 is Prime\n"
     ]
    }
   ],
   "source": [
    "c=2\n",
    "n = int(input(\"Enter a number : \"))\n",
    "while c <= n//2:\n",
    "    if n%c == 0:\n",
    "        print(f\"Number {n} is not prime\")\n",
    "        break\n",
    "    c = c + 1\n",
    "else:\n",
    "    print(f\"Number {n} is Prime\")"
   ]
  },
  {
   "cell_type": "code",
   "execution_count": 36,
   "metadata": {},
   "outputs": [
    {
     "name": "stdout",
     "output_type": "stream",
     "text": [
      "Enter a number : 121\n",
      "Number 121 is not prime\n"
     ]
    }
   ],
   "source": [
    "c=2\n",
    "n = int(input(\"Enter a number : \"))\n",
    "for var in range(2,n//2+1):\n",
    "    if n%c == 0:\n",
    "        print(f\"Number {n} is not prime\")\n",
    "        break\n",
    "    c = c + 1\n",
    "else:\n",
    "    print(f\"Number {n} is Prime\")"
   ]
  },
  {
   "cell_type": "code",
   "execution_count": 40,
   "metadata": {},
   "outputs": [
    {
     "name": "stdout",
     "output_type": "stream",
     "text": [
      "Enter a number : 4\n",
      "False\n"
     ]
    }
   ],
   "source": [
    "from math import sqrt,ceil\n",
    "def is_prime(n):\n",
    "    for check in range(2,ceil(sqrt(n))+1):\n",
    "        if n%check==0:\n",
    "            return False\n",
    "    return True\n",
    "print(is_prime(int(input(\"Enter a number : \"))))"
   ]
  },
  {
   "cell_type": "code",
   "execution_count": 2,
   "metadata": {},
   "outputs": [
    {
     "name": "stdout",
     "output_type": "stream",
     "text": [
      "you can drink\n"
     ]
    }
   ],
   "source": [
    "def drink(name,age): # positional arguments (compulsory)\n",
    "    if age > 18 : \n",
    "        print(\"you can drink\")\n",
    "    else : \n",
    "        print(\"you can not drink\")\n",
    "drink(age=19,name='ayush') # key-word arguments"
   ]
  },
  {
   "cell_type": "code",
   "execution_count": 4,
   "metadata": {},
   "outputs": [
    {
     "name": "stdout",
     "output_type": "stream",
     "text": [
      "you can not drink\n"
     ]
    }
   ],
   "source": [
    "def drink(name,age=16): # 1 positional arguments, 1 Default \n",
    "    if age > 18 : \n",
    "        print(\"you can drink\")\n",
    "    else : \n",
    "        print(\"you can not drink\")\n",
    "drink('ayush')"
   ]
  },
  {
   "cell_type": "markdown",
   "metadata": {},
   "source": [
    "## using Recursion"
   ]
  },
  {
   "cell_type": "code",
   "execution_count": 6,
   "metadata": {},
   "outputs": [
    {
     "name": "stdout",
     "output_type": "stream",
     "text": [
      "Enter number :13\n"
     ]
    },
    {
     "data": {
      "text/plain": [
       "True"
      ]
     },
     "execution_count": 6,
     "metadata": {},
     "output_type": "execute_result"
    }
   ],
   "source": [
    "from math import ceil,sqrt\n",
    "def prime(num,check=2):\n",
    "    if num % check == 0 : \n",
    "        return False\n",
    "    elif check == ceil(sqrt(num)) : \n",
    "        return True \n",
    "    return prime(num,check+1)\n",
    "prime(int(input(\"Enter number :\")))"
   ]
  },
  {
   "cell_type": "markdown",
   "metadata": {},
   "source": [
    "### positional arguments ( compulsory arguments)"
   ]
  },
  {
   "cell_type": "code",
   "execution_count": 7,
   "metadata": {},
   "outputs": [
    {
     "name": "stdout",
     "output_type": "stream",
     "text": [
      "x =  5\n",
      "y =  6\n",
      "x + y =  11\n"
     ]
    }
   ],
   "source": [
    "def add(x,y): # x --> 0, y --> 1 \n",
    "    print(\"x = \",x)\n",
    "    print(\"y = \",y)\n",
    "    print(\"x + y = \",x+y)\n",
    "\n",
    "add(5,6)# 5 --> 0, 6---> 1"
   ]
  },
  {
   "cell_type": "markdown",
   "metadata": {},
   "source": [
    "### key-word arguments ( at function calling )"
   ]
  },
  {
   "cell_type": "code",
   "execution_count": 10,
   "metadata": {},
   "outputs": [
    {
     "name": "stdout",
     "output_type": "stream",
     "text": [
      "Welcome Child yahoo\n"
     ]
    }
   ],
   "source": [
    "def hello(name,age): # name, age are keys for hello function\n",
    "    if age > 18 : \n",
    "        print(f\"{name} is an adult\")\n",
    "    else : \n",
    "        print(f\"Welcome Child {name}\")\n",
    "hello(age=18,name='yahoo')"
   ]
  },
  {
   "cell_type": "code",
   "execution_count": 11,
   "metadata": {},
   "outputs": [
    {
     "ename": "TypeError",
     "evalue": "hello() got multiple values for argument 'name'",
     "output_type": "error",
     "traceback": [
      "\u001b[1;31m---------------------------------------------------------------------------\u001b[0m",
      "\u001b[1;31mTypeError\u001b[0m                                 Traceback (most recent call last)",
      "\u001b[1;32m<ipython-input-11-25e7ef0f2cdd>\u001b[0m in \u001b[0;36m<module>\u001b[1;34m\u001b[0m\n\u001b[1;32m----> 1\u001b[1;33m \u001b[0mhello\u001b[0m\u001b[1;33m(\u001b[0m\u001b[1;34m'ayush'\u001b[0m\u001b[1;33m,\u001b[0m\u001b[0mname\u001b[0m\u001b[1;33m=\u001b[0m\u001b[1;34m'yahoo'\u001b[0m\u001b[1;33m)\u001b[0m\u001b[1;33m\u001b[0m\u001b[1;33m\u001b[0m\u001b[0m\n\u001b[0m",
      "\u001b[1;31mTypeError\u001b[0m: hello() got multiple values for argument 'name'"
     ]
    }
   ],
   "source": [
    "# hello('ayush',name='yahoo')"
   ]
  },
  {
   "cell_type": "markdown",
   "metadata": {},
   "source": [
    "## Default Arguments"
   ]
  },
  {
   "cell_type": "code",
   "execution_count": 12,
   "metadata": {},
   "outputs": [],
   "source": [
    "# Function Overloading"
   ]
  },
  {
   "cell_type": "code",
   "execution_count": 13,
   "metadata": {},
   "outputs": [],
   "source": [
    "def add(x,y):\n",
    "    return x**2 + y**2\n",
    "\n",
    "def add(x,y,z):\n",
    "    return x**2+y+z"
   ]
  },
  {
   "cell_type": "code",
   "execution_count": 14,
   "metadata": {},
   "outputs": [
    {
     "name": "stdout",
     "output_type": "stream",
     "text": [
      "6\n"
     ]
    }
   ],
   "source": [
    "#r1 = add(4,5)\n",
    "r2 = add(1,2,3)\n",
    "#print(r1)\n",
    "print(r2)"
   ]
  },
  {
   "cell_type": "code",
   "execution_count": 15,
   "metadata": {},
   "outputs": [],
   "source": [
    "def add(x,y,z=None):\n",
    "    if z : \n",
    "        return x**2+y+z\n",
    "    return x**2 + y **2 "
   ]
  },
  {
   "cell_type": "code",
   "execution_count": 16,
   "metadata": {},
   "outputs": [
    {
     "data": {
      "text/plain": [
       "25"
      ]
     },
     "execution_count": 16,
     "metadata": {},
     "output_type": "execute_result"
    }
   ],
   "source": [
    "add(3,4)"
   ]
  },
  {
   "cell_type": "code",
   "execution_count": 17,
   "metadata": {},
   "outputs": [
    {
     "data": {
      "text/plain": [
       "6"
      ]
     },
     "execution_count": 17,
     "metadata": {},
     "output_type": "execute_result"
    }
   ],
   "source": [
    "add(1,2,3)"
   ]
  },
  {
   "cell_type": "code",
   "execution_count": 18,
   "metadata": {},
   "outputs": [],
   "source": [
    "def add(x,y=[]):\n",
    "    y.append(x*2)\n",
    "    return y "
   ]
  },
  {
   "cell_type": "code",
   "execution_count": 19,
   "metadata": {},
   "outputs": [
    {
     "name": "stdout",
     "output_type": "stream",
     "text": [
      "x =  [1, 2, 3, 8]\n",
      "y =  [10, 'sachinsachin']\n",
      "z =  ['hi', 'hello', 16]\n",
      "p =  [10, 'sachinsachin']\n"
     ]
    }
   ],
   "source": [
    "x = add(4,[1,2,3])\n",
    "y = add(5)\n",
    "z = add(8,['hi','hello'])\n",
    "p = add('sachin')\n",
    "print(\"x = \",x) # [ 1,2,3,8]\n",
    "print(\"y = \",y) # [ 10 ]\n",
    "print(\"z = \",z) # [ 'hi','hello',16]\n",
    "print(\"p = \",p) # [ 'sachinsachin' ]"
   ]
  },
  {
   "cell_type": "code",
   "execution_count": 24,
   "metadata": {},
   "outputs": [],
   "source": [
    "# var length arguments \n",
    "\n",
    "def func(*arg):\n",
    "    print(type(arg))\n",
    "    print(arg)"
   ]
  },
  {
   "cell_type": "code",
   "execution_count": 25,
   "metadata": {},
   "outputs": [
    {
     "name": "stdout",
     "output_type": "stream",
     "text": [
      "<class 'tuple'>\n",
      "()\n"
     ]
    }
   ],
   "source": [
    "func()"
   ]
  },
  {
   "cell_type": "code",
   "execution_count": 26,
   "metadata": {},
   "outputs": [
    {
     "name": "stdout",
     "output_type": "stream",
     "text": [
      "<class 'tuple'>\n",
      "(1, 2, 3)\n"
     ]
    }
   ],
   "source": [
    "func(1,2,3)"
   ]
  },
  {
   "cell_type": "code",
   "execution_count": 28,
   "metadata": {},
   "outputs": [
    {
     "name": "stdout",
     "output_type": "stream",
     "text": [
      "<class 'tuple'>\n",
      "(1, 2, 3, 4, 5, 6, 7)\n"
     ]
    }
   ],
   "source": [
    "func(1,2,3,4,5,6,7)"
   ]
  },
  {
   "cell_type": "code",
   "execution_count": 29,
   "metadata": {},
   "outputs": [],
   "source": [
    "def prior(pos,default=1,*multiple):\n",
    "    print(\"positional\",pos)\n",
    "    print(\"default\",default)\n",
    "    print(\"multiple\",multiple)"
   ]
  },
  {
   "cell_type": "code",
   "execution_count": 30,
   "metadata": {},
   "outputs": [
    {
     "name": "stdout",
     "output_type": "stream",
     "text": [
      "positional 1\n",
      "default 2\n",
      "multiple ('hi', [3, 4])\n"
     ]
    }
   ],
   "source": [
    "prior(1,2,'hi',[3,4])"
   ]
  },
  {
   "cell_type": "code",
   "execution_count": 31,
   "metadata": {},
   "outputs": [
    {
     "ename": "TypeError",
     "evalue": "prior() got an unexpected keyword argument 'name'",
     "output_type": "error",
     "traceback": [
      "\u001b[1;31m---------------------------------------------------------------------------\u001b[0m",
      "\u001b[1;31mTypeError\u001b[0m                                 Traceback (most recent call last)",
      "\u001b[1;32m<ipython-input-31-07e077e8a2e6>\u001b[0m in \u001b[0;36m<module>\u001b[1;34m\u001b[0m\n\u001b[1;32m----> 1\u001b[1;33m \u001b[0mprior\u001b[0m\u001b[1;33m(\u001b[0m\u001b[1;36m1\u001b[0m\u001b[1;33m,\u001b[0m\u001b[1;36m2\u001b[0m\u001b[1;33m,\u001b[0m\u001b[0mname\u001b[0m\u001b[1;33m=\u001b[0m\u001b[1;34m'ayush'\u001b[0m\u001b[1;33m)\u001b[0m\u001b[1;33m\u001b[0m\u001b[1;33m\u001b[0m\u001b[0m\n\u001b[0m",
      "\u001b[1;31mTypeError\u001b[0m: prior() got an unexpected keyword argument 'name'"
     ]
    }
   ],
   "source": [
    "prior(1,2,name='ayush')"
   ]
  },
  {
   "cell_type": "code",
   "execution_count": 32,
   "metadata": {},
   "outputs": [],
   "source": [
    "def fun(**kwargs):\n",
    "    print(type(kwargs))\n",
    "    print(kwargs)"
   ]
  },
  {
   "cell_type": "code",
   "execution_count": 33,
   "metadata": {},
   "outputs": [
    {
     "name": "stdout",
     "output_type": "stream",
     "text": [
      "<class 'dict'>\n",
      "{}\n"
     ]
    }
   ],
   "source": [
    "fun()"
   ]
  },
  {
   "cell_type": "code",
   "execution_count": 36,
   "metadata": {},
   "outputs": [],
   "source": [
    "def mk_dict(**d):\n",
    "    return d"
   ]
  },
  {
   "cell_type": "code",
   "execution_count": 37,
   "metadata": {},
   "outputs": [
    {
     "data": {
      "text/plain": [
       "{'name': 'ayush', 'data': [1, 22, 345, 665]}"
      ]
     },
     "execution_count": 37,
     "metadata": {},
     "output_type": "execute_result"
    }
   ],
   "source": [
    "mk_dict(name='ayush',data=[1,22,345,665])"
   ]
  },
  {
   "cell_type": "code",
   "execution_count": 34,
   "metadata": {},
   "outputs": [],
   "source": [
    "def fun(pos,default=1,*multiple,**kwargs):\n",
    "    print(\"positional\",pos)\n",
    "    print(\"default\",default)\n",
    "    print(\"multiple\",multiple)\n",
    "    print(\"kwargs\",kwargs)"
   ]
  },
  {
   "cell_type": "code",
   "execution_count": 35,
   "metadata": {},
   "outputs": [
    {
     "name": "stdout",
     "output_type": "stream",
     "text": [
      "positional 1\n",
      "default 2\n",
      "multiple (3, 4, 5, 6)\n",
      "kwargs {'name': 'ayush', 'age': '19'}\n"
     ]
    }
   ],
   "source": [
    "fun(1,2,3,4,5,6,name='ayush',age='19')"
   ]
  },
  {
   "cell_type": "code",
   "execution_count": 38,
   "metadata": {},
   "outputs": [],
   "source": [
    "even = lambda num : True if num % 2 == 0 else False"
   ]
  },
  {
   "cell_type": "code",
   "execution_count": 39,
   "metadata": {},
   "outputs": [
    {
     "data": {
      "text/plain": [
       "True"
      ]
     },
     "execution_count": 39,
     "metadata": {},
     "output_type": "execute_result"
    }
   ],
   "source": [
    "even(12)"
   ]
  },
  {
   "cell_type": "code",
   "execution_count": 40,
   "metadata": {},
   "outputs": [
    {
     "data": {
      "text/plain": [
       "False"
      ]
     },
     "execution_count": 40,
     "metadata": {},
     "output_type": "execute_result"
    }
   ],
   "source": [
    "even(13)"
   ]
  },
  {
   "cell_type": "code",
   "execution_count": null,
   "metadata": {},
   "outputs": [],
   "source": []
  }
 ],
 "metadata": {
  "kernelspec": {
   "display_name": "Python 3",
   "language": "python",
   "name": "python3"
  },
  "language_info": {
   "codemirror_mode": {
    "name": "ipython",
    "version": 3
   },
   "file_extension": ".py",
   "mimetype": "text/x-python",
   "name": "python",
   "nbconvert_exporter": "python",
   "pygments_lexer": "ipython3",
   "version": "3.7.1"
  }
 },
 "nbformat": 4,
 "nbformat_minor": 2
}
