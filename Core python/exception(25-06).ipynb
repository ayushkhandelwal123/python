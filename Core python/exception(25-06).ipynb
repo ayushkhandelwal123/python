{
 "cells": [
  {
   "cell_type": "markdown",
   "metadata": {},
   "source": [
    "### Exception\n",
    "\n",
    "**unwanted errors**\n",
    "\n",
    "**logical errors**\n",
    "\n",
    "**runtime errors**\n"
   ]
  },
  {
   "cell_type": "code",
   "execution_count": 6,
   "metadata": {},
   "outputs": [
    {
     "name": "stdout",
     "output_type": "stream",
     "text": [
      "Enter a number : 0\n",
      "Enter another number : 5\n",
      "Done!!! result is 0.00\n",
      "To free up your resources\n"
     ]
    }
   ],
   "source": [
    "try : \n",
    "    x = int(input(\"Enter a number : \"))\n",
    "    y = int(input(\"Enter another number : \"))\n",
    "    result = x / y\n",
    "except : \n",
    "    print(\"Error!! Something Went Wrong\")\n",
    "else : \n",
    "    print(f\"Done!!! result is {result:.2f}\")\n",
    "finally : \n",
    "    print(\"To free up your resources\")"
   ]
  },
  {
   "cell_type": "code",
   "execution_count": 8,
   "metadata": {},
   "outputs": [
    {
     "name": "stdout",
     "output_type": "stream",
     "text": [
      "Enter a number : 2\n",
      "Enter another number : 0\n",
      "Error!! Something Went Wrong\n",
      " division by zero\n",
      "To free up your resources\n"
     ]
    }
   ],
   "source": [
    "try : \n",
    "    x = int(input(\"Enter a number : \"))\n",
    "    y = int(input(\"Enter another number : \"))\n",
    "    result = x / y\n",
    "except Exception as arg : \n",
    "    print(\"Error!! Something Went Wrong\\n\",arg)\n",
    "else : \n",
    "    print(f\"Done!!! result is {result:.2f}\")\n",
    "finally : \n",
    "    print(\"To free up your resources\")"
   ]
  },
  {
   "cell_type": "code",
   "execution_count": 4,
   "metadata": {},
   "outputs": [
    {
     "name": "stdout",
     "output_type": "stream",
     "text": [
      "Error!! Something went wrong\n",
      "To free up your resources\n",
      "It will run always exception comes or not\n"
     ]
    }
   ],
   "source": [
    "try:\n",
    "    x = int(input(\"Enter a number : \"))\n",
    "except:\n",
    "    print(\"Error!! Something went wrong\")\n",
    "else:\n",
    "    print(\"Done!!! the number is : \",x)\n",
    "finally:\n",
    "    print(\"To free up your resources\")\n",
    "    print(\"It will run always exception comes or not\")"
   ]
  },
  {
   "cell_type": "code",
   "execution_count": 11,
   "metadata": {},
   "outputs": [
    {
     "name": "stdout",
     "output_type": "stream",
     "text": [
      "Enter a number : 10\n",
      "Enter another number : 10\n",
      "Done!!! result is 1.00\n",
      "To free up your resources\n"
     ]
    }
   ],
   "source": [
    "try : \n",
    "    x = int(input(\"Enter a number : \"))\n",
    "    y = int(input(\"Enter another number : \"))\n",
    "    result = x / y\n",
    "except ValueError as e : \n",
    "    print(\"!!Error!!Gadhe number manga string nhi \")\n",
    "except ZeroDivisionError as e : \n",
    "    print(\"!!Waahh!! Einstein ki aaulad zero se koi divide krta hai kya\")\n",
    "except Exception as arg : \n",
    "    print(\"Error!! Something Went Wrong\\n\",arg)\n",
    "else : \n",
    "    print(f\"Done!!! result is {result:.2f}\")\n",
    "finally : \n",
    "    print(\"To free up your resources\")"
   ]
  },
  {
   "cell_type": "code",
   "execution_count": 2,
   "metadata": {},
   "outputs": [
    {
     "name": "stdout",
     "output_type": "stream",
     "text": [
      "Enter the integer valueasd\n",
      "!!!Merko integer chahiye to integer chahiye!!!\n",
      "Enter the integer value12.5\n",
      "!!!Merko integer chahiye to integer chahiye!!!\n",
      "Enter the integer value12+5j\n",
      "!!!Merko integer chahiye to integer chahiye!!!\n",
      "Enter the integer value12\n",
      "The value is :  12\n"
     ]
    }
   ],
   "source": [
    "while True:\n",
    "    try:\n",
    "        a = int(input(\"Enter the integer value\"))\n",
    "    except ValueError as e:\n",
    "        print(\"!!!Merko integer chahiye bhai integer daal!!!\")\n",
    "    except:\n",
    "        print(\"!!!!Unexpected Error!!!!\")\n",
    "    else:\n",
    "        print(\"The value is : \",a)\n",
    "        break\n",
    "\n",
    "    "
   ]
  },
  {
   "cell_type": "code",
   "execution_count": 4,
   "metadata": {},
   "outputs": [
    {
     "name": "stdout",
     "output_type": "stream",
     "text": [
      "Enter a positive number-23\n",
      "!!Error!! Only Positive numbers are allowed\n",
      "!!Please Enter Positive number!!\n",
      "Enter a positive number12\n",
      "Value is :  12\n"
     ]
    }
   ],
   "source": [
    "while True:\n",
    "    try:\n",
    "        n = int(input(\"Enter a positive number\"))\n",
    "        if n<0:\n",
    "            raise ValueError(\"Only Positive numbers are allowed\")\n",
    "    except ValueError as e:\n",
    "        print(\"!!Error!!\",e)\n",
    "        print(\"!!Please Enter Positive number!!\")\n",
    "    else:\n",
    "        print(\"Value is : \",n)\n",
    "        break"
   ]
  },
  {
   "cell_type": "code",
   "execution_count": 12,
   "metadata": {},
   "outputs": [],
   "source": [
    "class MyError(Exception):\n",
    "    def __init__(self,arg):\n",
    "        self.arg = arg\n",
    "    def __repr__():\n",
    "        return self.arg"
   ]
  },
  {
   "cell_type": "code",
   "execution_count": 13,
   "metadata": {},
   "outputs": [
    {
     "ename": "MyError",
     "evalue": "hello world to my own custom error",
     "output_type": "error",
     "traceback": [
      "\u001b[1;31m---------------------------------------------------------------------------\u001b[0m",
      "\u001b[1;31mMyError\u001b[0m                                   Traceback (most recent call last)",
      "\u001b[1;32m<ipython-input-13-91f80893c15b>\u001b[0m in \u001b[0;36m<module>\u001b[1;34m()\u001b[0m\n\u001b[1;32m----> 1\u001b[1;33m \u001b[1;32mraise\u001b[0m \u001b[0mMyError\u001b[0m\u001b[1;33m(\u001b[0m\u001b[1;34m\"hello world to my own custom error\"\u001b[0m\u001b[1;33m)\u001b[0m\u001b[1;33m\u001b[0m\u001b[0m\n\u001b[0m",
      "\u001b[1;31mMyError\u001b[0m: hello world to my own custom error"
     ]
    }
   ],
   "source": [
    "raise MyError(\"hello world to my own custom error\")"
   ]
  },
  {
   "cell_type": "code",
   "execution_count": 5,
   "metadata": {},
   "outputs": [
    {
     "ename": "SyntaxError",
     "evalue": "invalid character in identifier (<ipython-input-5-bbfedd751959>, line 1)",
     "output_type": "error",
     "traceback": [
      "\u001b[1;36m  File \u001b[1;32m\"<ipython-input-5-bbfedd751959>\"\u001b[1;36m, line \u001b[1;32m1\u001b[0m\n\u001b[1;33m    print(‘x\\97\\x98’)\u001b[0m\n\u001b[1;37m           ^\u001b[0m\n\u001b[1;31mSyntaxError\u001b[0m\u001b[1;31m:\u001b[0m invalid character in identifier\n"
     ]
    }
   ],
   "source": [
    "print(‘x\\97\\x98’)"
   ]
  },
  {
   "cell_type": "code",
   "execution_count": 4,
   "metadata": {},
   "outputs": [
    {
     "name": "stdout",
     "output_type": "stream",
     "text": [
      "Enter a positive number-8\n",
      "!!Error!! Only Positive numbers are allowed\n",
      "!!Please Enter Positive number!!\n",
      "Enter a positive numberk\n",
      "!!Error!! invalid literal for int() with base 10: 'k'\n",
      "!!Please Enter Positive number!!\n",
      "Enter a positive number0.87\n",
      "!!Error!! invalid literal for int() with base 10: '0.87'\n",
      "!!Please Enter Positive number!!\n",
      "Enter a positive number0\n",
      "!!Error!! Only Positive numbers are allowed\n",
      "!!Please Enter Positive number!!\n",
      "Enter a positive number1\n",
      "Value is :  1\n"
     ]
    }
   ],
   "source": [
    "while True:\n",
    "    try:\n",
    "        n = int(input(\"Enter a positive number\"))\n",
    "        assert n>0,\"Only Positive numbers are allowed\"\n",
    "    except AssertionError as e:\n",
    "        print(\"!!Error!!\",e)\n",
    "        print(\"!!Please Enter Positive number!!\")\n",
    "    except Exception as e:\n",
    "        print(\"!!Error!!\",e)\n",
    "        print(\"!!Please Enter Positive number!!\")\n",
    "    else:\n",
    "        print(\"Value is : \",n)\n",
    "        break"
   ]
  },
  {
   "cell_type": "code",
   "execution_count": null,
   "metadata": {},
   "outputs": [],
   "source": []
  }
 ],
 "metadata": {
  "kernelspec": {
   "display_name": "Python 3",
   "language": "python",
   "name": "python3"
  },
  "language_info": {
   "codemirror_mode": {
    "name": "ipython",
    "version": 3
   },
   "file_extension": ".py",
   "mimetype": "text/x-python",
   "name": "python",
   "nbconvert_exporter": "python",
   "pygments_lexer": "ipython3",
   "version": "3.6.5"
  }
 },
 "nbformat": 4,
 "nbformat_minor": 2
}
