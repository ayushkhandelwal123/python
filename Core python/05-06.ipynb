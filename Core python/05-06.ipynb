{
 "cells": [
  {
   "cell_type": "code",
   "execution_count": 1,
   "metadata": {},
   "outputs": [
    {
     "name": "stdout",
     "output_type": "stream",
     "text": [
      "\n",
      "*\n",
      "**\n",
      "***\n",
      "****\n",
      "*****\n",
      "******\n",
      "*******\n",
      "********\n",
      "*********\n",
      "**********\n",
      "***********\n",
      "************\n",
      "*************\n",
      "**************\n",
      "***************\n",
      "****************\n",
      "*****************\n",
      "******************\n",
      "*******************\n"
     ]
    }
   ],
   "source": [
    "for var in range(20):\n",
    "    print(\"*\"*var)"
   ]
  },
  {
   "cell_type": "code",
   "execution_count": 4,
   "metadata": {},
   "outputs": [
    {
     "data": {
      "image/png": "[encoded data removed]",
      "text/plain": [
       "<Figure size 432x288 with 1 Axes>"
      ]
     },
     "metadata": {
      "needs_background": "light"
     },
     "output_type": "display_data"
    }
   ],
   "source": [
    "country = [\"India\",\"Australia\",\"England\",\"Japan\",\"Pakistan\"]\n",
    "rating = [10,9,8,8,2]\n",
    "import pylab as a\n",
    "a.bar (x = country,height = rating)\n",
    "a.show()"
   ]
  },
  {
   "cell_type": "code",
   "execution_count": 3,
   "metadata": {},
   "outputs": [
    {
     "data": {
      "image/png": "[encoded data removed]",
      "text/plain": [
       "<Figure size 432x288 with 1 Axes>"
      ]
     },
     "metadata": {
      "needs_background": "light"
     },
     "output_type": "display_data"
    }
   ],
   "source": [
    "country = [\"India\",\"Australia\",\"England\",'Japan',\"Pakistan\"]\n",
    "rating = [10,9,8,8,2]\n",
    "colour = [\"Blue\",\"Yellow\",\"Pink\",\"Black\",\"Green\"]\n",
    "import pylab as plt\n",
    "plt.bar (x = country,height = rating,color = colour)\n",
    "plt.show()"
   ]
  },
  {
   "cell_type": "code",
   "execution_count": 5,
   "metadata": {},
   "outputs": [
    {
     "name": "stdout",
     "output_type": "stream",
     "text": [
      "************************************************************\n",
      "************************************************************\n",
      "\n",
      "Hello World to Python\n",
      "Enter your nameayush\n",
      "enter no.5\n"
     ]
    }
   ],
   "source": [
    "print(\"*\"*60)\n",
    "print(\"*\"*60)\n",
    "print()\n",
    "print(\"Hello World to Python\")\n",
    "name = input(\"Enter your name\")\n",
    "n = int(input(\"enter no.\"))"
   ]
  },
  {
   "cell_type": "code",
   "execution_count": 6,
   "metadata": {},
   "outputs": [],
   "source": [
    "l = [1,2,3]"
   ]
  },
  {
   "cell_type": "code",
   "execution_count": 7,
   "metadata": {},
   "outputs": [
    {
     "data": {
      "text/plain": [
       "[1, 2, 3, 1, 2, 3, 1, 2, 3]"
      ]
     },
     "execution_count": 7,
     "metadata": {},
     "output_type": "execute_result"
    }
   ],
   "source": [
    "l*3"
   ]
  },
  {
   "cell_type": "code",
   "execution_count": 8,
   "metadata": {},
   "outputs": [],
   "source": [
    "a = 10 \n",
    "b = 20\n"
   ]
  },
  {
   "cell_type": "code",
   "execution_count": 9,
   "metadata": {},
   "outputs": [
    {
     "name": "stdout",
     "output_type": "stream",
     "text": [
      "value of a =  10\n",
      "value of b =  20\n"
     ]
    }
   ],
   "source": [
    "print(\"value of a = \",a)\n",
    "print(\"value of b = \",b)"
   ]
  },
  {
   "cell_type": "code",
   "execution_count": 10,
   "metadata": {},
   "outputs": [
    {
     "name": "stdout",
     "output_type": "stream",
     "text": [
      "value of a =  10 value of b =  20\n"
     ]
    }
   ],
   "source": [
    "print(\"value of a = \",a,\"value of b = \",b)"
   ]
  },
  {
   "cell_type": "code",
   "execution_count": 11,
   "metadata": {},
   "outputs": [
    {
     "name": "stdout",
     "output_type": "stream",
     "text": [
      "value of a =10 and value of b = 20\n"
     ]
    }
   ],
   "source": [
    "print(\"value of a ={} and value of b = {}\".format(a,b))"
   ]
  },
  {
   "cell_type": "code",
   "execution_count": 12,
   "metadata": {},
   "outputs": [
    {
     "name": "stdout",
     "output_type": "stream",
     "text": [
      "value of a =20 and value of b = 10\n"
     ]
    }
   ],
   "source": [
    "print(\"value of a ={} and value of b = {}\".format(b,a))"
   ]
  },
  {
   "cell_type": "code",
   "execution_count": 13,
   "metadata": {},
   "outputs": [
    {
     "name": "stdout",
     "output_type": "stream",
     "text": [
      "value of a =10 and value of b = 20\n"
     ]
    }
   ],
   "source": [
    "print(f\"value of a ={a} and value of b = {b}\")"
   ]
  },
  {
   "cell_type": "code",
   "execution_count": 14,
   "metadata": {},
   "outputs": [
    {
     "name": "stdout",
     "output_type": "stream",
     "text": [
      "value of a =20 and value of b = 10\n"
     ]
    }
   ],
   "source": [
    "print(\"value of a ={1} and value of b = {0}\".format(a,b))"
   ]
  },
  {
   "cell_type": "code",
   "execution_count": 15,
   "metadata": {},
   "outputs": [
    {
     "name": "stdout",
     "output_type": "stream",
     "text": [
      "           \n",
      "          *\n",
      "         **\n",
      "        ***\n",
      "       ****\n",
      "      *****\n",
      "     ******\n",
      "    *******\n",
      "   ********\n",
      "  *********\n"
     ]
    }
   ],
   "source": [
    "for i in range(10):\n",
    "    print(\" \"*(10-i),\"*\"*i)"
   ]
  },
  {
   "cell_type": "code",
   "execution_count": 16,
   "metadata": {},
   "outputs": [
    {
     "name": "stdout",
     "output_type": "stream",
     "text": [
      "Writing abc.py\n"
     ]
    }
   ],
   "source": [
    "%%writefile abc.py\n",
    "import turtle\n",
    "pen = turtle.Pen()\n",
    "pen.speed(0)\n",
    "pen.color(\"red\",\"yellow\")\n",
    "pen.begin_fill()\n",
    "for var in range(200):\n",
    "    pen.forward(250)\n",
    "    pen.left(171)\n",
    "pen.end_fill()\n",
    "turtle.exitonclick()"
   ]
  },
  {
   "cell_type": "code",
   "execution_count": 33,
   "metadata": {},
   "outputs": [
    {
     "name": "stdout",
     "output_type": "stream",
     "text": [
      "Writing c.py\n"
     ]
    }
   ],
   "source": [
    "%%writefile c.py\n",
    "import turtle\n",
    "car= turtle.Turtle()\n",
    "car.speed(0)\n",
    "car.color('#2B2BF6')\n",
    "car.fillcolor('#2B2BF6')\n",
    "car.penup()\n",
    "car.goto(0,0)\n",
    "car.pendown()\n",
    "car.begin_fill()\n",
    "car.forward(370)\n",
    "\n",
    "turtle.exitonclick()\n"
   ]
  },
  {
   "cell_type": "code",
   "execution_count": 39,
   "metadata": {},
   "outputs": [
    {
     "name": "stdout",
     "output_type": "stream",
     "text": [
      "Overwriting car1.py\n"
     ]
    }
   ],
   "source": [
    "%%writefile car1.py\n",
    "import turtle\n",
    " \n",
    "car = turtle.Turtle()\n",
    " \n",
    "#Below code for drawing rectanglura upper body\n",
    "car.color('blue')\n",
    "car.fillcolor('blue')\n",
    "car.penup()\n",
    "car.goto(0,0)\n",
    "car.pendown()\n",
    "car.begin_fill()\n",
    "car.forward(370)\n",
    "car.left(90)\n",
    "car.forward(50)\n",
    "car.left(90)\n",
    "car.forward(370)\n",
    "car.left(90)\n",
    "car.forward(50)\n",
    "car.end_fill()\n",
    " \n",
    "#Below code for drawing window and roof\n",
    "car.penup()\n",
    "car.goto(100, 50)\n",
    "car.pendown()\n",
    "car.setheading(45)\n",
    "car.forward(70)\n",
    "car.setheading(0)\n",
    "car.forward(100)\n",
    "car.setheading(-45)\n",
    "car.forward(70)\n",
    "car.setheading(90)\n",
    "car.penup()\n",
    "car.goto(200, 50)\n",
    "car.pendown()\n",
    "car.forward(49.50)\n",
    " \n",
    "#Below code for drawing two tyres\n",
    "car.penup()\n",
    "car.goto(100, -10)\n",
    "car.pendown()\n",
    "car.color('black')\n",
    "car.fillcolor('black')\n",
    "car.begin_fill()\n",
    "car.circle(20)\n",
    "car.end_fill()\n",
    "car.penup()\n",
    "car.goto(300, -10)\n",
    "car.pendown()\n",
    "car.color('black')\n",
    "car.fillcolor('black')\n",
    "car.begin_fill()\n",
    "car.circle(20)\n",
    "car.end_fill()\n",
    "turtle.exitonclick()\n"
   ]
  },
  {
   "cell_type": "code",
   "execution_count": 37,
   "metadata": {},
   "outputs": [
    {
     "name": "stdout",
     "output_type": "stream",
     "text": [
      "Overwriting ayush.py\n"
     ]
    }
   ],
   "source": [
    "%%writefile ayush.py\n",
    "import turtle\n",
    "car= turtle.Turtle()\n",
    "\n",
    "car.forward(50)\n",
    "car.pendown()\n",
    "car.begin_fill()\n",
    "\n",
    "car.circle(20)\n",
    "car.end_fill()\n",
    "\n",
    "turtle.exitonclick()"
   ]
  },
  {
   "cell_type": "code",
   "execution_count": 1,
   "metadata": {},
   "outputs": [],
   "source": [
    "import os"
   ]
  },
  {
   "cell_type": "code",
   "execution_count": 2,
   "metadata": {},
   "outputs": [
    {
     "data": {
      "text/plain": [
       "0"
      ]
     },
     "execution_count": 2,
     "metadata": {},
     "output_type": "execute_result"
    }
   ],
   "source": [
    "os.system(\"notepad\")"
   ]
  },
  {
   "cell_type": "code",
   "execution_count": null,
   "metadata": {},
   "outputs": [],
   "source": []
  }
 ],
 "metadata": {
  "kernelspec": {
   "display_name": "Python 3",
   "language": "python",
   "name": "python3"
  },
  "language_info": {
   "codemirror_mode": {
    "name": "ipython",
    "version": 3
   },
   "file_extension": ".py",
   "mimetype": "text/x-python",
   "name": "python",
   "nbconvert_exporter": "python",
   "pygments_lexer": "ipython3",
   "version": "3.7.1"
  }
 },
 "nbformat": 4,
 "nbformat_minor": 2
}
