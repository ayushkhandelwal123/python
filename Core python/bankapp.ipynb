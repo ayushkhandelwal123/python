{
 "cells": [
  {
   "cell_type": "code",
   "execution_count": 2,
   "metadata": {},
   "outputs": [
    {
     "name": "stdout",
     "output_type": "stream",
     "text": [
      "$$$$$$$$$$$$$$$$$$$$$$$$$$$$$$$$$$$$$$$$$$$$$$$$$$$$$$$$$$$$$$$$$$$$$$$$$$$$$$$$$$$$$$$$$$$$$$$$$$$$$$$$$$$$$$$$$$$$\n",
      "#                                                                                                                  #\n",
      "#                                                                                                                  #\n",
      "#                                        Hello,Welcome To State Bank Of India                                      #\n",
      "#                                                                                                                  #\n",
      "#                                                                                                                  #\n",
      "$$$$$$$$$$$$$$$$$$$$$$$$$$$$$$$$$$$$$$$$$$$$$$$$$$$$$$$$$$$$$$$$$$$$$$$$$$$$$$$$$$$$$$$$$$$$$$$$$$$$$$$$$$$$$$$$$$$$\n",
      "Enter your choice ------> \n",
      " 1.Create Account \n",
      " 2.Banking \n",
      " 3.Loan Approval \n",
      " 4.View Account Details \n",
      " 5.Manager Authentication ---->4\n",
      "Please wait.....\n",
      "$$$$$$$$$$$$$$$$$$$$$$$$$$$$$$$$$$$$$$$$$$$$$$$$$$$$$$$$$$$$$$$$$$$$$$$$$$$$$$$$$$$$$$$$$$$$$$$$$$$$$$$$$$$$$$$$$$$$\n",
      "#                                                                                                                  #\n",
      "#                                                                                                                  #\n",
      "#                                               View Account Details                                               #\n",
      "#                                                                                                                  #\n",
      "#                                                                                                                  #\n",
      "$$$$$$$$$$$$$$$$$$$$$$$$$$$$$$$$$$$$$$$$$$$$$$$$$$$$$$$$$$$$$$$$$$$$$$$$$$$$$$$$$$$$$$$$$$$$$$$$$$$$$$$$$$$$$$$$$$$$\n",
      "Enter your Account number : 2460\n",
      "Enter the valid account number\n",
      "If you want to continue press yes else press any key : y\n",
      "Enter your choice ------> \n",
      " 1.Create Account \n",
      " 2.Banking \n",
      " 3.Loan Approval \n",
      " 4.View Account Details \n",
      " 5.Manager Authentication ---->4\n",
      "Please wait.....\n",
      "$$$$$$$$$$$$$$$$$$$$$$$$$$$$$$$$$$$$$$$$$$$$$$$$$$$$$$$$$$$$$$$$$$$$$$$$$$$$$$$$$$$$$$$$$$$$$$$$$$$$$$$$$$$$$$$$$$$$\n",
      "#                                                                                                                  #\n",
      "#                                                                                                                  #\n",
      "#                                               View Account Details                                               #\n",
      "#                                                                                                                  #\n",
      "#                                                                                                                  #\n",
      "$$$$$$$$$$$$$$$$$$$$$$$$$$$$$$$$$$$$$$$$$$$$$$$$$$$$$$$$$$$$$$$$$$$$$$$$$$$$$$$$$$$$$$$$$$$$$$$$$$$$$$$$$$$$$$$$$$$$\n",
      "Enter your Account number : 2455\n",
      "Mobile number is : 9521057735 \n",
      "Aadhar number is : 965691556636 \n",
      "Balance is : 100000\n",
      "If you want to continue press yes else press any key : \n",
      "$$$$$$$$$$$$$$$$$$$$$$$$$$$$$$$$$$$$$$$$$$$$$$$$$$$$$$$$$$$$$$$$$$$$$$$$$$$$$$$$$$$$$$$$$$$$$$$$$$$$$$$$$$$$$$$$$$$$\n",
      "#                                                                                                                  #\n",
      "#                                                                                                                  #\n",
      "#                                                    Thank You                                                     #\n",
      "#                                                                                                                  #\n",
      "#                                                                                                                  #\n",
      "$$$$$$$$$$$$$$$$$$$$$$$$$$$$$$$$$$$$$$$$$$$$$$$$$$$$$$$$$$$$$$$$$$$$$$$$$$$$$$$$$$$$$$$$$$$$$$$$$$$$$$$$$$$$$$$$$$$$\n"
     ]
    }
   ],
   "source": [
    "#This is a banking application in which there are 4 options:\n",
    "#1.To create account.\n",
    "#2.Banking.\n",
    "#3.Loan Approval.\n",
    "#4.To view Account Details.\n",
    "\n",
    "\n",
    "# There is also another option of Manager Authentication in which The Bank Manager has a right to authenticate the account details.\n",
    "\n",
    "\n",
    "import json\n",
    "from getpass import getpass\n",
    "from time import sleep\n",
    "import os\n",
    "fp=open(\"hii.json\")\n",
    "Accounts=json.load(fp)\n",
    "def dec(fun):\n",
    "    def inner():\n",
    "        for i in range(1,8):\n",
    "            if i==1 or i==7:\n",
    "                print(\"$\"*116)\n",
    "            if i==4:\n",
    "                fun()\n",
    "            if i!=1 and i!=7 and i!=4:\n",
    "                print(\"#\",\" \"*114,\"#\",sep=\"\")\n",
    "    return inner\n",
    "def process():\n",
    "    print(\"Please wait\",end=\"\")\n",
    "    for i in range(1,6):\n",
    "        print(\".\",end=\"\")\n",
    "        sleep(1)\n",
    "#A dictionary where all the account details of a person are stored.\n",
    "Accounts={\n",
    "    2455: ([9521057735,965691556636,100000],(\"Ayush\",\"Ayush99\")),\n",
    "    2456: ([8979260543,915566542130,50000],(\"Akansha\",\"Akansha97\")),\n",
    "    2457: ([9997311805,965691241567,40000],(\"Shalini\",\"Shalini71\")),\n",
    "    2458: ([9027146654,965695463210,85000],(\"Manoj\",\"Manoj70\")),\n",
    "    2459: ([8005878724,965696428120,75000],(\"Mohit\",\"mohit98\"))}\n",
    "@dec\n",
    "def fun3():\n",
    "    print(\"#\",\" \"*40,\"Hello,Welcome To State Bank Of India\",\" \"*38,\"#\",sep=\"\")\n",
    "    \n",
    "fun3()\n",
    "\n",
    "sleep(2)\n",
    "\n",
    "\n",
    "\n",
    "def Create_Account():  #To create Bank Account. \n",
    "    @dec\n",
    "    def fun4():\n",
    "        print(\"#\",\" \"*50,\"Create Account\",\" \"*50,\"#\",sep=\"\")\n",
    "    fun4()\n",
    "    print(\"*\"*30,\"Manager Authentication\",\"*\"*30)\n",
    "    try:\n",
    "        i_d=int(input(\"Enter Manager ID---------->\"))\n",
    "        user_name=input(\"Enter Manager UserName---->\")\n",
    "        pass_word=getpass(\"Enter Manager PassWord------>\")\n",
    "        \n",
    "    \n",
    "        process()\n",
    "        print()\n",
    "    \n",
    "        if user_name==Manager_details[i_d][0] and pass_word==Manager_details[i_d][1]:\n",
    "            print(\"*\"*25,\"Manager Authentication Is Successful\",\"*\"*25)\n",
    "            verify(Accounts)        #Function Calling For Verifying Documents\n",
    "        else:\n",
    "            print(\"Manager Authentication Is UnSuccessful\")\n",
    "    except ValueError as identifier:\n",
    "        print(\"ValueError-->\",identifier)\n",
    "    except KeyError as identifier:\n",
    "        print(\"KeyError\",identifier)\n",
    "    \n",
    "def verify(Accounts):   #To verify the documents of a user who wants to create a bank account.\n",
    "    Docs=[]\n",
    "    age=int(input(\"Enter your age\"))\n",
    "    if age>=18:\n",
    "        PAN_NO=input(\"Press yes if you have pan card else press no : \")\n",
    "        ID_NO=input(\"Press yes if you have Voter card else press no : \")\n",
    "        if PAN_NO.casefold()==\"yes\" or PAN_NO.casefold()==\"y\" and ID_NO.casefold()==\"yes\" or ID_NO.casefold()==\"y\":\n",
    "            print(\"*\"*40,\"You are eligible for creating account\",\"*\"*40)\n",
    "            acc_list=list(Accounts)\n",
    "            acc_list=list(map(int,acc_list))\n",
    "            acc_no=acc_list[-1]+1\n",
    "            print(\"Your account number is ------> \",acc_no)\n",
    "            mob_no=int(input(\"Enter your mobile number ------->\"))\n",
    "            Aadhar_no=int(input(\"Enter your 12 Digit Aadhar number----> \"))\n",
    "            if len(str(mob_no))==10 and len(str(Aadhar_no))==12: \n",
    "                Docs.append(mob_no)\n",
    "                Docs.append(Aadhar_no)\n",
    "                Docs.append(int(input(\"Enter Balance ---------> \")))\n",
    "                print(\"*\"*30,\"Condition For Password\",\"*\"*30)\n",
    "                print(\"1.Password length must be less than 15\")\n",
    "                print(\"2.Password must have at least one digit\")\n",
    "                uname=input(\"Enter your username --------->\")\n",
    "                pswd=getpass(\"Enter your Password -------->\")\n",
    "                confirm_password=getpass(\"Confirm Your Password\")\n",
    "                def digit(pswd):\n",
    "                        count=0\n",
    "                        for i in pswd:\n",
    "                            if i.isdigit():\n",
    "                                count+=1\n",
    "                            else:\n",
    "                                pass\n",
    "                        else:\n",
    "                            if count>=2:\n",
    "                                return True\n",
    "                            else:\n",
    "                                return False\n",
    "                if pswd==confirm_password and len(pswd)<12 and digit(pswd):\n",
    "                    dict_values=(Docs,(uname,pswd))\n",
    "                    Accounts[acc_no]=dict_values\n",
    "                    print(\"*\"*40,\"Account Has been created\",\"*\"*40)\n",
    "                else:\n",
    "                    print(\"Incorrect Password\")\n",
    "            else:\n",
    "                 print(\"Invalid details\")\n",
    "        else:\n",
    "            print(\"You are not eligible to craete Account\")\n",
    "    else:\n",
    "        print(\"Person having age above 18 are eligible to create account\")\n",
    "\n",
    "\n",
    "from getpass import *\n",
    "\n",
    "def Banking(Accounts):    #Function to withdraw money,deposit money,update aadhar number and mobile number update\n",
    "    @dec\n",
    "    def fun5():\n",
    "        print(\"#\",\" \"*54,\"Banking\",\" \"*53,\"#\",sep=\"\")\n",
    "    fun5()\n",
    "    acc_no=int(input(\"Enter your Account number : \"))\n",
    "    username=input(\"Enter your username : \")\n",
    "    password=getpass(\"Enter your password : \")\n",
    "    if username==Accounts[acc_no][1][0] and password==Accounts[acc_no][1][1]:\n",
    "        c=int(input(\"Enter your choce of banking ------> 1.Withdraw  2.Deposit  3.Aadhar update  4.Mobile number update ---->\"))\n",
    "        if c==1:\n",
    "                Withdraw(Accounts,acc_no)\n",
    "        elif c==2:\n",
    "                Deposit(Accounts,acc_no)\n",
    "        elif c==3:\n",
    "                Update_Aadhar(Accounts,acc_no) \n",
    "        elif c==4:\n",
    "                Update_mobile(Accounts,acc_no)\n",
    "        else:\n",
    "             print(\"Enter correct choice\")\n",
    "    else:\n",
    "        print(\"Invalid username or Password\")\n",
    "\n",
    "def Withdraw(Accounts,acc_no):      #To withdraw the money from the bank\n",
    "    amt=int(input(\"Enter the amount which you want to withdraw : \"))\n",
    "    if amt>=500 and amt<Accounts[acc_no][0][2]:\n",
    "        Accounts[acc_no][0][2]-=amt\n",
    "        print(\"Remaining Balance is : \",Accounts[acc_no][0][2])\n",
    "    else:\n",
    "        print(f\"The amount that is to be withdrawed is greater than or equal to 500 and less than {Accounts[acc_no][0][2]}\")\n",
    "\n",
    "def Deposit(Accounts,acc_no):        #To deposit the money to the bank\n",
    "    amount=int(input(\"Enter the amount which you want to deposit : \"))\n",
    "    if amount>=1000:\n",
    "        Accounts[acc_no][0][2]+=amount\n",
    "        print(\" The added Balance is : \",Accounts[acc_no][0][2])\n",
    "    else:\n",
    "        print(\"The amount that is to be deposited is greater than or equal to 1000\")\n",
    "        \n",
    "def Update_Aadhar(Accounts,acc_no):     #To update your aadhar number given in Bank\n",
    "    aadhar=int(input(\"Enter the updated Aadhar number : \"))\n",
    "    if len(str(aadhar))==12:\n",
    "        Accounts[acc_no][0][1]=aadhar\n",
    "    else:\n",
    "        print(\"Enter valid aadhar number\")\n",
    "        \n",
    "def Update_mobile(Accounts,acc_no):     #To update your Mobile number given in Bank\n",
    "    m=int(input(\"Enter the updated Mobile number : \"))\n",
    "    if len(str(m))==10:\n",
    "        Accounts[acc_no][0][0]=m\n",
    "    else:\n",
    "        print(\"Enter valid mobile number\")\n",
    "    \n",
    "def Loan():   #To provide loan for differnt sectors\n",
    "    @dec\n",
    "    def fun6():\n",
    "        print(\"#\",\" \"*51,\"Loan Approval\",\" \"*50,\"#\",sep=\"\")\n",
    "    fun6()\n",
    "    c=int(input(\"Enter your choice ------> 1.Government Sector  2.Private Sector  3. Student\"))\n",
    "    if c==1:\n",
    "         Gov_Sector()\n",
    "    elif c==2:\n",
    "         Private_Sector() \n",
    "    elif c==3:\n",
    "         print(\"You are not eligible to take loan\")\n",
    "    else:\n",
    "         print(\"Not valid to Take Loan\")\n",
    "    \n",
    "def Loan_documents():    #To validate whether the user have the required documents to take the loan\n",
    "    Pan_card=input(\"If you have pan card then press yes else press no : \")\n",
    "    Identity_proof=input(\"If you have voter id then print yes else no : \")\n",
    "    Address_proof=input(\"If you have Passbook then print yes else no : \")\n",
    "    if Pan_card.casefold()==\"yes\" and Identity_proof.casefold()==\"yes\" and Address_proof.casefold()==\"yes\":\n",
    "        return True\n",
    "    else:\n",
    "        return False\n",
    "    \n",
    "def Gov_Sector():      #To check whether the government user is eligible to take the loan\n",
    "    req_doc=Loan_documents()\n",
    "    if req_doc:\n",
    "        Gov_ApprovalLoan()\n",
    "    else:\n",
    "        print(\"You are not eligible to take loan\")\n",
    "    \n",
    "def Private_Sector():   #To check whether the private sector user is eligible to take the loan\n",
    "    req_doc=Loan_documents()\n",
    "    if req_doc:\n",
    "        Private_ApprovalLoan()\n",
    "    else:\n",
    "        print(\"You are not eligible to take loan\")\n",
    "    \n",
    "    \n",
    "                \n",
    "def Gov_ApprovalLoan():   #To approve the loan for government sector user.\n",
    "    salary=int(input(\"Enter the salary : \"))\n",
    "    Loan_amt=int(input(\"Enter the loan amount : \"))\n",
    "    \n",
    "    Total_Salary=salary*12\n",
    "    if Total_Salary>600000:\n",
    "        print(\"Loan Approved and will be provided 70% of Total Salary\")\n",
    "    elif Total_Salary>100000 and Total_Salary<=600000:\n",
    "        print(\"Loan Approved and will be provided 50% of Total Salary\")\n",
    "    else:\n",
    "        print(\"Loan Approved and will be provided 30% of Total Salary\")\n",
    "        \n",
    "def Private_ApprovalLoan():  #To approve the loan for Private sector user\n",
    "    salary=int(input(\"Enter the salary : \"))\n",
    "    Loan_amt=int(input(\"Enter the loan amount : \"))\n",
    "    Total_Salary=salary*12\n",
    "    if Total_Salary>600000:\n",
    "        print(\"Loan Approved and will be provided 50% of Total Salary\")\n",
    "    elif Total_Salary>100000 and Total_Salary<=600000:\n",
    "        print(\"Loan Approved and will be provided 30% of Total Salary\")\n",
    "    else:\n",
    "        print(\"Loan Approved and will be provided 15% of Total Salary\")\n",
    "        \n",
    "   \n",
    "\n",
    "               \n",
    "def View_AccountDetails(Accounts):   #To view the details of your Bank Account\n",
    "    @dec\n",
    "    def fun8():\n",
    "        print(\"#\",\" \"*47,\"View Account Details\",\" \"*47,\"#\",sep=\"\")\n",
    "    fun8()\n",
    "    acc_no=int(input(\"Enter your Account number : \"))\n",
    "    if acc_no in Accounts.keys():\n",
    "        print(f\"Mobile number is : {Accounts[acc_no][0][0]} \\nAadhar number is : {Accounts[acc_no][0][1]} \\nBalance is : {Accounts[acc_no][0][2]}\")\n",
    "    else:\n",
    "        print(\"Enter the valid account number\")\n",
    "        \n",
    "\n",
    "Manager_details={4:(\"Manager\",\"Man123\")}\n",
    "def Manager_Authentication():\n",
    "    @dec\n",
    "    def fun7():\n",
    "        print(\"#\",\" \"*46,\"Manager Authentication\",\" \"*46,\"#\",sep=\"\")\n",
    "    fun7()\n",
    "    global Accounts\n",
    "    i_d=int(input(\"Enter Your Id----> \"))\n",
    "    user=input(\"Enter your UserName----> \")\n",
    "    password=getpass(\"Enter your PassWord---> \")\n",
    "    if password==Manager_details[i_d][1] and user==Manager_details[i_d][0]:\n",
    "        for i in Accounts.keys():\n",
    "            print(Accounts[i])\n",
    "    else:\n",
    "        print(\"Not Eligible to authenticate Account Details\")\n",
    "        \n",
    "\n",
    "    \n",
    "while True:\n",
    "        choice=int(input(\"Enter your choice ------> \\n 1.Create Account \\n 2.Banking \\n 3.Loan Approval \\n 4.View Account Details \\n 5.Manager Authentication ---->\"))\n",
    "        process()\n",
    "        print()\n",
    "        if choice==1:\n",
    "            Create_Account()\n",
    "        elif choice==2:\n",
    "            Banking(Accounts)\n",
    "        elif choice==3:\n",
    "            Loan()\n",
    "        elif choice==4:\n",
    "            View_AccountDetails(Accounts)\n",
    "        elif choice==5:\n",
    "            Manager_Authentication()\n",
    "        else:\n",
    "            print(\"Please Enter the correct choice\")\n",
    "        press_character=input(\"If you want to continue press yes else press any key : \")\n",
    "        if press_character.casefold()=='yes' or press_character.casefold()=='y':\n",
    "            os.system(\"cls\")\n",
    "\n",
    "        else:\n",
    "            @dec\n",
    "            def fun2():\n",
    "                    print(\"#\",\" \"*52,\"Thank You\",\" \"*53,\"#\",sep=\"\")\n",
    "                    fp=open(\"hii.json\",\"w\")\n",
    "                    json.dump(Accounts,fp)\n",
    "                    fp.close()\n",
    "            fun2()\n",
    "            break"
   ]
  },
  {
   "cell_type": "code",
   "execution_count": 11,
   "metadata": {},
   "outputs": [
    {
     "name": "stdout",
     "output_type": "stream",
     "text": [
      "$$$$$$$$$$$$$$$$$$$$$$$$$$$$$$$$$$$$$$$$$$$$$$$$$$$$$$$$$$$$$$$$$$$$$$$$$$$$$$$$$$$$$$$$$$$$$$$$$$$$$$$$$$$$$$$$$$$$\n",
      "#                                                                                                                  #\n",
      "#                                                                                                                  #\n",
      "#                                        Hello,Welcome TO State Bank Of India                                      #\n",
      "#                                                                                                                  #\n",
      "#                                                                                                                  #\n",
      "$$$$$$$$$$$$$$$$$$$$$$$$$$$$$$$$$$$$$$$$$$$$$$$$$$$$$$$$$$$$$$$$$$$$$$$$$$$$$$$$$$$$$$$$$$$$$$$$$$$$$$$$$$$$$$$$$$$$\n"
     ]
    }
   ],
   "source": [
    "@dec\n",
    "def fun3():\n",
    "    print(\"#\",\" \"*40,\"Hello,Welcome TO State Bank Of India\",\" \"*38,\"#\",sep=\"\")\n",
    "fun3()"
   ]
  },
  {
   "cell_type": "code",
   "execution_count": 12,
   "metadata": {},
   "outputs": [
    {
     "name": "stdout",
     "output_type": "stream",
     "text": [
      "$$$$$$$$$$$$$$$$$$$$$$$$$$$$$$$$$$$$$$$$$$$$$$$$$$$$$$$$$$$$$$$$$$$$$$$$$$$$$$$$$$$$$$$$$$$$$$$$$$$$$$$$$$$$$$$$$$$$\n",
      "#                                                                                                                  #\n",
      "#                                                                                                                  #\n",
      "#                                                  Create Account                                                  #\n",
      "#                                                                                                                  #\n",
      "#                                                                                                                  #\n",
      "$$$$$$$$$$$$$$$$$$$$$$$$$$$$$$$$$$$$$$$$$$$$$$$$$$$$$$$$$$$$$$$$$$$$$$$$$$$$$$$$$$$$$$$$$$$$$$$$$$$$$$$$$$$$$$$$$$$$\n"
     ]
    }
   ],
   "source": [
    "@dec\n",
    "def fun4():\n",
    "    print(\"#\",\" \"*50,\"Create Account\",\" \"*50,\"#\",sep=\"\")\n",
    "fun4()"
   ]
  },
  {
   "cell_type": "code",
   "execution_count": 1,
   "metadata": {},
   "outputs": [],
   "source": [
    "from time import sleep\n",
    "def process():\n",
    "    print(\"Please wait\",end=\"\")\n",
    "    for i in range(1,6):\n",
    "        print(\".\",end=\"\")\n",
    "        sleep(1)\n",
    "    "
   ]
  },
  {
   "cell_type": "code",
   "execution_count": 2,
   "metadata": {},
   "outputs": [],
   "source": [
    "def dec(fun):\n",
    "    def inner():\n",
    "        for i in range(1,8):\n",
    "            if i==1 or i==7:\n",
    "                print(\"$\"*116)\n",
    "            if i==4:\n",
    "                fun()\n",
    "            if i!=1 and i!=7 and i!=4:\n",
    "                print(\"#\",\" \"*114,\"#\",sep=\"\")\n",
    "    return inner"
   ]
  },
  {
   "cell_type": "code",
   "execution_count": 3,
   "metadata": {},
   "outputs": [
    {
     "name": "stdout",
     "output_type": "stream",
     "text": [
      "$$$$$$$$$$$$$$$$$$$$$$$$$$$$$$$$$$$$$$$$$$$$$$$$$$$$$$$$$$$$$$$$$$$$$$$$$$$$$$$$$$$$$$$$$$$$$$$$$$$$$$$$$$$$$$$$$$$$\n",
      "#                                                                                                                  #\n",
      "#                                                                                                                  #\n",
      "#                                                    Thank You                                                     #\n",
      "#                                                                                                                  #\n",
      "#                                                                                                                  #\n",
      "$$$$$$$$$$$$$$$$$$$$$$$$$$$$$$$$$$$$$$$$$$$$$$$$$$$$$$$$$$$$$$$$$$$$$$$$$$$$$$$$$$$$$$$$$$$$$$$$$$$$$$$$$$$$$$$$$$$$\n"
     ]
    }
   ],
   "source": [
    "@dec\n",
    "def fun2():\n",
    "    print(\"#\",\" \"*52,\"Thank You\",\" \"*53,\"#\",sep=\"\")\n",
    "fun2()"
   ]
  },
  {
   "cell_type": "code",
   "execution_count": 4,
   "metadata": {},
   "outputs": [
    {
     "data": {
      "text/plain": [
       "False"
      ]
     },
     "execution_count": 4,
     "metadata": {},
     "output_type": "execute_result"
    }
   ],
   "source": [
    "\"yes\".casefold()==\"Yes\""
   ]
  },
  {
   "cell_type": "code",
   "execution_count": 5,
   "metadata": {},
   "outputs": [
    {
     "name": "stdout",
     "output_type": "stream",
     "text": [
      "$$$$$$$$$$$$$$$$$$$$$$$$$$$$$$$$$$$$$$$$$$$$$$$$$$$$$$$$$$$$$$$$$$$$$$$$$$$$$$$$$$$$$$$$$$$$$$$$$$$$$$$$$$$$$$$$$$$$\n",
      "#                                                                                                                  #\n",
      "#                                                                                                                  #\n",
      "#                                                      Banking                                                     #\n",
      "#                                                                                                                  #\n",
      "#                                                                                                                  #\n",
      "$$$$$$$$$$$$$$$$$$$$$$$$$$$$$$$$$$$$$$$$$$$$$$$$$$$$$$$$$$$$$$$$$$$$$$$$$$$$$$$$$$$$$$$$$$$$$$$$$$$$$$$$$$$$$$$$$$$$\n"
     ]
    }
   ],
   "source": [
    "@dec\n",
    "def fun5():\n",
    "    print(\"#\",\" \"*54,\"Banking\",\" \"*53,\"#\",sep=\"\")\n",
    "fun5()"
   ]
  },
  {
   "cell_type": "code",
   "execution_count": 6,
   "metadata": {},
   "outputs": [
    {
     "name": "stdout",
     "output_type": "stream",
     "text": [
      "$$$$$$$$$$$$$$$$$$$$$$$$$$$$$$$$$$$$$$$$$$$$$$$$$$$$$$$$$$$$$$$$$$$$$$$$$$$$$$$$$$$$$$$$$$$$$$$$$$$$$$$$$$$$$$$$$$$$\n",
      "#                                                                                                                  #\n",
      "#                                                                                                                  #\n",
      "#                                                   Loan Approval                                                  #\n",
      "#                                                                                                                  #\n",
      "#                                                                                                                  #\n",
      "$$$$$$$$$$$$$$$$$$$$$$$$$$$$$$$$$$$$$$$$$$$$$$$$$$$$$$$$$$$$$$$$$$$$$$$$$$$$$$$$$$$$$$$$$$$$$$$$$$$$$$$$$$$$$$$$$$$$\n"
     ]
    }
   ],
   "source": [
    "@dec\n",
    "def fun6():\n",
    "    print(\"#\",\" \"*51,\"Loan Approval\",\" \"*50,\"#\",sep=\"\")\n",
    "fun6()"
   ]
  },
  {
   "cell_type": "code",
   "execution_count": 7,
   "metadata": {},
   "outputs": [
    {
     "name": "stdout",
     "output_type": "stream",
     "text": [
      "$$$$$$$$$$$$$$$$$$$$$$$$$$$$$$$$$$$$$$$$$$$$$$$$$$$$$$$$$$$$$$$$$$$$$$$$$$$$$$$$$$$$$$$$$$$$$$$$$$$$$$$$$$$$$$$$$$$$\n",
      "#                                                                                                                  #\n",
      "#                                                                                                                  #\n",
      "#                                              Manager Authentication                                              #\n",
      "#                                                                                                                  #\n",
      "#                                                                                                                  #\n",
      "$$$$$$$$$$$$$$$$$$$$$$$$$$$$$$$$$$$$$$$$$$$$$$$$$$$$$$$$$$$$$$$$$$$$$$$$$$$$$$$$$$$$$$$$$$$$$$$$$$$$$$$$$$$$$$$$$$$$\n"
     ]
    }
   ],
   "source": [
    "@dec\n",
    "def fun7():\n",
    "    print(\"#\",\" \"*46,\"Manager Authentication\",\" \"*46,\"#\",sep=\"\")\n",
    "fun7()"
   ]
  },
  {
   "cell_type": "code",
   "execution_count": 8,
   "metadata": {},
   "outputs": [
    {
     "name": "stdout",
     "output_type": "stream",
     "text": [
      "$$$$$$$$$$$$$$$$$$$$$$$$$$$$$$$$$$$$$$$$$$$$$$$$$$$$$$$$$$$$$$$$$$$$$$$$$$$$$$$$$$$$$$$$$$$$$$$$$$$$$$$$$$$$$$$$$$$$\n",
      "#                                                                                                                  #\n",
      "#                                                                                                                  #\n",
      "#                                               View Account Details                                               #\n",
      "#                                                                                                                  #\n",
      "#                                                                                                                  #\n",
      "$$$$$$$$$$$$$$$$$$$$$$$$$$$$$$$$$$$$$$$$$$$$$$$$$$$$$$$$$$$$$$$$$$$$$$$$$$$$$$$$$$$$$$$$$$$$$$$$$$$$$$$$$$$$$$$$$$$$\n"
     ]
    }
   ],
   "source": [
    "@dec\n",
    "def fun8():\n",
    "    print(\"#\",\" \"*47,\"View Account Details\",\" \"*47,\"#\",sep=\"\")\n",
    "fun8()"
   ]
  },
  {
   "cell_type": "code",
   "execution_count": 1,
   "metadata": {},
   "outputs": [],
   "source": [
    "import json\n",
    "fp=open(\"Bank.json\",\"w+\")"
   ]
  },
  {
   "cell_type": "code",
   "execution_count": 2,
   "metadata": {},
   "outputs": [],
   "source": [
    "Accounts={\n",
    "    2455: ([9521057735,965691556636,100000],(\"Ayush\",\"Ayush99\")),\n",
    "    2456: ([8979260543,915566542130,50000],(\"Akansha\",\"Akansha97\")),\n",
    "    2457: ([9997311805,965691241567,40000],(\"Shalini\",\"Shalini71\")),\n",
    "    2458: ([9027146654,965695463210,85000],(\"Manoj\",\"Manoj70\")),\n",
    "    2459: ([8005878724,965696428120,75000],(\"Mohit\",\"mohit98\"))}"
   ]
  },
  {
   "cell_type": "code",
   "execution_count": 13,
   "metadata": {},
   "outputs": [
    {
     "data": {
      "text/plain": [
       "0"
      ]
     },
     "execution_count": 13,
     "metadata": {},
     "output_type": "execute_result"
    }
   ],
   "source": [
    "fp.seek(0)"
   ]
  },
  {
   "cell_type": "code",
   "execution_count": 14,
   "metadata": {},
   "outputs": [
    {
     "ename": "JSONDecodeError",
     "evalue": "Expecting value: line 1 column 1 (char 0)",
     "output_type": "error",
     "traceback": [
      "\u001b[1;31m---------------------------------------------------------------------------\u001b[0m",
      "\u001b[1;31mJSONDecodeError\u001b[0m                           Traceback (most recent call last)",
      "\u001b[1;32m<ipython-input-14-ba076023b2da>\u001b[0m in \u001b[0;36m<module>\u001b[1;34m\u001b[0m\n\u001b[1;32m----> 1\u001b[1;33m \u001b[0mjson\u001b[0m\u001b[1;33m.\u001b[0m\u001b[0mload\u001b[0m\u001b[1;33m(\u001b[0m\u001b[0mfp\u001b[0m\u001b[1;33m)\u001b[0m\u001b[1;33m\u001b[0m\u001b[1;33m\u001b[0m\u001b[0m\n\u001b[0m",
      "\u001b[1;32m~\\Anaconda3\\lib\\json\\__init__.py\u001b[0m in \u001b[0;36mload\u001b[1;34m(fp, cls, object_hook, parse_float, parse_int, parse_constant, object_pairs_hook, **kw)\u001b[0m\n\u001b[0;32m    294\u001b[0m         \u001b[0mcls\u001b[0m\u001b[1;33m=\u001b[0m\u001b[0mcls\u001b[0m\u001b[1;33m,\u001b[0m \u001b[0mobject_hook\u001b[0m\u001b[1;33m=\u001b[0m\u001b[0mobject_hook\u001b[0m\u001b[1;33m,\u001b[0m\u001b[1;33m\u001b[0m\u001b[1;33m\u001b[0m\u001b[0m\n\u001b[0;32m    295\u001b[0m         \u001b[0mparse_float\u001b[0m\u001b[1;33m=\u001b[0m\u001b[0mparse_float\u001b[0m\u001b[1;33m,\u001b[0m \u001b[0mparse_int\u001b[0m\u001b[1;33m=\u001b[0m\u001b[0mparse_int\u001b[0m\u001b[1;33m,\u001b[0m\u001b[1;33m\u001b[0m\u001b[1;33m\u001b[0m\u001b[0m\n\u001b[1;32m--> 296\u001b[1;33m         parse_constant=parse_constant, object_pairs_hook=object_pairs_hook, **kw)\n\u001b[0m\u001b[0;32m    297\u001b[0m \u001b[1;33m\u001b[0m\u001b[0m\n\u001b[0;32m    298\u001b[0m \u001b[1;33m\u001b[0m\u001b[0m\n",
      "\u001b[1;32m~\\Anaconda3\\lib\\json\\__init__.py\u001b[0m in \u001b[0;36mloads\u001b[1;34m(s, encoding, cls, object_hook, parse_float, parse_int, parse_constant, object_pairs_hook, **kw)\u001b[0m\n\u001b[0;32m    346\u001b[0m             \u001b[0mparse_int\u001b[0m \u001b[1;32mis\u001b[0m \u001b[1;32mNone\u001b[0m \u001b[1;32mand\u001b[0m \u001b[0mparse_float\u001b[0m \u001b[1;32mis\u001b[0m \u001b[1;32mNone\u001b[0m \u001b[1;32mand\u001b[0m\u001b[1;33m\u001b[0m\u001b[1;33m\u001b[0m\u001b[0m\n\u001b[0;32m    347\u001b[0m             parse_constant is None and object_pairs_hook is None and not kw):\n\u001b[1;32m--> 348\u001b[1;33m         \u001b[1;32mreturn\u001b[0m \u001b[0m_default_decoder\u001b[0m\u001b[1;33m.\u001b[0m\u001b[0mdecode\u001b[0m\u001b[1;33m(\u001b[0m\u001b[0ms\u001b[0m\u001b[1;33m)\u001b[0m\u001b[1;33m\u001b[0m\u001b[1;33m\u001b[0m\u001b[0m\n\u001b[0m\u001b[0;32m    349\u001b[0m     \u001b[1;32mif\u001b[0m \u001b[0mcls\u001b[0m \u001b[1;32mis\u001b[0m \u001b[1;32mNone\u001b[0m\u001b[1;33m:\u001b[0m\u001b[1;33m\u001b[0m\u001b[1;33m\u001b[0m\u001b[0m\n\u001b[0;32m    350\u001b[0m         \u001b[0mcls\u001b[0m \u001b[1;33m=\u001b[0m \u001b[0mJSONDecoder\u001b[0m\u001b[1;33m\u001b[0m\u001b[1;33m\u001b[0m\u001b[0m\n",
      "\u001b[1;32m~\\Anaconda3\\lib\\json\\decoder.py\u001b[0m in \u001b[0;36mdecode\u001b[1;34m(self, s, _w)\u001b[0m\n\u001b[0;32m    335\u001b[0m \u001b[1;33m\u001b[0m\u001b[0m\n\u001b[0;32m    336\u001b[0m         \"\"\"\n\u001b[1;32m--> 337\u001b[1;33m         \u001b[0mobj\u001b[0m\u001b[1;33m,\u001b[0m \u001b[0mend\u001b[0m \u001b[1;33m=\u001b[0m \u001b[0mself\u001b[0m\u001b[1;33m.\u001b[0m\u001b[0mraw_decode\u001b[0m\u001b[1;33m(\u001b[0m\u001b[0ms\u001b[0m\u001b[1;33m,\u001b[0m \u001b[0midx\u001b[0m\u001b[1;33m=\u001b[0m\u001b[0m_w\u001b[0m\u001b[1;33m(\u001b[0m\u001b[0ms\u001b[0m\u001b[1;33m,\u001b[0m \u001b[1;36m0\u001b[0m\u001b[1;33m)\u001b[0m\u001b[1;33m.\u001b[0m\u001b[0mend\u001b[0m\u001b[1;33m(\u001b[0m\u001b[1;33m)\u001b[0m\u001b[1;33m)\u001b[0m\u001b[1;33m\u001b[0m\u001b[1;33m\u001b[0m\u001b[0m\n\u001b[0m\u001b[0;32m    338\u001b[0m         \u001b[0mend\u001b[0m \u001b[1;33m=\u001b[0m \u001b[0m_w\u001b[0m\u001b[1;33m(\u001b[0m\u001b[0ms\u001b[0m\u001b[1;33m,\u001b[0m \u001b[0mend\u001b[0m\u001b[1;33m)\u001b[0m\u001b[1;33m.\u001b[0m\u001b[0mend\u001b[0m\u001b[1;33m(\u001b[0m\u001b[1;33m)\u001b[0m\u001b[1;33m\u001b[0m\u001b[1;33m\u001b[0m\u001b[0m\n\u001b[0;32m    339\u001b[0m         \u001b[1;32mif\u001b[0m \u001b[0mend\u001b[0m \u001b[1;33m!=\u001b[0m \u001b[0mlen\u001b[0m\u001b[1;33m(\u001b[0m\u001b[0ms\u001b[0m\u001b[1;33m)\u001b[0m\u001b[1;33m:\u001b[0m\u001b[1;33m\u001b[0m\u001b[1;33m\u001b[0m\u001b[0m\n",
      "\u001b[1;32m~\\Anaconda3\\lib\\json\\decoder.py\u001b[0m in \u001b[0;36mraw_decode\u001b[1;34m(self, s, idx)\u001b[0m\n\u001b[0;32m    353\u001b[0m             \u001b[0mobj\u001b[0m\u001b[1;33m,\u001b[0m \u001b[0mend\u001b[0m \u001b[1;33m=\u001b[0m \u001b[0mself\u001b[0m\u001b[1;33m.\u001b[0m\u001b[0mscan_once\u001b[0m\u001b[1;33m(\u001b[0m\u001b[0ms\u001b[0m\u001b[1;33m,\u001b[0m \u001b[0midx\u001b[0m\u001b[1;33m)\u001b[0m\u001b[1;33m\u001b[0m\u001b[1;33m\u001b[0m\u001b[0m\n\u001b[0;32m    354\u001b[0m         \u001b[1;32mexcept\u001b[0m \u001b[0mStopIteration\u001b[0m \u001b[1;32mas\u001b[0m \u001b[0merr\u001b[0m\u001b[1;33m:\u001b[0m\u001b[1;33m\u001b[0m\u001b[1;33m\u001b[0m\u001b[0m\n\u001b[1;32m--> 355\u001b[1;33m             \u001b[1;32mraise\u001b[0m \u001b[0mJSONDecodeError\u001b[0m\u001b[1;33m(\u001b[0m\u001b[1;34m\"Expecting value\"\u001b[0m\u001b[1;33m,\u001b[0m \u001b[0ms\u001b[0m\u001b[1;33m,\u001b[0m \u001b[0merr\u001b[0m\u001b[1;33m.\u001b[0m\u001b[0mvalue\u001b[0m\u001b[1;33m)\u001b[0m \u001b[1;32mfrom\u001b[0m \u001b[1;32mNone\u001b[0m\u001b[1;33m\u001b[0m\u001b[1;33m\u001b[0m\u001b[0m\n\u001b[0m\u001b[0;32m    356\u001b[0m         \u001b[1;32mreturn\u001b[0m \u001b[0mobj\u001b[0m\u001b[1;33m,\u001b[0m \u001b[0mend\u001b[0m\u001b[1;33m\u001b[0m\u001b[1;33m\u001b[0m\u001b[0m\n",
      "\u001b[1;31mJSONDecodeError\u001b[0m: Expecting value: line 1 column 1 (char 0)"
     ]
    }
   ],
   "source": [
    "json.load(fp)"
   ]
  },
  {
   "cell_type": "code",
   "execution_count": null,
   "metadata": {},
   "outputs": [],
   "source": []
  },
  {
   "cell_type": "code",
   "execution_count": 3,
   "metadata": {},
   "outputs": [],
   "source": [
    "json.dump(Accounts,fp)"
   ]
  },
  {
   "cell_type": "code",
   "execution_count": 4,
   "metadata": {},
   "outputs": [],
   "source": [
    "fp.close()"
   ]
  },
  {
   "cell_type": "code",
   "execution_count": 1,
   "metadata": {},
   "outputs": [],
   "source": [
    "Accounts={\n",
    "    2455: ([9521057735,965691556636,100000],(\"Ayush\",\"Ayush99\")),\n",
    "    2456: ([8979260543,915566542130,50000],(\"Akansha\",\"Akansha97\")),\n",
    "    2457: ([9997311805,965691241567,40000],(\"Shalini\",\"Shalini71\")),\n",
    "    2458: ([9027146654,965695463210,85000],(\"Manoj\",\"Manoj70\")),\n",
    "    2459: ([8005878724,965696428120,75000],(\"Mohit\",\"mohit98\"))}"
   ]
  },
  {
   "cell_type": "code",
   "execution_count": 6,
   "metadata": {},
   "outputs": [],
   "source": [
    "fp=open(\"hii.json\",\"w+\")"
   ]
  },
  {
   "cell_type": "code",
   "execution_count": 5,
   "metadata": {},
   "outputs": [],
   "source": [
    "import json"
   ]
  },
  {
   "cell_type": "code",
   "execution_count": 7,
   "metadata": {},
   "outputs": [],
   "source": [
    "json.dump(Accounts,fp)"
   ]
  },
  {
   "cell_type": "code",
   "execution_count": 8,
   "metadata": {},
   "outputs": [],
   "source": [
    "fp.close()"
   ]
  },
  {
   "cell_type": "code",
   "execution_count": null,
   "metadata": {},
   "outputs": [],
   "source": []
  }
 ],
 "metadata": {
  "kernelspec": {
   "display_name": "Python 3",
   "language": "python",
   "name": "python3"
  },
  "language_info": {
   "codemirror_mode": {
    "name": "ipython",
    "version": 3
   },
   "file_extension": ".py",
   "mimetype": "text/x-python",
   "name": "python",
   "nbconvert_exporter": "python",
   "pygments_lexer": "ipython3",
   "version": "3.6.5"
  }
 },
 "nbformat": 4,
 "nbformat_minor": 2
}
